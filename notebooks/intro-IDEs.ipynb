{
 "cells": [
  {
   "cell_type": "markdown",
   "metadata": {},
   "source": [
    "# IDEs: Integrated Development Environments"
   ]
  },
  {
   "cell_type": "markdown",
   "metadata": {},
   "source": [
    "There are several ways in which we can interact with Python:\n",
    "\n",
    "1. Via the terminal in Python interactive mode\n",
    "2. Via the terminal by running Python scripts writen in a text editor\n",
    "3. Via an Integrated Development Environment (IDE)\n",
    "\n",
    "In this mini-workshop I'll focus on IDEs, as they are more commonly used alternative for data analysis and scientific computing with Python. Pretty much all educational content and exmples you will find on-line about the subject are created in and for IDEs. \n",
    "\n",
    "Popular IDEs for Python are Spyder, PyCharm, VSCode, and Jupyter Notebooks. This are all valid options with advantages and disadvantages. I'll focus in Jupyter Notebooks for a couple of reasons: \n",
    "\n",
    "1. They can be run in cloud-based computing environmnets easily \n",
    "2. They allow to create interactive documents, combining text, code, and graphics, which is great for educational content\n",
    "3. Most on-line examples and educational materials in scientific computing and data analysis are created in Jupyter Notebooks\n",
    "4. It is beginner friendly and intuitive to use\n",
    "\n",
    "Jupyter Notebooks do have several drawbacks that can become a problem for more advance users, which may prefer to work in text-based IDEs like PyCharm or VSCode. I will briefly mention such drawbacks later, so you are aware of them. It is also worth notice that VSCode and PyCharm allow for Jupyter-like interfaces, which you can check it our [here](https://code.visualstudio.com/docs/python/jupyter-support) and [here](https://www.jetbrains.com/help/pycharm/jupyter-notebook-support.html)."
   ]
  },
  {
   "cell_type": "markdown",
   "metadata": {},
   "source": [
    "## Jupyter Notebooks"
   ]
  },
  {
   "cell_type": "markdown",
   "metadata": {},
   "source": [
    "Jupyter is an [open-source software](https://github.com/jupyterlab/jupyterlab) for interactive computing for a variety of programming languages like Python, Julia, R, Ruby, Haskell, Javascript, Scala, and [many others](https://github.com/jupyter/jupyter/wiki/Jupyter-kernels). The document you are reading right now is an example of a Jupyter Notebook. \n",
    "\n",
    "Jupyter Notebooks have become popular among researchers and data scientists because of several convenient characateristics:\n",
    "\n",
    "1. Allows for the combination of a narrative, code, and the results of computations in one place\n",
    "2. Easy to use intuitive interface\n",
    "3. Flexibility on supporting multiple programming languages\n",
    "4. Integration with cloud computing environments\n",
    "\n",
    "Such characteristics permit to effortlesly reproduce the workflow of most researchers and data scientists: the description of a research problem and methods in prose, plus the code to run the analysis and models to analyze datasets, and the presentation of results in tables and charts. You can even export your computational Notebook into PDF, Markdown, HTML, and others easy to share formats.\n",
    "\n",
    "Jupyter Notebooks evolved from a project called [IPython](https://ipython.org/), which was created by the Colombian Berkeley Professor [Fernando Pérez](https://bids.berkeley.edu/people/fernando-p%C3%A9rez), who at the time was a graduate student in Physicis at CU Boulder. [Here](https://www.youtube.com/watch?v=xuNj5paMuow) you can watch a Fernando's presentation about his journey creating Jupyter Notebooks.\n",
    "\n",
    "Although nowadays Jupyter is the most widely used IDE for scientific computing and data science worldwide, the idea of computational notebooks predates Project Jupyter. The first computational notebooks, today named [Wolfram Notebooks](https://www.wolfram.com/notebooks/), were introduced by [Stephen Wolfram](https://www.stephenwolfram.com/) for the [Wolfram Mathematica](https://www.wolfram.com/mathematica/) programming language. The issue was that Wolfram Mathematica and Wolfram Notebooks are a closed-sources propietary software, i.e., you have to pay for it. \n",
    "\n",
    "Fortunately, today we have access to Jupyter Notebooks for free, which is developed and maintained primarily by a large community of users from all over the world."
   ]
  },
  {
   "cell_type": "markdown",
   "metadata": {},
   "source": [
    "## JupyterLab "
   ]
  },
  {
   "cell_type": "markdown",
   "metadata": {},
   "source": [
    "[JupyterLab](https://github.com/jupyterlab/jupyterlab) is the next-generation interface for Jupyter Notebook. Essentially, they are en extension build on top the classic Jupyter Notebook, but with improved capabilities and features. I will use the JupyterLab interface for this mini-workshop, as it is the most up to date version of Project Jupyter, and is expected to fully replace the classic Jupyter Notebook in the short term. Project Jupyter developers advise the use of JupyterLab as they are investing they efforts on maintaining and developing this platform.\n",
    "\n",
    "Note that there some minor but important differences between the interface Jupyter Notebooks and JupyterLab, so you are advised to search for JupyterLab specific extensions and tutorials, since functionality may differ. "
   ]
  },
  {
   "cell_type": "markdown",
   "metadata": {},
   "source": [
    "## JupyterLab basics"
   ]
  },
  {
   "cell_type": "markdown",
   "metadata": {},
   "source": [
    "### Installing JupyterLab"
   ]
  },
  {
   "cell_type": "markdown",
   "metadata": {},
   "source": [
    "JupyterLab can be installed with `pip` in the terminal as:"
   ]
  },
  {
   "cell_type": "markdown",
   "metadata": {},
   "source": [
    "```bash\n",
    "# is recommended to run this in a virtual environment\n",
    "pip3 install jupyterlab\n",
    "```\n",
    "\n",
    "or as:\n",
    "\n",
    "```bash\n",
    "python3 -m pip install SomePackage\n",
    "```"
   ]
  },
  {
   "cell_type": "markdown",
   "metadata": {},
   "source": [
    "A second option is with `conda` "
   ]
  },
  {
   "cell_type": "markdown",
   "metadata": {},
   "source": [
    "```bash\n",
    "# is recommended to run this in a conda virtual environment\n",
    "conda install -c conda-forge jupyterlab\n",
    "```"
   ]
  },
  {
   "cell_type": "markdown",
   "metadata": {},
   "source": [
    "I personally prefer to use `pip` as I find it's simpler, cleaner, and works out-of-the-box with your Python installation.\n",
    "\n",
    "Also take into account that the above instructions will install the latest stable release of JupyterLab. \n",
    "\n",
    "To check you installation was succesful, run: \n",
    "\n",
    "```bash\n",
    "jupyterlab --version\n",
    "```"
   ]
  },
  {
   "cell_type": "markdown",
   "metadata": {},
   "source": [
    "### Launching JupyterLab"
   ]
  },
  {
   "cell_type": "markdown",
   "metadata": {},
   "source": [
    "To launch JupyterLab open the terminal, navigate to your working directory, and run:\n",
    "\n",
    "```bash\n",
    "jupyter lab\n",
    "```\n",
    "\n",
    "JupyterLab will launch a session in your default browser. If you want to launch JupyterLab in a different browser, you can either change your defaul browser or to copy-past the Notebook address in your desired browser. "
   ]
  },
  {
   "cell_type": "markdown",
   "metadata": {},
   "source": [
    "### JupyterLab interface"
   ]
  },
  {
   "cell_type": "markdown",
   "metadata": {},
   "source": [
    "The JupyterLab interface consists of: \n",
    "\n",
    "1. a **main work area** containing tabs for the notebooks, terminals, and text files\n",
    "2. a **collapsible left sidebar** containing a file browser, the running kernels and terminals, the command palette, the cell inspector, the list of open tabs, and any other extension you may have activated.\n",
    "3. a top **menu bar**. "
   ]
  },
  {
   "cell_type": "markdown",
   "metadata": {},
   "source": [
    "### Creating and renaming a Notebook"
   ]
  },
  {
   "cell_type": "markdown",
   "metadata": {},
   "source": [
    "JupyterLab will open the Launcher tab as default, where you can select what kind of instance you want to run. By default, JupyterLab will allow for a Notebook with Python 3 kernel, a IPython console, a bash terminal, a Markdown file, and a text editor. \n",
    "\n",
    "To create a Notebook click under \"Notebook\" in the Launcher, and select a Python 3 kernel when prompted. Alternatively, you can create new Notebooks by clicking \"File\" in the top menu bar, then \"New\", and then \"Notebook. \n",
    "\n",
    "It is important to rename the Notebook as JupyterLab will give an \"Untitled.ipynb\" name as default to all new Notebooks. "
   ]
  },
  {
   "cell_type": "markdown",
   "metadata": {},
   "source": [
    "### Interacting with files"
   ]
  },
  {
   "cell_type": "markdown",
   "metadata": {},
   "source": [
    "JupyterLab will load up directory and subdirectories from which you open it up in the terminal. As JupyterLab is very flexible, you will be able to open pretty much any file by double clicking on it: notebooks, images, text files, json files, csv files, and much more. \n",
    "\n",
    "One of the improved capabilities of JupyterLab is its ability to open large csv files in a excel-like nice looking interface. \n",
    "\n",
    "Another great JupyterLab feature is the posiibility of rearranging your workspace with multiple windows at once, which is great for when you want to work with multiple files side by side. \n",
    "\n",
    "Additionally, files that can be open in more than one format, can be put side by side, and the changes you make in one view/format of the file will reflect in the other view/format. For instance, Markdown files can be open as rendered versions or as raw text. Notice that you have to save the changes before they are reflected in the other view/format. \n",
    "\n",
    "A common task in data manipulation is to open files like `csv` datasets and `png` images. To import such files into your Notebook, you will need to know the \"path\" to the file. File paths can be easily obtained by right-clicking in the desired file and selecting \"Copy path\". \n",
    "\n",
    "Uploading files can be done by clicking the \"Upload Files\" arrow-icon in the left sidebar or by dragging and dropping the files onto the file navigator in the browser. \n",
    "\n",
    "Downloading files can be done by right-clicking in the desired file, and selecting the \"Download\" option. "
   ]
  },
  {
   "cell_type": "markdown",
   "metadata": {},
   "source": [
    "## Interacting with Notebooks"
   ]
  },
  {
   "cell_type": "markdown",
   "metadata": {},
   "source": [
    "As I mentioned earlier, Notebooks main advantage is its capacity to combine a narrative (text), with code to run analysis and modesl, and the analysis outcomes as tables and plots, all in one place. As a bonus, Notebooks allow to render LaTeX output, which is fabolous if you need to introduce equations.\n",
    "\n",
    "Notebooks are made out of collections of **cells**. A cell is simply a rectangular box in which you can type and visualize stuff. There are three types of cells: \n",
    "\n",
    "- **Markdown cells**: this are used to write your document, and to organize the content in titles, sub-titles, and so on\n",
    "- **Code cells**: this are used to run code\n",
    "- **Raw cells**: this are essentially plain text\n",
    "\n",
    "The easiest way to change between cell types, is by clicking on the drop-down tab at the top of the Notebook and selecting the one you want. You can also use the keyboard shortcuts which are `Esc` + `M` for Markdown, `Esc` + `Y` for Code, and `Esc` + `R` for Raw. \n",
    "\n",
    "To run a cell, you can either go to the top menu bar, select \"Run\", and then click in \"Run Selected Cell\". In practice, most people uses the `Ctrl` + `Enter` keyboard shortcut. You can also use `Shift` + `Enter` or `Alt` + `Enter` to run the current cell and insert a cell below. \n",
    "\n",
    "You can create new cells by clicking in the `+` symbol in the top bar of the Notebook, or with the `Esc` + `B` keyboard shortcut. \n",
    "\n",
    "To delete cells, you can right-click on the cell and select \"Delete Cell\", or you can use `Esc` + `DD`. \n",
    "\n",
    "To copy and past cell...\n",
    "\n",
    "To cut cells and past...\n",
    "\n",
    "To enter on command or enter mode... \n",
    "\n",
    "To undo and redo...\n",
    "\n",
    "To save...\n",
    "\n",
    "To invoque completion...\n",
    "\n",
    "To move cells....\n"
   ]
  },
  {
   "cell_type": "markdown",
   "metadata": {},
   "source": [
    "## Interacting with the Kernel"
   ]
  },
  {
   "cell_type": "markdown",
   "metadata": {},
   "source": [
    "## JupyterLab Extensions"
   ]
  },
  {
   "cell_type": "markdown",
   "metadata": {},
   "source": [
    "## Customizing Notebooks "
   ]
  },
  {
   "cell_type": "markdown",
   "metadata": {},
   "source": [
    "## Exporting Notebooks"
   ]
  },
  {
   "cell_type": "markdown",
   "metadata": {},
   "source": [
    "## Running Notebooks in VSCode"
   ]
  },
  {
   "cell_type": "markdown",
   "metadata": {},
   "source": [
    "## Notebooks weaknesses"
   ]
  },
  {
   "cell_type": "markdown",
   "metadata": {},
   "source": [
    "## Basic good practices to work with Notebooks"
   ]
  },
  {
   "cell_type": "markdown",
   "metadata": {},
   "source": [
    "## Tips"
   ]
  },
  {
   "cell_type": "markdown",
   "metadata": {},
   "source": [
    "- Command pallete\n",
    "- Create console for editor \n",
    "- Code consoles\n",
    "- Keyboard shortcut reference"
   ]
  },
  {
   "cell_type": "markdown",
   "metadata": {},
   "source": [
    "## Resources to learn more"
   ]
  }
 ],
 "metadata": {
  "kernelspec": {
   "display_name": "Python 3",
   "language": "python",
   "name": "python3"
  },
  "language_info": {
   "codemirror_mode": {
    "name": "ipython",
    "version": 3
   },
   "file_extension": ".py",
   "mimetype": "text/x-python",
   "name": "python",
   "nbconvert_exporter": "python",
   "pygments_lexer": "ipython3",
   "version": "3.6.8"
  }
 },
 "nbformat": 4,
 "nbformat_minor": 4
}
