{
 "cells": [
  {
   "cell_type": "markdown",
   "metadata": {},
   "source": [
    "# NumPy Fundamentals for Data Science and Machine Learning"
   ]
  },
  {
   "cell_type": "markdown",
   "metadata": {},
   "source": [
    "***Note***: **this is part I of a III part series I am working right now**\n",
    "\n",
    "---\n",
    "\n",
    "It is no exaggeration to say that **NumPy is at the core of the entire scientific computing Python ecosystem**, both as a standalone package for numerical computation and as the engine behind most data science packages.\n",
    "\n",
    "In this document, I review `NumPy` main components and functionality, with attention to the needs of Data Science and Machine Learning practitioners, and people who aspire to become a data professional. My only assumption is that you have basic familiarity with Python, things like variables, lists, tuples, and loops. Advance Python concepts like Object Oriented Programming are not touched at all.\n",
    "\n",
    "The resources I used to build this tutorial are three:\n",
    "\n",
    "1. `NumPy` documentation\n",
    "2. A few miscellaneous articles from the Internet\n",
    "3. My own experience with `NumPy`\n",
    "\n",
    "Content-wise, I'll say that ~95% is based on `NumPy` v1.18 manual, in particular:  \n",
    "\n",
    "- [NumPy user guide](https://numpy.org/doc/stable/user/index.html)\n",
    "- [NumPy reference](https://numpy.org/doc/stable/reference/index.html)\n",
    "- [NumPy about](https://numpy.org/doc/stable/about.html)\n",
    "\n",
    "The rest ~5% comes from a couple of random articles on the Internet and Stack Overflow. I resort to those sources mostly to clarify concepts and functionality that wasn't clear for me from `NumPy` documentation.\n",
    "\n",
    "My own experience was the base to organize the tutorial, explain concepts, create practical examples, create images, etc. \n",
    "\n",
    "\"*Why are you using the documentation as the main source of content, instead of the many great tutorials online?*\" Because it is the most up-to-date, complete, and reliable source about `NumPy` (and about any library for that matter).\n",
    "\n",
    "\"*Why then I should read this if everything comes from the documentation?*\" Well, you don't need to read this, you are right. Actually, I encourage you to read the documentation and learn from there. What I can offer is my own: **(1) organization of contents, (2) selection of contents, (3) explanations and framing of concepts, (4) images, (5) practical examples, (6) and general perspective.** \n",
    "\n",
    "This tutorial is part of a larger project I am working on, which is an introduction to Python and its libraries for scientific computing, data science, and machine learning that you can find [here](https://github.com/pabloinsente/intro-sc-python). \n",
    "\n",
    "If you want to interact with this Notebook, you can open a MyBinder interactive instance by clicking in the MyBinder icon:\n",
    "\n",
    "**To open MyBinder** -> [![Binder](https://mybinder.org/badge_logo.svg)](https://mybinder.org/v2/gh/pabloinsente/intro-sc-python/master/?urlpath=lab)\n",
    "\n",
    "As a final note, **if you are `NumPy` expert, advanced user, or developer**, you may find some inaccuracies or lack of depth in some of my explanations. Two things: (1) feel free to suggest a better explanation or something that I may add to make things clearer, (2) I prioritize consciousness and accessibility over the accuracy, so the lack of accuracy or depth sometimes it is intentional from my part. \n",
    "\n",
    "If you have any questions or suggestion feel free to reach me out to at pcaceres@wisc.edu\n",
    "Here is my [Twitter](https://twitter.com/CodeBug88), [LinkedIn](https://www.linkedin.com/in/pabloascm/), and [personal site](https://pablocaceres.org/). "
   ]
  },
  {
   "cell_type": "markdown",
   "metadata": {},
   "source": [
    "## Table of contents"
   ]
  },
  {
   "cell_type": "markdown",
   "metadata": {},
   "source": [
    "- [Python is slow](#python-is-slow)\n",
    "- [What is NumPy](#what-is-numpy)\n",
    "- [Installing NumPy](#installing-numpy)\n",
    "- [NumPy Arrays](#numpy-arrays)\n",
    "- [Array creation](#array-creation)\n",
    "    - [Conversion from other Python structures](#conversion-from-other-python-structures)\n",
    "    - [Intrinsic NumPy array creation objects](#intrinsic-numpy-array-creation-objects) \n",
    "    - [Use of special library functions](#use-of-special-library-functions)\n",
    "- [Vectorization](#vectorization)\n",
    "- [Array data type and conversions](#array-data-type-and-conversions)\n",
    "- [Array mathematics and element-wise operations](#array-mathematics-and-element-wise-operations)\n",
    "    - [Array arithmetic](#array-arithmetic)\n",
    "    - [Trigonometric functions](#trigonometric-functions)\n",
    "    - [Hyperbolic functions](#hyperbolic-functions)\n",
    "    - [Rounding](#rounding)\n",
    "    - [Other miscellaneous element-wise operations](#other-miscellaneous-element-wise-operations)\n",
    "- [Array data type and conversions](#array-data-type-and-conversions)\n",
    "- [Array manipulation](#array-manipulation)\n",
    "    - [Array shape manipulation](#array-shape-manipulation)\n",
    "    - [Array transpose-like operations](#array-transpose-like-operations)\n",
    "    - [Array dimension manipulation](#array-dimension-manipulation)\n",
    "    - [Array broadcasting](#array-broadcasting)\n",
    "    - [Joining arrays](#joining-arrays)\n",
    "    - [Splitting arrays](#splitting-arrays)\n",
    "    - [Array repetition](#array-repetition)\n",
    "    - [Adding and removing array elements](#adding-and-removing-array-elements)\n",
    "    - [Rearranging array elements](#rearranging-array-elements)\n",
    "\n",
    "**Future sections for part II and III**: \n",
    "\n",
    "- [NumPy universal functions]\n",
    "- [Array indexing]\n",
    "- [Array masking]\n",
    "- [Array copy and views]\n",
    "- [Array logic and evaluation]\n",
    "- [Basic statistics with NumPy]\n",
    "- [Basic linear algebra with NumPy]\n",
    "- [NumPY Random sampling]\n",
    "- [Array string operations]\n",
    "- [NumPY datetime functions]\n",
    "- [Structured arrays]\n",
    "- [Array iteration]\n",
    "- [NumPy constants and scalars]\n",
    "- [Input-output (I/O) data processing]\n",
    "- [Resources to learn more]"
   ]
  },
  {
   "cell_type": "markdown",
   "metadata": {},
   "source": [
    "## Python is slow"
   ]
  },
  {
   "cell_type": "markdown",
   "metadata": {},
   "source": [
    "Scientific and numerical computing often requires processing massive datasets with complex algorithms. If you are a scientist or data professional, you want a programming language than can process data FAST. **The closer a programming language is to machine instructions (binary), the faster it runs**. That's why for decades, programs like C, C++, and Fortran, were the to-go option for data-intensive applications in science and technology. \n",
    "\n",
    "However, writing code in compiled languages like C++ and Fortran can be slow and, frankly, terribly annoying (but that's just me!). Scientists are not coders (although many end up mutating into scientist-coder hybrids over time, that's a whole other subject). From a scientist's perspective, **the easier and faster to write code, the better**. High-level programming languages, i.e., languages that are closer to human language rather than to machine language do meet such requirements. The likes of Python, PHP, JavaScript, and Ruby, fits the bill: **easy to write, easy to learn, easy to run**. But, instructions written in high-level programming languages are slow to run by computers, for complicated reasons I do not explore here. The fact is that they are slower to run than C++ or Fortran.\n",
    "\n",
    "Scientists face a conundrum: they need an **easy to write** AND **fast to run** programming language. They need the best of both worlds. For a long time, such language simply did not exist. Then Python came along.\n",
    "\n",
    "Oh wait, Python it is, indeed, easy to learn and write, *but slow to run compared to compiled languages*. Like really, really slow. For instance, computing the [spectral-norm of a matrix](https://en.wikipedia.org/wiki/Matrix_norm), which is a common task in data applications, [has been benchmarked](https://benchmarksgame-team.pages.debian.net/benchmarksgame/performance/spectralnorm.html) at ~1.9 seconds in C, whereas python takes a whopping ~170.1 seconds, meaning that Python is ~90 times *slower*. Considering this, the fact Python became the dominant language in machine learning and data science is a bit of a puzzle.\n",
    "\n",
    "There are at least two reasons for this why Python succeed anyways. \n",
    "\n",
    "The first is that as computing capacity became cheaper, **processing time has become less important than coding-time**. Basically, the time you save by writing code in high-level yet slow to-run programming languages compensates by their lack of performance at run time. And Python is exceptionally clean, intuitive, and easy to learn, compared to C or Fortran.\n",
    "\n",
    "The second reason, which is probably the major one, is **libraries**. Particularly libraries are written in low-level high-performant languages. Turns out that Python extensibility allows programmers to write the \"engine\" for numerical computation in languages like C and Fortran, and then Python can invoke such \"engines\" in the background, meaning that although you write code in Python, it is executed in compiled C or Fortran code instead of Python itself. And that is how you obtain the best of both worlds: **the easy and fast developing time of Python, plus the runtime performance of C or Fortran**. True, there is some small overhead of going back and forth between languages, but its impact it's minimal. \n",
    "\n",
    "It is important to mention that nowadays, new programming languages have been created exactly with these two necessities (fast development + fast performance) in mind, like **[Julia](https://julialang.org/)**. In the spectral-norm test, Julia was benchmarked at ~2.79 seconds, almost as fast as C. Additionally, Julia is a dynamic language, easy to learn, and write in like Python. Why not Julia then? Probably because of the relative immaturity of its packages ecosystem compared to Python. Julia first appeared in 2012, whereas Python was introduced in 1990. The availability of well-tested libraries for pretty much anything you can imagine in Python is unparalleled. A second reason is probably that Python does not cost you performance anyways (with its libraries), so Why not? "
   ]
  },
  {
   "cell_type": "markdown",
   "metadata": {},
   "source": [
    "## What is NumPy"
   ]
  },
  {
   "cell_type": "markdown",
   "metadata": {},
   "source": [
    "It is no exaggeration to say that **NumPy is at the core of the entire scientific computing Python ecosystem**, both as a standalone package for numerical computation and as the engine behind most data science packages.\n",
    "\n",
    "NumPy is a package for array-like or matrix-like high-performance computation. Its \"engine\" is written in C, meaning that NumPy utilized \"in the background\" pre-compiled C code to perform computations. "
   ]
  },
  {
   "cell_type": "markdown",
   "metadata": {},
   "source": [
    "## Installing NumPy"
   ]
  },
  {
   "cell_type": "markdown",
   "metadata": {},
   "source": [
    "\n",
    "If you are running this Notebook in `MyBinder` or locally after running the `pip install -r requirements.txt` file, you have `NumPy` installed already. Otherwise, you will need to install `NumPy` with one of these options:\n",
    "\n",
    "1. Scientific Python Distributions\n",
    "2. pip\n",
    "3. System-wide installation via a package manager (apt, brew, etc.)\n",
    "4. From NumPy source code\n",
    "\n",
    "Option 4 is for developers who need to alter source code. Option 3 is not recommended as a system-wide installation of packages may generate dependency conflicts. \n",
    "\n",
    "Option 1 is probably the simplest and it's widely used by practitioners. Within this category we have:\n",
    "\n",
    "- [Anaconda](https://www.anaconda.com/products/individual)\n",
    "- [Mini-conda](https://docs.conda.io/en/latest/miniconda.html)\n",
    "- [WinPython](https://winpython.github.io/)\n",
    "- [Pyzo](https://pyzo.org/)\n",
    "\n",
    "WinPython and Pyzo are less used and I do not have any experience with them. Feel free to experiment with them at your own risk. Anaconda and mini-conda are the most popular options. Anaconda basically is a large bundle of packages for Python and R, and a package manager. Mini-conda is a lightweight version of Anaconda.  Once you install Anaconda or mini-conda, `NumPy` will be available within the conda installation. \n",
    "\n",
    "I do not like and do not use Anaconda or mini-conda. I just see no reason to install hundreds of libraries I most likely never use. I also see no reason to duplicate functionality which is already provided in the standard Python installation. It just occupies memory and you also need to learn how to use `conda`, which sometimes introduces hard to understand issues with multiple Python and packages installations. Yet, many people recommend and use this method. If you decide to use it, go to the [Anaconda](https://www.anaconda.com/products/individual) or [Mini-conda](https://docs.conda.io/en/latest/miniconda.html) site and follow the instructions for your system. \n",
    "\n",
    "My preferred method is `pip`, which is available out-of-the-box with your Python installation. To install `NumPy` is as simple as to run:\n",
    "\n",
    "```bash\n",
    "pip3 install numpy\n",
    "```\n",
    "\n",
    "Now, I highly recommend to create a virtual environment, activate the environment, and then install `NumPy` within that. It boils down to copy-pasting the following in your terminal:\n",
    "\n",
    "```bash\n",
    "# create the virtual environment\n",
    "python3 -m venv venv\n",
    "\n",
    "# activate the virtual environment\n",
    "source venv/bin/activate\n",
    "\n",
    "# upgrade pip package manager\n",
    "pip3 install --upgrade pip\n",
    "\n",
    "#install numpy\n",
    "pip3 install numpy\n",
    "```\n",
    "\n",
    "The virtual environment will isolate your `NumPy` installation from your system-wide Python installation and other projects you may have in your computer. So, it's safer. This method will save you gigabytes of memory, time, confusion, and effort. But that's just me!"
   ]
  },
  {
   "cell_type": "markdown",
   "metadata": {},
   "source": [
    "## NumPy arrays"
   ]
  },
  {
   "cell_type": "markdown",
   "metadata": {},
   "source": [
    "`NumPy` fundamental object is the **[ndarray](https://numpy.org/doc/1.18/reference/generated/numpy.ndarray.html)**. Arrays are simply ordered collections of elements, like single numbers, [lists](https://docs.python.org/3/tutorial/datastructures.html), [sets](https://realpython.com/python-sets/), [vectors](https://pabloinsente.github.io/intro-linear-algebra#vectors), [matrices](https://pabloinsente.github.io/intro-linear-algebra#matrices), or [tensors](https://en.wikipedia.org/wiki/Tensor). In Additionally, elements in an array have of **the same type**. For instance, an array can't have integers and text at the same time. \n",
    "\n",
    "The \"n\" in \"ndarray\" makes references to the arbitrary number of dimensions it can take. An array with one element and one dimension, it's a \"singleton\" or just a number. An array with four elements and two dimensions is a 2x2 matrix. Put simply, an array is like an Excel sheet with the caveat that instead of being restricted to two dimensions, it can be extended to 3, 4, or higher dimensions, and that you can't combine data types in a \"sheet\". \n",
    "\n",
    "In `NumPy`, dimensions are called `axes`, so I will use such term interchangeably with dimensions from now."
   ]
  },
  {
   "cell_type": "markdown",
   "metadata": {},
   "source": [
    "Let's see a few examples. \n",
    "\n",
    "We first need to import `NumPy` by running:"
   ]
  },
  {
   "cell_type": "code",
   "execution_count": 1,
   "metadata": {},
   "outputs": [],
   "source": [
    "import numpy as np"
   ]
  },
  {
   "cell_type": "markdown",
   "metadata": {},
   "source": [
    "Then we can use the `array` method constructor to build an array as:"
   ]
  },
  {
   "cell_type": "code",
   "execution_count": 2,
   "metadata": {},
   "outputs": [],
   "source": [
    "# 1 axis/dimensions array\n",
    "one_dim=  np.array([1, 2, 3]) \n",
    "\n",
    "# 2 axis/dimensions array\n",
    "two_dim_1=  np.array([[1, 2, 3]]) \n",
    "\n",
    "# 2 axis/dimensions array\n",
    "two_dim_2= np.array([[1, 2, 3],\n",
    "                     [4, 5, 6]])\n",
    " \n",
    "# 3 axis/dimensions array\n",
    "three_dim =  np.array([[[1, 2, 3], \n",
    "                        [4, 5, 6]],\n",
    "                       [[1, 2, 3],\n",
    "                        [4, 5, 6]]]) "
   ]
  },
  {
   "cell_type": "markdown",
   "metadata": {},
   "source": [
    "Visually, we can represent the above arrays as:"
   ]
  },
  {
   "cell_type": "markdown",
   "metadata": {},
   "source": [
    "<img src=\"images/numpy-array.svg\">"
   ]
  },
  {
   "cell_type": "markdown",
   "metadata": {},
   "source": [
    "This is how arrays look when printed:"
   ]
  },
  {
   "cell_type": "code",
   "execution_count": 3,
   "metadata": {},
   "outputs": [
    {
     "name": "stdout",
     "output_type": "stream",
     "text": [
      "One-dimensional array with 3 elements:\n",
      "[1 2 3]\n",
      "\n",
      "Two-dimensional array with 1 row and 3 cols:\n",
      "[[1 2 3]]\n",
      "\n",
      "Two-dimensional array with 2 row and 3 cols:\n",
      "[[1 2 3]\n",
      " [4 5 6]]\n",
      "\n",
      "Three-dimensional array:\n",
      "[[[1 2 3]\n",
      "  [4 5 6]]\n",
      "\n",
      " [[1 2 3]\n",
      "  [4 5 6]]]\n"
     ]
    }
   ],
   "source": [
    "print(f'One-dimensional array with 3 elements:\\n{one_dim}\\n')\n",
    "print(f'Two-dimensional array with 1 row and 3 cols:\\n{two_dim_1}\\n')\n",
    "print(f'Two-dimensional array with 2 row and 3 cols:\\n{two_dim_2}\\n')\n",
    "print(f'Three-dimensional array:\\n{three_dim}')"
   ]
  },
  {
   "cell_type": "markdown",
   "metadata": {},
   "source": [
    "We can inspect and confirm **dimensionality** as:"
   ]
  },
  {
   "cell_type": "code",
   "execution_count": 4,
   "metadata": {},
   "outputs": [
    {
     "name": "stdout",
     "output_type": "stream",
     "text": [
      "Number of dimensions array one: 1\n",
      "Number of dimensions array two-1: 2\n",
      "Number of dimensions array two-2: 2\n",
      "Number of dimensions array three: 3\n"
     ]
    }
   ],
   "source": [
    "print(f'Number of dimensions array one: {one_dim.ndim}')\n",
    "print(f'Number of dimensions array two-1: {two_dim_1.ndim}')\n",
    "print(f'Number of dimensions array two-2: {two_dim_2.ndim}')\n",
    "print(f'Number of dimensions array three: {three_dim.ndim}')"
   ]
  },
  {
   "cell_type": "markdown",
   "metadata": {},
   "source": [
    "The **shape** of an array must not be confused with its dimensionality, as shape reflects the number of elements along each axis, and dimensionality only the number of axes or dimensions."
   ]
  },
  {
   "cell_type": "code",
   "execution_count": 5,
   "metadata": {},
   "outputs": [
    {
     "name": "stdout",
     "output_type": "stream",
     "text": [
      "Shape array one: (3,)\n",
      "Shape array two-1: (1, 3)\n",
      "Shape array two-2: (2, 3)\n",
      "Shape array three: (2, 2, 3)\n"
     ]
    }
   ],
   "source": [
    "print(f'Shape array one: {one_dim.shape}')\n",
    "print(f'Shape array two-1: {two_dim_1.shape}')\n",
    "print(f'Shape array two-2: {two_dim_2.shape}')\n",
    "print(f'Shape array three: {three_dim.shape}')"
   ]
  },
  {
   "cell_type": "markdown",
   "metadata": {},
   "source": [
    "The first number in the parenthesis represents the number of elements within the first axis/dimension; the second number the number of elements within the second axis/dimension, the third number the number of elements within the third axis/dimensions, and so on. \n",
    "\n",
    "For instance, the (2, 2, 3) indicates 2 elements along the first axis, 2 elements along the second axis, and 3 elements along the third axis."
   ]
  },
  {
   "cell_type": "markdown",
   "metadata": {},
   "source": [
    "To count the **number of elements** within an array type:"
   ]
  },
  {
   "cell_type": "code",
   "execution_count": 6,
   "metadata": {},
   "outputs": [
    {
     "name": "stdout",
     "output_type": "stream",
     "text": [
      "Number of elements array one:3\n",
      "Number of elements array two-1:3\n",
      "Number of elements array two-2:6\n",
      "Number of elements array three:12\n"
     ]
    }
   ],
   "source": [
    "print(f'Number of elements array one:{one_dim.size}')\n",
    "print(f'Number of elements array two-1:{two_dim_1.size}')\n",
    "print(f'Number of elements array two-2:{two_dim_2.size}')\n",
    "print(f'Number of elements array three:{three_dim.size}')"
   ]
  },
  {
   "cell_type": "markdown",
   "metadata": {},
   "source": [
    "`NumPy` utilizes different **data types** (more on this later) to represent data, which can be inspected as:"
   ]
  },
  {
   "cell_type": "code",
   "execution_count": 7,
   "metadata": {},
   "outputs": [
    {
     "name": "stdout",
     "output_type": "stream",
     "text": [
      "Data type array one:int64\n",
      "Data type array two-1:int64\n",
      "Data type array two-2:int64\n",
      "Data type array three:int64\n"
     ]
    }
   ],
   "source": [
    "print(f'Data type array one:{one_dim.dtype}')\n",
    "print(f'Data type array two-1:{two_dim_1.dtype}')\n",
    "print(f'Data type array two-2:{two_dim_2.dtype}')\n",
    "print(f'Data type array three:{three_dim.dtype}')"
   ]
  },
  {
   "cell_type": "markdown",
   "metadata": {},
   "source": [
    "## Array creation"
   ]
  },
  {
   "cell_type": "markdown",
   "metadata": {},
   "source": [
    "`NumPy` offers several alternatives to create arrays.\n",
    "\n",
    "I will review three cases:\n",
    "\n",
    "1. Conversion from other Python structures \n",
    "2. Intrinsic `NumPy` array creation objects \n",
    "3. Use of special library functions"
   ]
  },
  {
   "cell_type": "markdown",
   "metadata": {},
   "source": [
    "### Conversion from other Python structures "
   ]
  },
  {
   "cell_type": "markdown",
   "metadata": {},
   "source": [
    "In the previous section, I used the `array` method to create an array from a Python list. This is an example of array creation from the conversion of an array-like Python object. \n",
    "\n",
    "Lists, tuples, and sets are array-like Python objects that serve as options for this method."
   ]
  },
  {
   "cell_type": "code",
   "execution_count": 8,
   "metadata": {},
   "outputs": [],
   "source": [
    "array_list = np.array([1, 2, 3])\n",
    "array_tuple = np.array(((1, 2, 3), (4, 5, 6)))\n",
    "array_set = np.array({\"pikachu\", \"snorlax\", \"charizard\"})"
   ]
  },
  {
   "cell_type": "code",
   "execution_count": 9,
   "metadata": {},
   "outputs": [
    {
     "name": "stdout",
     "output_type": "stream",
     "text": [
      "Array from list:\n",
      "[1 2 3]\n",
      "\n",
      "Array from tuple:\n",
      "[[1 2 3]\n",
      " [4 5 6]]\n",
      "\n",
      "Array from set:\n",
      "{'snorlax', 'pikachu', 'charizard'}\n"
     ]
    }
   ],
   "source": [
    "print(f'Array from list:\\n{array_list}\\n')\n",
    "print(f'Array from tuple:\\n{array_tuple}\\n')\n",
    "print(f'Array from set:\\n{array_set}')"
   ]
  },
  {
   "cell_type": "markdown",
   "metadata": {},
   "source": [
    "### Intrinsic NumPy array creation objects "
   ]
  },
  {
   "cell_type": "markdown",
   "metadata": {},
   "source": [
    "Manual input of data into arrays can be cumbersome, so `NumPy` offers a series of convenience methods to create arrays for special cases, like zeros, ones, and others. Below some common examples."
   ]
  },
  {
   "cell_type": "code",
   "execution_count": 10,
   "metadata": {},
   "outputs": [],
   "source": [
    "# zeros\n",
    "zeros = np.zeros(5)\n",
    "\n",
    "# ones\n",
    "ones = np.ones((3, 3))\n",
    "\n",
    "# arange\n",
    "arange = np.arange(1, 10, 2)\n",
    "\n",
    "# empty\n",
    "empty =  np.empty([2, 2])\n",
    "\n",
    "# linspace\n",
    "linespace = np.linspace(-1.0, 1.0, num=10)\n",
    "\n",
    "# full\n",
    "full = np.full((3,3), -2)\n",
    "\n",
    "# indices\n",
    "indices =  np.indices((3,3))"
   ]
  },
  {
   "cell_type": "code",
   "execution_count": 11,
   "metadata": {},
   "outputs": [
    {
     "name": "stdout",
     "output_type": "stream",
     "text": [
      "Array of zeros:\n",
      "[0. 0. 0. 0. 0.]\n",
      "\n",
      "Array of ones:\n",
      "[[1. 1. 1.]\n",
      " [1. 1. 1.]\n",
      " [1. 1. 1.]]\n",
      "\n",
      "Array of empty entries:\n",
      "[[4.68663598e-310 6.91134029e-310]\n",
      " [0.00000000e+000 0.00000000e+000]]\n",
      "\n",
      "Evenly spaced array in a range:\n",
      "[-1.         -0.77777778 -0.55555556 -0.33333333 -0.11111111  0.11111111\n",
      "  0.33333333  0.55555556  0.77777778  1.        ]\n",
      "\n",
      "Array with same number on each entry:\n",
      "[[-2 -2 -2]\n",
      " [-2 -2 -2]\n",
      " [-2 -2 -2]]\n",
      "\n",
      "Array from indices:\n",
      "[[[0 0 0]\n",
      "  [1 1 1]\n",
      "  [2 2 2]]\n",
      "\n",
      " [[0 1 2]\n",
      "  [0 1 2]\n",
      "  [0 1 2]]]\n",
      "\n"
     ]
    }
   ],
   "source": [
    "print(f'Array of zeros:\\n{zeros}\\n')\n",
    "print(f'Array of ones:\\n{ones}\\n')\n",
    "print(f'Array of empty entries:\\n{empty}\\n')\n",
    "print(f'Evenly spaced array in a range:\\n{linespace}\\n')\n",
    "print(f'Array with same number on each entry:\\n{full}\\n')\n",
    "print(f'Array from indices:\\n{indices}\\n')"
   ]
  },
  {
   "cell_type": "markdown",
   "metadata": {},
   "source": [
    "- The `zero` method generates an array of zeros of shape defined by a tuple passed to the function\n",
    "- The `ones` method generates an array of ones of shape defined by a tuple passed to the function\n",
    "- The `empty` method generates an empty array (although very small numbers will be printed) of shape defined by a tuple passed to the function\n",
    "- The `linespace` method generates an array of evenly spaced entries given a range and a step size\n",
    "- The `full` method returns an array of  shape defined by a tuple passed to the function filled with the same value (third argument outside the tuple)\n",
    "- The `indices` method generates an array representing the indices of the grid"
   ]
  },
  {
   "cell_type": "markdown",
   "metadata": {},
   "source": [
    "### Use of special library functions"
   ]
  },
  {
   "cell_type": "markdown",
   "metadata": {},
   "source": [
    "`NumPy` has a large list of special cases functions that generate arrays, which are too large and seemingly disconnected to enumerate. Here are a few examples:"
   ]
  },
  {
   "cell_type": "code",
   "execution_count": 12,
   "metadata": {},
   "outputs": [],
   "source": [
    "# diagonal array\n",
    "diagonal = np.diag([1, 2, 3], k=0)\n",
    "\n",
    "# identity \n",
    "identity = np.identity(3)\n",
    "\n",
    "# eye\n",
    "eye = np.eye(4, k=1)\n",
    "\n",
    "# rand\n",
    "rand = np.random.rand(3,2)"
   ]
  },
  {
   "cell_type": "code",
   "execution_count": 13,
   "metadata": {},
   "outputs": [
    {
     "name": "stdout",
     "output_type": "stream",
     "text": [
      "Diagonal matrix from array-like structure:\n",
      "[[1 0 0]\n",
      " [0 2 0]\n",
      " [0 0 3]]\n",
      "\n",
      "Identity matrix:\n",
      "[[1. 0. 0.]\n",
      " [0. 1. 0.]\n",
      " [0. 0. 1.]]\n",
      "\n",
      "Diagonal matrix with ones and zeros elsewhere:\n",
      "[[0. 1. 0. 0.]\n",
      " [0. 0. 1. 0.]\n",
      " [0. 0. 0. 1.]\n",
      " [0. 0. 0. 0.]]\n",
      "\n",
      "Array of random numbers sampled from a uniform distribution:\n",
      "[[0.5591643  0.09664011]\n",
      " [0.50060969 0.66257198]\n",
      " [0.14422846 0.88560737]]\n"
     ]
    }
   ],
   "source": [
    "print(f'Diagonal matrix from array-like structure:\\n{diagonal}\\n')\n",
    "print(f'Identity matrix:\\n{identity}\\n')\n",
    "print(f'Diagonal matrix with ones and zeros elsewhere:\\n{eye}\\n')\n",
    "print(f'Array of random numbers sampled from a uniform distribution:\\n{rand}')"
   ]
  },
  {
   "cell_type": "markdown",
   "metadata": {},
   "source": [
    "- The `diagonal` function returns an array with the numbers in the diagonal and zeros elsewhere\n",
    "- The `identity` function returns an identity matrix\n",
    "- The `eye` function returns an array with ones on the diagonal and zeros elsewhere\n",
    "- The `random.rand` function returns an array of random numbers sampled from a uniform distribution"
   ]
  },
  {
   "cell_type": "markdown",
   "metadata": {},
   "source": [
    "## Vectorization"
   ]
  },
  {
   "cell_type": "markdown",
   "metadata": {},
   "source": [
    "I claimed \"pure\" Python is slow. One of the culprits of such slowness is Python's loops. Loops are bad for performance for complicated reasons related to Python design as a dynamically typed language. The shortest answer to why loops are slow is that Python takes multiple actions for each call (e.g., it access memory several times, type checking, etc.), that compound and hurt performance the more loops you execute. \n",
    "\n",
    "In scientific computing we want speed, meaning we want to get rid of loops. This is precisely what's **vectorization** all about: **getting rid of loops by performing computations on multiple components of a vector at the same time**. Hence, performing operations in \"vector\" form. In `NumPy`, vectors can be interpreted as an array, so we could call this \"arrayization\" if you will, but that sounds funny and weird. \n",
    "\n",
    "Here is how vectorization looks like conceptually."
   ]
  },
  {
   "cell_type": "markdown",
   "metadata": {},
   "source": [
    "<img src= \"images/vectorization.svg\" >"
   ]
  },
  {
   "cell_type": "markdown",
   "metadata": {},
   "source": [
    "Now let's compare the performance gain of vectorization against looping in a simple sum. "
   ]
  },
  {
   "cell_type": "code",
   "execution_count": 14,
   "metadata": {},
   "outputs": [],
   "source": [
    "x = np.random.rand(100)\n",
    "y = np.random.rand(100)"
   ]
  },
  {
   "cell_type": "markdown",
   "metadata": {},
   "source": [
    "Sum two array with a Python loop (non-vectorized)"
   ]
  },
  {
   "cell_type": "code",
   "execution_count": 15,
   "metadata": {},
   "outputs": [
    {
     "name": "stdout",
     "output_type": "stream",
     "text": [
      "31.5 µs ± 124 ns per loop (mean ± std. dev. of 7 runs, 10000 loops each)\n"
     ]
    }
   ],
   "source": [
    "%%timeit\n",
    "for i in range(0, len(x)):\n",
    "    x[i] + y[i]"
   ]
  },
  {
   "cell_type": "markdown",
   "metadata": {},
   "source": [
    "Sum arrays with `NumPy` (vectorized)"
   ]
  },
  {
   "cell_type": "code",
   "execution_count": 16,
   "metadata": {},
   "outputs": [
    {
     "name": "stdout",
     "output_type": "stream",
     "text": [
      "474 ns ± 2.73 ns per loop (mean ± std. dev. of 7 runs, 1000000 loops each)\n"
     ]
    }
   ],
   "source": [
    "%%timeit\n",
    "x+y;"
   ]
  },
  {
   "cell_type": "markdown",
   "metadata": {},
   "source": [
    "As you can see, the `NumPy` vectorized implementation is several orders of magnitude faster. In the runs I've done, approximately 67 times faster (~32 microsecond against ~0.49 microseconds).\n",
    "\n",
    "Such minuscule fractions of time may not be important for you know, but consider that we are only adding up two arrays of 100 numbers. In modern data science and machine learning applications, hundreds of thousands and even millions of computations are required to fit any model, and most of the time you will want to fit multiple models several times. Just cut or multiply everything by about 70: the model that takes 1 minute to run, will take 70 minutes, and the model that takes one day can take over two months. I do not know about you, but I do not have all that time to spare. \n",
    "\n",
    "In the next section, we cover array mathematics with `NumPy`, which essentially are vectorized operations."
   ]
  },
  {
   "cell_type": "markdown",
   "metadata": {},
   "source": [
    "## Array mathematics and element-wise operations"
   ]
  },
  {
   "cell_type": "markdown",
   "metadata": {},
   "source": [
    "### Array arithmetic"
   ]
  },
  {
   "cell_type": "markdown",
   "metadata": {},
   "source": [
    "As in regular mathematics, array arithmetic is  fundamentally about addition, subtraction, multiplication, and division. In `NumPy`, this kind of operations are performed **element-wise**. Take the following example:\n",
    "\n",
    "$$\n",
    "\\begin{bmatrix}\n",
    "1\\\\\n",
    "2\\\\\n",
    "3\n",
    "\\end{bmatrix} +\n",
    "\\begin{bmatrix}\n",
    "4\\\\\n",
    "5\\\\\n",
    "6\n",
    "\\end{bmatrix} =\n",
    "\\begin{bmatrix}\n",
    "2\\\\\n",
    "7\\\\\n",
    "9\n",
    "\\end{bmatrix}\n",
    "$$\n",
    "\n",
    "As in this example, `NumPy` will add the first elements of each array together, the second elements of each array together, and the third elements of each array together. Hence, **element-wise addition**. The same can be extrapolated to multi-dimensional arrays. Consider the following example:\n",
    "\n",
    "$$\n",
    "\\begin{bmatrix}\n",
    "1 & 2\\\\\n",
    "3 & 4\n",
    "\\end{bmatrix} +\n",
    "\\begin{bmatrix}\n",
    "5 & 6\\\\\n",
    "7 & 8\n",
    "\\end{bmatrix} =\n",
    "\\begin{bmatrix}\n",
    "6 & 8\\\\\n",
    "10 & 12\n",
    "\\end{bmatrix}\n",
    "$$\n",
    "\n",
    "The logic is the same: the top-left elements in each array are added together, the top-right elements of each array are added together, and so on. Subtraction, division, multiplication, exponentiation, logarithms, roots, and many other algebraic operations (or arithmetic depending on whom you ask), will be performed in the same manner. \n",
    "\n",
    "\n",
    "Here there is a list of common arithmetic operations."
   ]
  },
  {
   "cell_type": "code",
   "execution_count": 17,
   "metadata": {},
   "outputs": [],
   "source": [
    "a = np.arange(1, 10).reshape((3,3))\n",
    "b = np.arange(10,19).reshape((3,3))\n",
    "\n",
    "addition = a + b\n",
    "subtraction = a - b\n",
    "multiplication = a * b\n",
    "true_division = a / b\n",
    "floor_division = a // b\n",
    "remainder = np.remainder(a, b) "
   ]
  },
  {
   "cell_type": "code",
   "execution_count": 18,
   "metadata": {},
   "outputs": [
    {
     "name": "stdout",
     "output_type": "stream",
     "text": [
      "Array a:\n",
      "[[1 2 3]\n",
      " [4 5 6]\n",
      " [7 8 9]]\n",
      "\n",
      "Array b:\n",
      "[[10 11 12]\n",
      " [13 14 15]\n",
      " [16 17 18]]\n",
      "\n",
      "Addition of a and b:\n",
      "[[11 13 15]\n",
      " [17 19 21]\n",
      " [23 25 27]]\n",
      "\n",
      "Subtraction of a and b:\n",
      "[[-9 -9 -9]\n",
      " [-9 -9 -9]\n",
      " [-9 -9 -9]]\n",
      "\n",
      "Multiplication of a and b:\n",
      "[[ 10  22  36]\n",
      " [ 52  70  90]\n",
      " [112 136 162]]\n",
      "\n",
      "True divition of a and b:\n",
      "[[0.1        0.18181818 0.25      ]\n",
      " [0.30769231 0.35714286 0.4       ]\n",
      " [0.4375     0.47058824 0.5       ]]\n",
      "\n",
      "Floor division of a and b:\n",
      "[[0 0 0]\n",
      " [0 0 0]\n",
      " [0 0 0]]\n",
      "\n",
      "Remainder of a and b:\n",
      "[[1 2 3]\n",
      " [4 5 6]\n",
      " [7 8 9]]\n"
     ]
    }
   ],
   "source": [
    "print(f'Array a:\\n{a}\\n')\n",
    "print(f'Array b:\\n{b}\\n')\n",
    "print(f'Addition of a and b:\\n{addition}\\n')\n",
    "print(f'Subtraction of a and b:\\n{subtraction}\\n')\n",
    "print(f'Multiplication of a and b:\\n{multiplication}\\n')\n",
    "print(f'True divition of a and b:\\n{true_division}\\n')\n",
    "print(f'Floor division of a and b:\\n{floor_division}\\n')\n",
    "print(f'Remainder of a and b:\\n{remainder}')"
   ]
  },
  {
   "cell_type": "markdown",
   "metadata": {},
   "source": [
    "What do you think will happen if we try to multiply a 3x3 array by a scalar (a single number? There are some options: \n",
    "\n",
    "1. The operation will fail, as their shapes do not match\n",
    "2. Just the first element of the array will be multiplied by the scalar\n",
    "3. All elements of the array will be multiplied by the scalar regardless\n",
    "\n",
    "Let's try it out."
   ]
  },
  {
   "cell_type": "code",
   "execution_count": 19,
   "metadata": {},
   "outputs": [
    {
     "name": "stdout",
     "output_type": "stream",
     "text": [
      "3x3 array:\n",
      "[[1 2 3]\n",
      " [4 5 6]\n",
      " [7 8 9]]\n",
      "\n",
      "3x3 array times an scalar:\n",
      "[[ 2  4  6]\n",
      " [ 8 10 12]\n",
      " [14 16 18]]\n"
     ]
    }
   ],
   "source": [
    "array_scalar = a * 2\n",
    "print(f'3x3 array:\\n{a}\\n')\n",
    "print(f'3x3 array times an scalar:\\n{array_scalar}')"
   ]
  },
  {
   "cell_type": "markdown",
   "metadata": {},
   "source": [
    "Each element of the array was multiplied by 2. How does this even work? One option is to \"loop\" over each of array and multiply by 3 sequentially. But that it is slow, and `NumPy` is all about speed. What happens is that the scalar is \"broadcast\" to match the shape of the array BEFORE multiplication. In practice, what we have is a 3x3 array times a 3x3 array of 2s as:\n",
    "\n",
    "$$\n",
    "\\begin{bmatrix}\n",
    "1 & 2 & 3\\\\\n",
    "4 & 5 & 6\\\\\n",
    "7 & 8 & 9\n",
    "\\end{bmatrix}\n",
    "\\begin{bmatrix}\n",
    "2 & 2 & 2\\\\\n",
    "2 & 2 & 2\\\\\n",
    "2 & 2 & 2\n",
    "\\end{bmatrix} =\n",
    "\\begin{bmatrix}\n",
    "2 & 4 & 6\\\\\n",
    "8 & 10 & 12\\\\\n",
    "14 & 16 & 18\n",
    "\\end{bmatrix}\n",
    "$$\n",
    "\n",
    "Broadcasting will make computation way faster than looping. There is more to say about broadcasting, and I will cover it more in-depth in a later section. For now, this should help you to understand how element-wise operations work in `NumPy`"
   ]
  },
  {
   "cell_type": "markdown",
   "metadata": {},
   "source": [
    "### Trigonometric functions"
   ]
  },
  {
   "cell_type": "markdown",
   "metadata": {},
   "source": [
    "`NumPy` provides a series of convenient functions for trigonometric calculations, which also operate in an element-wise fashion. \n",
    "\n",
    "There are several trigonometric functions in `NumPy` (see [here](https://numpy.org/doc/stable/reference/routines.math.html#trigonometric-functions)). Below a couple of the most common ones. "
   ]
  },
  {
   "cell_type": "code",
   "execution_count": 20,
   "metadata": {},
   "outputs": [],
   "source": [
    "x = np.linspace(-4, 4, 200)\n",
    "\n",
    "# sin function\n",
    "sin = np.sin(x)\n",
    "# cosine function\n",
    "cos = np.cos(x)\n",
    "# tangent function\n",
    "tan = np.tan(x)"
   ]
  },
  {
   "cell_type": "markdown",
   "metadata": {},
   "source": [
    "Let's plot to see the outcome"
   ]
  },
  {
   "cell_type": "code",
   "execution_count": 21,
   "metadata": {},
   "outputs": [],
   "source": [
    "import matplotlib.pylab as plt\n",
    "plt.style.use('dark_background')\n",
    "%config InlineBackend.figure_format = 'retina' # to get high resolution images"
   ]
  },
  {
   "cell_type": "code",
   "execution_count": 22,
   "metadata": {},
   "outputs": [
    {
     "data": {
      "image/png": "[encoded data removed]",
      "text/plain": [
       "<Figure size 432x288 with 3 Axes>"
      ]
     },
     "metadata": {
      "image/png": {
       "height": 279,
       "width": 424
      }
     },
     "output_type": "display_data"
    }
   ],
   "source": [
    "fig, (ax1, ax2, ax3) = plt.subplots(3, 1)\n",
    "ax1.plot(x, sin)\n",
    "ax1.set_title(\"sin\")\n",
    "ax2.plot(x, cos)\n",
    "ax2.set_title(\"cos\")\n",
    "ax3.plot(x, tan)\n",
    "ax3.set_title(\"tan\")\n",
    "plt.tight_layout()"
   ]
  },
  {
   "cell_type": "markdown",
   "metadata": {},
   "source": [
    "### Hyperbolic functions"
   ]
  },
  {
   "cell_type": "markdown",
   "metadata": {},
   "source": [
    "Hyperbolic functions are like trigonometric functions but for the hyperbola rather than for the circle. `NumPy` also incorporate several cases (see [here](https://numpy.org/doc/stable/reference/routines.math.html#hyperbolic-functions))."
   ]
  },
  {
   "cell_type": "code",
   "execution_count": 23,
   "metadata": {},
   "outputs": [],
   "source": [
    "y = np.linspace(-4, 4, 200)\n",
    "\n",
    "# sin function\n",
    "sinh = np.sinh(y)\n",
    "# cosine function\n",
    "cosh = np.cosh(y)\n",
    "# tangent function\n",
    "tanh = np.tanh(y)"
   ]
  },
  {
   "cell_type": "code",
   "execution_count": 24,
   "metadata": {},
   "outputs": [
    {
     "data": {
      "image/png": "[encoded data removed]",
      "text/plain": [
       "<Figure size 432x288 with 3 Axes>"
      ]
     },
     "metadata": {
      "image/png": {
       "height": 279,
       "width": 424
      }
     },
     "output_type": "display_data"
    }
   ],
   "source": [
    "fig, (ax1, ax2, ax3) = plt.subplots(3, 1)\n",
    "ax1.plot(y, sin)\n",
    "ax1.set_title(\"sinh\")\n",
    "ax2.plot(y, cos)\n",
    "ax2.set_title(\"cosh\")\n",
    "ax3.plot(y, tan)\n",
    "ax3.set_title(\"tanh\")\n",
    "plt.tight_layout()"
   ]
  },
  {
   "cell_type": "markdown",
   "metadata": {},
   "source": [
    "### Rounding"
   ]
  },
  {
   "cell_type": "markdown",
   "metadata": {},
   "source": [
    "Rounding is a delicate subject as rounding errors when compounded over sequences of operations, can completely mess up your results. It is also a common operation for presenting and plotting results to others. Rounding is applied element-wise.\n",
    "\n",
    "Let's generate a sequence of random decimal numbers to see the effect of different rounding procedures available in `NumPy` (see [here](https://numpy.org/doc/stable/reference/routines.math.html#rounding))."
   ]
  },
  {
   "cell_type": "code",
   "execution_count": 25,
   "metadata": {},
   "outputs": [],
   "source": [
    "decimals = np.linspace(0.11111111, 0.99999999, 10)\n",
    "\n",
    "# rounding\n",
    "around = np.around(decimals, 3)\n",
    "# rounding\n",
    "round_ = np.round(decimals, 3)\n",
    "# rounding to integer\n",
    "rint = np.rint(decimals)\n",
    "# rounding integer towards zero\n",
    "fix = np.fix(decimals)\n",
    "# round to the floor\n",
    "floor = np.floor(decimals)\n",
    "# round to the ceiling\n",
    "ceil = np.ceil(decimals)"
   ]
  },
  {
   "cell_type": "code",
   "execution_count": 26,
   "metadata": {},
   "outputs": [
    {
     "name": "stdout",
     "output_type": "stream",
     "text": [
      "Array of decimals:\n",
      "[0.11111111 0.20987654 0.30864197 0.4074074  0.50617283 0.60493827\n",
      " 0.7037037  0.80246913 0.90123456 0.99999999]\n",
      "\n",
      "'around' round to the fiven number of decimals:\n",
      "[0.111 0.21  0.309 0.407 0.506 0.605 0.704 0.802 0.901 1.   ]\n",
      "\n",
      "'round' yields identical results than 'around':\n",
      "[0.111 0.21  0.309 0.407 0.506 0.605 0.704 0.802 0.901 1.   ]\n",
      "\n",
      "'rint' round to the nearest integer:\n",
      "[0. 0. 0. 0. 1. 1. 1. 1. 1. 1.]\n",
      "\n",
      "'fix' round to the nearest integer towars zero:\n",
      "[0. 0. 0. 0. 0. 0. 0. 0. 0. 0.]\n",
      "\n",
      "'floor' round to the floor of the input:\n",
      "[0. 0. 0. 0. 0. 0. 0. 0. 0. 0.]\n",
      "\n",
      "'ceil' round to the ceiling of the input:\n",
      "[1. 1. 1. 1. 1. 1. 1. 1. 1. 1.]\n"
     ]
    }
   ],
   "source": [
    "print(f\"Array of decimals:\\n{decimals}\\n\")\n",
    "print(f\"'around' round to the fiven number of decimals:\\n{around}\\n\")\n",
    "print(f\"'round' yields identical results than 'around':\\n{round_}\\n\")\n",
    "print(f\"'rint' round to the nearest integer:\\n{rint}\\n\")\n",
    "print(f\"'fix' round to the nearest integer towars zero:\\n{fix}\\n\")\n",
    "print(f\"'floor' round to the floor of the input:\\n{floor}\\n\")\n",
    "print(f\"'ceil' round to the ceiling of the input:\\n{ceil}\")"
   ]
  },
  {
   "cell_type": "markdown",
   "metadata": {},
   "source": [
    "### Exponents and logarithms"
   ]
  },
  {
   "cell_type": "markdown",
   "metadata": {},
   "source": [
    "Exponents and logarithms are often used in computations related to probability and statistics. `NumPy` incorporate several of the common ones (see [here](https://numpy.org/doc/stable/reference/routines.math.html#exponents-and-logarithms))."
   ]
  },
  {
   "cell_type": "code",
   "execution_count": 27,
   "metadata": {},
   "outputs": [],
   "source": [
    "z = np.array([0.1, 1, np.e, np.pi])\n",
    "\n",
    "# exponent\n",
    "exp = np.exp(z)\n",
    "# exponent(x) -1\n",
    "expm1 = np.expm1(z)\n",
    "# 2^P\n",
    "exp2 = np.exp2(z)\n",
    "# natural log\n",
    "log = np.log(z)\n",
    "# log base 10\n",
    "log10 = np.log10(z)\n",
    "# log base 2\n",
    "log2 = np.log2(z)"
   ]
  },
  {
   "cell_type": "code",
   "execution_count": 28,
   "metadata": {},
   "outputs": [
    {
     "name": "stdout",
     "output_type": "stream",
     "text": [
      "Compute exponential element-wise:\n",
      "[ 1.10517092  2.71828183 15.15426224 23.14069263]\n",
      "\n",
      "Compute 'exp(x) - 1' with greater precision for small values:\n",
      "[ 0.10517092  1.71828183 14.15426224 22.14069263]\n",
      "\n",
      "Compute '2**p' for all elements p in the array:\n",
      "[1.07177346 2.         6.58088599 8.82497783]\n",
      "\n",
      "Compute natural logarithm element-wise:\n",
      "[-2.30258509  0.          1.          1.14472989]\n",
      "\n",
      "Compute base 10 logarithm element-wise:\n",
      "[-1.          0.          0.43429448  0.49714987]\n",
      "\n",
      "Compute base 2 logarithm element-wise:\n",
      "[-3.32192809  0.          1.44269504  1.65149613]\n",
      "\n"
     ]
    }
   ],
   "source": [
    "print(f'Compute exponential element-wise:\\n{exp}\\n')\n",
    "print(f\"Compute 'exp(x) - 1' with greater precision for small values:\\n{expm1}\\n\")\n",
    "print(f\"Compute '2**p' for all elements p in the array:\\n{exp2}\\n\")\n",
    "print(f'Compute natural logarithm element-wise:\\n{log}\\n')\n",
    "print(f'Compute base 10 logarithm element-wise:\\n{log10}\\n')\n",
    "print(f'Compute base 2 logarithm element-wise:\\n{log2}\\n')"
   ]
  },
  {
   "cell_type": "markdown",
   "metadata": {},
   "source": [
    "### Other miscellaneous element-wise operations"
   ]
  },
  {
   "cell_type": "markdown",
   "metadata": {},
   "source": [
    "There are several other common mathematical operations available in `NumPy`, that are routinely used at different stages of the data processing and modeling.\n",
    "\n",
    "Here is a list of several important ones. As always, you can find more in the `NumPy` documentation."
   ]
  },
  {
   "cell_type": "code",
   "execution_count": 29,
   "metadata": {},
   "outputs": [],
   "source": [
    "array_1 = np.arange(-9,9, 2)\n",
    "array_2 = np.arange(-9,9, 2).reshape((3,3))\n",
    "\n",
    "# sum over\n",
    "sum_1, sum_2, sum_3 = np.sum(array_1), np.sum(array_2, axis=0), np.sum(array_2, axis=1) \n",
    "# take product\n",
    "prod_1, prod_2, prod_3 = np.prod(array_1), np.prod(array_2, axis=0), np.prod(array_2, axis=1)\n",
    "# cumulative sum\n",
    "cumsum_1, cumsum_2, cumsum_3 = np.cumsum(array_1), np.cumsum(array_2, axis=0), np.cumsum(array_2, axis=1)\n",
    "# clip values\n",
    "clip_1, clip_2 = np.clip(array_1, 2, 8), np.clip(array_2, 2, 8)\n",
    "# take absolute value\n",
    "absolute_1, absolute_2 = np.absolute(array_1), np.absolute(array_2) \n",
    "# take square root\n",
    "sqrt_1, sqrt_2 = np.sqrt(np.absolute(array_1)), np.sqrt(np.absolute(array_2)) \n",
    "# take the square power\n",
    "square_1, square_2 =  np.square(array_1), np.square(array_2)\n",
    "# sign function\n",
    "sign_1, sign_2 = np.sign(array_1), np.sign(array_2)\n",
    "# n power\n",
    "power = np.power(np.absolute(array_1), np.absolute(array_1))"
   ]
  },
  {
   "cell_type": "code",
   "execution_count": 30,
   "metadata": {},
   "outputs": [
    {
     "name": "stdout",
     "output_type": "stream",
     "text": [
      "'sum-1' sum array elements:-9\n",
      "'sum-2' sum rows:[-9 -3  3]\n",
      "'sum-3' sum cols:[-21  -3  15]\n",
      "\n",
      "'prod-1' product array elements:-99225\n",
      "'prod-2' product rows: [ 81  35 -35]\n",
      "'prod-3' product cols: [-315    3  105]\n",
      "\n",
      "'cumsum_1' cumulative sum array elements:\n",
      "[ -9 -16 -21 -24 -25 -24 -21 -16  -9]\n",
      "'cumsum_2' cumulative sum rows:\n",
      "[[ -9  -7  -5]\n",
      " [-12  -8  -4]\n",
      " [ -9  -3   3]]\n",
      "'cumsum_3' cumulative sum cols:\n",
      "[[ -9 -16 -21]\n",
      " [ -3  -4  -3]\n",
      " [  3   8  15]]\n",
      "\n",
      "'clip-1' limit range of values (2-8):\n",
      "[2 2 2 2 2 2 3 5 7]\n",
      "'clip-2' limit range of values (2-8):\n",
      "[[2 2 2]\n",
      " [2 2 2]\n",
      " [3 5 7]]\n",
      "\n",
      "'absolute-1' absolute value array elements:\n",
      "[9 7 5 3 1 1 3 5 7]\n",
      "'absolute-2' absolute value array elements:\n",
      "[[9 7 5]\n",
      " [3 1 1]\n",
      " [3 5 7]]\n",
      "\n",
      "'sqrt-1' non-negative square root array elements:\n",
      "[3.         2.64575131 2.23606798 1.73205081 1.         1.\n",
      " 1.73205081 2.23606798 2.64575131]\n",
      "'sqrt-2' non-negative square root array elements:\n",
      "[[3.         2.64575131 2.23606798]\n",
      " [1.73205081 1.         1.        ]\n",
      " [1.73205081 2.23606798 2.64575131]]\n",
      "\n",
      "'square-1' square array elements: \n",
      "[81 49 25  9  1  1  9 25 49]\n",
      "'square-2' square array elements: \n",
      "[[81 49 25]\n",
      " [ 9  1  1]\n",
      " [ 9 25 49]]\n",
      "\n",
      "'sign-1' sign indication of array elements:\n",
      "[-1 -1 -1 -1 -1  1  1  1  1]\n",
      "'sign-2' sign indication of array elements:\n",
      "[[-1 -1 -1]\n",
      " [-1 -1  1]\n",
      " [ 1  1  1]]\n",
      "\n",
      "'power' elements of first array raised to powers from the second:\n",
      "[387420489    823543      3125        27         1         1        27\n",
      "      3125    823543]\n",
      "\n"
     ]
    }
   ],
   "source": [
    "print(f\"'sum-1' sum array elements:{sum_1}\\n\"f\"'sum-2' sum rows:{sum_2}\\n\"f\"'sum-3' sum cols:{sum_3}\\n\")\n",
    "print(f\"'prod-1' product array elements:{prod_1}\\n\"f\"'prod-2' product rows: {prod_2}\\n\"f\"'prod-3' product cols: {prod_3}\\n\")\n",
    "print(f\"'cumsum_1' cumulative sum array elements:\\n{cumsum_1}\\n\"f\"'cumsum_2' cumulative sum rows:\\n{cumsum_2}\\n\"f\"'cumsum_3' cumulative sum cols:\\n{cumsum_3}\\n\")\n",
    "print(f\"'clip-1' limit range of values (2-8):\\n{clip_1}\\n\"f\"'clip-2' limit range of values (2-8):\\n{clip_2}\\n\")\n",
    "print(f\"'absolute-1' absolute value array elements:\\n{absolute_1}\\n\"f\"'absolute-2' absolute value array elements:\\n{absolute_2}\\n\")\n",
    "print(f\"'sqrt-1' non-negative square root array elements:\\n{sqrt_1}\\n\"f\"'sqrt-2' non-negative square root array elements:\\n{sqrt_2}\\n\")\n",
    "print(f\"'square-1' square array elements: \\n{square_1}\\n\"f\"'square-2' square array elements: \\n{square_2}\\n\")\n",
    "print(f\"'sign-1' sign indication of array elements:\\n{sign_1}\\n\"f\"'sign-2' sign indication of array elements:\\n{sign_2}\\n\")\n",
    "print(f\"'power' elements of first array raised to powers from the second:\\n{power}\\n\")"
   ]
  },
  {
   "cell_type": "markdown",
   "metadata": {},
   "source": [
    "## Array data type and conversions"
   ]
  },
  {
   "cell_type": "markdown",
   "metadata": {},
   "source": [
    "I mentioned `NumPy` arrays can contain a single data type. This constraint makes data storing and manipulation much more efficient than working with mixed type arrays (like Python lists), which is a priority for `NumPy`. \n",
    "\n",
    "Data types in `NumPy` is a relatively complicated subject, particularly if you are not familiar with C or memory allocation. For our purposes, some basic data types are worth knowing: \n",
    "\n",
    "1. `np.bool_`: used to represent \"Booleans\" (True or False)\n",
    "2. `np.int`: used to integers numbers \n",
    "3. `np.unit`: used to represent positive integers or \"unsigned\" integers\n",
    "4. `np.float`: used to represent real numbers (decimals, fractions, etc) or \"floating point\" numbers  \n",
    "5. `np.complex`: used to represent complex numbers\n",
    "\n",
    "In my experience, booleans, integers, and float point data types are the ones that you end up using the most. At least explicitly. Other data types are used all the time, but you do not have to worry about it because `NumPy` takes care of it for you. Since Python is a \"dynamically typed\" language, which simply means that you do not have to tell the computer what data type you will use (Python does this for you), most of the time you do not need to indicate which data type you will use. \n",
    "\n",
    "For instance, if you simply define and an array of values, `NumPy` will decide what data type to allocate for each: "
   ]
  },
  {
   "cell_type": "code",
   "execution_count": 31,
   "metadata": {},
   "outputs": [],
   "source": [
    "bools = np.array([True, False])\n",
    "ints = np.full((2,2), 1)\n",
    "floats = np.ones(5)\n",
    "unsigned = np.arange(3, dtype=np.uint8)\n",
    "complexs = np.array([+1j, +2j, +3j])\n",
    "unicode = np.array([\"Catbug\", \"Chris\", \"Danny\", \"Wallow\", \"Beth\"])"
   ]
  },
  {
   "cell_type": "code",
   "execution_count": 32,
   "metadata": {},
   "outputs": [
    {
     "name": "stdout",
     "output_type": "stream",
     "text": [
      "Booleans :bool\n",
      "Integers :int64\n",
      "Floats :float64\n",
      "Unsigned :uint8\n",
      "Complexs :complex128\n",
      "Unicode :<U6\n"
     ]
    }
   ],
   "source": [
    "print(f'Booleans :{bools.dtype}')\n",
    "print(f'Integers :{ints.dtype}')\n",
    "print(f'Floats :{floats.dtype}')\n",
    "print(f'Unsigned :{unsigned.dtype}')\n",
    "print(f'Complexs :{complexs.dtype}')\n",
    "print(f'Unicode :{unicode.dtype}')"
   ]
  },
  {
   "cell_type": "markdown",
   "metadata": {},
   "source": [
    "In some instances, you may want to explicitly indicate the data type. Here are some examples of how you can do that:"
   ]
  },
  {
   "cell_type": "code",
   "execution_count": 33,
   "metadata": {},
   "outputs": [],
   "source": [
    "int_16 = np.array([1, 2, 3, 4], dtype='int16')\n",
    "float_32 = np.array([1, 2, 3, 4], dtype='float32')\n",
    "unsigned_int_8 = np.arange(3, dtype='uint8')"
   ]
  },
  {
   "cell_type": "code",
   "execution_count": 34,
   "metadata": {},
   "outputs": [
    {
     "name": "stdout",
     "output_type": "stream",
     "text": [
      "Integer 16 bytes data type: int16\n",
      "Float 32 bytes data type: float32\n",
      "Unsigned integer 8 bytes data type: uint8\n"
     ]
    }
   ],
   "source": [
    "print(f'Integer 16 bytes data type: { int_16.dtype}')\n",
    "print(f'Float 32 bytes data type: {float_32.dtype}')\n",
    "print(f'Unsigned integer 8 bytes data type: {unsigned_int_8.dtype}')"
   ]
  },
  {
   "cell_type": "markdown",
   "metadata": {},
   "source": [
    "Note that the numbers after the data type, like 8, 16, 32, and 64, indicate the number of bytes is allocated to represent each element of the array. The higher the number, the more memory.\n",
    "\n",
    "There are several reasons why you may want to explicitly indicate the data type. One of the most common reasons is **memory efficiency**. If you know your range of numbers in a variable is small positive numbers, utilizing 8 bytes unsigned integers will use significantly less memory than a 32 bytes integer. Now, this will be an issue only with massive datasets, meaning datasets that make your computer to have difficulty processing your data, as it is not clear what \"massive\" means without context. \n",
    "\n",
    "A final operation you may want to do, is **to change the data type of an array**. For instance, let's say you want to stack two arrays, but one has a floating-point data type and the other integers. Recall that `NumPy` arrays can have a single data type. Let's see an example."
   ]
  },
  {
   "cell_type": "code",
   "execution_count": 35,
   "metadata": {},
   "outputs": [],
   "source": [
    "int_array = np.arange(10, dtype='int')\n",
    "float_array = np.arange(10, dtype='float')"
   ]
  },
  {
   "cell_type": "code",
   "execution_count": 36,
   "metadata": {},
   "outputs": [
    {
     "name": "stdout",
     "output_type": "stream",
     "text": [
      "Array 1: [0 1 2 3 4 5 6 7 8 9], data type:int64\n",
      "Array 2: [0. 1. 2. 3. 4. 5. 6. 7. 8. 9.], data type:float64\n"
     ]
    }
   ],
   "source": [
    "print(f'Array 1: {int_array}, data type:{int_array.dtype}')\n",
    "print(f'Array 2: {float_array}, data type:{float_array.dtype}')"
   ]
  },
  {
   "cell_type": "markdown",
   "metadata": {},
   "source": [
    "Let's first stack the arrays as they are:"
   ]
  },
  {
   "cell_type": "code",
   "execution_count": 37,
   "metadata": {},
   "outputs": [],
   "source": [
    "stacked_arrays = np.stack((int_array, float_array))"
   ]
  },
  {
   "cell_type": "code",
   "execution_count": 38,
   "metadata": {},
   "outputs": [
    {
     "name": "stdout",
     "output_type": "stream",
     "text": [
      "Stacked arrays as they are:\n",
      "[[0. 1. 2. 3. 4. 5. 6. 7. 8. 9.]\n",
      " [0. 1. 2. 3. 4. 5. 6. 7. 8. 9.]],\n",
      "data type:float64\n"
     ]
    }
   ],
   "source": [
    "print(f'Stacked arrays as they are:\\n{stacked_arrays},\\ndata type:{stacked_arrays.dtype}')"
   ]
  },
  {
   "cell_type": "markdown",
   "metadata": {},
   "source": [
    "As you can see, `NumPy` \"upcasted\" the data type of lower precision, the `int64`, to the data type of higher precision, the `float64`. This is simply because `int64` can't represent float point or real numbers, only integers or natural numbers. But `float64` can represent integers. So it is the smart choice to make things work. \n",
    "\n",
    "Now, you may want to keep everything as integers, for whatever reason. If so, this is what you need to do. First, convert the `float64` array to an `int64` array as:"
   ]
  },
  {
   "cell_type": "code",
   "execution_count": 39,
   "metadata": {},
   "outputs": [],
   "source": [
    "int_array_2 = float_array.astype('int64')"
   ]
  },
  {
   "cell_type": "markdown",
   "metadata": {},
   "source": [
    "And now stack things together. "
   ]
  },
  {
   "cell_type": "code",
   "execution_count": 40,
   "metadata": {},
   "outputs": [],
   "source": [
    "stacked_arrays_2 = np.stack((int_array, int_array_2))"
   ]
  },
  {
   "cell_type": "code",
   "execution_count": 41,
   "metadata": {},
   "outputs": [
    {
     "name": "stdout",
     "output_type": "stream",
     "text": [
      "Stacked arrays after conversion:\n",
      "[[0 1 2 3 4 5 6 7 8 9]\n",
      " [0 1 2 3 4 5 6 7 8 9]],\n",
      "data type:int64\n"
     ]
    }
   ],
   "source": [
    "print(f'Stacked arrays after conversion:\\n{stacked_arrays_2},\\ndata type:{stacked_arrays_2.dtype}')"
   ]
  },
  {
   "cell_type": "markdown",
   "metadata": {},
   "source": [
    "There you go, the array is composed by integers of 64 bytes now. \n",
    "\n",
    "Let's say you want to save memory by converting the new array to a **lower byte representation**, like int 8. This is known as \"downcasting\", i.e., the opposite of \"upcasting\". For this you simply need to:"
   ]
  },
  {
   "cell_type": "code",
   "execution_count": 42,
   "metadata": {},
   "outputs": [],
   "source": [
    "stacked_arrays_3 = stacked_arrays_2.astype('int8')"
   ]
  },
  {
   "cell_type": "code",
   "execution_count": 43,
   "metadata": {},
   "outputs": [
    {
     "name": "stdout",
     "output_type": "stream",
     "text": [
      "Stacked arrays after downcasting:\n",
      "[[0 1 2 3 4 5 6 7 8 9]\n",
      " [0 1 2 3 4 5 6 7 8 9]],\n",
      "data type:int8\n"
     ]
    }
   ],
   "source": [
    "print(f'Stacked arrays after downcasting:\\n{stacked_arrays_3},\\ndata type:{stacked_arrays_3.dtype}')"
   ]
  },
  {
   "cell_type": "markdown",
   "metadata": {},
   "source": [
    "You can check and compare the memory \"footprint\" of each array as:"
   ]
  },
  {
   "cell_type": "code",
   "execution_count": 44,
   "metadata": {},
   "outputs": [
    {
     "name": "stdout",
     "output_type": "stream",
     "text": [
      "Memory size Int64 array:160\n",
      "Memory size Int8 array:20\n"
     ]
    }
   ],
   "source": [
    "print(f'Memory size Int64 array:{stacked_arrays_2.nbytes}')\n",
    "print(f'Memory size Int8 array:{stacked_arrays_3.nbytes}')"
   ]
  },
  {
   "cell_type": "markdown",
   "metadata": {},
   "source": [
    "The memory footprint has been reduced by a factor of 8. This may not sound like a lot, but if you are working with a dataset of size, let's say, 8 gigabytes, you can reduce such memory usage to only 1 gigabyte, which will also do data manipulation faster. "
   ]
  },
  {
   "cell_type": "markdown",
   "metadata": {},
   "source": [
    "## Array manipulation"
   ]
  },
  {
   "cell_type": "markdown",
   "metadata": {},
   "source": [
    "The shape of an array is given by the number of elements along each axis. Now, if you think in an array as composed by little boxes or LEGO pieces, you can start to think of how those pieces can be rearranged in different shapes. For example, a 2 x 2 array could be \"flattened\" to be a 1 x 4 array, or maybe you could \"swap\" the rows and columns of the array, by moving the little boxes around or even take away a couple of pieces reducing the array to a 1 x 2 shape.\n",
    "\n",
    "These kinds of operations are extremely common in any kind of data manipulation, and it is one of the most important skills to acquire. Some people prefer to convert `NumPy` arrays to `Pandas` DataFrames, as `Pandas` provide several easy to use functions to manipulate arrays. Nonetheless, manipulating arrays in `NumPy` it is not that much harder, it can save you time and effort by preventing you to going back and forth with `Pandas`, and well, this is a `NumPy` tutorial, so we are here to learn `NumPy` way. "
   ]
  },
  {
   "cell_type": "markdown",
   "metadata": {},
   "source": [
    "### Array shape manipulation"
   ]
  },
  {
   "cell_type": "markdown",
   "metadata": {},
   "source": [
    "Arrays can be changed with or without changing is data. This is equivalent to the difference between rearranging LEGO blocks with or without adding/removing pieces. \n",
    "\n",
    "The `reshape` method changes the shape of an array *without* changing its data. "
   ]
  },
  {
   "cell_type": "code",
   "execution_count": 45,
   "metadata": {},
   "outputs": [
    {
     "name": "stdout",
     "output_type": "stream",
     "text": [
      "Array-1 shape: (2, 3)\n"
     ]
    }
   ],
   "source": [
    "array_1 = np.array([[1, 2, 3],\n",
    "                    [4, 5, 6]])\n",
    "\n",
    "print(f'Array-1 shape: {array_1.shape}')"
   ]
  },
  {
   "cell_type": "markdown",
   "metadata": {},
   "source": [
    "Array-1 has shape (2, 3), meaning it has 2 rows and 3 columns. "
   ]
  },
  {
   "cell_type": "code",
   "execution_count": 46,
   "metadata": {},
   "outputs": [],
   "source": [
    "# the two syntaxs below are equivalent\n",
    "array_2 = array_1.reshape(3,2) \n",
    "array_3 = np.reshape(array_1, (1,6))"
   ]
  },
  {
   "cell_type": "code",
   "execution_count": 47,
   "metadata": {},
   "outputs": [
    {
     "name": "stdout",
     "output_type": "stream",
     "text": [
      "Array-2:\n",
      "[[1 2]\n",
      " [3 4]\n",
      " [5 6]],\n",
      "shape: (3, 2)\n",
      "\n",
      "Array-3:\n",
      "[[1 2 3 4 5 6]],\n",
      "shape: (1, 6)\n"
     ]
    }
   ],
   "source": [
    "print(f'Array-2:\\n{array_2},\\nshape: {array_2.shape}\\n')\n",
    "print(f'Array-3:\\n{array_3},\\nshape: {array_3.shape}')"
   ]
  },
  {
   "cell_type": "markdown",
   "metadata": {},
   "source": [
    "Array-2 and Array-3 preserve the number of elements of Array-1.\n",
    "\n",
    "**Flattening** an array, this is, collapsing all values into a single axis or dimension, can be done in two manners:"
   ]
  },
  {
   "cell_type": "code",
   "execution_count": 48,
   "metadata": {},
   "outputs": [],
   "source": [
    "array_1_ravel = array_1.ravel()\n",
    "array_1_flatt = array_1.flatten()"
   ]
  },
  {
   "cell_type": "code",
   "execution_count": 49,
   "metadata": {},
   "outputs": [
    {
     "name": "stdout",
     "output_type": "stream",
     "text": [
      "Array-1 ravel:\n",
      "[1 2 3 4 5 6],\n",
      "shape: (6,)\n",
      "\n",
      "Array-1 flattened:\n",
      "[1 2 3 4 5 6],\n",
      "shape: (6,)\n"
     ]
    }
   ],
   "source": [
    "print(f'Array-1 ravel:\\n{array_1_ravel},\\nshape: {array_1_ravel.shape}\\n')\n",
    "print(f'Array-1 flattened:\\n{array_1_flatt},\\nshape: {array_1_flatt.shape}')"
   ]
  },
  {
   "cell_type": "markdown",
   "metadata": {},
   "source": [
    "Why on earth are there two methods to do exactly the same? The answer is that they are not doing the same: `ravel()` returns a '**view**' of the original array, whereas `flatten()` returns an independent '**copy**' of it. Views or images are just \"pointers\" to the original array in memory, whereas copies have their own space in memory. I'll cover this in-depth later.\n",
    "\n",
    "Another thing you might have realized is that Array-3 has the same elements as Array-1-ravel and Array-1-flattened, but it has an extra pair of `[]` and shape `(1,6)` instead of `(,6)`. What is going on here? \n",
    "\n",
    "Put simply, internally, `NumPy` arrays have two parts: the information itself and information about how to interpret/read the array. In the case of the shape information, this indicates how many \"indices\" are associated with an array. The `(1,6)` is saying that there **two indices** identifying the array: the number 1 for all the elements, and the numbers from 1 to 6 for each element. This makes sense if you think in arrays as matrices or excel sheets: the first element is in the first row and first column (1,1), the second in the first row and the second column (1, 2), and so on.\n",
    "\n",
    "However, If you think about it, you don't need two indices to identify the elements of a one-dimensional array. After all, when we count things we do not count \"1 and 1, 1 and 2, 1 and 3, 1 and 4...\" and so on. The `(6,)` is just saying that there is a **single index** identifying each of the 6 elements of the array, which makes perfect sense. The first element of the array is in position one (1,), the second in position two (2,), and so on. \n",
    "\n",
    "Now you may be wondering. Why then add a 1 as an index if it's unnecessary? Since `NumPy` supports multi-dimensional arrays, technically, the `(1,6)` is indicating the array has TWO dimensions or axes instead of one. \"BUT, the array has just one dimension, right?\" Yes and no. The thing is such array can be represented as either: as a collection of elements along one dimension or as a collection of elements along two dimensions, with the caveat that the first dimension has all the data, and the other is basically \"empty\" or \"flat\", but assigned to it. Just like with the first element is in the first row and first column (1,1)\" idea. \n",
    "\n",
    "If you are familiar with linear algebra or geometry, you should know that a square is an object with two dimensions, but that can 'live' in three, four, five, a million, or any number of dimensions. Essentially, higher-dimensional spaces can contain objects with fewer dimensions, but not the other way around. You can't fit a sphere in a plane. The misunderstanding, in my view, comes from the tendency to think in data as two-dimensional grid-like objects, when in practice does not need to be like that *necessarily*. People like to think in `NumPy` arrays as matrices, vectors, tensors, etc., but they aren't, they are arrays with one or more dimensions. Period. \n",
    "\n",
    "This whole discussion may sound like I am beating around the bushes, but I am not. Dimensionality mismatch is one of the most important sources of errors, misunderstandings, and frustrations when working with `NumPy` arrays. If you ever do anything related to linear algebra, like pretty much all of machine learning and statistics, you need to have a firm understanding of how dimensions work in `NumPy`. "
   ]
  },
  {
   "cell_type": "markdown",
   "metadata": {},
   "source": [
    "### Array transpose-like operations"
   ]
  },
  {
   "cell_type": "markdown",
   "metadata": {},
   "source": [
    "**Transposing** means to \"swap\" or interchange the position and elements between two or more axes. \n",
    "\n",
    "The most common operation is the plain **Transpose** operation, where the axes get permuted.  "
   ]
  },
  {
   "cell_type": "code",
   "execution_count": 50,
   "metadata": {},
   "outputs": [],
   "source": [
    "array_1 = np.arange(4).reshape((2,2))# two dimensional array\n",
    "array_2 = np.arange(12).reshape((3,2,2)) # three dimensional array"
   ]
  },
  {
   "cell_type": "code",
   "execution_count": 51,
   "metadata": {},
   "outputs": [
    {
     "name": "stdout",
     "output_type": "stream",
     "text": [
      "Array-1:\n",
      "[[0 1]\n",
      " [2 3]],\n",
      "shape:(2, 2)\n",
      "\n",
      "Array-2:\n",
      "[[[ 0  1]\n",
      "  [ 2  3]]\n",
      "\n",
      " [[ 4  5]\n",
      "  [ 6  7]]\n",
      "\n",
      " [[ 8  9]\n",
      "  [10 11]]],\n",
      "shape:(3, 2, 2)\n"
     ]
    }
   ],
   "source": [
    "print(f'Array-1:\\n{array_1},\\nshape:{array_1.shape}\\n')\n",
    "print(f'Array-2:\\n{array_2},\\nshape:{array_2.shape}')"
   ]
  },
  {
   "cell_type": "markdown",
   "metadata": {},
   "source": [
    "Now let's transpose both:"
   ]
  },
  {
   "cell_type": "code",
   "execution_count": 52,
   "metadata": {},
   "outputs": [],
   "source": [
    "array_1_T = array_1.T\n",
    "array_2_T = array_2.T"
   ]
  },
  {
   "cell_type": "code",
   "execution_count": 53,
   "metadata": {},
   "outputs": [
    {
     "name": "stdout",
     "output_type": "stream",
     "text": [
      "Array-1 transposed:\n",
      "[[0 2]\n",
      " [1 3]],\n",
      "shape:(2, 2)\n",
      "\n",
      "Array-2 transposed:\n",
      "[[[ 0  4  8]\n",
      "  [ 2  6 10]]\n",
      "\n",
      " [[ 1  5  9]\n",
      "  [ 3  7 11]]],\n",
      "shape:(2, 2, 3)\n"
     ]
    }
   ],
   "source": [
    "print(f'Array-1 transposed:\\n{array_1_T},\\nshape:{array_1_T.shape}\\n')\n",
    "print(f'Array-2 transposed:\\n{array_2_T},\\nshape:{array_2_T.shape}')"
   ]
  },
  {
   "cell_type": "markdown",
   "metadata": {},
   "source": [
    "Array-1 has swapped the rows for the columns. Array-2 has reshaped from a three 2x2 arrays, into two 2x3 arrays. This is because of the indices \"cycle\" such that the third index pass to the first place, the second to the third, and the first to the second.\n",
    "\n",
    "The `moveaxis` method is more flexible than transpose as it allows for an arbitrary rearrangement of axes to new positions. The syntax is simple: `np.moveaxis(original-array, origin-position-axis-to-move, destiny-position-axis-to-move)`. Recall that axes are index as (0, 1, 2, ...0)."
   ]
  },
  {
   "cell_type": "code",
   "execution_count": 54,
   "metadata": {},
   "outputs": [],
   "source": [
    "array_move_2_3_4 = np.arange(24).reshape((2,3,4))\n",
    "array_move_2_4_3 = np.moveaxis(array_move_2_3_4, 2, 1) # move axis in position two to position one\n",
    "array_move_3_2_4 = np.moveaxis(array_move_2_3_4, 0, 1) # move axis in position zero to position one\n",
    "array_move_3_4_2 = np.moveaxis(array_move_2_3_4, 0, 2) # move axist in the zero position to position two\n",
    "array_move_4_2_3 = np.moveaxis(array_move_2_3_4, [2, 1], [0, 2]) # move axes in positions two and one, to positions zero and two\n",
    "array_move_4_3_2 = np.moveaxis(array_move_2_3_4, [2, 0], [0, 2]) # move axes in positions two and zero, to positions zero and two"
   ]
  },
  {
   "cell_type": "code",
   "execution_count": 55,
   "metadata": {},
   "outputs": [
    {
     "name": "stdout",
     "output_type": "stream",
     "text": [
      "Original order: (2, 3, 4)\n",
      "\n",
      "New axes order 1: (2, 4, 3)\n",
      "\n",
      "New axes order 2: (3, 2, 4)\n",
      "\n",
      "New axes order 3: (3, 4, 2)\n",
      "\n",
      "New axes order 4: (4, 2, 3)\n",
      "\n",
      "New axes order 5: (4, 3, 2)\n"
     ]
    }
   ],
   "source": [
    "print(f'Original order: {array_move_2_3_4.shape}\\n')\n",
    "print(f'New axes order 1: {array_move_2_4_3.shape}\\n')\n",
    "print(f'New axes order 2: {array_move_3_2_4.shape}\\n')\n",
    "print(f'New axes order 3: {array_move_3_4_2.shape}\\n')\n",
    "print(f'New axes order 4: {array_move_4_2_3.shape}\\n')\n",
    "print(f'New axes order 5: {array_move_4_3_2.shape}')"
   ]
  },
  {
   "cell_type": "markdown",
   "metadata": {},
   "source": [
    "### Array dimension manipulation"
   ]
  },
  {
   "cell_type": "markdown",
   "metadata": {},
   "source": [
    "Intentionally changing the dimensions of arrays is an operation done mostly, in my experience, when you want to combine arrays or to do mathematical operations with two or more arrays. In the dimensions do not match or are not defined in a certain manner, joining or calculations won't work, or would work in unexpected manners.\n",
    "\n",
    "In this section, I'll mention just two operations: **expanding dimensions** and **squeezing dimensions**, which are opposite operations. There is a third extremely important dimension manipulation operation: broadcasting. Broadcasting is not just important but rather complicated to explain so I will give its own section after this one. \n",
    "\n",
    "Expanding dimensions it is always possible as higher-dimensional objects can always contain lower-dimensional objects: you can fit a two-dimensional piece of paper inside a three-dimensional box, but not the other way around (I know! paper is three dimensional, but I hope you get the point). "
   ]
  },
  {
   "cell_type": "code",
   "execution_count": 56,
   "metadata": {},
   "outputs": [],
   "source": [
    "array_one = np.array([1, 2, 3])\n",
    "array_two = np.array([[1, 2, 3], [4, 5, 6]])\n",
    "array_one_expand =  np.expand_dims(array_one, axis=0)\n",
    "array_two_expand =  np.expand_dims(array_two, axis=0)"
   ]
  },
  {
   "cell_type": "code",
   "execution_count": 57,
   "metadata": {},
   "outputs": [
    {
     "name": "stdout",
     "output_type": "stream",
     "text": [
      "One dimensional array: \n",
      "[1 2 3] \n",
      "shape: (3,)\n",
      "\n",
      "One dimensional array expanded: \n",
      "[[1 2 3]] \n",
      "shape: (1, 3)\n",
      "\n",
      "Two dimensional array: \n",
      "[[1 2 3]\n",
      " [4 5 6]] \n",
      "shape: (2, 3)\n",
      "\n",
      "Two dimensional array expanded: \n",
      "[[[1 2 3]\n",
      "  [4 5 6]]] \n",
      "shape: (1, 2, 3)\n",
      "\n"
     ]
    }
   ],
   "source": [
    "print(f'One dimensional array: \\n{array_one} \\nshape: {array_one.shape}\\n')\n",
    "print(f'One dimensional array expanded: \\n{array_one_expand} \\nshape: {array_one_expand.shape}\\n')\n",
    "print(f'Two dimensional array: \\n{array_two} \\nshape: {array_two.shape}\\n')\n",
    "print(f'Two dimensional array expanded: \\n{array_two_expand} \\nshape: {array_two_expand.shape}\\n')"
   ]
  },
  {
   "cell_type": "markdown",
   "metadata": {},
   "source": [
    "As you can see, both arrays gain an extra dimension when expanded. \n",
    "\n",
    "Let's bring the arrays back to their original dimensionality with the opposite operation: squeezing. "
   ]
  },
  {
   "cell_type": "code",
   "execution_count": 58,
   "metadata": {},
   "outputs": [],
   "source": [
    "array_one_squeez =  np.squeeze(array_one_expand, axis=0)\n",
    "array_two_squeez =  np.squeeze(array_two_expand, axis=0)"
   ]
  },
  {
   "cell_type": "code",
   "execution_count": 59,
   "metadata": {},
   "outputs": [
    {
     "name": "stdout",
     "output_type": "stream",
     "text": [
      "Three dimensional array squeezed: \n",
      "[1 2 3] \n",
      "shape: (3,)\n",
      "\n",
      "Three dimensional array squeezed: \n",
      "[[1 2 3]\n",
      " [4 5 6]] \n",
      "shape: (2, 3)\n"
     ]
    }
   ],
   "source": [
    "print(f'Three dimensional array squeezed: \\n{array_one_squeez} \\nshape: {array_one_squeez.shape}\\n')\n",
    "print(f'Three dimensional array squeezed: \\n{array_two_squeez} \\nshape: {array_two_squeez.shape}')"
   ]
  },
  {
   "cell_type": "markdown",
   "metadata": {},
   "source": [
    "We can check the squeezed arrays have the same dimensionality that the original ones as:"
   ]
  },
  {
   "cell_type": "code",
   "execution_count": 60,
   "metadata": {},
   "outputs": [
    {
     "name": "stdout",
     "output_type": "stream",
     "text": [
      "Are dimensions for array-one and array-one-squeezed equal?: True\n",
      "\n",
      "Are dimensions for array-two and array-two-squeezed equal?: True\n"
     ]
    }
   ],
   "source": [
    "print(f'Are dimensions for array-one and array-one-squeezed equal?: {array_one.shape == array_one_squeez.shape}\\n')\n",
    "print(f'Are dimensions for array-two and array-two-squeezed equal?: {array_two.shape == array_two_squeez.shape}')"
   ]
  },
  {
   "cell_type": "markdown",
   "metadata": {},
   "source": [
    "### Array broadcasting"
   ]
  },
  {
   "cell_type": "markdown",
   "metadata": {},
   "source": [
    "**Broadcasting** is an automatic `NumPy` mechanism to match the dimensionality of arrays with different shapes for element-wise operations. Broadcasting usually improves speed by means of vectorizing operations, meaning that the loop will occur in compiled C code rather than in Python, as Python looping us is resource-intensive and slow. However, there are some cases where broadcasting is not the best option. \n",
    "\n",
    "In the array mathematics section, we saw `NumPy` performs several important computations element-wise, which requires having arrays with matching shapes: arrays of shape (,1), (2,2), and (4,3,2), must be multiplied by arrays with shape (,1), (2,2), and (4,3,2), to be compatible. However, there are cases where we want to multiplied arrays with shapes that do not match, for instance: \n",
    "\n",
    "$$\\textit{A} x =\n",
    "\\begin{bmatrix}\n",
    "1 & 2 \\\\\n",
    "3 & 4\n",
    "\\end{bmatrix}\n",
    "2\n",
    "$$\n",
    "\n",
    "Following linear algebra conventions, we should multiply each element of $\\textit{A}$ by 2. The way to get around in this in `NumPy`, is by **broadcasting** the scalar to match the shape of $\\textit{A}$ as:\n",
    "\n",
    "$$\\textit{A} x =\n",
    "\\begin{bmatrix}\n",
    "1 & 2 \\\\\n",
    "3 & 4\n",
    "\\end{bmatrix}\n",
    "\\begin{bmatrix}\n",
    "2 & 2 \\\\\n",
    "2 & 2\n",
    "\\end{bmatrix} =\n",
    "\\begin{bmatrix}\n",
    "2 & 4 \\\\\n",
    "6 & 8\n",
    "\\end{bmatrix}\n",
    "$$\n",
    "\n",
    "The scalar only gets \"stretched\" vertically and horizontally during computation. Now, creating copies of $x$ is memory inefficient, so `NumPy` does not actually copy the value in memory. This is slightly inaccurate, but in a nutshell, broadcasting works by reusing the original value  (the   This may not be evident in the $\\textit{A}x$ example, but just imagine a (1,000,000, 100) array. In such a case, `NumPy` would have to duplicate the size of the dataset, i.e., to create 100,000,000 of values just to perform matrix-scalar multiplication.   \n",
    "\n",
    "Not all arrays can be broadcast. They must meet certain conditions, the \"Broadcasting rule\", which according to the `NumPy` documentation states:\n",
    "\n",
    "\"In order to broadcast, the size of the trailing axes for both arrays in an operation must either be the same size or one of them must be one.\"\n",
    "\n",
    "This is easier to understand visually. The figure below shows the cases where broadcasting is valid, and the next one when it is not."
   ]
  },
  {
   "cell_type": "markdown",
   "metadata": {},
   "source": [
    "<img src=\"images/broadcasting.svg\">"
   ]
  },
  {
   "cell_type": "markdown",
   "metadata": {},
   "source": [
    "For instance:"
   ]
  },
  {
   "cell_type": "code",
   "execution_count": 61,
   "metadata": {},
   "outputs": [],
   "source": [
    "a = np.ones((2,2))\n",
    "b = np.ones (1)"
   ]
  },
  {
   "cell_type": "code",
   "execution_count": 62,
   "metadata": {},
   "outputs": [
    {
     "name": "stdout",
     "output_type": "stream",
     "text": [
      "(2,2) array:\n",
      "[[1. 1.]\n",
      " [1. 1.]]\n",
      "shape: (2, 2)]\n",
      "\n",
      "(1, ) array:\n",
      "[1.]\n",
      "shape: (1,)]\n",
      "\n",
      "Element-wise operations are valid between a and b:\n",
      "[[2. 2.]\n",
      " [2. 2.]]\n"
     ]
    }
   ],
   "source": [
    "print(f'(2,2) array:\\n{a}\\nshape: {a.shape}]\\n')\n",
    "print(f'(1, ) array:\\n{b}\\nshape: {b.shape}]\\n')\n",
    "print(f'Element-wise operations are valid between a and b:\\n{a + b}')"
   ]
  },
  {
   "cell_type": "markdown",
   "metadata": {},
   "source": [
    "Invalid operations are variations of:"
   ]
  },
  {
   "cell_type": "markdown",
   "metadata": {},
   "source": [
    "<img src=\"images/invalid-broadcasting.svg\">"
   ]
  },
  {
   "cell_type": "markdown",
   "metadata": {},
   "source": [
    "We can verify that the above operation does not work: "
   ]
  },
  {
   "cell_type": "code",
   "execution_count": 63,
   "metadata": {},
   "outputs": [],
   "source": [
    "a = np.ones((2,2))\n",
    "b = np.ones((3))"
   ]
  },
  {
   "cell_type": "code",
   "execution_count": 64,
   "metadata": {},
   "outputs": [],
   "source": [
    "# a + b "
   ]
  },
  {
   "cell_type": "markdown",
   "metadata": {},
   "source": [
    "In this case, we get a \"ValueError: operands could not be broadcast together\" error message. \n",
    "\n",
    "Most of the time you won't need to think in dimension matching beforehand. Either it will work or `NumPy` will let you know dimensions do not match. The important part is to be aware of broadcasting mechanics such that you can debug dimension mismatch problems rapidly. "
   ]
  },
  {
   "cell_type": "markdown",
   "metadata": {},
   "source": [
    "### Joining arrays"
   ]
  },
  {
   "cell_type": "markdown",
   "metadata": {},
   "source": [
    "Joining arrays is another common operation in data processing, particularly to put together data coming from different sources. For instance, large datasets are commonly split into several sub-datasets containing different features or variables associated with the same population.\n",
    "\n",
    "[Here](https://numpy.org/doc/stable/reference/routines.array-manipulation.html#joining-arrays) are all the joining methods in `NumPy`. Below a couple of the main methods. "
   ]
  },
  {
   "cell_type": "code",
   "execution_count": 65,
   "metadata": {},
   "outputs": [],
   "source": [
    "base_array = np.arange(1,10).reshape((3,3))\n",
    "join_array = np.arange(1,4).reshape((1,3))\n",
    "\n",
    "concatenate = np.concatenate((base_array, join_array), axis=0)\n",
    "stack = np.stack((base_array, base_array))\n",
    "hstack = np.hstack((base_array, join_array.T))\n",
    "vstack = np.vstack((base_array, join_array))"
   ]
  },
  {
   "cell_type": "markdown",
   "metadata": {},
   "source": [
    "To **concatenate** arrays must have at least one equal dimension, which must be defined as the axis reference. Here we concatenate along the first axis (rows match). If you try to concatenate along the second axis the operation will fail (columns do not match)."
   ]
  },
  {
   "cell_type": "code",
   "execution_count": 66,
   "metadata": {},
   "outputs": [
    {
     "name": "stdout",
     "output_type": "stream",
     "text": [
      "Row-wise concatenation:\n",
      "[[1 2 3]\n",
      " [4 5 6]\n",
      " [7 8 9]\n",
      " [1 2 3]]\n",
      "\n"
     ]
    }
   ],
   "source": [
    "print(f'Row-wise concatenation:\\n{concatenate}\\n')"
   ]
  },
  {
   "cell_type": "markdown",
   "metadata": {},
   "source": [
    "To **stack** arrays, all the arrays must have the same dimensions. The logic here is to generate an array with an extra dimension, like stacking LEGO pieces with the same shape. "
   ]
  },
  {
   "cell_type": "code",
   "execution_count": 67,
   "metadata": {},
   "outputs": [
    {
     "name": "stdout",
     "output_type": "stream",
     "text": [
      "Stacking:\n",
      "[[[1 2 3]\n",
      "  [4 5 6]\n",
      "  [7 8 9]]\n",
      "\n",
      " [[1 2 3]\n",
      "  [4 5 6]\n",
      "  [7 8 9]]]\n",
      "\n",
      "shape before stacking:(3, 3)\n",
      "shape after stacking:(2, 3, 3)\n"
     ]
    }
   ],
   "source": [
    "print(f'Stacking:\\n{stack}\\n')\n",
    "print(f'shape before stacking:{base_array.shape}\\nshape after stacking:{stack.shape}')"
   ]
  },
  {
   "cell_type": "markdown",
   "metadata": {},
   "source": [
    "**Horizontal stacking** (`hstack`) and **vertical stacking** (`vstack`), stack arrays along the horizontal and vertical axes, i.e., column-wise and row-wise, meaning that the array will \"grow\" horizontally (attached to the right) and vertically (attached below), respectively.\n",
    "\n",
    "In most cases, the same effect can be accomplished with the concatenation method along axis 1 (cols) and axis 0 (rows). To work, **horizontal stacking** must match along all axes but the first one, the first one being the horizontal one, or \"the rows\" in the 2-dimensional case. This is why we had to transpose the `join_array`, such that rows match. In other words, you can have an arbitrary number of columns but everything else must match. **Vertical stacking** is analogous: you can have an arbitrary number of rows, but columns must match. "
   ]
  },
  {
   "cell_type": "code",
   "execution_count": 68,
   "metadata": {},
   "outputs": [
    {
     "name": "stdout",
     "output_type": "stream",
     "text": [
      "Horizontal-wise or column-wise stacking:\n",
      "[[1 2 3 1]\n",
      " [4 5 6 2]\n",
      " [7 8 9 3]]\n",
      "\n",
      "Vertical-wise or row-wise stacking:\n",
      "[[1 2 3]\n",
      " [4 5 6]\n",
      " [7 8 9]\n",
      " [1 2 3]]\n",
      "\n"
     ]
    }
   ],
   "source": [
    "print(f'Horizontal-wise or column-wise stacking:\\n{hstack}\\n')\n",
    "print(f'Vertical-wise or row-wise stacking:\\n{vstack}\\n')"
   ]
  },
  {
   "cell_type": "markdown",
   "metadata": {},
   "source": [
    "### Splitting arrays"
   ]
  },
  {
   "cell_type": "markdown",
   "metadata": {},
   "source": [
    "Splitting arrays is common when you want to analyze, model, or plot a subset of the data. Also when your data size is enormous and you want to save it in chunks. \n",
    "\n",
    "[Here](https://numpy.org/doc/stable/reference/routines.array-manipulation.html#splitting-arrays) are all the `NumPy` splitting functions. Let's explore a couple."
   ]
  },
  {
   "cell_type": "code",
   "execution_count": 69,
   "metadata": {},
   "outputs": [],
   "source": [
    "array_one = np.arange(9)\n",
    "array_two = np.arange(8).reshape((2,2,2))\n",
    "\n",
    "split_one, split_two = np.split(array_one, 3), np.split(array_two, 2) \n",
    "array_split_one, array_split_two = np.array_split(array_one, 2), np.array_split(array_two, 3)\n",
    "hsplit_one = np.hsplit(array_one, 3)\n",
    "hsplit_two, vsplit_two = np.hsplit(array_two, 2), np.vsplit(array_two, 2)"
   ]
  },
  {
   "cell_type": "markdown",
   "metadata": {},
   "source": [
    "The `split` method will work as long as you ask for a number of sub-arrays which can be obtained via equal division of the original array. For instance, `array_one` can be equally divided into two arrays."
   ]
  },
  {
   "cell_type": "code",
   "execution_count": 70,
   "metadata": {},
   "outputs": [
    {
     "name": "stdout",
     "output_type": "stream",
     "text": [
      "Array one (9,):\n",
      "(9,)\n",
      "\n",
      "Array two (2,2,2):\n",
      "(2, 2, 2)\n",
      "\n",
      "Array one is split into 3 (1,3) sub-arrays:\n",
      "[0 1 2]\n",
      "[3 4 5]\n",
      "[6 7 8]\n",
      "\n",
      "Array two is split into 2 (1,2,2) sub-arrays:\n",
      "[[[0 1]\n",
      "  [2 3]]]\n",
      "[[[4 5]\n",
      "  [6 7]]]\n",
      "\n"
     ]
    }
   ],
   "source": [
    "print(f'Array one (9,):\\n{array_one.shape}\\n')\n",
    "print(f'Array two (2,2,2):\\n{array_two.shape}\\n')\n",
    "print(f'Array one is split into 3 (1,3) sub-arrays:\\n{split_one[0]}\\n{split_one[1]}\\n{split_one[2]}\\n') \n",
    "print(f'Array two is split into 2 (1,2,2) sub-arrays:\\n{split_two[0]}\\n{split_two[1]}\\n') "
   ]
  },
  {
   "cell_type": "markdown",
   "metadata": {},
   "source": [
    "The `array_split` function provides identical functionality than the `array` function, with the difference that it will work even when the original array cannot be equally divided into the requested number of sub-arrays. Basically, if you try to split the array one (9,) into 2, the operation will work and the last number (the \"9\") will be completely ignored. On the other hand, if you try to split an array two (2,2,2) into 3 parts, it will generate  an extra empty axis."
   ]
  },
  {
   "cell_type": "code",
   "execution_count": 71,
   "metadata": {},
   "outputs": [
    {
     "name": "stdout",
     "output_type": "stream",
     "text": [
      "Array one split into 2 sub-arrays:\n",
      "[0 1 2 3 4]\n",
      "[5 6 7 8]\n",
      "\n",
      "Array two split into 3 sub-arrays:\n",
      "[[[0 1]\n",
      "  [2 3]]]\n",
      "[[[4 5]\n",
      "  [6 7]]]\n",
      "[]\n",
      "\n"
     ]
    }
   ],
   "source": [
    "print(f'Array one split into 2 sub-arrays:\\n{array_split_one[0]}\\n{array_split_one[1]}\\n')\n",
    "print(f'Array two split into 3 sub-arrays:\\n{array_split_two[0]}\\n{array_split_two[1]}\\n{array_split_two[2]}\\n')"
   ]
  },
  {
   "cell_type": "markdown",
   "metadata": {},
   "source": [
    "As with concatenation, horizontal split (`hsplit`) and vertical split (`vsplit`) provide equivalent functionality than the split method (`split`), but restricted to the horizontal and vertical axis respectively. Equal division is also a constrain here. Array one can't be split vertically because it has only one dimension. "
   ]
  },
  {
   "cell_type": "code",
   "execution_count": 72,
   "metadata": {},
   "outputs": [
    {
     "name": "stdout",
     "output_type": "stream",
     "text": [
      "Array one horizontal split into 3 sub-arrays:\n",
      "[0 1 2]\n",
      "[3 4 5]\n",
      "[6 7 8]\n",
      "\n",
      "Array two horizontal split into 2 sub-arrays:\n",
      "[[[0 1]]\n",
      "\n",
      " [[4 5]]]\n",
      "[[[2 3]]\n",
      "\n",
      " [[6 7]]]\n",
      "\n",
      "Array two horizontal split into 2 sub-arrays:\n",
      "[[[0 1]\n",
      "  [2 3]]]\n",
      "[[[4 5]\n",
      "  [6 7]]]\n"
     ]
    }
   ],
   "source": [
    "print(f'Array one horizontal split into 3 sub-arrays:\\n{hsplit_one[0]}\\n{hsplit_one[1]}\\n{hsplit_one[2]}\\n')\n",
    "print(f'Array two horizontal split into 2 sub-arrays:\\n{hsplit_two[0]}\\n{hsplit_two[1]}\\n')\n",
    "print(f'Array two horizontal split into 2 sub-arrays:\\n{vsplit_two[0]}\\n{vsplit_two[1]}')"
   ]
  },
  {
   "cell_type": "markdown",
   "metadata": {},
   "source": [
    "### Array repetition"
   ]
  },
  {
   "cell_type": "markdown",
   "metadata": {},
   "source": [
    "Arrays can be constructed or expanded via repetition. Data simulation and image manipulation are situations where you may want to use this functionality. \n",
    "\n",
    "There are two `NumPy` methods that may look similar at first but they are not: **tiling** and **repetition**. "
   ]
  },
  {
   "cell_type": "code",
   "execution_count": 73,
   "metadata": {},
   "outputs": [],
   "source": [
    "array_one = np.arange(1,4)\n",
    "array_two = np.arange(1,10).reshape((3,3))\n",
    "\n",
    "tile_one, tile_two, tile_three, tile_four = np.tile(array_one, (1,2)), np.tile(array_one, (2,1)), np.tile(array_two, (1,2)), np.tile(array_two, (2,1))  \n",
    "repeat_one, repeat_two = np.repeat(array_one, 2, axis=0), np.repeat(array_two, 2) \n",
    "repeat_three, repeat_four = np.repeat(array_two, 2, axis=1), np.repeat(array_two, 2, axis=0)"
   ]
  },
  {
   "cell_type": "markdown",
   "metadata": {},
   "source": [
    "**Tiling** will attach an entire copy of the array (as a block) at its right or below it. The number of copies attached is specified as a tuple, with the first indicating the number of \"rows\" copies and the second the number of \"column\" copies."
   ]
  },
  {
   "cell_type": "code",
   "execution_count": 74,
   "metadata": {},
   "outputs": [
    {
     "name": "stdout",
     "output_type": "stream",
     "text": [
      "Repeat array one twice column-wise:\n",
      "[[1 2 3 1 2 3]]\n",
      "\n",
      "Repeat array one twice row-wise:\n",
      "[[1 2 3]\n",
      " [1 2 3]]\n",
      "\n",
      "Repeat array two twice column-wise:\n",
      "[[1 2 3 1 2 3]\n",
      " [4 5 6 4 5 6]\n",
      " [7 8 9 7 8 9]]\n",
      "\n",
      "Repeat array twotwice  row-wise:\n",
      "[[1 2 3]\n",
      " [4 5 6]\n",
      " [7 8 9]\n",
      " [1 2 3]\n",
      " [4 5 6]\n",
      " [7 8 9]]\n",
      "\n"
     ]
    }
   ],
   "source": [
    "print(f'Repeat array one twice column-wise:\\n{tile_one}\\n')\n",
    "print(f'Repeat array one twice row-wise:\\n{tile_two}\\n')\n",
    "print(f'Repeat array two twice column-wise:\\n{tile_three}\\n')\n",
    "print(f'Repeat array twotwice  row-wise:\\n{tile_four}\\n')"
   ]
  },
  {
   "cell_type": "markdown",
   "metadata": {},
   "source": [
    "The **repeat** method will replicate the **elements** of the array in place. For instance:\n",
    "\n",
    "$$\n",
    "\\begin{bmatrix}\n",
    "1 & 2\n",
    "\\end{bmatrix}\n",
    "$$ \n",
    "\n",
    "Will be repeated as: \n",
    "\n",
    "$$\n",
    "\\begin{bmatrix}\n",
    "1 & 1 & 2 & 2\n",
    "\\end{bmatrix}\n",
    "$$ \n",
    "\n",
    "Instead as:\n",
    "\n",
    "$$\n",
    "\\begin{bmatrix}\n",
    "1 & 2 & 1 & 2\n",
    "\\end{bmatrix}\n",
    "$$ \n",
    "\n",
    "The latter behavior is expected from the tile method instead. The axis for repetition is specified independently as \"axis=0\" for rows and \"axis=1\" for columns. "
   ]
  },
  {
   "cell_type": "code",
   "execution_count": 75,
   "metadata": {},
   "outputs": [
    {
     "name": "stdout",
     "output_type": "stream",
     "text": [
      "Repeat array one twice row-wise:\n",
      "[1 1 2 2 3 3]\n",
      "\n",
      "Repeat array two twice and flattened into one dimension:\n",
      "[1 1 2 2 3 3 4 4 5 5 6 6 7 7 8 8 9 9]\n",
      "\n",
      "Repeat array two twice column-wise:\n",
      "[[1 1 2 2 3 3]\n",
      " [4 4 5 5 6 6]\n",
      " [7 7 8 8 9 9]]\n",
      "\n",
      "Repeat array two twice row-wise:\n",
      "[[1 2 3]\n",
      " [1 2 3]\n",
      " [4 5 6]\n",
      " [4 5 6]\n",
      " [7 8 9]\n",
      " [7 8 9]]\n",
      "\n"
     ]
    }
   ],
   "source": [
    "print(f'Repeat array one twice row-wise:\\n{repeat_one}\\n')\n",
    "print(f'Repeat array two twice and flattened into one dimension:\\n{repeat_two}\\n')\n",
    "print(f'Repeat array two twice column-wise:\\n{repeat_three}\\n')\n",
    "print(f'Repeat array two twice row-wise:\\n{repeat_four}\\n')"
   ]
  },
  {
   "cell_type": "code",
   "execution_count": 76,
   "metadata": {},
   "outputs": [
    {
     "data": {
      "text/plain": [
       "(array([[1, 1, 2, 2, 3, 3],\n",
       "        [4, 4, 5, 5, 6, 6],\n",
       "        [7, 7, 8, 8, 9, 9]]),\n",
       " array([[1, 2, 3],\n",
       "        [1, 2, 3],\n",
       "        [4, 5, 6],\n",
       "        [4, 5, 6],\n",
       "        [7, 8, 9],\n",
       "        [7, 8, 9]]))"
      ]
     },
     "execution_count": 76,
     "metadata": {},
     "output_type": "execute_result"
    }
   ],
   "source": [
    "repeat_three, repeat_four"
   ]
  },
  {
   "cell_type": "markdown",
   "metadata": {},
   "source": [
    "### Adding and removing array elements"
   ]
  },
  {
   "cell_type": "markdown",
   "metadata": {},
   "source": [
    "There are several `NumPy` methods to add and remove elements from arrays. You may want to do this to clean a dataset, subset datasets, combine dataset, or maybe just playing a prank on someone 🤷."
   ]
  },
  {
   "cell_type": "code",
   "execution_count": 77,
   "metadata": {},
   "outputs": [],
   "source": [
    "array_one = np.arange(1,4)\n",
    "array_two = np.arange(1,10).reshape((3,3))\n",
    "array_three = np.array([[1, 1, 2, 2],\n",
    "                        [1, 1, 2, 2],\n",
    "                        [2, 2, 3, 3],\n",
    "                        [2, 2, 3, 3]])\n",
    "\n",
    "delete_one, delete_two, delete_three = np.delete(array_one, 2), np.delete(array_two, 0, 1), np.delete(array_two, 1, 0) \n",
    "insert_one, insert_two, insert_three, insert_four = np.insert(array_one, 1, 9), np.insert(array_two, 5, 9), np.insert(array_two, 1, 9, axis=0), np.insert(array_two, 1, 9, axis=1) \n",
    "unique_one, unique_two, unique_three = np.unique(array_three), np.unique(array_three, axis=0), np.unique(array_three, axis=1)"
   ]
  },
  {
   "cell_type": "markdown",
   "metadata": {},
   "source": [
    "The **delete** method remove elements along the specified axis. In essence, you have to index the sub-array you want to remove to the method call."
   ]
  },
  {
   "cell_type": "code",
   "execution_count": 78,
   "metadata": {},
   "outputs": [
    {
     "name": "stdout",
     "output_type": "stream",
     "text": [
      "Array one:\n",
      "[1 2 3]\n",
      "\n",
      "Array two:\n",
      "[[1 2 3]\n",
      " [4 5 6]\n",
      " [7 8 9]]\n",
      "\n",
      "Delete element in position 2 in array one:\n",
      "[1 2]\n",
      "\n",
      "Delete column (along axis 1) in position 0 in array two:\n",
      "[[2 3]\n",
      " [5 6]\n",
      " [8 9]]\n",
      "\n",
      "Delete row (along axis 0) in position 2 in array two:\n",
      "[[1 2 3]\n",
      " [7 8 9]]\n",
      "\n"
     ]
    }
   ],
   "source": [
    "print(f'Array one:\\n{array_one}\\n')\n",
    "print(f'Array two:\\n{array_two}\\n')\n",
    "print(f'Delete element in position 2 in array one:\\n{delete_one}\\n')\n",
    "print(f'Delete column (along axis 1) in position 0 in array two:\\n{delete_two}\\n')\n",
    "print(f'Delete row (along axis 0) in position 2 in array two:\\n{delete_three}\\n')"
   ]
  },
  {
   "cell_type": "markdown",
   "metadata": {},
   "source": [
    "The **insert** method will insert elements along the specified axis. If no axis is specified the value will be inserted in a flattened version of the array. To insert values you also have to indicate the position index."
   ]
  },
  {
   "cell_type": "code",
   "execution_count": 79,
   "metadata": {},
   "outputs": [
    {
     "name": "stdout",
     "output_type": "stream",
     "text": [
      "Insert a \"9\" at position 1 in array one:\n",
      "[1 9 2 3]\n",
      "\n",
      "Insert a \"9\" at position 5 in array two:\n",
      "[1 2 3 4 5 9 6 7 8 9]\n",
      "\n",
      "Insert a sub-array of \"9s\" at position 1 in array two along axis 0 (rows):\n",
      "[[1 2 3]\n",
      " [9 9 9]\n",
      " [4 5 6]\n",
      " [7 8 9]]\n",
      "\n",
      "Insert a sub-array of \"9s\" at position 1 in array two along axis 1 (cols):\n",
      "[[1 9 2 3]\n",
      " [4 9 5 6]\n",
      " [7 9 8 9]]\n",
      "\n"
     ]
    }
   ],
   "source": [
    "print(f'Insert a \"9\" at position 1 in array one:\\n{insert_one}\\n')\n",
    "print(f'Insert a \"9\" at position 5 in array two:\\n{insert_two}\\n')\n",
    "print(f'Insert a sub-array of \"9s\" at position 1 in array two along axis 0 (rows):\\n{insert_three}\\n')\n",
    "print(f'Insert a sub-array of \"9s\" at position 1 in array two along axis 1 (cols):\\n{insert_four}\\n')"
   ]
  },
  {
   "cell_type": "markdown",
   "metadata": {},
   "source": [
    "The **unique** method will return the unique elements along the specified axis. If no axis is provided the unique method will operate over a flattened version of the array. By unique we refer to the unique rows and columns as a whole, not the unique elements within a row or a column. "
   ]
  },
  {
   "cell_type": "code",
   "execution_count": 80,
   "metadata": {},
   "outputs": [
    {
     "name": "stdout",
     "output_type": "stream",
     "text": [
      "Array three:\n",
      "[[1 1 2 2]\n",
      " [1 1 2 2]\n",
      " [2 2 3 3]\n",
      " [2 2 3 3]]\n",
      "\n",
      "Unique elements flattened version array three:\n",
      "[1 2 3]\n",
      "\n",
      "Unique elements along axis 0 (rows) array three:\n",
      "[[1 1 2 2]\n",
      " [2 2 3 3]]\n",
      "\n",
      "Unique elements along axis 1 (cols) array three:\n",
      "[[1 2]\n",
      " [1 2]\n",
      " [2 3]\n",
      " [2 3]]\n"
     ]
    }
   ],
   "source": [
    "print(f'Array three:\\n{array_three}\\n')\n",
    "print(f'Unique elements flattened version array three:\\n{unique_one}\\n')\n",
    "print(f'Unique elements along axis 0 (rows) array three:\\n{unique_two}\\n')\n",
    "print(f'Unique elements along axis 1 (cols) array three:\\n{unique_three}')"
   ]
  },
  {
   "cell_type": "markdown",
   "metadata": {},
   "source": [
    "### Rearranging array elements"
   ]
  },
  {
   "cell_type": "markdown",
   "metadata": {},
   "source": [
    "By rearranging we refer to altering the order or position of the elements of an array without changing its shape (for that see the shape manipulation section). "
   ]
  },
  {
   "cell_type": "code",
   "execution_count": 81,
   "metadata": {},
   "outputs": [],
   "source": [
    "array_one = np.arange(1,10)\n",
    "array_two = np.arange(1,10).reshape((3,3))\n",
    "\n",
    "flip_one, flip_two, flip_three, flip_four = np.flip(array_one), np.flip(array_two), np.flip(array_two, 0), np.flip(array_two, 1) \n",
    "roll_one, roll_two, roll_three, roll_four = np.roll(array_one, 1), np.roll(array_two, 1), np.roll(array_two, 1, axis=0), np.roll(array_two, 1, axis=1) "
   ]
  },
  {
   "cell_type": "markdown",
   "metadata": {},
   "source": [
    "The **flip** reverse the order of elements in an array along the specified axis. If no axis is specified, the order of the elements is reversed as if it were a flattened array, but the shape is preserved. Notice that for arrays with 2 or more axis, flipping happens to entire rows or columns (or elements of the axis) rather than that to elements within rows or columns. There are many ways to flip an array by combining position and axis, here just a couple of examples."
   ]
  },
  {
   "cell_type": "code",
   "execution_count": 82,
   "metadata": {},
   "outputs": [
    {
     "name": "stdout",
     "output_type": "stream",
     "text": [
      "Array one:\n",
      "[1 2 3 4 5 6 7 8 9]\n",
      "\n",
      "Array two:\n",
      "[[1 2 3]\n",
      " [4 5 6]\n",
      " [7 8 9]]\n",
      "\n",
      "Reverse array one:\n",
      "[9 8 7 6 5 4 3 2 1]\n",
      "\n",
      "Reverse array two:\n",
      "[[9 8 7]\n",
      " [6 5 4]\n",
      " [3 2 1]]\n",
      "\n",
      "Reverse array two along axis 0 (rows):\n",
      "[[7 8 9]\n",
      " [4 5 6]\n",
      " [1 2 3]]\n",
      "\n",
      "Reverse array two along axis 1 (cols):\n",
      "[[3 2 1]\n",
      " [6 5 4]\n",
      " [9 8 7]]\n",
      "\n"
     ]
    }
   ],
   "source": [
    "print(f'Array one:\\n{array_one}\\n')\n",
    "print(f'Array two:\\n{array_two}\\n')\n",
    "\n",
    "print(f'Reverse array one:\\n{flip_one}\\n')\n",
    "print(f'Reverse array two:\\n{flip_two}\\n')\n",
    "print(f'Reverse array two along axis 0 (rows):\\n{flip_three}\\n')\n",
    "print(f'Reverse array two along axis 1 (cols):\\n{flip_four}\\n')"
   ]
  },
  {
   "cell_type": "markdown",
   "metadata": {},
   "source": [
    "The **roll** method moves or \"push\" elements in an array along the specified axis. This has the effect of moving all elements at once, so all get repositioned. There are many ways to roll an array by combining the number of positions to be roll and the axis, here just a couple of examples."
   ]
  },
  {
   "cell_type": "code",
   "execution_count": 83,
   "metadata": {},
   "outputs": [
    {
     "name": "stdout",
     "output_type": "stream",
     "text": [
      "Array one:\n",
      "[1 2 3 4 5 6 7 8 9]\n",
      "\n",
      "Array two:\n",
      "[[1 2 3]\n",
      " [4 5 6]\n",
      " [7 8 9]]\n",
      "\n",
      "Roll elements array one by one position:\n",
      "[9 1 2 3 4 5 6 7 8]\n",
      "\n",
      "Roll elements array two by one position:\n",
      "[[9 1 2]\n",
      " [3 4 5]\n",
      " [6 7 8]]\n",
      "\n",
      "Roll elements array two by one position along axis 0 (rows):\n",
      "[[7 8 9]\n",
      " [1 2 3]\n",
      " [4 5 6]]\n",
      "\n",
      "Roll elements array two by one position along axis 1 (cols):\n",
      "[[3 1 2]\n",
      " [6 4 5]\n",
      " [9 7 8]]\n"
     ]
    }
   ],
   "source": [
    "print(f'Array one:\\n{array_one}\\n')\n",
    "print(f'Array two:\\n{array_two}\\n')\n",
    "\n",
    "print(f'Roll elements array one by one position:\\n{roll_one}\\n')\n",
    "print(f'Roll elements array two by one position:\\n{roll_two}\\n')\n",
    "print(f'Roll elements array two by one position along axis 0 (rows):\\n{roll_three}\\n')\n",
    "print(f'Roll elements array two by one position along axis 1 (cols):\\n{roll_four}')"
   ]
  }
 ],
 "metadata": {
  "kernelspec": {
   "display_name": "Python 3",
   "language": "python",
   "name": "python3"
  },
  "language_info": {
   "codemirror_mode": {
    "name": "ipython",
    "version": 3
   },
   "file_extension": ".py",
   "mimetype": "text/x-python",
   "name": "python",
   "nbconvert_exporter": "python",
   "pygments_lexer": "ipython3",
   "version": "3.6.8"
  },
  "toc-autonumbering": true
 },
 "nbformat": 4,
 "nbformat_minor": 4
}
