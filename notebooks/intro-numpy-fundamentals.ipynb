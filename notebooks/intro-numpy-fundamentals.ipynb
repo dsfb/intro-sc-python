{
 "cells": [
  {
   "cell_type": "markdown",
   "metadata": {},
   "source": [
    "# NumPy Fundamentals for Data Science and Machine Learning"
   ]
  },
  {
   "cell_type": "markdown",
   "metadata": {},
   "source": [
    "---\n",
    "\n",
    "<iframe src=\"https://github.com/sponsors/pabloinsente/card\" title=\"Sponsor pabloinsente\" height=\"225\" width=\"600\" style=\"border: 0;\"></iframe>\n",
    "\n",
    "---\n",
    "\n",
    "***Notes***: \n",
    "- **this is part I AND II of a III-part series I am working right now**\n",
    "- If you prefer to read with a **white background and black font**, you can see this article in GitHub [here](https://github.com/pabloinsente/intro-sc-python/blob/master/notebooks/intro-numpy-fundamentals.ipynb). Las time I check SVG images rendered just fine.\n",
    "---"
   ]
  },
  {
   "cell_type": "markdown",
   "metadata": {},
   "source": [
    "It is no exaggeration to say that **NumPy is at the core of the entire scientific computing Python ecosystem**, both as a standalone package for numerical computation and as the engine behind most data science packages.\n",
    "\n",
    "In this document, I review `NumPy` main components and functionality, with attention to the needs of Data Science and Machine Learning practitioners, and people who aspire to become a data professional. My only assumption is that you have basic familiarity with Python, things like variables, lists, tuples, and loops. Advance Python concepts like Object Oriented Programming are not touched at all.\n",
    "\n",
    "The resources I used to build this tutorial are three:\n",
    "\n",
    "1. `NumPy` documentation\n",
    "2. A few miscellaneous articles from the Internet\n",
    "3. My own experience with `NumPy`\n",
    "\n",
    "Content-wise, I'll say that ~95% is based on `NumPy` v1.18 manual, in particular:  \n",
    "\n",
    "- [NumPy user guide](https://numpy.org/doc/stable/user/index.html)\n",
    "- [NumPy reference](https://numpy.org/doc/stable/reference/index.html)\n",
    "- [NumPy about](https://numpy.org/doc/stable/about.html)\n",
    "\n",
    "The rest ~5% comes from a couple of random articles on the Internet and Stack Overflow. I resort to those sources mostly to clarify concepts and functionality that wasn't clear for me from `NumPy` documentation.\n",
    "\n",
    "My own experience was the base to organize the tutorial, explain concepts, create practical examples, create images, etc. \n",
    "\n",
    "\"*Why are you using the documentation as the main source of content, instead of the many great tutorials online?*\" Because it is the most up-to-date, complete, and reliable source about `NumPy` (and about any library for that matter).\n",
    "\n",
    "\"*Why then I should read this if everything comes from the documentation?*\" Well, you don't need to read this, you are right. Actually, I encourage you to read the documentation and learn from there. What I can offer is my own: **(1) organization of contents, (2) selection of contents, (3) explanations and framing of concepts, (4) images, (5) practical examples, (6) and general perspective.** \n",
    "\n",
    "This tutorial is part of a larger project I am working on, which is an introduction to Python and its libraries for scientific computing, data science, and machine learning that you can find [here](https://github.com/pabloinsente/intro-sc-python). \n",
    "\n",
    "If you want to interact with this Notebook, you can open a MyBinder interactive instance by clicking in the MyBinder icon:\n",
    "\n",
    "**To open MyBinder** -> [![Binder](https://mybinder.org/badge_logo.svg)](https://mybinder.org/v2/gh/pabloinsente/intro-sc-python/master/?urlpath=lab)\n",
    "\n",
    "As a final note, **if you are `NumPy` expert, advanced user, or developer**, you may find some inaccuracies or lack of depth in some of my explanations. Two things: (1) feel free to suggest a better explanation or something that I may add to make things clearer, (2) I prioritize conciseness and accessibility over the accuracy, so the lack of accuracy or depth sometimes it is intentional from my part. \n",
    "\n",
    "If you have any questions or suggestion feel free to reach me out to at pcaceres@wisc.edu\n",
    "Here is my [Twitter](https://twitter.com/CodeBug88), [LinkedIn](https://www.linkedin.com/in/pabloascm/), and [personal site](https://pablocaceres.org/). "
   ]
  },
  {
   "cell_type": "markdown",
   "metadata": {},
   "source": [
    "## Table of contents"
   ]
  },
  {
   "cell_type": "markdown",
   "metadata": {},
   "source": [
    "- [Python is slow](#python-is-slow)\n",
    "- [What is NumPy](#what-is-numpy)\n",
    "- [Installing NumPy](#installing-numpy)\n",
    "- [NumPy Arrays](#numpy-arrays)\n",
    "- [Array creation](#array-creation)\n",
    "    - [Conversion from other Python structures](#conversion-from-other-python-structures)\n",
    "    - [Intrinsic NumPy array creation objects](#intrinsic-numpy-array-creation-objects) \n",
    "    - [Use of special library functions](#use-of-special-library-functions)\n",
    "- [Vectorization](#vectorization)\n",
    "- [Array data type and conversions](#array-data-type-and-conversions)\n",
    "- [Array mathematics and element-wise operations](#array-mathematics-and-element-wise-operations)\n",
    "    - [Array arithmetic](#array-arithmetic)\n",
    "    - [Trigonometric functions](#trigonometric-functions)\n",
    "    - [Hyperbolic functions](#hyperbolic-functions)\n",
    "    - [Rounding](#rounding)\n",
    "    - [Other miscellaneous element-wise operations](#other-miscellaneous-element-wise-operations)\n",
    "- [Array data type and conversions](#array-data-type-and-conversions)\n",
    "- [Array manipulation](#array-manipulation)\n",
    "    - [Array shape manipulation](#array-shape-manipulation)\n",
    "    - [Array transpose-like operations](#array-transpose-like-operations)\n",
    "    - [Array dimension manipulation](#array-dimension-manipulation)\n",
    "    - [Array broadcasting](#array-broadcasting)\n",
    "    - [Joining arrays](#joining-arrays)\n",
    "    - [Splitting arrays](#splitting-arrays)\n",
    "    - [Array repetition](#array-repetition)\n",
    "    - [Adding and removing array elements](#adding-and-removing-array-elements)\n",
    "    - [Rearranging array elements](#rearranging-array-elements)\n",
    "- [Logic functions and array evaluation](#logic-functions-and-array-evaluation)\n",
    "    - [Boolean testing](#boolean-testing)\n",
    "    - [Array elements testing](#array-elements-testing)\n",
    "    - [Array type testing](#array-type-testing)\n",
    "    - [Logical operators](#logical-operators)\n",
    "    - [Comparison operators](#comparison-operators)\n",
    "- [Array Indexing](#array-indexing)\n",
    "    - [Basic indexing in one-dimensional arrays](#basic-indexing-in-one-dimensional-arrays)\n",
    "    - [Slicing one-dimensional arrays](#slicing-one-dimensional-arrays)\n",
    "    - [Basic indexing in multidimensional arrays](#basic-indexing-in-multidimensional-arrays)\n",
    "    - [Indexing-like NumPy functions](#indexing-like-numpy-functions)\n",
    "    - [Boolean or Mask indexing](#boolean-or-mask-indexing)\n",
    "    - [Indexing-like NumPy operations](#indexing-like-numpy-operations)\n",
    "- [Array iteration](#array-iteration)\n",
    "    - [Basic array iteration](#basic-array-iteration)\n",
    "    - [Broadcasting array iteration](#broadcasting-array-iteration)\n",
    "    - [Allocating outputs from iteration](#allocating-outputs-from-iteration)\n",
    "    - [Iteration functions](#iteration-functions)   \n",
    "- [Array shallow and deep copies](#array-shallow-and-deep-copies)\n",
    "    - [Array new label](#array-new-label)\n",
    "    - [Array shallow copy or view](#array-shallow-copy-or-view)\n",
    "    - [Array deep copy](#array-deep-copy)\n",
    "- [Structured arrays](#structured-arrays)\n",
    "- [Random number generation and sampling with NumPy](#random-number-generation-and-sampling-with-numpy)\n",
    "    - [Random sampling updated](#random-sampling-updated)\n",
    "    - [Basic random sampling](#basic-random-sampling)\n",
    "    - [Setting a seed for reproducibility](#setting-a-seed-for-reproducibility)\n",
    "    - [Sampling from particular distributions](#sampling-from-particular-distributions)\n",
    "\n",
    "**Future sections for part III**:\n",
    "- [Basic statistics with NumPy]\n",
    "- [Basic linear algebra with NumPy]\n",
    "- [Array string operations]\n",
    "- [NumPy datetime functions]\n",
    "- [Input-output (I/O) data processing]\n",
    "- [Resources to learn more]"
   ]
  },
  {
   "cell_type": "markdown",
   "metadata": {},
   "source": [
    "## Python is slow"
   ]
  },
  {
   "cell_type": "markdown",
   "metadata": {},
   "source": [
    "Scientific and numerical computing often requires processing massive datasets with complex algorithms. If you are a scientist or data professional, you want a programming language than can process data FAST. **The closer a programming language is to machine instructions (binary), the faster it runs**. That's why for decades, programming languages like C, C++, and Fortran, were the to-go option for data-intensive applications in science and technology. \n",
    "\n",
    "However, writing code in compiled languages like C++ and Fortran can be slow and, frankly, terribly annoying (but that's just me!). Scientists are not coders (although many end up mutating into scientist-coder hybrids over time, that's a whole other subject). From a scientist's perspective, **the easier and faster to write code, the better**. High-level programming languages, i.e., languages that are closer to human language rather than to machine language do meet such requirements. The likes of Python, PHP, JavaScript, and Ruby, fits the bill: **easy to write, easy to learn, easy to run**. But, instructions written in high-level programming languages are slow to run by computers, for complicated reasons I do not explore here. The fact is that they are slower to run than C++ or Fortran.\n",
    "\n",
    "Scientists face a conundrum: they need an **easy to write** AND **fast to run** programming language. They need the best of both worlds. For a long time, such language simply did not exist. Then Python came along.\n",
    "\n",
    "Oh wait, Python it is, indeed, easy to learn and write, *but slow to run compared to compiled languages*. Like really, really slow. For instance, computing the [spectral-norm of a matrix](https://en.wikipedia.org/wiki/Matrix_norm), which is a common task in data applications, [has been benchmarked](https://benchmarksgame-team.pages.debian.net/benchmarksgame/performance/spectralnorm.html) at ~1.9 seconds in C, whereas python takes a whopping ~170.1 seconds, meaning that Python is ~90 times *slower*. Considering this, the fact Python became the dominant language in machine learning and data science is a bit of a puzzle.\n",
    "\n",
    "There are at least two reasons for this why Python succeed anyways. \n",
    "\n",
    "The first is that as computing capacity became cheaper, **processing time has become less important than coding-time**. Basically, the time you save by writing code in high-level yet slow to-run programming languages compensates by their lack of performance at run time. And Python is exceptionally clean, intuitive, and easy to learn, compared to C or Fortran.\n",
    "\n",
    "The second reason, which is probably the major one, is **libraries**. Particularly libraries written in low-level high-performant languages. Turns out that Python extensibility allows programmers to write the \"engine\" for numerical computation in languages like C and Fortran, and then Python can invoke such \"engines\" in the background, meaning that although you write code in Python, it is executed in compiled C or Fortran code instead of Python itself. And that is how you obtain the best of both worlds: **the easy and fast developing time of Python, plus the runtime performance of C or Fortran**. True, there is some small overhead of going back and forth between languages, but its impact it's minimal. \n",
    "\n",
    "It is important to mention that nowadays, new programming languages have been created exactly with these two necessities (fast development + fast performance) in mind, like **[Julia](https://julialang.org/)**. In the spectral-norm test, Julia was benchmarked at ~2.79 seconds, almost as fast as C. Additionally, Julia is a dynamic language, easy to learn, and write in like Python. Why not Julia then? Probably because of the relative immaturity of its packages ecosystem compared to Python. Julia first appeared in 2012, whereas Python was introduced in 1990. The availability of well-tested libraries for pretty much anything you can imagine in Python is unparalleled. A second reason is probably that Python does not cost you performance anyways (with its libraries), so Why not? "
   ]
  },
  {
   "cell_type": "markdown",
   "metadata": {},
   "source": [
    "## What is NumPy"
   ]
  },
  {
   "cell_type": "markdown",
   "metadata": {},
   "source": [
    "It is no exaggeration to say that **NumPy is at the core of the entire scientific computing Python ecosystem**, both as a standalone package for numerical computation and as the engine behind most data science packages.\n",
    "\n",
    "NumPy is a package for array-like or matrix-like high-performance computation. Its \"engine\" is written in C, meaning that NumPy utilized \"in the background\" pre-compiled C code to perform computations. "
   ]
  },
  {
   "cell_type": "markdown",
   "metadata": {},
   "source": [
    "## Installing NumPy"
   ]
  },
  {
   "cell_type": "markdown",
   "metadata": {},
   "source": [
    "\n",
    "If you are running this Notebook in `MyBinder` or locally after running the `pip install -r requirements.txt` file, you have `NumPy` installed already. Otherwise, you will need to install `NumPy` with one of these options:\n",
    "\n",
    "1. Scientific Python Distributions\n",
    "2. pip\n",
    "3. System-wide installation via a package manager (apt, brew, etc.)\n",
    "4. From NumPy source code\n",
    "\n",
    "Option 4 is for developers who need to alter source code. Option 3 is not recommended as a system-wide installation of packages may generate dependency conflicts. \n",
    "\n",
    "Option 1 is probably the simplest and it's widely used by practitioners. Within this category we have:\n",
    "\n",
    "- [Anaconda](https://www.anaconda.com/products/individual)\n",
    "- [Mini-conda](https://docs.conda.io/en/latest/miniconda.html)\n",
    "- [WinPython](https://winpython.github.io/)\n",
    "- [Pyzo](https://pyzo.org/)\n",
    "\n",
    "WinPython and Pyzo are less used and I do not have any experience with them. Feel free to experiment with them at your own risk. Anaconda and mini-conda are the most popular options. Anaconda basically is a large bundle of packages for Python and R, and a package manager. Mini-conda is a lightweight version of Anaconda.  Once you install Anaconda or mini-conda, `NumPy` will be available within the conda installation. \n",
    "\n",
    "I do not like and do not use Anaconda or mini-conda. I just see no reason to install hundreds of libraries I most likely never use. I also see no reason to duplicate functionality which is already provided in the standard Python installation. It just occupies memory and you also need to learn how to use `conda`, which sometimes introduces hard to understand issues with multiple Python and packages installations. Yet, many people recommend and use this method. If you decide to use it, go to the [Anaconda](https://www.anaconda.com/products/individual) or [Mini-conda](https://docs.conda.io/en/latest/miniconda.html) site and follow the instructions for your system. \n",
    "\n",
    "My preferred method is `pip`, which is available out-of-the-box with your Python installation. To install `NumPy` is as simple as to run:\n",
    "\n",
    "```bash\n",
    "pip3 install numpy\n",
    "```\n",
    "\n",
    "Now, I highly recommend to create a virtual environment, activate the environment, and then install `NumPy` within that. It boils down to copy-pasting the following in your terminal:\n",
    "\n",
    "```bash\n",
    "# create the virtual environment\n",
    "python3 -m venv venv\n",
    "\n",
    "# activate the virtual environment\n",
    "source venv/bin/activate\n",
    "\n",
    "# upgrade pip package manager\n",
    "pip3 install --upgrade pip\n",
    "\n",
    "#install numpy\n",
    "pip3 install numpy\n",
    "```\n",
    "\n",
    "The virtual environment will isolate your `NumPy` installation from your system-wide Python installation and other projects you may have in your computer. So, it's safer. This method will save you gigabytes of memory, time, confusion, and effort. But that's just me!"
   ]
  },
  {
   "cell_type": "markdown",
   "metadata": {},
   "source": [
    "## NumPy arrays"
   ]
  },
  {
   "cell_type": "markdown",
   "metadata": {},
   "source": [
    "`NumPy` fundamental object is the **[ndarray](https://numpy.org/doc/1.18/reference/generated/numpy.ndarray.html)**. Arrays are simply ordered collections of elements, like single numbers, [lists](https://docs.python.org/3/tutorial/datastructures.html), [sets](https://realpython.com/python-sets/), [vectors](https://pabloinsente.github.io/intro-linear-algebra#vectors), [matrices](https://pabloinsente.github.io/intro-linear-algebra#matrices), or [tensors](https://en.wikipedia.org/wiki/Tensor). In Additionally, elements in an array have of **the same type**. For instance, an array can't have integers and text at the same time. The reason is simple: mathematical operations with objects containing multiple data types would be slow, and `NumPy` main goal is fast and efficient numerical computation. \n",
    "\n",
    "The \"n\" in \"ndarray\" makes references to the arbitrary number of dimensions it can take. An array with one element and one dimension, it's a \"singleton\" or just a number. An array with four elements and two dimensions is a 2x2 matrix. Put simply, an array is like an Excel sheet with the caveat that instead of being restricted to two dimensions, it can be extended to 3, 4, or higher dimensions, and that you can't combine data types in a \"sheet\". \n",
    "\n",
    "In `NumPy`, dimensions are called `axes`, so I will use such term interchangeably with dimensions from now."
   ]
  },
  {
   "cell_type": "markdown",
   "metadata": {},
   "source": [
    "Let's see a few examples. \n",
    "\n",
    "We first need to import `NumPy` by running:"
   ]
  },
  {
   "cell_type": "code",
   "execution_count": 1,
   "metadata": {},
   "outputs": [],
   "source": [
    "import numpy as np"
   ]
  },
  {
   "cell_type": "markdown",
   "metadata": {},
   "source": [
    "Then we can use the `array` method constructor to build an array as:"
   ]
  },
  {
   "cell_type": "code",
   "execution_count": 2,
   "metadata": {},
   "outputs": [],
   "source": [
    "# 1 axis/dimensions array\n",
    "one_dim=  np.array([1, 2, 3]) \n",
    "\n",
    "# 2 axis/dimensions array\n",
    "two_dim_1=  np.array([[1, 2, 3]]) \n",
    "\n",
    "# 2 axis/dimensions array\n",
    "two_dim_2= np.array([[1, 2, 3],\n",
    "                     [4, 5, 6]])\n",
    " \n",
    "# 3 axis/dimensions array\n",
    "three_dim =  np.array([[[1, 2, 3], \n",
    "                        [4, 5, 6]],\n",
    "                       [[1, 2, 3],\n",
    "                        [4, 5, 6]]]) "
   ]
  },
  {
   "cell_type": "markdown",
   "metadata": {},
   "source": [
    "Visually, we can represent the above arrays as:"
   ]
  },
  {
   "cell_type": "markdown",
   "metadata": {},
   "source": [
    "<img src=\"images/numpy-array.svg\">"
   ]
  },
  {
   "cell_type": "markdown",
   "metadata": {},
   "source": [
    "This is how arrays look when printed:"
   ]
  },
  {
   "cell_type": "code",
   "execution_count": 3,
   "metadata": {},
   "outputs": [
    {
     "name": "stdout",
     "output_type": "stream",
     "text": [
      "One-dimensional array with 3 elements:\n",
      "[1 2 3]\n",
      "\n",
      "Two-dimensional array with 1 row and 3 cols:\n",
      "[[1 2 3]]\n",
      "\n",
      "Two-dimensional array with 2 row and 3 cols:\n",
      "[[1 2 3]\n",
      " [4 5 6]]\n",
      "\n",
      "Three-dimensional array:\n",
      "[[[1 2 3]\n",
      "  [4 5 6]]\n",
      "\n",
      " [[1 2 3]\n",
      "  [4 5 6]]]\n"
     ]
    }
   ],
   "source": [
    "print(f'One-dimensional array with 3 elements:\\n{one_dim}\\n')\n",
    "print(f'Two-dimensional array with 1 row and 3 cols:\\n{two_dim_1}\\n')\n",
    "print(f'Two-dimensional array with 2 row and 3 cols:\\n{two_dim_2}\\n')\n",
    "print(f'Three-dimensional array:\\n{three_dim}')"
   ]
  },
  {
   "cell_type": "markdown",
   "metadata": {},
   "source": [
    "We can inspect and confirm **dimensionality** as:"
   ]
  },
  {
   "cell_type": "code",
   "execution_count": 4,
   "metadata": {},
   "outputs": [
    {
     "name": "stdout",
     "output_type": "stream",
     "text": [
      "Number of dimensions array one: 1\n",
      "Number of dimensions array two-1: 2\n",
      "Number of dimensions array two-2: 2\n",
      "Number of dimensions array three: 3\n"
     ]
    }
   ],
   "source": [
    "print(f'Number of dimensions array one: {one_dim.ndim}')\n",
    "print(f'Number of dimensions array two-1: {two_dim_1.ndim}')\n",
    "print(f'Number of dimensions array two-2: {two_dim_2.ndim}')\n",
    "print(f'Number of dimensions array three: {three_dim.ndim}')"
   ]
  },
  {
   "cell_type": "markdown",
   "metadata": {},
   "source": [
    "The **shape** of an array must not be confused with its dimensionality, as shape reflects the number of elements along each axis, and dimensionality only the number of axes or dimensions."
   ]
  },
  {
   "cell_type": "code",
   "execution_count": 5,
   "metadata": {},
   "outputs": [
    {
     "name": "stdout",
     "output_type": "stream",
     "text": [
      "Shape array one: (3,)\n",
      "Shape array two-1: (1, 3)\n",
      "Shape array two-2: (2, 3)\n",
      "Shape array three: (2, 2, 3)\n"
     ]
    }
   ],
   "source": [
    "print(f'Shape array one: {one_dim.shape}')\n",
    "print(f'Shape array two-1: {two_dim_1.shape}')\n",
    "print(f'Shape array two-2: {two_dim_2.shape}')\n",
    "print(f'Shape array three: {three_dim.shape}')"
   ]
  },
  {
   "cell_type": "markdown",
   "metadata": {},
   "source": [
    "The first number in the parenthesis represents the number of elements within the first axis/dimension; the second number the number of elements within the second axis/dimension, the third number the number of elements within the third axis/dimensions, and so on. \n",
    "\n",
    "For instance, the (2, 2, 3) indicates 2 elements along the first axis, 2 elements along the second axis, and 3 elements along the third axis."
   ]
  },
  {
   "cell_type": "markdown",
   "metadata": {},
   "source": [
    "To count the **number of elements** within an array type:"
   ]
  },
  {
   "cell_type": "code",
   "execution_count": 6,
   "metadata": {},
   "outputs": [
    {
     "name": "stdout",
     "output_type": "stream",
     "text": [
      "Number of elements array one:3\n",
      "Number of elements array two-1:3\n",
      "Number of elements array two-2:6\n",
      "Number of elements array three:12\n"
     ]
    }
   ],
   "source": [
    "print(f'Number of elements array one:{one_dim.size}')\n",
    "print(f'Number of elements array two-1:{two_dim_1.size}')\n",
    "print(f'Number of elements array two-2:{two_dim_2.size}')\n",
    "print(f'Number of elements array three:{three_dim.size}')"
   ]
  },
  {
   "cell_type": "markdown",
   "metadata": {},
   "source": [
    "`NumPy` utilizes different **data types** (more on this later) to represent data, which can be inspected as:"
   ]
  },
  {
   "cell_type": "code",
   "execution_count": 7,
   "metadata": {},
   "outputs": [
    {
     "name": "stdout",
     "output_type": "stream",
     "text": [
      "Data type array one:int64\n",
      "Data type array two-1:int64\n",
      "Data type array two-2:int64\n",
      "Data type array three:int64\n"
     ]
    }
   ],
   "source": [
    "print(f'Data type array one:{one_dim.dtype}')\n",
    "print(f'Data type array two-1:{two_dim_1.dtype}')\n",
    "print(f'Data type array two-2:{two_dim_2.dtype}')\n",
    "print(f'Data type array three:{three_dim.dtype}')"
   ]
  },
  {
   "cell_type": "markdown",
   "metadata": {},
   "source": [
    "## Array creation"
   ]
  },
  {
   "cell_type": "markdown",
   "metadata": {},
   "source": [
    "`NumPy` offers several alternatives to create arrays.\n",
    "\n",
    "I will review three cases:\n",
    "\n",
    "1. Conversion from other Python structures \n",
    "2. Intrinsic `NumPy` array creation objects \n",
    "3. Use of special library functions"
   ]
  },
  {
   "cell_type": "markdown",
   "metadata": {},
   "source": [
    "### Conversion from other Python structures "
   ]
  },
  {
   "cell_type": "markdown",
   "metadata": {},
   "source": [
    "In the previous section, I used the `array` method to create an array from a Python list. This is an example of array creation from the conversion of an array-like Python object. \n",
    "\n",
    "Lists, tuples, and sets are array-like Python objects that serve as options for this method."
   ]
  },
  {
   "cell_type": "code",
   "execution_count": 8,
   "metadata": {},
   "outputs": [],
   "source": [
    "array_list = np.array([1, 2, 3])\n",
    "array_tuple = np.array(((1, 2, 3), (4, 5, 6)))\n",
    "array_set = np.array({\"pikachu\", \"snorlax\", \"charizard\"})"
   ]
  },
  {
   "cell_type": "code",
   "execution_count": 9,
   "metadata": {},
   "outputs": [
    {
     "name": "stdout",
     "output_type": "stream",
     "text": [
      "Array from list:\n",
      "[1 2 3]\n",
      "\n",
      "Array from tuple:\n",
      "[[1 2 3]\n",
      " [4 5 6]]\n",
      "\n",
      "Array from set:\n",
      "{'charizard', 'pikachu', 'snorlax'}\n"
     ]
    }
   ],
   "source": [
    "print(f'Array from list:\\n{array_list}\\n')\n",
    "print(f'Array from tuple:\\n{array_tuple}\\n')\n",
    "print(f'Array from set:\\n{array_set}')"
   ]
  },
  {
   "cell_type": "markdown",
   "metadata": {},
   "source": [
    "### Intrinsic NumPy array creation objects "
   ]
  },
  {
   "cell_type": "markdown",
   "metadata": {},
   "source": [
    "Manual input of data into arrays can be cumbersome, so `NumPy` offers a series of convenience methods to create arrays for special cases, like zeros, ones, and others. Below some common examples."
   ]
  },
  {
   "cell_type": "code",
   "execution_count": 10,
   "metadata": {},
   "outputs": [],
   "source": [
    "# zeros\n",
    "zeros = np.zeros(5)\n",
    "\n",
    "# ones\n",
    "ones = np.ones((3, 3))\n",
    "\n",
    "# arange\n",
    "arange = np.arange(1, 10, 2)\n",
    "\n",
    "# empty\n",
    "empty =  np.empty([2, 2])\n",
    "\n",
    "# linspace\n",
    "linespace = np.linspace(-1.0, 1.0, num=10)\n",
    "\n",
    "# full\n",
    "full = np.full((3,3), -2)\n",
    "\n",
    "# indices\n",
    "indices =  np.indices((3,3))"
   ]
  },
  {
   "cell_type": "code",
   "execution_count": 11,
   "metadata": {},
   "outputs": [
    {
     "name": "stdout",
     "output_type": "stream",
     "text": [
      "Array of zeros:\n",
      "[0. 0. 0. 0. 0.]\n",
      "\n",
      "Array of ones:\n",
      "[[1. 1. 1.]\n",
      " [1. 1. 1.]\n",
      " [1. 1. 1.]]\n",
      "\n",
      "Array of empty entries:\n",
      "[[4.66127389e-310 6.90645970e-310]\n",
      " [0.00000000e+000 0.00000000e+000]]\n",
      "\n",
      "Evenly spaced array in a range:\n",
      "[-1.         -0.77777778 -0.55555556 -0.33333333 -0.11111111  0.11111111\n",
      "  0.33333333  0.55555556  0.77777778  1.        ]\n",
      "\n",
      "Array with same number on each entry:\n",
      "[[-2 -2 -2]\n",
      " [-2 -2 -2]\n",
      " [-2 -2 -2]]\n",
      "\n",
      "Array from indices:\n",
      "[[[0 0 0]\n",
      "  [1 1 1]\n",
      "  [2 2 2]]\n",
      "\n",
      " [[0 1 2]\n",
      "  [0 1 2]\n",
      "  [0 1 2]]]\n",
      "\n"
     ]
    }
   ],
   "source": [
    "print(f'Array of zeros:\\n{zeros}\\n')\n",
    "print(f'Array of ones:\\n{ones}\\n')\n",
    "print(f'Array of empty entries:\\n{empty}\\n')\n",
    "print(f'Evenly spaced array in a range:\\n{linespace}\\n')\n",
    "print(f'Array with same number on each entry:\\n{full}\\n')\n",
    "print(f'Array from indices:\\n{indices}\\n')"
   ]
  },
  {
   "cell_type": "markdown",
   "metadata": {},
   "source": [
    "- The `zero` method generates an array of zeros of shape defined by a tuple passed to the function\n",
    "- The `ones` method generates an array of ones of shape defined by a tuple passed to the function\n",
    "- The `empty` method generates an empty array (although very small numbers will be printed) of shape defined by a tuple passed to the function\n",
    "- The `linespace` method generates an array of evenly spaced entries given a range and a step size\n",
    "- The `full` method returns an array of  shape defined by a tuple passed to the function filled with the same value (third argument outside the tuple)\n",
    "- The `indices` method generates an array representing the indices of the grid"
   ]
  },
  {
   "cell_type": "markdown",
   "metadata": {},
   "source": [
    "### Use of special library functions"
   ]
  },
  {
   "cell_type": "markdown",
   "metadata": {},
   "source": [
    "`NumPy` has a large list of special cases functions that generate arrays, which are too large and seemingly disconnected to enumerate. Here are a few examples:"
   ]
  },
  {
   "cell_type": "code",
   "execution_count": 12,
   "metadata": {},
   "outputs": [],
   "source": [
    "# diagonal array\n",
    "diagonal = np.diag([1, 2, 3], k=0)\n",
    "\n",
    "# identity \n",
    "identity = np.identity(3)\n",
    "\n",
    "# eye\n",
    "eye = np.eye(4, k=1)\n",
    "\n",
    "# rand\n",
    "rand = np.random.rand(3,2)"
   ]
  },
  {
   "cell_type": "code",
   "execution_count": 13,
   "metadata": {},
   "outputs": [
    {
     "name": "stdout",
     "output_type": "stream",
     "text": [
      "Diagonal matrix from array-like structure:\n",
      "[[1 0 0]\n",
      " [0 2 0]\n",
      " [0 0 3]]\n",
      "\n",
      "Identity matrix:\n",
      "[[1. 0. 0.]\n",
      " [0. 1. 0.]\n",
      " [0. 0. 1.]]\n",
      "\n",
      "Diagonal matrix with ones and zeros elsewhere:\n",
      "[[0. 1. 0. 0.]\n",
      " [0. 0. 1. 0.]\n",
      " [0. 0. 0. 1.]\n",
      " [0. 0. 0. 0.]]\n",
      "\n",
      "Array of random numbers sampled from a uniform distribution:\n",
      "[[0.52528562 0.03263366]\n",
      " [0.02047119 0.80718326]\n",
      " [0.85964665 0.71244644]]\n"
     ]
    }
   ],
   "source": [
    "print(f'Diagonal matrix from array-like structure:\\n{diagonal}\\n')\n",
    "print(f'Identity matrix:\\n{identity}\\n')\n",
    "print(f'Diagonal matrix with ones and zeros elsewhere:\\n{eye}\\n')\n",
    "print(f'Array of random numbers sampled from a uniform distribution:\\n{rand}')"
   ]
  },
  {
   "cell_type": "markdown",
   "metadata": {},
   "source": [
    "- The `diagonal` function returns an array with the numbers in the diagonal and zeros elsewhere\n",
    "- The `identity` function returns an identity matrix\n",
    "- The `eye` function returns an array with ones on the diagonal and zeros elsewhere\n",
    "- The `random.rand` function returns an array of random numbers sampled from a uniform distribution"
   ]
  },
  {
   "cell_type": "markdown",
   "metadata": {},
   "source": [
    "## Vectorization"
   ]
  },
  {
   "cell_type": "markdown",
   "metadata": {},
   "source": [
    "I claimed \"pure\" Python is slow. One of the culprits of such slowness is Python's loops. Loops are bad for performance for complicated reasons related to Python design as a dynamically typed language. The shortest answer to why loops are slow is that Python takes multiple actions for each call (e.g., it access memory several times, type checking, etc.), that compound and hurt performance the more loops you execute. \n",
    "\n",
    "In scientific computing we want speed, meaning we want to get rid of loops. This is precisely what's **vectorization** all about: **getting rid of loops by performing computations on multiple components of a vector at the same time**. Hence, performing operations in \"vector\" form. In `NumPy`, vectors can be interpreted as an array, so we could call this \"arrayization\" if you will, but that sounds funny and weird. \n",
    "\n",
    "Here is how vectorization looks like conceptually."
   ]
  },
  {
   "cell_type": "markdown",
   "metadata": {},
   "source": [
    "<img src= \"images/vectorization.svg\" >"
   ]
  },
  {
   "cell_type": "markdown",
   "metadata": {},
   "source": [
    "Now let's compare the performance gain of vectorization against looping in a simple sum. "
   ]
  },
  {
   "cell_type": "code",
   "execution_count": 14,
   "metadata": {},
   "outputs": [],
   "source": [
    "x = np.random.rand(100)\n",
    "y = np.random.rand(100)"
   ]
  },
  {
   "cell_type": "markdown",
   "metadata": {},
   "source": [
    "Sum two array with a Python loop (non-vectorized)"
   ]
  },
  {
   "cell_type": "code",
   "execution_count": 15,
   "metadata": {},
   "outputs": [
    {
     "name": "stdout",
     "output_type": "stream",
     "text": [
      "32.7 µs ± 317 ns per loop (mean ± std. dev. of 7 runs, 10000 loops each)\n"
     ]
    }
   ],
   "source": [
    "%%timeit\n",
    "for i in range(0, len(x)):\n",
    "    x[i] + y[i]"
   ]
  },
  {
   "cell_type": "markdown",
   "metadata": {},
   "source": [
    "Sum arrays with `NumPy` (vectorized)"
   ]
  },
  {
   "cell_type": "code",
   "execution_count": 16,
   "metadata": {},
   "outputs": [
    {
     "name": "stdout",
     "output_type": "stream",
     "text": [
      "492 ns ± 11.5 ns per loop (mean ± std. dev. of 7 runs, 1000000 loops each)\n"
     ]
    }
   ],
   "source": [
    "%%timeit\n",
    "x+y;"
   ]
  },
  {
   "cell_type": "markdown",
   "metadata": {},
   "source": [
    "As you can see, the `NumPy` vectorized implementation is several orders of magnitude faster. In the runs I've done, approximately 67 times faster (~32 microsecond against ~0.49 microseconds).\n",
    "\n",
    "Such minuscule fractions of time may not be important for you know, but consider that we are only adding up two arrays of 100 numbers. In modern data science and machine learning applications, hundreds of thousands and even millions of computations are required to fit any model, and most of the time you will want to fit multiple models several times. Just cut or multiply everything by about 70: the model that takes 1 minute to run, will take 70 minutes, and the model that takes one day can take over two months. I do not know about you, but I do not have all that time to spare. \n",
    "\n",
    "In the next section, we cover array mathematics with `NumPy`, which essentially are vectorized operations."
   ]
  },
  {
   "cell_type": "markdown",
   "metadata": {},
   "source": [
    "## Array mathematics and element-wise operations"
   ]
  },
  {
   "cell_type": "markdown",
   "metadata": {},
   "source": [
    "### Array arithmetic"
   ]
  },
  {
   "cell_type": "markdown",
   "metadata": {},
   "source": [
    "As in regular mathematics, array arithmetic is  fundamentally about addition, subtraction, multiplication, and division. In `NumPy`, this kind of operations are performed **element-wise**. Take the following example:\n",
    "\n",
    "$$\n",
    "\\begin{bmatrix}\n",
    "1\\\\\n",
    "2\\\\\n",
    "3\n",
    "\\end{bmatrix} +\n",
    "\\begin{bmatrix}\n",
    "4\\\\\n",
    "5\\\\\n",
    "6\n",
    "\\end{bmatrix} =\n",
    "\\begin{bmatrix}\n",
    "2\\\\\n",
    "7\\\\\n",
    "9\n",
    "\\end{bmatrix}\n",
    "$$\n",
    "\n",
    "As in this example, `NumPy` will add the first elements of each array together, the second elements of each array together, and the third elements of each array together. Hence, **element-wise addition**. The same can be extrapolated to multi-dimensional arrays. Consider the following example:\n",
    "\n",
    "$$\n",
    "\\begin{bmatrix}\n",
    "1 & 2\\\\\n",
    "3 & 4\n",
    "\\end{bmatrix} +\n",
    "\\begin{bmatrix}\n",
    "5 & 6\\\\\n",
    "7 & 8\n",
    "\\end{bmatrix} =\n",
    "\\begin{bmatrix}\n",
    "6 & 8\\\\\n",
    "10 & 12\n",
    "\\end{bmatrix}\n",
    "$$\n",
    "\n",
    "The logic is the same: the top-left elements in each array are added together, the top-right elements of each array are added together, and so on. Subtraction, division, multiplication, exponentiation, logarithms, roots, and many other algebraic operations (or arithmetic depending on whom you ask), will be performed in the same manner. \n",
    "\n",
    "\n",
    "Here there is a list of common arithmetic operations."
   ]
  },
  {
   "cell_type": "code",
   "execution_count": 17,
   "metadata": {},
   "outputs": [],
   "source": [
    "a = np.arange(1, 10).reshape((3,3))\n",
    "b = np.arange(10,19).reshape((3,3))\n",
    "\n",
    "addition = a + b\n",
    "subtraction = a - b\n",
    "multiplication = a * b\n",
    "true_division = a / b\n",
    "floor_division = a // b\n",
    "remainder = np.remainder(a, b) "
   ]
  },
  {
   "cell_type": "code",
   "execution_count": 18,
   "metadata": {},
   "outputs": [
    {
     "name": "stdout",
     "output_type": "stream",
     "text": [
      "Array a:\n",
      "[[1 2 3]\n",
      " [4 5 6]\n",
      " [7 8 9]]\n",
      "\n",
      "Array b:\n",
      "[[10 11 12]\n",
      " [13 14 15]\n",
      " [16 17 18]]\n",
      "\n",
      "Addition of a and b:\n",
      "[[11 13 15]\n",
      " [17 19 21]\n",
      " [23 25 27]]\n",
      "\n",
      "Subtraction of a and b:\n",
      "[[-9 -9 -9]\n",
      " [-9 -9 -9]\n",
      " [-9 -9 -9]]\n",
      "\n",
      "Multiplication of a and b:\n",
      "[[ 10  22  36]\n",
      " [ 52  70  90]\n",
      " [112 136 162]]\n",
      "\n",
      "True divition of a and b:\n",
      "[[0.1        0.18181818 0.25      ]\n",
      " [0.30769231 0.35714286 0.4       ]\n",
      " [0.4375     0.47058824 0.5       ]]\n",
      "\n",
      "Floor division of a and b:\n",
      "[[0 0 0]\n",
      " [0 0 0]\n",
      " [0 0 0]]\n",
      "\n",
      "Remainder of a and b:\n",
      "[[1 2 3]\n",
      " [4 5 6]\n",
      " [7 8 9]]\n"
     ]
    }
   ],
   "source": [
    "print(f'Array a:\\n{a}\\n')\n",
    "print(f'Array b:\\n{b}\\n')\n",
    "print(f'Addition of a and b:\\n{addition}\\n')\n",
    "print(f'Subtraction of a and b:\\n{subtraction}\\n')\n",
    "print(f'Multiplication of a and b:\\n{multiplication}\\n')\n",
    "print(f'True divition of a and b:\\n{true_division}\\n')\n",
    "print(f'Floor division of a and b:\\n{floor_division}\\n')\n",
    "print(f'Remainder of a and b:\\n{remainder}')"
   ]
  },
  {
   "cell_type": "markdown",
   "metadata": {},
   "source": [
    "What do you think will happen if we try to multiply a 3x3 array by a scalar (a single number? There are some options: \n",
    "\n",
    "1. The operation will fail, as their shapes do not match\n",
    "2. Just the first element of the array will be multiplied by the scalar\n",
    "3. All elements of the array will be multiplied by the scalar regardless\n",
    "\n",
    "Let's try it out."
   ]
  },
  {
   "cell_type": "code",
   "execution_count": 19,
   "metadata": {},
   "outputs": [
    {
     "name": "stdout",
     "output_type": "stream",
     "text": [
      "3x3 array:\n",
      "[[1 2 3]\n",
      " [4 5 6]\n",
      " [7 8 9]]\n",
      "\n",
      "3x3 array times an scalar:\n",
      "[[ 2  4  6]\n",
      " [ 8 10 12]\n",
      " [14 16 18]]\n"
     ]
    }
   ],
   "source": [
    "array_scalar = a * 2\n",
    "print(f'3x3 array:\\n{a}\\n')\n",
    "print(f'3x3 array times an scalar:\\n{array_scalar}')"
   ]
  },
  {
   "cell_type": "markdown",
   "metadata": {},
   "source": [
    "Each element of the array was multiplied by 2. How does this even work? One option is to \"loop\" over each of array and multiply by 3 sequentially. But that it is slow, and `NumPy` is all about speed. What happens is that the scalar is \"broadcast\" to match the shape of the array BEFORE multiplication. In practice, what we have is a 3x3 array times a 3x3 array of 2s as:\n",
    "\n",
    "$$\n",
    "\\begin{bmatrix}\n",
    "1 & 2 & 3\\\\\n",
    "4 & 5 & 6\\\\\n",
    "7 & 8 & 9\n",
    "\\end{bmatrix}\n",
    "\\begin{bmatrix}\n",
    "2 & 2 & 2\\\\\n",
    "2 & 2 & 2\\\\\n",
    "2 & 2 & 2\n",
    "\\end{bmatrix} =\n",
    "\\begin{bmatrix}\n",
    "2 & 4 & 6\\\\\n",
    "8 & 10 & 12\\\\\n",
    "14 & 16 & 18\n",
    "\\end{bmatrix}\n",
    "$$\n",
    "\n",
    "Broadcasting will make computation way faster than looping. There is more to say about broadcasting, and I will cover it more in-depth in a later section. For now, this should help you to understand how element-wise operations work in `NumPy`"
   ]
  },
  {
   "cell_type": "markdown",
   "metadata": {},
   "source": [
    "### Trigonometric functions"
   ]
  },
  {
   "cell_type": "markdown",
   "metadata": {},
   "source": [
    "`NumPy` provides a series of convenient functions for trigonometric calculations, which also operate in an element-wise fashion. \n",
    "\n",
    "There are several trigonometric functions in `NumPy` (see [here](https://numpy.org/doc/stable/reference/routines.math.html#trigonometric-functions)). Below a couple of the most common ones. "
   ]
  },
  {
   "cell_type": "code",
   "execution_count": 20,
   "metadata": {},
   "outputs": [],
   "source": [
    "x = np.linspace(-4, 4, 200)\n",
    "\n",
    "# sin function\n",
    "sin = np.sin(x)\n",
    "# cosine function\n",
    "cos = np.cos(x)\n",
    "# tangent function\n",
    "tan = np.tan(x)"
   ]
  },
  {
   "cell_type": "markdown",
   "metadata": {},
   "source": [
    "Let's plot to see the outcome"
   ]
  },
  {
   "cell_type": "code",
   "execution_count": 21,
   "metadata": {},
   "outputs": [],
   "source": [
    "import matplotlib.pylab as plt\n",
    "plt.style.use('dark_background')\n",
    "%config InlineBackend.figure_format = 'retina' # to get high resolution images"
   ]
  },
  {
   "cell_type": "code",
   "execution_count": 22,
   "metadata": {},
   "outputs": [
    {
     "data": {
      "image/png": "[encoded data removed]",
      "text/plain": [
       "<Figure size 432x288 with 3 Axes>"
      ]
     },
     "metadata": {
      "image/png": {
       "height": 279,
       "width": 424
      }
     },
     "output_type": "display_data"
    }
   ],
   "source": [
    "fig, (ax1, ax2, ax3) = plt.subplots(3, 1)\n",
    "ax1.plot(x, sin)\n",
    "ax1.set_title(\"sin\")\n",
    "ax2.plot(x, cos)\n",
    "ax2.set_title(\"cos\")\n",
    "ax3.plot(x, tan)\n",
    "ax3.set_title(\"tan\")\n",
    "plt.tight_layout()"
   ]
  },
  {
   "cell_type": "markdown",
   "metadata": {},
   "source": [
    "### Hyperbolic functions"
   ]
  },
  {
   "cell_type": "markdown",
   "metadata": {},
   "source": [
    "Hyperbolic functions are like trigonometric functions but for the hyperbola rather than for the circle. `NumPy` also incorporate several cases (see [here](https://numpy.org/doc/stable/reference/routines.math.html#hyperbolic-functions))."
   ]
  },
  {
   "cell_type": "code",
   "execution_count": 23,
   "metadata": {},
   "outputs": [],
   "source": [
    "y = np.linspace(-4, 4, 200)\n",
    "\n",
    "# sin function\n",
    "sinh = np.sinh(y)\n",
    "# cosine function\n",
    "cosh = np.cosh(y)\n",
    "# tangent function\n",
    "tanh = np.tanh(y)"
   ]
  },
  {
   "cell_type": "code",
   "execution_count": 24,
   "metadata": {},
   "outputs": [
    {
     "data": {
      "image/png": "[encoded data removed]",
      "text/plain": [
       "<Figure size 432x288 with 3 Axes>"
      ]
     },
     "metadata": {
      "image/png": {
       "height": 279,
       "width": 424
      }
     },
     "output_type": "display_data"
    }
   ],
   "source": [
    "fig, (ax1, ax2, ax3) = plt.subplots(3, 1)\n",
    "ax1.plot(y, sin)\n",
    "ax1.set_title(\"sinh\")\n",
    "ax2.plot(y, cos)\n",
    "ax2.set_title(\"cosh\")\n",
    "ax3.plot(y, tan)\n",
    "ax3.set_title(\"tanh\")\n",
    "plt.tight_layout()"
   ]
  },
  {
   "cell_type": "markdown",
   "metadata": {},
   "source": [
    "### Rounding"
   ]
  },
  {
   "cell_type": "markdown",
   "metadata": {},
   "source": [
    "Rounding is a delicate subject as rounding errors when compounded over sequences of operations, can completely mess up your results. It is also a common operation for presenting and plotting results to others. Rounding is applied element-wise.\n",
    "\n",
    "Let's generate a sequence of random decimal numbers to see the effect of different rounding procedures available in `NumPy` (see [here](https://numpy.org/doc/stable/reference/routines.math.html#rounding))."
   ]
  },
  {
   "cell_type": "code",
   "execution_count": 25,
   "metadata": {},
   "outputs": [],
   "source": [
    "decimals = np.linspace(0.11111111, 0.99999999, 10)\n",
    "\n",
    "# rounding\n",
    "around = np.around(decimals, 3)\n",
    "# rounding\n",
    "round_ = np.round(decimals, 3)\n",
    "# rounding to integer\n",
    "rint = np.rint(decimals)\n",
    "# rounding integer towards zero\n",
    "fix = np.fix(decimals)\n",
    "# round to the floor\n",
    "floor = np.floor(decimals)\n",
    "# round to the ceiling\n",
    "ceil = np.ceil(decimals)"
   ]
  },
  {
   "cell_type": "code",
   "execution_count": 26,
   "metadata": {},
   "outputs": [
    {
     "name": "stdout",
     "output_type": "stream",
     "text": [
      "Array of decimals:\n",
      "[0.11111111 0.20987654 0.30864197 0.4074074  0.50617283 0.60493827\n",
      " 0.7037037  0.80246913 0.90123456 0.99999999]\n",
      "\n",
      "'around' round to the given number of decimals:\n",
      "[0.111 0.21  0.309 0.407 0.506 0.605 0.704 0.802 0.901 1.   ]\n",
      "\n",
      "'round' yields identical results than 'around':\n",
      "[0.111 0.21  0.309 0.407 0.506 0.605 0.704 0.802 0.901 1.   ]\n",
      "\n",
      "'rint' round to the nearest integer:\n",
      "[0. 0. 0. 0. 1. 1. 1. 1. 1. 1.]\n",
      "\n",
      "'fix' round to the nearest integer towars zero:\n",
      "[0. 0. 0. 0. 0. 0. 0. 0. 0. 0.]\n",
      "\n",
      "'floor' round to the floor of the input:\n",
      "[0. 0. 0. 0. 0. 0. 0. 0. 0. 0.]\n",
      "\n",
      "'ceil' round to the ceiling of the input:\n",
      "[1. 1. 1. 1. 1. 1. 1. 1. 1. 1.]\n"
     ]
    }
   ],
   "source": [
    "print(f\"Array of decimals:\\n{decimals}\\n\")\n",
    "print(f\"'around' round to the given number of decimals:\\n{around}\\n\")\n",
    "print(f\"'round' yields identical results than 'around':\\n{round_}\\n\")\n",
    "print(f\"'rint' round to the nearest integer:\\n{rint}\\n\")\n",
    "print(f\"'fix' round to the nearest integer towars zero:\\n{fix}\\n\")\n",
    "print(f\"'floor' round to the floor of the input:\\n{floor}\\n\")\n",
    "print(f\"'ceil' round to the ceiling of the input:\\n{ceil}\")"
   ]
  },
  {
   "cell_type": "markdown",
   "metadata": {},
   "source": [
    "### Exponents and logarithms"
   ]
  },
  {
   "cell_type": "markdown",
   "metadata": {},
   "source": [
    "Exponents and logarithms are often used in computations related to probability and statistics. `NumPy` incorporate several of the common ones (see [here](https://numpy.org/doc/stable/reference/routines.math.html#exponents-and-logarithms))."
   ]
  },
  {
   "cell_type": "code",
   "execution_count": 27,
   "metadata": {},
   "outputs": [],
   "source": [
    "z = np.array([0.1, 1, np.e, np.pi])\n",
    "\n",
    "# exponent\n",
    "exp = np.exp(z)\n",
    "# exponent(x) -1\n",
    "expm1 = np.expm1(z)\n",
    "# 2^P\n",
    "exp2 = np.exp2(z)\n",
    "# natural log\n",
    "log = np.log(z)\n",
    "# log base 10\n",
    "log10 = np.log10(z)\n",
    "# log base 2\n",
    "log2 = np.log2(z)"
   ]
  },
  {
   "cell_type": "code",
   "execution_count": 28,
   "metadata": {},
   "outputs": [
    {
     "name": "stdout",
     "output_type": "stream",
     "text": [
      "Compute exponential element-wise:\n",
      "[ 1.10517092  2.71828183 15.15426224 23.14069263]\n",
      "\n",
      "Compute 'exp(x) - 1' with greater precision for small values:\n",
      "[ 0.10517092  1.71828183 14.15426224 22.14069263]\n",
      "\n",
      "Compute '2**p' for all elements p in the array:\n",
      "[1.07177346 2.         6.58088599 8.82497783]\n",
      "\n",
      "Compute natural logarithm element-wise:\n",
      "[-2.30258509  0.          1.          1.14472989]\n",
      "\n",
      "Compute base 10 logarithm element-wise:\n",
      "[-1.          0.          0.43429448  0.49714987]\n",
      "\n",
      "Compute base 2 logarithm element-wise:\n",
      "[-3.32192809  0.          1.44269504  1.65149613]\n",
      "\n"
     ]
    }
   ],
   "source": [
    "print(f'Compute exponential element-wise:\\n{exp}\\n')\n",
    "print(f\"Compute 'exp(x) - 1' with greater precision for small values:\\n{expm1}\\n\")\n",
    "print(f\"Compute '2**p' for all elements p in the array:\\n{exp2}\\n\")\n",
    "print(f'Compute natural logarithm element-wise:\\n{log}\\n')\n",
    "print(f'Compute base 10 logarithm element-wise:\\n{log10}\\n')\n",
    "print(f'Compute base 2 logarithm element-wise:\\n{log2}\\n')"
   ]
  },
  {
   "cell_type": "markdown",
   "metadata": {},
   "source": [
    "### Other miscellaneous element-wise operations"
   ]
  },
  {
   "cell_type": "markdown",
   "metadata": {},
   "source": [
    "There are several other common mathematical operations available in `NumPy`, that are routinely used at different stages of the data processing and modeling.\n",
    "\n",
    "Here is a list of several important ones. As always, you can find more in the `NumPy` documentation."
   ]
  },
  {
   "cell_type": "code",
   "execution_count": 29,
   "metadata": {},
   "outputs": [],
   "source": [
    "array_1 = np.arange(-9,9, 2)\n",
    "array_2 = np.arange(-9,9, 2).reshape((3,3))\n",
    "\n",
    "# sum over\n",
    "sum_1, sum_2, sum_3 = np.sum(array_1), np.sum(array_2, axis=0), np.sum(array_2, axis=1) \n",
    "# take product\n",
    "prod_1, prod_2, prod_3 = np.prod(array_1), np.prod(array_2, axis=0), np.prod(array_2, axis=1)\n",
    "# cumulative sum\n",
    "cumsum_1, cumsum_2, cumsum_3 = np.cumsum(array_1), np.cumsum(array_2, axis=0), np.cumsum(array_2, axis=1)\n",
    "# clip values\n",
    "clip_1, clip_2 = np.clip(array_1, 2, 8), np.clip(array_2, 2, 8)\n",
    "# take absolute value\n",
    "absolute_1, absolute_2 = np.absolute(array_1), np.absolute(array_2) \n",
    "# take square root\n",
    "sqrt_1, sqrt_2 = np.sqrt(np.absolute(array_1)), np.sqrt(np.absolute(array_2)) \n",
    "# take the square power\n",
    "square_1, square_2 =  np.square(array_1), np.square(array_2)\n",
    "# sign function\n",
    "sign_1, sign_2 = np.sign(array_1), np.sign(array_2)\n",
    "# n power\n",
    "power = np.power(np.absolute(array_1), np.absolute(array_1))"
   ]
  },
  {
   "cell_type": "code",
   "execution_count": 30,
   "metadata": {},
   "outputs": [
    {
     "name": "stdout",
     "output_type": "stream",
     "text": [
      "'sum-1' sum array elements:-9\n",
      "'sum-2' sum rows:[-9 -3  3]\n",
      "'sum-3' sum cols:[-21  -3  15]\n",
      "\n",
      "'prod-1' product array elements:-99225\n",
      "'prod-2' product rows: [ 81  35 -35]\n",
      "'prod-3' product cols: [-315    3  105]\n",
      "\n",
      "'cumsum_1' cumulative sum array elements:\n",
      "[ -9 -16 -21 -24 -25 -24 -21 -16  -9]\n",
      "'cumsum_2' cumulative sum rows:\n",
      "[[ -9  -7  -5]\n",
      " [-12  -8  -4]\n",
      " [ -9  -3   3]]\n",
      "'cumsum_3' cumulative sum cols:\n",
      "[[ -9 -16 -21]\n",
      " [ -3  -4  -3]\n",
      " [  3   8  15]]\n",
      "\n",
      "'clip-1' limit range of values (2-8):\n",
      "[2 2 2 2 2 2 3 5 7]\n",
      "'clip-2' limit range of values (2-8):\n",
      "[[2 2 2]\n",
      " [2 2 2]\n",
      " [3 5 7]]\n",
      "\n",
      "'absolute-1' absolute value array elements:\n",
      "[9 7 5 3 1 1 3 5 7]\n",
      "'absolute-2' absolute value array elements:\n",
      "[[9 7 5]\n",
      " [3 1 1]\n",
      " [3 5 7]]\n",
      "\n",
      "'sqrt-1' non-negative square root array elements:\n",
      "[3.         2.64575131 2.23606798 1.73205081 1.         1.\n",
      " 1.73205081 2.23606798 2.64575131]\n",
      "'sqrt-2' non-negative square root array elements:\n",
      "[[3.         2.64575131 2.23606798]\n",
      " [1.73205081 1.         1.        ]\n",
      " [1.73205081 2.23606798 2.64575131]]\n",
      "\n",
      "'square-1' square array elements: \n",
      "[81 49 25  9  1  1  9 25 49]\n",
      "'square-2' square array elements: \n",
      "[[81 49 25]\n",
      " [ 9  1  1]\n",
      " [ 9 25 49]]\n",
      "\n",
      "'sign-1' sign indication of array elements:\n",
      "[-1 -1 -1 -1 -1  1  1  1  1]\n",
      "'sign-2' sign indication of array elements:\n",
      "[[-1 -1 -1]\n",
      " [-1 -1  1]\n",
      " [ 1  1  1]]\n",
      "\n",
      "'power' elements of first array raised to powers from the second:\n",
      "[387420489    823543      3125        27         1         1        27\n",
      "      3125    823543]\n",
      "\n"
     ]
    }
   ],
   "source": [
    "print(f\"'sum-1' sum array elements:{sum_1}\\n\"f\"'sum-2' sum rows:{sum_2}\\n\"f\"'sum-3' sum cols:{sum_3}\\n\")\n",
    "print(f\"'prod-1' product array elements:{prod_1}\\n\"f\"'prod-2' product rows: {prod_2}\\n\"f\"'prod-3' product cols: {prod_3}\\n\")\n",
    "print(f\"'cumsum_1' cumulative sum array elements:\\n{cumsum_1}\\n\"f\"'cumsum_2' cumulative sum rows:\\n{cumsum_2}\\n\"f\"'cumsum_3' cumulative sum cols:\\n{cumsum_3}\\n\")\n",
    "print(f\"'clip-1' limit range of values (2-8):\\n{clip_1}\\n\"f\"'clip-2' limit range of values (2-8):\\n{clip_2}\\n\")\n",
    "print(f\"'absolute-1' absolute value array elements:\\n{absolute_1}\\n\"f\"'absolute-2' absolute value array elements:\\n{absolute_2}\\n\")\n",
    "print(f\"'sqrt-1' non-negative square root array elements:\\n{sqrt_1}\\n\"f\"'sqrt-2' non-negative square root array elements:\\n{sqrt_2}\\n\")\n",
    "print(f\"'square-1' square array elements: \\n{square_1}\\n\"f\"'square-2' square array elements: \\n{square_2}\\n\")\n",
    "print(f\"'sign-1' sign indication of array elements:\\n{sign_1}\\n\"f\"'sign-2' sign indication of array elements:\\n{sign_2}\\n\")\n",
    "print(f\"'power' elements of first array raised to powers from the second:\\n{power}\\n\")"
   ]
  },
  {
   "cell_type": "markdown",
   "metadata": {},
   "source": [
    "## Array data type and conversions"
   ]
  },
  {
   "cell_type": "markdown",
   "metadata": {},
   "source": [
    "I mentioned `NumPy` arrays can contain a single data type. This constraint makes data storing and manipulation much more efficient than working with mixed type arrays (like Python lists), which is a priority for `NumPy`. \n",
    "\n",
    "Data types in `NumPy` is a relatively complicated subject, particularly if you are not familiar with C or memory allocation. For our purposes, some basic data types are worth knowing: \n",
    "\n",
    "1. `np.bool_`: used to represent \"Booleans\" (True or False)\n",
    "2. `np.int`: used to integers numbers \n",
    "3. `np.unit`: used to represent positive integers or \"unsigned\" integers\n",
    "4. `np.float`: used to represent real numbers (decimals, fractions, etc) or \"floating point\" numbers  \n",
    "5. `np.complex`: used to represent complex numbers\n",
    "\n",
    "In my experience, booleans, integers, and float point data types are the ones that you end up using the most. At least explicitly. Other data types are used all the time, but you do not have to worry about it because `NumPy` takes care of it for you. Since Python is a \"dynamically typed\" language, which simply means that you do not have to tell the computer what data type you will use (Python does this for you), most of the time you do not need to indicate which data type you will use. \n",
    "\n",
    "For instance, if you simply define and an array of values, `NumPy` will decide what data type to allocate for each: "
   ]
  },
  {
   "cell_type": "code",
   "execution_count": 31,
   "metadata": {},
   "outputs": [],
   "source": [
    "bools = np.array([True, False])\n",
    "ints = np.full((2,2), 1)\n",
    "floats = np.ones(5)\n",
    "unsigned = np.arange(3, dtype=np.uint8)\n",
    "complexs = np.array([+1j, +2j, +3j])\n",
    "unicode = np.array([\"Catbug\", \"Chris\", \"Danny\", \"Wallow\", \"Beth\"])"
   ]
  },
  {
   "cell_type": "code",
   "execution_count": 32,
   "metadata": {},
   "outputs": [
    {
     "name": "stdout",
     "output_type": "stream",
     "text": [
      "Booleans :bool\n",
      "Integers :int64\n",
      "Floats :float64\n",
      "Unsigned :uint8\n",
      "Complexs :complex128\n",
      "Unicode :<U6\n"
     ]
    }
   ],
   "source": [
    "print(f'Booleans :{bools.dtype}')\n",
    "print(f'Integers :{ints.dtype}')\n",
    "print(f'Floats :{floats.dtype}')\n",
    "print(f'Unsigned :{unsigned.dtype}')\n",
    "print(f'Complexs :{complexs.dtype}')\n",
    "print(f'Unicode :{unicode.dtype}')"
   ]
  },
  {
   "cell_type": "markdown",
   "metadata": {},
   "source": [
    "In some instances, you may want to explicitly indicate the data type. Here are some examples of how you can do that:"
   ]
  },
  {
   "cell_type": "code",
   "execution_count": 33,
   "metadata": {},
   "outputs": [],
   "source": [
    "int_16 = np.array([1, 2, 3, 4], dtype='int16')\n",
    "float_32 = np.array([1, 2, 3, 4], dtype='float32')\n",
    "unsigned_int_8 = np.arange(3, dtype='uint8')"
   ]
  },
  {
   "cell_type": "code",
   "execution_count": 34,
   "metadata": {},
   "outputs": [
    {
     "name": "stdout",
     "output_type": "stream",
     "text": [
      "Integer 16 bytes data type: int16\n",
      "Float 32 bytes data type: float32\n",
      "Unsigned integer 8 bytes data type: uint8\n"
     ]
    }
   ],
   "source": [
    "print(f'Integer 16 bytes data type: { int_16.dtype}')\n",
    "print(f'Float 32 bytes data type: {float_32.dtype}')\n",
    "print(f'Unsigned integer 8 bytes data type: {unsigned_int_8.dtype}')"
   ]
  },
  {
   "cell_type": "markdown",
   "metadata": {},
   "source": [
    "Note that the numbers after the data type, like 8, 16, 32, and 64, indicate the number of bytes is allocated to represent each element of the array. The higher the number, the more memory.\n",
    "\n",
    "There are several reasons why you may want to explicitly indicate the data type. One of the most common reasons is **memory efficiency**. If you know your range of numbers in a variable is small positive numbers, utilizing 8 bytes unsigned integers will use significantly less memory than a 32 bytes integer. Now, this will be an issue only with massive datasets, meaning datasets that make your computer to have difficulty processing your data, as it is not clear what \"massive\" means without context. \n",
    "\n",
    "A final operation you may want to do, is **to change the data type of an array**. For instance, let's say you want to stack two arrays, but one has a floating-point data type and the other integers. Recall that `NumPy` arrays can have a single data type. Let's see an example."
   ]
  },
  {
   "cell_type": "code",
   "execution_count": 35,
   "metadata": {},
   "outputs": [],
   "source": [
    "int_array = np.arange(10, dtype='int')\n",
    "float_array = np.arange(10, dtype='float')"
   ]
  },
  {
   "cell_type": "code",
   "execution_count": 36,
   "metadata": {},
   "outputs": [
    {
     "name": "stdout",
     "output_type": "stream",
     "text": [
      "Array 1: [0 1 2 3 4 5 6 7 8 9], data type:int64\n",
      "Array 2: [0. 1. 2. 3. 4. 5. 6. 7. 8. 9.], data type:float64\n"
     ]
    }
   ],
   "source": [
    "print(f'Array 1: {int_array}, data type:{int_array.dtype}')\n",
    "print(f'Array 2: {float_array}, data type:{float_array.dtype}')"
   ]
  },
  {
   "cell_type": "markdown",
   "metadata": {},
   "source": [
    "Let's first stack the arrays as they are:"
   ]
  },
  {
   "cell_type": "code",
   "execution_count": 37,
   "metadata": {},
   "outputs": [],
   "source": [
    "stacked_arrays = np.stack((int_array, float_array))"
   ]
  },
  {
   "cell_type": "code",
   "execution_count": 38,
   "metadata": {},
   "outputs": [
    {
     "name": "stdout",
     "output_type": "stream",
     "text": [
      "Stacked arrays as they are:\n",
      "[[0. 1. 2. 3. 4. 5. 6. 7. 8. 9.]\n",
      " [0. 1. 2. 3. 4. 5. 6. 7. 8. 9.]],\n",
      "data type:float64\n"
     ]
    }
   ],
   "source": [
    "print(f'Stacked arrays as they are:\\n{stacked_arrays},\\ndata type:{stacked_arrays.dtype}')"
   ]
  },
  {
   "cell_type": "markdown",
   "metadata": {},
   "source": [
    "As you can see, `NumPy` \"upcasted\" the data type of lower precision, the `int64`, to the data type of higher precision, the `float64`. This is simply because `int64` can't represent float point or real numbers, only integers or natural numbers. But `float64` can represent integers. So it is the smart choice to make things work. \n",
    "\n",
    "Now, you may want to keep everything as integers, for whatever reason. If so, this is what you need to do. First, convert the `float64` array to an `int64` array as:"
   ]
  },
  {
   "cell_type": "code",
   "execution_count": 39,
   "metadata": {},
   "outputs": [],
   "source": [
    "int_array_2 = float_array.astype('int64')"
   ]
  },
  {
   "cell_type": "markdown",
   "metadata": {},
   "source": [
    "And now stack things together. "
   ]
  },
  {
   "cell_type": "code",
   "execution_count": 40,
   "metadata": {},
   "outputs": [],
   "source": [
    "stacked_arrays_2 = np.stack((int_array, int_array_2))"
   ]
  },
  {
   "cell_type": "code",
   "execution_count": 41,
   "metadata": {},
   "outputs": [
    {
     "name": "stdout",
     "output_type": "stream",
     "text": [
      "Stacked arrays after conversion:\n",
      "[[0 1 2 3 4 5 6 7 8 9]\n",
      " [0 1 2 3 4 5 6 7 8 9]],\n",
      "data type:int64\n"
     ]
    }
   ],
   "source": [
    "print(f'Stacked arrays after conversion:\\n{stacked_arrays_2},\\ndata type:{stacked_arrays_2.dtype}')"
   ]
  },
  {
   "cell_type": "markdown",
   "metadata": {},
   "source": [
    "There you go, the array is composed by integers of 64 bytes now. \n",
    "\n",
    "Let's say you want to save memory by converting the new array to a **lower byte representation**, like int 8. This is known as \"downcasting\", i.e., the opposite of \"upcasting\". For this you simply need to:"
   ]
  },
  {
   "cell_type": "code",
   "execution_count": 42,
   "metadata": {},
   "outputs": [],
   "source": [
    "stacked_arrays_3 = stacked_arrays_2.astype('int8')"
   ]
  },
  {
   "cell_type": "code",
   "execution_count": 43,
   "metadata": {},
   "outputs": [
    {
     "name": "stdout",
     "output_type": "stream",
     "text": [
      "Stacked arrays after downcasting:\n",
      "[[0 1 2 3 4 5 6 7 8 9]\n",
      " [0 1 2 3 4 5 6 7 8 9]],\n",
      "data type:int8\n"
     ]
    }
   ],
   "source": [
    "print(f'Stacked arrays after downcasting:\\n{stacked_arrays_3},\\ndata type:{stacked_arrays_3.dtype}')"
   ]
  },
  {
   "cell_type": "markdown",
   "metadata": {},
   "source": [
    "You can check and compare the memory \"footprint\" of each array as:"
   ]
  },
  {
   "cell_type": "code",
   "execution_count": 44,
   "metadata": {},
   "outputs": [
    {
     "name": "stdout",
     "output_type": "stream",
     "text": [
      "Memory size Int64 array:160\n",
      "Memory size Int8 array:20\n"
     ]
    }
   ],
   "source": [
    "print(f'Memory size Int64 array:{stacked_arrays_2.nbytes}')\n",
    "print(f'Memory size Int8 array:{stacked_arrays_3.nbytes}')"
   ]
  },
  {
   "cell_type": "markdown",
   "metadata": {},
   "source": [
    "The memory footprint has been reduced by a factor of 8. This may not sound like a lot, but if you are working with a dataset of size, let's say, 8 gigabytes, you can reduce such memory usage to only 1 gigabyte, which will also do data manipulation faster. "
   ]
  },
  {
   "cell_type": "markdown",
   "metadata": {},
   "source": [
    "## Array manipulation"
   ]
  },
  {
   "cell_type": "markdown",
   "metadata": {},
   "source": [
    "The shape of an array is given by the number of elements along each axis. Now, if you think in an array as composed by little boxes or LEGO pieces, you can start to think of how those pieces can be rearranged in different shapes. For example, a 2 x 2 array could be \"flattened\" to be a 1 x 4 array, or maybe you could \"swap\" the rows and columns of the array, by moving the little boxes around or even take away a couple of pieces reducing the array to a 1 x 2 shape.\n",
    "\n",
    "These kinds of operations are extremely common in any kind of data manipulation, and it is one of the most important skills to acquire. Some people prefer to convert `NumPy` arrays to `Pandas` DataFrames, as `Pandas` provide several easy to use functions to manipulate arrays. Nonetheless, manipulating arrays in `NumPy` it is not that much harder, it can save you time and effort by preventing you to going back and forth with `Pandas`, and well, this is a `NumPy` tutorial, so we are here to learn `NumPy` way. "
   ]
  },
  {
   "cell_type": "markdown",
   "metadata": {},
   "source": [
    "### Array shape manipulation"
   ]
  },
  {
   "cell_type": "markdown",
   "metadata": {},
   "source": [
    "Arrays can be changed with or without changing is data. This is equivalent to the difference between rearranging LEGO blocks with or without adding/removing pieces. \n",
    "\n",
    "The `reshape` method changes the shape of an array *without* changing its data. "
   ]
  },
  {
   "cell_type": "code",
   "execution_count": 45,
   "metadata": {},
   "outputs": [
    {
     "name": "stdout",
     "output_type": "stream",
     "text": [
      "Array-1 shape: (2, 3)\n"
     ]
    }
   ],
   "source": [
    "array_1 = np.array([[1, 2, 3],\n",
    "                    [4, 5, 6]])\n",
    "\n",
    "print(f'Array-1 shape: {array_1.shape}')"
   ]
  },
  {
   "cell_type": "markdown",
   "metadata": {},
   "source": [
    "Array-1 has shape (2, 3), meaning it has 2 rows and 3 columns. "
   ]
  },
  {
   "cell_type": "code",
   "execution_count": 46,
   "metadata": {},
   "outputs": [],
   "source": [
    "# the two syntaxs below are equivalent\n",
    "array_2 = array_1.reshape(3,2) \n",
    "array_3 = np.reshape(array_1, (1,6))"
   ]
  },
  {
   "cell_type": "code",
   "execution_count": 47,
   "metadata": {},
   "outputs": [
    {
     "name": "stdout",
     "output_type": "stream",
     "text": [
      "Array-2:\n",
      "[[1 2]\n",
      " [3 4]\n",
      " [5 6]],\n",
      "shape: (3, 2)\n",
      "\n",
      "Array-3:\n",
      "[[1 2 3 4 5 6]],\n",
      "shape: (1, 6)\n"
     ]
    }
   ],
   "source": [
    "print(f'Array-2:\\n{array_2},\\nshape: {array_2.shape}\\n')\n",
    "print(f'Array-3:\\n{array_3},\\nshape: {array_3.shape}')"
   ]
  },
  {
   "cell_type": "markdown",
   "metadata": {},
   "source": [
    "Array-2 and Array-3 preserve the number of elements of Array-1.\n",
    "\n",
    "**Flattening** an array, this is, collapsing all values into a single axis or dimension, can be done in two manners:"
   ]
  },
  {
   "cell_type": "code",
   "execution_count": 48,
   "metadata": {},
   "outputs": [],
   "source": [
    "array_1_ravel = array_1.ravel()\n",
    "array_1_flatt = array_1.flatten()"
   ]
  },
  {
   "cell_type": "code",
   "execution_count": 49,
   "metadata": {},
   "outputs": [
    {
     "name": "stdout",
     "output_type": "stream",
     "text": [
      "Array-1 ravel:\n",
      "[1 2 3 4 5 6],\n",
      "shape: (6,)\n",
      "\n",
      "Array-1 flattened:\n",
      "[1 2 3 4 5 6],\n",
      "shape: (6,)\n"
     ]
    }
   ],
   "source": [
    "print(f'Array-1 ravel:\\n{array_1_ravel},\\nshape: {array_1_ravel.shape}\\n')\n",
    "print(f'Array-1 flattened:\\n{array_1_flatt},\\nshape: {array_1_flatt.shape}')"
   ]
  },
  {
   "cell_type": "markdown",
   "metadata": {},
   "source": [
    "Why on earth are there two methods to do exactly the same? The answer is that they are not doing the same: `ravel()` returns a '**view**' of the original array, whereas `flatten()` returns an independent '**copy**' of it. Views or images are just \"pointers\" to the original array in memory, whereas copies have their own space in memory. I'll cover this in-depth later.\n",
    "\n",
    "Another thing you might have realized is that Array-3 has the same elements as Array-1-ravel and Array-1-flattened, but it has an extra pair of `[]` and shape `(1,6)` instead of `(,6)`. What is going on here? \n",
    "\n",
    "Put simply, internally, `NumPy` arrays have two parts: the information itself and information about how to interpret/read the array. In the case of the shape information, this indicates how many \"indices\" are associated with an array. The `(1,6)` is saying that there **two indices** identifying the array: the number 1 for all the elements, and the numbers from 1 to 6 for each element. This makes sense if you think in arrays as matrices or excel sheets: the first element is in the first row and first column (1,1), the second in the first row and the second column (1, 2), and so on.\n",
    "\n",
    "However, If you think about it, you don't need two indices to identify the elements of a one-dimensional array. After all, when we count things we do not count \"1 and 1, 1 and 2, 1 and 3, 1 and 4...\" and so on. The `(6,)` is just saying that there is a **single index** identifying each of the 6 elements of the array, which makes perfect sense. The first element of the array is in position one (1,), the second in position two (2,), and so on. \n",
    "\n",
    "Now you may be wondering. Why then add a 1 as an index if it's unnecessary? Since `NumPy` supports multi-dimensional arrays, technically, the `(1,6)` is indicating the array has TWO dimensions or axes instead of one. \"BUT, the array has just one dimension, right?\" Yes and no. The thing is such array can be represented as either: as a collection of elements along one dimension or as a collection of elements along two dimensions, with the caveat that the first dimension has all the data, and the other is basically \"empty\" or \"flat\", but assigned to it. Just like with the first element is in the first row and first column (1,1)\" idea. \n",
    "\n",
    "If you are familiar with linear algebra or geometry, you should know that a square is an object with two dimensions, but that can 'live' in three, four, five, a million, or any number of dimensions. Essentially, higher-dimensional spaces can contain objects with fewer dimensions, but not the other way around. You can't fit a sphere in a plane. The misunderstanding, in my view, comes from the tendency to think in data as two-dimensional grid-like objects, when in practice does not need to be like that *necessarily*. People like to think in `NumPy` arrays as matrices, vectors, tensors, etc., but they aren't, they are arrays with one or more dimensions. Period. \n",
    "\n",
    "This whole discussion may sound like I am beating around the bushes, but I am not. Dimensionality mismatch is one of the most important sources of errors, misunderstandings, and frustrations when working with `NumPy` arrays. If you ever do anything related to linear algebra, like pretty much all of machine learning and statistics, you need to have a firm understanding of how dimensions work in `NumPy`. \n",
    "\n",
    "Related to our previous discussion, a \"trick\" you may want to be aware of, is how to **add dimensions to an array**, since you will find cases where this can be an issue."
   ]
  },
  {
   "cell_type": "code",
   "execution_count": 50,
   "metadata": {},
   "outputs": [
    {
     "name": "stdout",
     "output_type": "stream",
     "text": [
      "Array a: [1 2 3]\n",
      "\n",
      "Array a shape: (3,)\n",
      "\n",
      "Array a dimensions: 1\n",
      "\n"
     ]
    }
   ],
   "source": [
    "a = np.array([1, 2, 3])\n",
    "\n",
    "print(f'Array a: {a}\\n')\n",
    "print(f'Array a shape: {a.shape}\\n')\n",
    "print(f'Array a dimensions: {a.ndim}\\n')"
   ]
  },
  {
   "cell_type": "markdown",
   "metadata": {},
   "source": [
    "To add a new dimension and keep array **a** as \"row\" in a two-dimensional \"matrix\", use the `np.newaxis` object:"
   ]
  },
  {
   "cell_type": "code",
   "execution_count": 51,
   "metadata": {},
   "outputs": [
    {
     "name": "stdout",
     "output_type": "stream",
     "text": [
      "Array a: [[1 2 3]]\n",
      "\n",
      "Array a shape: (1, 3)\n",
      "\n",
      "Array a dimensions: 2\n",
      "\n"
     ]
    }
   ],
   "source": [
    "a_row = a[np.newaxis, :]\n",
    "\n",
    "print(f'Array a: {a_row}\\n')\n",
    "print(f'Array a shape: {a_row.shape}\\n')\n",
    "print(f'Array a dimensions: {a_row.ndim}\\n')"
   ]
  },
  {
   "cell_type": "markdown",
   "metadata": {},
   "source": [
    "To add a new dimension and keep array **a** as \"column\" in a two-dimensional \"matrix\", just flip the order of the arguments:"
   ]
  },
  {
   "cell_type": "code",
   "execution_count": 52,
   "metadata": {},
   "outputs": [
    {
     "name": "stdout",
     "output_type": "stream",
     "text": [
      "Array a:\n",
      "[[1]\n",
      " [2]\n",
      " [3]]\n",
      "\n",
      "Array a shape: (3, 1)\n",
      "\n",
      "Array a dimensions: 2\n",
      "\n"
     ]
    }
   ],
   "source": [
    "a_col = a[:, np.newaxis]\n",
    "\n",
    "print(f'Array a:\\n{a_col}\\n')\n",
    "print(f'Array a shape: {a_col.shape}\\n')\n",
    "print(f'Array a dimensions: {a_col.ndim}\\n')"
   ]
  },
  {
   "cell_type": "markdown",
   "metadata": {},
   "source": [
    "### Array transpose-like operations"
   ]
  },
  {
   "cell_type": "markdown",
   "metadata": {},
   "source": [
    "**Transposing** means to \"swap\" or interchange the position and elements between two or more axes. \n",
    "\n",
    "The most common operation is the plain **Transpose** operation, where the axes get permuted.  "
   ]
  },
  {
   "cell_type": "code",
   "execution_count": 53,
   "metadata": {},
   "outputs": [],
   "source": [
    "array_1 = np.arange(4).reshape((2,2))# two dimensional array\n",
    "array_2 = np.arange(12).reshape((3,2,2)) # three dimensional array"
   ]
  },
  {
   "cell_type": "code",
   "execution_count": 54,
   "metadata": {},
   "outputs": [
    {
     "name": "stdout",
     "output_type": "stream",
     "text": [
      "Array-1:\n",
      "[[0 1]\n",
      " [2 3]],\n",
      "shape:(2, 2)\n",
      "\n",
      "Array-2:\n",
      "[[[ 0  1]\n",
      "  [ 2  3]]\n",
      "\n",
      " [[ 4  5]\n",
      "  [ 6  7]]\n",
      "\n",
      " [[ 8  9]\n",
      "  [10 11]]],\n",
      "shape:(3, 2, 2)\n"
     ]
    }
   ],
   "source": [
    "print(f'Array-1:\\n{array_1},\\nshape:{array_1.shape}\\n')\n",
    "print(f'Array-2:\\n{array_2},\\nshape:{array_2.shape}')"
   ]
  },
  {
   "cell_type": "markdown",
   "metadata": {},
   "source": [
    "Now let's transpose both:"
   ]
  },
  {
   "cell_type": "code",
   "execution_count": 55,
   "metadata": {},
   "outputs": [],
   "source": [
    "array_1_T = array_1.T\n",
    "array_2_T = array_2.T"
   ]
  },
  {
   "cell_type": "code",
   "execution_count": 56,
   "metadata": {},
   "outputs": [
    {
     "name": "stdout",
     "output_type": "stream",
     "text": [
      "Array-1 transposed:\n",
      "[[0 2]\n",
      " [1 3]],\n",
      "shape:(2, 2)\n",
      "\n",
      "Array-2 transposed:\n",
      "[[[ 0  4  8]\n",
      "  [ 2  6 10]]\n",
      "\n",
      " [[ 1  5  9]\n",
      "  [ 3  7 11]]],\n",
      "shape:(2, 2, 3)\n"
     ]
    }
   ],
   "source": [
    "print(f'Array-1 transposed:\\n{array_1_T},\\nshape:{array_1_T.shape}\\n')\n",
    "print(f'Array-2 transposed:\\n{array_2_T},\\nshape:{array_2_T.shape}')"
   ]
  },
  {
   "cell_type": "markdown",
   "metadata": {},
   "source": [
    "Array-1 has swapped the rows for the columns. Array-2 has reshaped from a three 2x2 arrays, into two 2x3 arrays. This is because of the indices \"cycle\" such that the third index pass to the first place, the second to the third, and the first to the second.\n",
    "\n",
    "The `moveaxis` method is more flexible than transpose as it allows for an arbitrary rearrangement of axes to new positions. The syntax is simple: `np.moveaxis(original-array, origin-position-axis-to-move, destiny-position-axis-to-move)`. Recall that axes are index as (0, 1, 2, ...0)."
   ]
  },
  {
   "cell_type": "code",
   "execution_count": 57,
   "metadata": {},
   "outputs": [],
   "source": [
    "array_move_2_3_4 = np.arange(24).reshape((2,3,4))\n",
    "array_move_2_4_3 = np.moveaxis(array_move_2_3_4, 2, 1) # move axis in position two to position one\n",
    "array_move_3_2_4 = np.moveaxis(array_move_2_3_4, 0, 1) # move axis in position zero to position one\n",
    "array_move_3_4_2 = np.moveaxis(array_move_2_3_4, 0, 2) # move axist in the zero position to position two\n",
    "array_move_4_2_3 = np.moveaxis(array_move_2_3_4, [2, 1], [0, 2]) # move axes in positions two and one, to positions zero and two\n",
    "array_move_4_3_2 = np.moveaxis(array_move_2_3_4, [2, 0], [0, 2]) # move axes in positions two and zero, to positions zero and two"
   ]
  },
  {
   "cell_type": "code",
   "execution_count": 58,
   "metadata": {},
   "outputs": [
    {
     "name": "stdout",
     "output_type": "stream",
     "text": [
      "Original order: (2, 3, 4)\n",
      "\n",
      "New axes order 1: (2, 4, 3)\n",
      "\n",
      "New axes order 2: (3, 2, 4)\n",
      "\n",
      "New axes order 3: (3, 4, 2)\n",
      "\n",
      "New axes order 4: (4, 2, 3)\n",
      "\n",
      "New axes order 5: (4, 3, 2)\n"
     ]
    }
   ],
   "source": [
    "print(f'Original order: {array_move_2_3_4.shape}\\n')\n",
    "print(f'New axes order 1: {array_move_2_4_3.shape}\\n')\n",
    "print(f'New axes order 2: {array_move_3_2_4.shape}\\n')\n",
    "print(f'New axes order 3: {array_move_3_4_2.shape}\\n')\n",
    "print(f'New axes order 4: {array_move_4_2_3.shape}\\n')\n",
    "print(f'New axes order 5: {array_move_4_3_2.shape}')"
   ]
  },
  {
   "cell_type": "markdown",
   "metadata": {},
   "source": [
    "### Array dimension manipulation"
   ]
  },
  {
   "cell_type": "markdown",
   "metadata": {},
   "source": [
    "Intentionally changing the dimensions of arrays is an operation done mostly, in my experience, when you want to combine arrays or to do mathematical operations with two or more arrays. In the dimensions do not match or are not defined in a certain manner, joining or calculations won't work, or would work in unexpected manners.\n",
    "\n",
    "In this section, I'll mention just two operations: **expanding dimensions** and **squeezing dimensions**, which are opposite operations. There is a third extremely important dimension manipulation operation: broadcasting. Broadcasting is not just important but rather complicated to explain so I will give its own section after this one. \n",
    "\n",
    "Expanding dimensions it is always possible as higher-dimensional objects can always contain lower-dimensional objects: you can fit a two-dimensional piece of paper inside a three-dimensional box, but not the other way around (I know! paper is three dimensional, but I hope you get the point). "
   ]
  },
  {
   "cell_type": "code",
   "execution_count": 59,
   "metadata": {},
   "outputs": [],
   "source": [
    "array_one = np.array([1, 2, 3])\n",
    "array_two = np.array([[1, 2, 3], [4, 5, 6]])\n",
    "array_one_expand =  np.expand_dims(array_one, axis=0)\n",
    "array_two_expand =  np.expand_dims(array_two, axis=0)"
   ]
  },
  {
   "cell_type": "code",
   "execution_count": 60,
   "metadata": {},
   "outputs": [
    {
     "name": "stdout",
     "output_type": "stream",
     "text": [
      "One dimensional array: \n",
      "[1 2 3] \n",
      "shape: (3,)\n",
      "\n",
      "One dimensional array expanded: \n",
      "[[1 2 3]] \n",
      "shape: (1, 3)\n",
      "\n",
      "Two dimensional array: \n",
      "[[1 2 3]\n",
      " [4 5 6]] \n",
      "shape: (2, 3)\n",
      "\n",
      "Two dimensional array expanded: \n",
      "[[[1 2 3]\n",
      "  [4 5 6]]] \n",
      "shape: (1, 2, 3)\n",
      "\n"
     ]
    }
   ],
   "source": [
    "print(f'One dimensional array: \\n{array_one} \\nshape: {array_one.shape}\\n')\n",
    "print(f'One dimensional array expanded: \\n{array_one_expand} \\nshape: {array_one_expand.shape}\\n')\n",
    "print(f'Two dimensional array: \\n{array_two} \\nshape: {array_two.shape}\\n')\n",
    "print(f'Two dimensional array expanded: \\n{array_two_expand} \\nshape: {array_two_expand.shape}\\n')"
   ]
  },
  {
   "cell_type": "markdown",
   "metadata": {},
   "source": [
    "As you can see, both arrays gain an extra dimension when expanded. \n",
    "\n",
    "Let's bring the arrays back to their original dimensionality with the opposite operation: squeezing. "
   ]
  },
  {
   "cell_type": "code",
   "execution_count": 61,
   "metadata": {},
   "outputs": [],
   "source": [
    "array_one_squeez =  np.squeeze(array_one_expand, axis=0)\n",
    "array_two_squeez =  np.squeeze(array_two_expand, axis=0)"
   ]
  },
  {
   "cell_type": "code",
   "execution_count": 62,
   "metadata": {},
   "outputs": [
    {
     "name": "stdout",
     "output_type": "stream",
     "text": [
      "Three dimensional array squeezed: \n",
      "[1 2 3] \n",
      "shape: (3,)\n",
      "\n",
      "Three dimensional array squeezed: \n",
      "[[1 2 3]\n",
      " [4 5 6]] \n",
      "shape: (2, 3)\n"
     ]
    }
   ],
   "source": [
    "print(f'Three dimensional array squeezed: \\n{array_one_squeez} \\nshape: {array_one_squeez.shape}\\n')\n",
    "print(f'Three dimensional array squeezed: \\n{array_two_squeez} \\nshape: {array_two_squeez.shape}')"
   ]
  },
  {
   "cell_type": "markdown",
   "metadata": {},
   "source": [
    "We can check the squeezed arrays have the same dimensionality that the original ones as:"
   ]
  },
  {
   "cell_type": "code",
   "execution_count": 63,
   "metadata": {},
   "outputs": [
    {
     "name": "stdout",
     "output_type": "stream",
     "text": [
      "Are dimensions for array-one and array-one-squeezed equal?: True\n",
      "\n",
      "Are dimensions for array-two and array-two-squeezed equal?: True\n"
     ]
    }
   ],
   "source": [
    "print(f'Are dimensions for array-one and array-one-squeezed equal?: {array_one.shape == array_one_squeez.shape}\\n')\n",
    "print(f'Are dimensions for array-two and array-two-squeezed equal?: {array_two.shape == array_two_squeez.shape}')"
   ]
  },
  {
   "cell_type": "markdown",
   "metadata": {},
   "source": [
    "### Array broadcasting"
   ]
  },
  {
   "cell_type": "markdown",
   "metadata": {},
   "source": [
    "**Broadcasting** is an automatic `NumPy` mechanism to match the dimensionality of arrays with different shapes for element-wise operations. Broadcasting usually improves speed by means of vectorizing operations, meaning that the loop will occur in compiled C code rather than in Python, as Python looping us is resource-intensive and slow. However, there are some cases where broadcasting is not the best option. \n",
    "\n",
    "In the array mathematics section, we saw `NumPy` performs several important computations element-wise, which requires having arrays with matching shapes: arrays of shape (,1), (2,2), and (4,3,2), must be multiplied by arrays with shape (,1), (2,2), and (4,3,2), to be compatible. However, there are cases where we want to multiplied arrays with shapes that do not match, for instance: \n",
    "\n",
    "$$\\textit{A} x =\n",
    "\\begin{bmatrix}\n",
    "1 & 2 \\\\\n",
    "3 & 4\n",
    "\\end{bmatrix}\n",
    "2\n",
    "$$\n",
    "\n",
    "Following linear algebra conventions, we should multiply each element of $\\textit{A}$ by 2. The way to get around in this in `NumPy`, is by **broadcasting** the scalar to match the shape of $\\textit{A}$ as:\n",
    "\n",
    "$$\\textit{A} x =\n",
    "\\begin{bmatrix}\n",
    "1 & 2 \\\\\n",
    "3 & 4\n",
    "\\end{bmatrix}\n",
    "\\begin{bmatrix}\n",
    "2 & 2 \\\\\n",
    "2 & 2\n",
    "\\end{bmatrix} =\n",
    "\\begin{bmatrix}\n",
    "2 & 4 \\\\\n",
    "6 & 8\n",
    "\\end{bmatrix}\n",
    "$$\n",
    "\n",
    "The scalar only gets \"stretched\" vertically and horizontally during computation. Now, creating copies of $x$ is memory inefficient, so `NumPy` does not actually copy the value in memory. This is slightly inaccurate, but in a nutshell, broadcasting works by reusing the original value  (the   This may not be evident in the $\\textit{A}x$ example, but just imagine a (1,000,000, 100) array. In such a case, `NumPy` would have to duplicate the size of the dataset, i.e., to create 100,000,000 of values just to perform matrix-scalar multiplication.   \n",
    "\n",
    "Not all arrays can be broadcast. They must meet certain conditions, the \"Broadcasting rule\", which according to the `NumPy` documentation states:\n",
    "\n",
    "\"In order to broadcast, the size of the trailing axes for both arrays in an operation must either be the same size or one of them must be one.\"\n",
    "\n",
    "This is easier to understand visually. The figure below shows the cases where broadcasting is valid, and the next one when it is not."
   ]
  },
  {
   "cell_type": "markdown",
   "metadata": {},
   "source": [
    "<img src=\"images/broadcasting.svg\">"
   ]
  },
  {
   "cell_type": "markdown",
   "metadata": {},
   "source": [
    "For instance:"
   ]
  },
  {
   "cell_type": "code",
   "execution_count": 64,
   "metadata": {},
   "outputs": [],
   "source": [
    "a = np.ones((2,2))\n",
    "b = np.ones (1)"
   ]
  },
  {
   "cell_type": "code",
   "execution_count": 65,
   "metadata": {},
   "outputs": [
    {
     "name": "stdout",
     "output_type": "stream",
     "text": [
      "(2,2) array:\n",
      "[[1. 1.]\n",
      " [1. 1.]]\n",
      "shape: (2, 2)]\n",
      "\n",
      "(1, ) array:\n",
      "[1.]\n",
      "shape: (1,)]\n",
      "\n",
      "Element-wise operations are valid between a and b:\n",
      "[[2. 2.]\n",
      " [2. 2.]]\n"
     ]
    }
   ],
   "source": [
    "print(f'(2,2) array:\\n{a}\\nshape: {a.shape}]\\n')\n",
    "print(f'(1, ) array:\\n{b}\\nshape: {b.shape}]\\n')\n",
    "print(f'Element-wise operations are valid between a and b:\\n{a + b}')"
   ]
  },
  {
   "cell_type": "markdown",
   "metadata": {},
   "source": [
    "Invalid operations are variations of:"
   ]
  },
  {
   "cell_type": "markdown",
   "metadata": {},
   "source": [
    "<img src=\"images/invalid-broadcasting.svg\">"
   ]
  },
  {
   "cell_type": "markdown",
   "metadata": {},
   "source": [
    "We can verify that the above operation does not work: "
   ]
  },
  {
   "cell_type": "code",
   "execution_count": 66,
   "metadata": {},
   "outputs": [],
   "source": [
    "a = np.ones((2,2))\n",
    "b = np.ones((3))"
   ]
  },
  {
   "cell_type": "code",
   "execution_count": 67,
   "metadata": {},
   "outputs": [],
   "source": [
    "# a + b "
   ]
  },
  {
   "cell_type": "markdown",
   "metadata": {},
   "source": [
    "In this case, we get a \"ValueError: operands could not be broadcast together\" error message. \n",
    "\n",
    "Most of the time you won't need to think in dimension matching beforehand. Either it will work or `NumPy` will let you know dimensions do not match. The important part is to be aware of broadcasting mechanics such that you can debug dimension mismatch problems rapidly. "
   ]
  },
  {
   "cell_type": "markdown",
   "metadata": {},
   "source": [
    "### Joining arrays"
   ]
  },
  {
   "cell_type": "markdown",
   "metadata": {},
   "source": [
    "Joining arrays is another common operation in data processing, particularly to put together data coming from different sources. For instance, large datasets are commonly split into several sub-datasets containing different features or variables associated with the same population.\n",
    "\n",
    "[Here](https://numpy.org/doc/stable/reference/routines.array-manipulation.html#joining-arrays) are all the joining methods in `NumPy`. Below a couple of the main methods. "
   ]
  },
  {
   "cell_type": "code",
   "execution_count": 68,
   "metadata": {},
   "outputs": [],
   "source": [
    "base_array = np.arange(1,10).reshape((3,3))\n",
    "join_array = np.arange(1,4).reshape((1,3))\n",
    "\n",
    "concatenate = np.concatenate((base_array, join_array), axis=0)\n",
    "stack = np.stack((base_array, base_array))\n",
    "hstack = np.hstack((base_array, join_array.T))\n",
    "vstack = np.vstack((base_array, join_array))"
   ]
  },
  {
   "cell_type": "markdown",
   "metadata": {},
   "source": [
    "To **concatenate** arrays must have at least one equal dimension, which must be defined as the axis reference. Here we concatenate along the first axis (rows match). If you try to concatenate along the second axis the operation will fail (columns do not match)."
   ]
  },
  {
   "cell_type": "code",
   "execution_count": 69,
   "metadata": {},
   "outputs": [
    {
     "name": "stdout",
     "output_type": "stream",
     "text": [
      "Row-wise concatenation:\n",
      "[[1 2 3]\n",
      " [4 5 6]\n",
      " [7 8 9]\n",
      " [1 2 3]]\n",
      "\n"
     ]
    }
   ],
   "source": [
    "print(f'Row-wise concatenation:\\n{concatenate}\\n')"
   ]
  },
  {
   "cell_type": "markdown",
   "metadata": {},
   "source": [
    "To **stack** arrays, all the arrays must have the same dimensions. The logic here is to generate an array with an extra dimension, like stacking LEGO pieces with the same shape. "
   ]
  },
  {
   "cell_type": "code",
   "execution_count": 70,
   "metadata": {},
   "outputs": [
    {
     "name": "stdout",
     "output_type": "stream",
     "text": [
      "Stacking:\n",
      "[[[1 2 3]\n",
      "  [4 5 6]\n",
      "  [7 8 9]]\n",
      "\n",
      " [[1 2 3]\n",
      "  [4 5 6]\n",
      "  [7 8 9]]]\n",
      "\n",
      "shape before stacking:(3, 3)\n",
      "shape after stacking:(2, 3, 3)\n"
     ]
    }
   ],
   "source": [
    "print(f'Stacking:\\n{stack}\\n')\n",
    "print(f'shape before stacking:{base_array.shape}\\nshape after stacking:{stack.shape}')"
   ]
  },
  {
   "cell_type": "markdown",
   "metadata": {},
   "source": [
    "**Horizontal stacking** (`hstack`) and **vertical stacking** (`vstack`), stack arrays along the horizontal and vertical axes, i.e., column-wise and row-wise, meaning that the array will \"grow\" horizontally (attached to the right) and vertically (attached below), respectively.\n",
    "\n",
    "In most cases, the same effect can be accomplished with the concatenation method along axis 1 (cols) and axis 0 (rows). To work, **horizontal stacking** must match along all axes but the first one, the first one being the horizontal one, or \"the rows\" in the 2-dimensional case. This is why we had to transpose the `join_array`, such that rows match. In other words, you can have an arbitrary number of columns but everything else must match. **Vertical stacking** is analogous: you can have an arbitrary number of rows, but columns must match. "
   ]
  },
  {
   "cell_type": "code",
   "execution_count": 71,
   "metadata": {},
   "outputs": [
    {
     "name": "stdout",
     "output_type": "stream",
     "text": [
      "Horizontal-wise or column-wise stacking:\n",
      "[[1 2 3 1]\n",
      " [4 5 6 2]\n",
      " [7 8 9 3]]\n",
      "\n",
      "Vertical-wise or row-wise stacking:\n",
      "[[1 2 3]\n",
      " [4 5 6]\n",
      " [7 8 9]\n",
      " [1 2 3]]\n",
      "\n"
     ]
    }
   ],
   "source": [
    "print(f'Horizontal-wise or column-wise stacking:\\n{hstack}\\n')\n",
    "print(f'Vertical-wise or row-wise stacking:\\n{vstack}\\n')"
   ]
  },
  {
   "cell_type": "markdown",
   "metadata": {},
   "source": [
    "### Splitting arrays"
   ]
  },
  {
   "cell_type": "markdown",
   "metadata": {},
   "source": [
    "Splitting arrays is common when you want to analyze, model, or plot a subset of the data. Also when your data size is enormous and you want to save it in chunks. \n",
    "\n",
    "[Here](https://numpy.org/doc/stable/reference/routines.array-manipulation.html#splitting-arrays) are all the `NumPy` splitting functions. Let's explore a couple."
   ]
  },
  {
   "cell_type": "code",
   "execution_count": 72,
   "metadata": {},
   "outputs": [],
   "source": [
    "array_one = np.arange(9)\n",
    "array_two = np.arange(8).reshape((2,2,2))\n",
    "\n",
    "split_one, split_two = np.split(array_one, 3), np.split(array_two, 2) \n",
    "array_split_one, array_split_two = np.array_split(array_one, 2), np.array_split(array_two, 3)\n",
    "hsplit_one = np.hsplit(array_one, 3)\n",
    "hsplit_two, vsplit_two = np.hsplit(array_two, 2), np.vsplit(array_two, 2)"
   ]
  },
  {
   "cell_type": "markdown",
   "metadata": {},
   "source": [
    "The `split` method will work as long as you ask for a number of sub-arrays which can be obtained via equal division of the original array. For instance, `array_one` can be equally divided into two arrays."
   ]
  },
  {
   "cell_type": "code",
   "execution_count": 73,
   "metadata": {},
   "outputs": [
    {
     "name": "stdout",
     "output_type": "stream",
     "text": [
      "Array one (9,):\n",
      "(9,)\n",
      "\n",
      "Array two (2,2,2):\n",
      "(2, 2, 2)\n",
      "\n",
      "Array one is split into 3 (1,3) sub-arrays:\n",
      "[0 1 2]\n",
      "[3 4 5]\n",
      "[6 7 8]\n",
      "\n",
      "Array two is split into 2 (1,2,2) sub-arrays:\n",
      "[[[0 1]\n",
      "  [2 3]]]\n",
      "[[[4 5]\n",
      "  [6 7]]]\n",
      "\n"
     ]
    }
   ],
   "source": [
    "print(f'Array one (9,):\\n{array_one.shape}\\n')\n",
    "print(f'Array two (2,2,2):\\n{array_two.shape}\\n')\n",
    "print(f'Array one is split into 3 (1,3) sub-arrays:\\n{split_one[0]}\\n{split_one[1]}\\n{split_one[2]}\\n') \n",
    "print(f'Array two is split into 2 (1,2,2) sub-arrays:\\n{split_two[0]}\\n{split_two[1]}\\n') "
   ]
  },
  {
   "cell_type": "markdown",
   "metadata": {},
   "source": [
    "The `array_split` function provides identical functionality than the `array` function, with the difference that it will work even when the original array cannot be equally divided into the requested number of sub-arrays. Basically, if you try to split the array one (9,) into 2, the operation will work and the last number (the \"9\") will be completely ignored. On the other hand, if you try to split an array two (2,2,2) into 3 parts, it will generate  an extra empty axis."
   ]
  },
  {
   "cell_type": "code",
   "execution_count": 74,
   "metadata": {},
   "outputs": [
    {
     "name": "stdout",
     "output_type": "stream",
     "text": [
      "Array one split into 2 sub-arrays:\n",
      "[0 1 2 3 4]\n",
      "[5 6 7 8]\n",
      "\n",
      "Array two split into 3 sub-arrays:\n",
      "[[[0 1]\n",
      "  [2 3]]]\n",
      "[[[4 5]\n",
      "  [6 7]]]\n",
      "[]\n",
      "\n"
     ]
    }
   ],
   "source": [
    "print(f'Array one split into 2 sub-arrays:\\n{array_split_one[0]}\\n{array_split_one[1]}\\n')\n",
    "print(f'Array two split into 3 sub-arrays:\\n{array_split_two[0]}\\n{array_split_two[1]}\\n{array_split_two[2]}\\n')"
   ]
  },
  {
   "cell_type": "markdown",
   "metadata": {},
   "source": [
    "As with concatenation, horizontal split (`hsplit`) and vertical split (`vsplit`) provide equivalent functionality than the split method (`split`), but restricted to the horizontal and vertical axis respectively. Equal division is also a constrain here. Array one can't be split vertically because it has only one dimension. "
   ]
  },
  {
   "cell_type": "code",
   "execution_count": 75,
   "metadata": {},
   "outputs": [
    {
     "name": "stdout",
     "output_type": "stream",
     "text": [
      "Array one horizontal split into 3 sub-arrays:\n",
      "[0 1 2]\n",
      "[3 4 5]\n",
      "[6 7 8]\n",
      "\n",
      "Array two horizontal split into 2 sub-arrays:\n",
      "[[[0 1]]\n",
      "\n",
      " [[4 5]]]\n",
      "[[[2 3]]\n",
      "\n",
      " [[6 7]]]\n",
      "\n",
      "Array two horizontal split into 2 sub-arrays:\n",
      "[[[0 1]\n",
      "  [2 3]]]\n",
      "[[[4 5]\n",
      "  [6 7]]]\n"
     ]
    }
   ],
   "source": [
    "print(f'Array one horizontal split into 3 sub-arrays:\\n{hsplit_one[0]}\\n{hsplit_one[1]}\\n{hsplit_one[2]}\\n')\n",
    "print(f'Array two horizontal split into 2 sub-arrays:\\n{hsplit_two[0]}\\n{hsplit_two[1]}\\n')\n",
    "print(f'Array two horizontal split into 2 sub-arrays:\\n{vsplit_two[0]}\\n{vsplit_two[1]}')"
   ]
  },
  {
   "cell_type": "markdown",
   "metadata": {},
   "source": [
    "### Array repetition"
   ]
  },
  {
   "cell_type": "markdown",
   "metadata": {},
   "source": [
    "Arrays can be constructed or expanded via repetition. Data simulation and image manipulation are situations where you may want to use this functionality. \n",
    "\n",
    "There are two `NumPy` methods that may look similar at first but they are not: **tiling** and **repetition**. "
   ]
  },
  {
   "cell_type": "code",
   "execution_count": 76,
   "metadata": {},
   "outputs": [],
   "source": [
    "array_one = np.arange(1,4)\n",
    "array_two = np.arange(1,10).reshape((3,3))\n",
    "\n",
    "tile_one, tile_two, tile_three, tile_four = np.tile(array_one, (1,2)), np.tile(array_one, (2,1)), np.tile(array_two, (1,2)), np.tile(array_two, (2,1))  \n",
    "repeat_one, repeat_two = np.repeat(array_one, 2, axis=0), np.repeat(array_two, 2) \n",
    "repeat_three, repeat_four = np.repeat(array_two, 2, axis=1), np.repeat(array_two, 2, axis=0)"
   ]
  },
  {
   "cell_type": "markdown",
   "metadata": {},
   "source": [
    "**Tiling** will attach an entire copy of the array (as a block) at its right or below it. The number of copies attached is specified as a tuple, with the first indicating the number of \"rows\" copies and the second the number of \"column\" copies."
   ]
  },
  {
   "cell_type": "code",
   "execution_count": 77,
   "metadata": {},
   "outputs": [
    {
     "name": "stdout",
     "output_type": "stream",
     "text": [
      "Repeat array one twice column-wise:\n",
      "[[1 2 3 1 2 3]]\n",
      "\n",
      "Repeat array one twice row-wise:\n",
      "[[1 2 3]\n",
      " [1 2 3]]\n",
      "\n",
      "Repeat array two twice column-wise:\n",
      "[[1 2 3 1 2 3]\n",
      " [4 5 6 4 5 6]\n",
      " [7 8 9 7 8 9]]\n",
      "\n",
      "Repeat array twotwice  row-wise:\n",
      "[[1 2 3]\n",
      " [4 5 6]\n",
      " [7 8 9]\n",
      " [1 2 3]\n",
      " [4 5 6]\n",
      " [7 8 9]]\n",
      "\n"
     ]
    }
   ],
   "source": [
    "print(f'Repeat array one twice column-wise:\\n{tile_one}\\n')\n",
    "print(f'Repeat array one twice row-wise:\\n{tile_two}\\n')\n",
    "print(f'Repeat array two twice column-wise:\\n{tile_three}\\n')\n",
    "print(f'Repeat array twotwice  row-wise:\\n{tile_four}\\n')"
   ]
  },
  {
   "cell_type": "markdown",
   "metadata": {},
   "source": [
    "The **repeat** method will replicate the **elements** of the array in place. For instance:\n",
    "\n",
    "$$\n",
    "\\begin{bmatrix}\n",
    "1 & 2\n",
    "\\end{bmatrix}\n",
    "$$ \n",
    "\n",
    "Will be repeated as: \n",
    "\n",
    "$$\n",
    "\\begin{bmatrix}\n",
    "1 & 1 & 2 & 2\n",
    "\\end{bmatrix}\n",
    "$$ \n",
    "\n",
    "Instead as:\n",
    "\n",
    "$$\n",
    "\\begin{bmatrix}\n",
    "1 & 2 & 1 & 2\n",
    "\\end{bmatrix}\n",
    "$$ \n",
    "\n",
    "The latter behavior is expected from the tile method instead. The axis for repetition is specified independently as \"axis=0\" for rows and \"axis=1\" for columns. "
   ]
  },
  {
   "cell_type": "code",
   "execution_count": 78,
   "metadata": {},
   "outputs": [
    {
     "name": "stdout",
     "output_type": "stream",
     "text": [
      "Repeat array one twice row-wise:\n",
      "[1 1 2 2 3 3]\n",
      "\n",
      "Repeat array two twice and flattened into one dimension:\n",
      "[1 1 2 2 3 3 4 4 5 5 6 6 7 7 8 8 9 9]\n",
      "\n",
      "Repeat array two twice column-wise:\n",
      "[[1 1 2 2 3 3]\n",
      " [4 4 5 5 6 6]\n",
      " [7 7 8 8 9 9]]\n",
      "\n",
      "Repeat array two twice row-wise:\n",
      "[[1 2 3]\n",
      " [1 2 3]\n",
      " [4 5 6]\n",
      " [4 5 6]\n",
      " [7 8 9]\n",
      " [7 8 9]]\n",
      "\n"
     ]
    }
   ],
   "source": [
    "print(f'Repeat array one twice row-wise:\\n{repeat_one}\\n')\n",
    "print(f'Repeat array two twice and flattened into one dimension:\\n{repeat_two}\\n')\n",
    "print(f'Repeat array two twice column-wise:\\n{repeat_three}\\n')\n",
    "print(f'Repeat array two twice row-wise:\\n{repeat_four}\\n')"
   ]
  },
  {
   "cell_type": "code",
   "execution_count": 79,
   "metadata": {},
   "outputs": [
    {
     "data": {
      "text/plain": [
       "(array([[1, 1, 2, 2, 3, 3],\n",
       "        [4, 4, 5, 5, 6, 6],\n",
       "        [7, 7, 8, 8, 9, 9]]),\n",
       " array([[1, 2, 3],\n",
       "        [1, 2, 3],\n",
       "        [4, 5, 6],\n",
       "        [4, 5, 6],\n",
       "        [7, 8, 9],\n",
       "        [7, 8, 9]]))"
      ]
     },
     "execution_count": 79,
     "metadata": {},
     "output_type": "execute_result"
    }
   ],
   "source": [
    "repeat_three, repeat_four"
   ]
  },
  {
   "cell_type": "markdown",
   "metadata": {},
   "source": [
    "### Adding and removing array elements"
   ]
  },
  {
   "cell_type": "markdown",
   "metadata": {},
   "source": [
    "There are several `NumPy` methods to add and remove elements from arrays. You may want to do this to clean a dataset, subset datasets, combine dataset, or maybe just playing a prank on someone 🤷."
   ]
  },
  {
   "cell_type": "code",
   "execution_count": 80,
   "metadata": {},
   "outputs": [],
   "source": [
    "array_one = np.arange(1,4)\n",
    "array_two = np.arange(1,10).reshape((3,3))\n",
    "array_three = np.array([[1, 1, 2, 2],\n",
    "                        [1, 1, 2, 2],\n",
    "                        [2, 2, 3, 3],\n",
    "                        [2, 2, 3, 3]])\n",
    "\n",
    "delete_one, delete_two, delete_three = np.delete(array_one, 2), np.delete(array_two, 0, 1), np.delete(array_two, 1, 0) \n",
    "insert_one, insert_two, insert_three, insert_four = np.insert(array_one, 1, 9), np.insert(array_two, 5, 9), np.insert(array_two, 1, 9, axis=0), np.insert(array_two, 1, 9, axis=1) \n",
    "unique_one, unique_two, unique_three = np.unique(array_three), np.unique(array_three, axis=0), np.unique(array_three, axis=1)"
   ]
  },
  {
   "cell_type": "markdown",
   "metadata": {},
   "source": [
    "The **delete** method remove elements along the specified axis. In essence, you have to index the sub-array you want to remove to the method call."
   ]
  },
  {
   "cell_type": "code",
   "execution_count": 81,
   "metadata": {},
   "outputs": [
    {
     "name": "stdout",
     "output_type": "stream",
     "text": [
      "Array one:\n",
      "[1 2 3]\n",
      "\n",
      "Array two:\n",
      "[[1 2 3]\n",
      " [4 5 6]\n",
      " [7 8 9]]\n",
      "\n",
      "Delete element in position 2 in array one:\n",
      "[1 2]\n",
      "\n",
      "Delete column (along axis 1) in position 0 in array two:\n",
      "[[2 3]\n",
      " [5 6]\n",
      " [8 9]]\n",
      "\n",
      "Delete row (along axis 0) in position 2 in array two:\n",
      "[[1 2 3]\n",
      " [7 8 9]]\n",
      "\n"
     ]
    }
   ],
   "source": [
    "print(f'Array one:\\n{array_one}\\n')\n",
    "print(f'Array two:\\n{array_two}\\n')\n",
    "print(f'Delete element in position 2 in array one:\\n{delete_one}\\n')\n",
    "print(f'Delete column (along axis 1) in position 0 in array two:\\n{delete_two}\\n')\n",
    "print(f'Delete row (along axis 0) in position 2 in array two:\\n{delete_three}\\n')"
   ]
  },
  {
   "cell_type": "markdown",
   "metadata": {},
   "source": [
    "The **insert** method will insert elements along the specified axis. If no axis is specified the value will be inserted in a flattened version of the array. To insert values you also have to indicate the position index."
   ]
  },
  {
   "cell_type": "code",
   "execution_count": 82,
   "metadata": {},
   "outputs": [
    {
     "name": "stdout",
     "output_type": "stream",
     "text": [
      "Insert a \"9\" at position 1 in array one:\n",
      "[1 9 2 3]\n",
      "\n",
      "Insert a \"9\" at position 5 in array two:\n",
      "[1 2 3 4 5 9 6 7 8 9]\n",
      "\n",
      "Insert a sub-array of \"9s\" at position 1 in array two along axis 0 (rows):\n",
      "[[1 2 3]\n",
      " [9 9 9]\n",
      " [4 5 6]\n",
      " [7 8 9]]\n",
      "\n",
      "Insert a sub-array of \"9s\" at position 1 in array two along axis 1 (cols):\n",
      "[[1 9 2 3]\n",
      " [4 9 5 6]\n",
      " [7 9 8 9]]\n",
      "\n"
     ]
    }
   ],
   "source": [
    "print(f'Insert a \"9\" at position 1 in array one:\\n{insert_one}\\n')\n",
    "print(f'Insert a \"9\" at position 5 in array two:\\n{insert_two}\\n')\n",
    "print(f'Insert a sub-array of \"9s\" at position 1 in array two along axis 0 (rows):\\n{insert_three}\\n')\n",
    "print(f'Insert a sub-array of \"9s\" at position 1 in array two along axis 1 (cols):\\n{insert_four}\\n')"
   ]
  },
  {
   "cell_type": "markdown",
   "metadata": {},
   "source": [
    "The **unique** method will return the unique elements along the specified axis. If no axis is provided the unique method will operate over a flattened version of the array. By unique we refer to the unique rows and columns as a whole, not the unique elements within a row or a column. "
   ]
  },
  {
   "cell_type": "code",
   "execution_count": 83,
   "metadata": {},
   "outputs": [
    {
     "name": "stdout",
     "output_type": "stream",
     "text": [
      "Array three:\n",
      "[[1 1 2 2]\n",
      " [1 1 2 2]\n",
      " [2 2 3 3]\n",
      " [2 2 3 3]]\n",
      "\n",
      "Unique elements flattened version array three:\n",
      "[1 2 3]\n",
      "\n",
      "Unique elements along axis 0 (rows) array three:\n",
      "[[1 1 2 2]\n",
      " [2 2 3 3]]\n",
      "\n",
      "Unique elements along axis 1 (cols) array three:\n",
      "[[1 2]\n",
      " [1 2]\n",
      " [2 3]\n",
      " [2 3]]\n"
     ]
    }
   ],
   "source": [
    "print(f'Array three:\\n{array_three}\\n')\n",
    "print(f'Unique elements flattened version array three:\\n{unique_one}\\n')\n",
    "print(f'Unique elements along axis 0 (rows) array three:\\n{unique_two}\\n')\n",
    "print(f'Unique elements along axis 1 (cols) array three:\\n{unique_three}')"
   ]
  },
  {
   "cell_type": "markdown",
   "metadata": {},
   "source": [
    "### Rearranging array elements"
   ]
  },
  {
   "cell_type": "markdown",
   "metadata": {},
   "source": [
    "By rearranging we refer to altering the order or position of the elements of an array without changing its shape (for that see the shape manipulation section). "
   ]
  },
  {
   "cell_type": "code",
   "execution_count": 84,
   "metadata": {},
   "outputs": [],
   "source": [
    "array_one = np.arange(1,10)\n",
    "array_two = np.arange(1,10).reshape((3,3))\n",
    "\n",
    "flip_one, flip_two, flip_three, flip_four = np.flip(array_one), np.flip(array_two), np.flip(array_two, 0), np.flip(array_two, 1) \n",
    "roll_one, roll_two, roll_three, roll_four = np.roll(array_one, 1), np.roll(array_two, 1), np.roll(array_two, 1, axis=0), np.roll(array_two, 1, axis=1) "
   ]
  },
  {
   "cell_type": "markdown",
   "metadata": {},
   "source": [
    "The **flip** reverse the order of elements in an array along the specified axis. If no axis is specified, the order of the elements is reversed as if it were a flattened array, but the shape is preserved. Notice that for arrays with 2 or more axis, flipping happens to entire rows or columns (or elements of the axis) rather than that to elements within rows or columns. There are many ways to flip an array by combining position and axis, here just a couple of examples."
   ]
  },
  {
   "cell_type": "code",
   "execution_count": 85,
   "metadata": {},
   "outputs": [
    {
     "name": "stdout",
     "output_type": "stream",
     "text": [
      "Array one:\n",
      "[1 2 3 4 5 6 7 8 9]\n",
      "\n",
      "Array two:\n",
      "[[1 2 3]\n",
      " [4 5 6]\n",
      " [7 8 9]]\n",
      "\n",
      "Reverse array one:\n",
      "[9 8 7 6 5 4 3 2 1]\n",
      "\n",
      "Reverse array two:\n",
      "[[9 8 7]\n",
      " [6 5 4]\n",
      " [3 2 1]]\n",
      "\n",
      "Reverse array two along axis 0 (rows):\n",
      "[[7 8 9]\n",
      " [4 5 6]\n",
      " [1 2 3]]\n",
      "\n",
      "Reverse array two along axis 1 (cols):\n",
      "[[3 2 1]\n",
      " [6 5 4]\n",
      " [9 8 7]]\n",
      "\n"
     ]
    }
   ],
   "source": [
    "print(f'Array one:\\n{array_one}\\n')\n",
    "print(f'Array two:\\n{array_two}\\n')\n",
    "\n",
    "print(f'Reverse array one:\\n{flip_one}\\n')\n",
    "print(f'Reverse array two:\\n{flip_two}\\n')\n",
    "print(f'Reverse array two along axis 0 (rows):\\n{flip_three}\\n')\n",
    "print(f'Reverse array two along axis 1 (cols):\\n{flip_four}\\n')"
   ]
  },
  {
   "cell_type": "markdown",
   "metadata": {},
   "source": [
    "The **roll** method moves or \"push\" elements in an array along the specified axis. This has the effect of moving all elements at once, so all get repositioned. There are many ways to roll an array by combining the number of positions to be roll and the axis, here just a couple of examples."
   ]
  },
  {
   "cell_type": "code",
   "execution_count": 86,
   "metadata": {},
   "outputs": [
    {
     "name": "stdout",
     "output_type": "stream",
     "text": [
      "Array one:\n",
      "[1 2 3 4 5 6 7 8 9]\n",
      "\n",
      "Array two:\n",
      "[[1 2 3]\n",
      " [4 5 6]\n",
      " [7 8 9]]\n",
      "\n",
      "Roll elements array one by one position:\n",
      "[9 1 2 3 4 5 6 7 8]\n",
      "\n",
      "Roll elements array two by one position:\n",
      "[[9 1 2]\n",
      " [3 4 5]\n",
      " [6 7 8]]\n",
      "\n",
      "Roll elements array two by one position along axis 0 (rows):\n",
      "[[7 8 9]\n",
      " [1 2 3]\n",
      " [4 5 6]]\n",
      "\n",
      "Roll elements array two by one position along axis 1 (cols):\n",
      "[[3 1 2]\n",
      " [6 4 5]\n",
      " [9 7 8]]\n"
     ]
    }
   ],
   "source": [
    "print(f'Array one:\\n{array_one}\\n')\n",
    "print(f'Array two:\\n{array_two}\\n')\n",
    "\n",
    "print(f'Roll elements array one by one position:\\n{roll_one}\\n')\n",
    "print(f'Roll elements array two by one position:\\n{roll_two}\\n')\n",
    "print(f'Roll elements array two by one position along axis 0 (rows):\\n{roll_three}\\n')\n",
    "print(f'Roll elements array two by one position along axis 1 (cols):\\n{roll_four}')"
   ]
  },
  {
   "cell_type": "markdown",
   "metadata": {},
   "source": [
    "## Logic functions and array evaluation"
   ]
  },
  {
   "cell_type": "markdown",
   "metadata": {},
   "source": [
    "There are multiple cases where applying logic functions to evaluate array elements will come in handy. Slicing, indexing, and data transformation rely heavily on logic functions. \n",
    "\n",
    "`NumPy` logic functions can be divided on boolean testing, array identity testing, array elements testing, logic operators, and comparison operators.  "
   ]
  },
  {
   "cell_type": "markdown",
   "metadata": {},
   "source": [
    "### Boolean testing"
   ]
  },
  {
   "cell_type": "markdown",
   "metadata": {},
   "source": [
    "Boolean testing refers to whether **all** or **some** elements of an array are **True**. There are two functions for this `all` and `any`. Below I exemplify several cases:"
   ]
  },
  {
   "cell_type": "code",
   "execution_count": 87,
   "metadata": {},
   "outputs": [],
   "source": [
    "true_array = np.array([True, True, True])\n",
    "some_true_array = np.array([True, False, False])\n",
    "false_array = np.array([False, False, False])\n",
    "ones_array = np.ones(3)\n",
    "some_ones_array = np.array([1, 1, 0])\n",
    "zeros_array = np.zeros(3)\n",
    "NAN_array = np.array([np.nan, np.nan, np.nan])\n",
    "Infinity_array = np.array([np.inf, np.inf, np.inf])"
   ]
  },
  {
   "cell_type": "code",
   "execution_count": 88,
   "metadata": {},
   "outputs": [
    {
     "name": "stdout",
     "output_type": "stream",
     "text": [
      "All elements of true_array are True: True\n",
      "Some elements of true_array are True: True\n",
      "\n",
      "All elements of some_true_array are True: False\n",
      "Some elements of some_true_array are True: True\n",
      "\n",
      "All elements of false_array are True: False\n",
      "Some elements of false_array are True: False\n",
      "\n",
      "All elements of ones_array are True: True\n",
      "Some elements of ones_array are True: True\n",
      "\n",
      "All elements of some_ones_array are True: False\n",
      "Some elements of some_ones_array are True: True\n",
      "\n",
      "All elements of zeros_array are True: False\n",
      "Some elements of zeros_array are True: False\n",
      "\n",
      "All elements of NAN_array are True: True\n",
      "Some elements of NAN_array are True: True\n",
      "\n",
      "All elements of Infinity_array are True: True\n",
      "Some elements of Infinity_array are True: True\n",
      "\n"
     ]
    }
   ],
   "source": [
    "print(f'All elements of true_array are True: {np.all(true_array)}')\n",
    "print(f'Some elements of true_array are True: {np.any(true_array)}\\n')\n",
    "\n",
    "print(f'All elements of some_true_array are True: {np.all(some_true_array)}')\n",
    "print(f'Some elements of some_true_array are True: {np.any(some_true_array)}\\n')\n",
    "\n",
    "print(f'All elements of false_array are True: {np.all(false_array)}')\n",
    "print(f'Some elements of false_array are True: {np.any(false_array)}\\n')\n",
    "\n",
    "print(f'All elements of ones_array are True: {np.all(ones_array)}')\n",
    "print(f'Some elements of ones_array are True: {np.any(ones_array)}\\n')\n",
    "\n",
    "print(f'All elements of some_ones_array are True: {np.all(some_ones_array)}')\n",
    "print(f'Some elements of some_ones_array are True: {np.any(some_ones_array)}\\n')\n",
    "\n",
    "print(f'All elements of zeros_array are True: {np.all(zeros_array)}')\n",
    "print(f'Some elements of zeros_array are True: {np.any(zeros_array)}\\n')\n",
    "\n",
    "print(f'All elements of NAN_array are True: {np.all(NAN_array)}')\n",
    "print(f'Some elements of NAN_array are True: {np.any(NAN_array)}\\n')\n",
    "\n",
    "print(f'All elements of Infinity_array are True: {np.all(Infinity_array)}')\n",
    "print(f'Some elements of Infinity_array are True: {np.any(Infinity_array)}\\n')"
   ]
  },
  {
   "cell_type": "markdown",
   "metadata": {},
   "source": [
    "### Array elements testing"
   ]
  },
  {
   "cell_type": "markdown",
   "metadata": {},
   "source": [
    "This subset of functions tests the identity elements of an array, particularly for `NumPy` constant like NAN or infinity. This is useful for data cleaning and debugging purposes. Return values are always True or False. Below some examples:"
   ]
  },
  {
   "cell_type": "code",
   "execution_count": 89,
   "metadata": {},
   "outputs": [
    {
     "name": "stdout",
     "output_type": "stream",
     "text": [
      "Array to test:\n",
      "[1, 0, nan, inf, -inf]\n",
      "\n",
      "Element-wise testing for finiteness:\n",
      "[ True  True False False False]\n",
      "\n",
      "Element-wise testing for infinity:\n",
      "[False False False  True  True]\n",
      "\n",
      "Element-wise testing for negative infinity:\n",
      "[False False False False  True]\n",
      "\n",
      "Element-wise testing for positive infinity:\n",
      "[False False False  True False]\n",
      "\n",
      "Element-wise testing for not a number:\n",
      "[False False  True False False]\n",
      "\n"
     ]
    }
   ],
   "source": [
    "element_testing = [1, 0, np.nan, np.inf, -np.inf,]\n",
    "\n",
    "print(f'Array to test:\\n{element_testing}\\n')\n",
    "print(f'Element-wise testing for finiteness:\\n{np.isfinite(element_testing)}\\n')\n",
    "print(f'Element-wise testing for infinity:\\n{np.isinf(element_testing)}\\n')\n",
    "print(f'Element-wise testing for negative infinity:\\n{np.isneginf(element_testing)}\\n')\n",
    "print(f'Element-wise testing for positive infinity:\\n{np.isposinf(element_testing)}\\n')\n",
    "print(f'Element-wise testing for not a number:\\n{np.isnan(element_testing)}\\n')"
   ]
  },
  {
   "cell_type": "markdown",
   "metadata": {},
   "source": [
    "Notice that `np.nan` is neither infinity nor finite, simply because is not a number, and only numbers can be tested for that. "
   ]
  },
  {
   "cell_type": "markdown",
   "metadata": {},
   "source": [
    "### Array type testing"
   ]
  },
  {
   "cell_type": "markdown",
   "metadata": {},
   "source": [
    "Array type testing is another example of element-wise testing but for the specific case of **data type**. Return values are always True or False. Here are a couple of examples of the available functions:"
   ]
  },
  {
   "cell_type": "code",
   "execution_count": 90,
   "metadata": {},
   "outputs": [
    {
     "name": "stdout",
     "output_type": "stream",
     "text": [
      "Array tested:\n",
      "[(1+1j), 0, 1, 2.0, False, nan, inf, 3j]\n",
      "\n",
      "Is real:\n",
      "[False  True  True  True  True  True  True False]\n",
      "\n",
      "Is scalar:\n",
      "[False  True  True  True  True  True  True False]\n",
      "\n",
      "Is complex:\n",
      "[ True False False False False False False  True]\n",
      "\n"
     ]
    }
   ],
   "source": [
    "# use Python list instead of array to mix data types\n",
    "type_testing = [1+1j, 0, 1, 2.0, False, np.nan, np.inf, 3j]\n",
    "\n",
    "print(f'Array tested:\\n{type_testing}\\n')\n",
    "print(f'Is real:\\n{np.isreal(type_testing)}\\n')\n",
    "print(f'Is scalar:\\n{np.isreal(type_testing)}\\n')\n",
    "print(f'Is complex:\\n{np.iscomplex(type_testing)}\\n')"
   ]
  },
  {
   "cell_type": "markdown",
   "metadata": {},
   "source": [
    "### Logical operators"
   ]
  },
  {
   "cell_type": "markdown",
   "metadata": {},
   "source": [
    "Logic operators are a subset of logical functions in `NumPy`. Basically, the operators you will find in logic gates or Truth tables: `and`, `or`, `not`, `xor` (exclusive `or`). Return values are always True or False. Keep in mind that each element of the array is tested independently on both conditions."
   ]
  },
  {
   "cell_type": "code",
   "execution_count": 91,
   "metadata": {},
   "outputs": [
    {
     "name": "stdout",
     "output_type": "stream",
     "text": [
      "Array:\n",
      "[0 1 2 3 4 5 6]\n",
      "\n",
      "Greater than 1 AND less than 5:\n",
      "[False False  True  True  True False False]\n",
      "\n",
      "Greater than 1 OR less than 5:\n",
      "[ True  True  True  True  True  True  True]\n",
      "\n",
      "Greater than 1 NOT less than 5:\n",
      "[False False  True  True  True False False]\n",
      "\n",
      "Greater than 1 XOR less than 5:\n",
      "[ True  True False False False  True  True]\n",
      "\n"
     ]
    }
   ],
   "source": [
    "array = np.arange(7)\n",
    "\n",
    "print(f'Array:\\n{array}\\n')\n",
    "print(f'Greater than 1 AND less than 5:\\n{np.logical_and(array> 1, array<5)}\\n')\n",
    "print(f'Greater than 1 OR less than 5:\\n{np.logical_or(array> 1, array<5)}\\n')\n",
    "print(f'Greater than 1 NOT less than 5:\\n{np.logical_and(array> 1, array<5)}\\n')\n",
    "print(f'Greater than 1 XOR less than 5:\\n{np.logical_xor(array> 1, array<5)}\\n')"
   ]
  },
  {
   "cell_type": "markdown",
   "metadata": {},
   "source": [
    "### Comparison operators"
   ]
  },
  {
   "cell_type": "markdown",
   "metadata": {},
   "source": [
    "Comparison operators assess the relationship between a pair of arrays or array elements. Given the inaccuracies resulting from the *finite* or *truncated* representation of infinite or very large (or small) numbers, a comparison of quantities should proceed with caution. Let's begin for the `greater` to illustrate the logic:"
   ]
  },
  {
   "cell_type": "code",
   "execution_count": 92,
   "metadata": {},
   "outputs": [
    {
     "name": "stdout",
     "output_type": "stream",
     "text": [
      "Element-wise GREATER than comparison:\n",
      "[False False  True]\n",
      "\n",
      "Element-wise GREATER than comparison shorthand (>):\n",
      "[False False  True]\n",
      "\n",
      "Element-wise GREATER than comparison (flip):\n",
      "[False  True False]\n",
      "\n",
      "Element-wise GREATER than comparison shorthand (>) (flip):\n",
      "[False  True False]\n"
     ]
    }
   ],
   "source": [
    "array_one = np.array([1, 1, 3])\n",
    "array_two = np.array([1, 2, 2]) \n",
    "\n",
    "print(f'Element-wise GREATER than comparison:\\n{np.greater(array_one, array_two)}\\n')\n",
    "print(f'Element-wise GREATER than comparison shorthand (>):\\n{array_one > array_two}\\n')\n",
    "print(f'Element-wise GREATER than comparison (flip):\\n{np.greater(array_two, array_one)}\\n')\n",
    "print(f'Element-wise GREATER than comparison shorthand (>) (flip):\\n{array_two > array_one}')"
   ]
  },
  {
   "cell_type": "markdown",
   "metadata": {},
   "source": [
    "Notice that although we are comparing the same arrays, the order matters. In the first case you are asking: \"is 1 greater than 1, is 1 greater than 2, is 3 greater than 2\". Whereas in the second case: \"is 1 greater than 1, is 2 greater than 1, is 2 greater than 3\". Also, notice you can use the `>` shorthand. The same logic applies to the following cases: "
   ]
  },
  {
   "cell_type": "code",
   "execution_count": 93,
   "metadata": {},
   "outputs": [
    {
     "name": "stdout",
     "output_type": "stream",
     "text": [
      "Element-wise GREATER_EQUAL than comparison:\n",
      "[ True False  True]\n",
      "\n",
      "Element-wise GREATER_EQUAL than comparison shorthand (>=):\n",
      "[ True False  True]\n",
      "\n",
      "Element-wise LESS than comparison:\n",
      "[False  True False]\n",
      "\n",
      "Element-wise LESS than comparison shorthand (<):\n",
      "[False  True False]\n",
      "\n",
      "Element-wise LESS_EQUAL than comparison:\n",
      "[ True  True False]\n",
      "\n",
      "Element-wise LESS_EQUAL than comparison shorthand (<=):\n",
      "[ True  True False]\n",
      "\n",
      "Element-wise EQUAL than comparison:\n",
      "[ True False False]\n",
      "\n",
      "Element-wise EQUAL than comparison shorthand (==):\n",
      "[ True False False]\n",
      "\n",
      "Element-wise NOT_EQUAL than comparison:\n",
      "[False  True  True]\n",
      "\n",
      "Element-wise NOT_EQUAL than comparison shorthand (!=):\n",
      "[False  True  True]\n",
      "\n"
     ]
    }
   ],
   "source": [
    "print(f'Element-wise GREATER_EQUAL than comparison:\\n{np.greater_equal(array_one, array_two)}\\n')\n",
    "print(f'Element-wise GREATER_EQUAL than comparison shorthand (>=):\\n{array_one >= array_two}\\n')\n",
    "\n",
    "print(f'Element-wise LESS than comparison:\\n{np.less(array_one, array_two)}\\n')\n",
    "print(f'Element-wise LESS than comparison shorthand (<):\\n{array_one < array_two}\\n')\n",
    "\n",
    "print(f'Element-wise LESS_EQUAL than comparison:\\n{np.less_equal(array_one, array_two)}\\n')\n",
    "print(f'Element-wise LESS_EQUAL than comparison shorthand (<=):\\n{array_one <= array_two}\\n')\n",
    "\n",
    "print(f'Element-wise EQUAL than comparison:\\n{np.equal(array_one, array_two)}\\n')\n",
    "print(f'Element-wise EQUAL than comparison shorthand (==):\\n{array_one == array_two}\\n')\n",
    "\n",
    "print(f'Element-wise NOT_EQUAL than comparison:\\n{np.not_equal(array_one, array_two)}\\n')\n",
    "print(f'Element-wise NOT_EQUAL than comparison shorthand (!=):\\n{array_one != array_two}\\n')"
   ]
  },
  {
   "cell_type": "markdown",
   "metadata": {},
   "source": [
    "Now we review comparison operators which help to deal with cases where you would think two values should be considered equal, but they are not:"
   ]
  },
  {
   "cell_type": "code",
   "execution_count": 94,
   "metadata": {},
   "outputs": [
    {
     "name": "stdout",
     "output_type": "stream",
     "text": [
      "Array three: [1.e+10 1.e-08], Array four: [1.00001e+10 1.00000e-09]\n",
      "\n",
      "Element-wise equality: [False False]\n",
      "Element-wise is close: [ True  True]\n"
     ]
    }
   ],
   "source": [
    "array_three = np.array([1e10,1e-8])\n",
    "array_four = np.array([1.00001e10,1e-9])\n",
    "\n",
    "print(f\"Array three: {array_three}, Array four: {array_four}\\n\")\n",
    "print(f\"Element-wise equality: {np.equal(array_three, array_four)}\")\n",
    "print(f\"Element-wise is close: {np.isclose(array_three,array_four)}\")"
   ]
  },
  {
   "cell_type": "markdown",
   "metadata": {},
   "source": [
    "In the example above both numbers are \"practically\" the same, but technically they are not. Depending on your task at hand, you may want them to be evaluated as equal (given some tolerance level), and you can use the `isclose` method for such purpose. Examples of how the evaluation changes as you change the tolerance: "
   ]
  },
  {
   "cell_type": "code",
   "execution_count": 95,
   "metadata": {},
   "outputs": [
    {
     "name": "stdout",
     "output_type": "stream",
     "text": [
      "Element-wise is close: [ True False]\n",
      "Element-wise is close: [ True  True]\n"
     ]
    }
   ],
   "source": [
    "print(f\"Element-wise is close: {np.isclose(array_three,array_four, atol=0.0)}\")\n",
    "print(f\"Element-wise is close: {np.isclose(array_three,array_four, atol=0.0001)}\")"
   ]
  },
  {
   "cell_type": "markdown",
   "metadata": {},
   "source": [
    "To compare whether two arrays are equal, this is, if they contain the same elements and have the same shape:"
   ]
  },
  {
   "cell_type": "code",
   "execution_count": 96,
   "metadata": {},
   "outputs": [
    {
     "name": "stdout",
     "output_type": "stream",
     "text": [
      "Are array-three and array-four equal: False\n",
      "\n",
      "Are array-five and array-six equal: True\n"
     ]
    }
   ],
   "source": [
    "array_five = array_six = np.array([1, 2, 3])\n",
    "\n",
    "print(f'Are array-three and array-four equal: {np.array_equal(array_three, array_four)}\\n')\n",
    "print(f'Are array-five and array-six equal: {np.array_equal(array_five, array_six)}')"
   ]
  },
  {
   "cell_type": "markdown",
   "metadata": {},
   "source": [
    "## Array Indexing"
   ]
  },
  {
   "cell_type": "markdown",
   "metadata": {},
   "source": [
    "Elements in a have **indices**, which simply are numbers identifying the **position** each element occupies in the array.\n",
    "\n",
    "Indexing in `NumPy` is 0-based, as in native Python, meaning that you start to count positions at 0 rather than at 1. Indexing is done by utilizing square brackets as `([])`. \n",
    "\n",
    "Indexing is a versatile operation useful in a wide variety of cases. The most common ones are to **insert** (\"assignment\") values, to **extract** (\"reference\") values, to **delete** values, and to **change** values.\n",
    "\n",
    "In what follows I refer to operations and objects with concepts that are commonly used in data science, but that deviate a bit from technical indexing terminology in `NumPy`. For a more technical treatment of the topic see [here](https://numpy.org/doc/stable/reference/arrays.indexing.html#).\n",
    "\n",
    "I also mostly use extraction or \"reference\" kind of operations to illustrate concepts, but the same ideas apply to insert, deleting, or changing values."
   ]
  },
  {
   "cell_type": "markdown",
   "metadata": {},
   "source": [
    "### Basic indexing in one-dimensional arrays"
   ]
  },
  {
   "cell_type": "markdown",
   "metadata": {},
   "source": [
    "`NumPy` support indexing in one and multiple dimensions. Let's explore a simple case with a couple of examples. "
   ]
  },
  {
   "cell_type": "code",
   "execution_count": 97,
   "metadata": {},
   "outputs": [
    {
     "name": "stdout",
     "output_type": "stream",
     "text": [
      "Array one: [ 1  2  3  4  5  6  7  8  9 10]\n",
      "Array one dimensions: 1, shape:(10,)\n"
     ]
    }
   ],
   "source": [
    "array_one = np.arange(1,11)\n",
    "\n",
    "print(f'Array one: {array_one}')\n",
    "print(f'Array one dimensions: {array_one.ndim}, shape:{array_one.shape}')"
   ]
  },
  {
   "cell_type": "markdown",
   "metadata": {},
   "source": [
    "Elements in array are index with square brackets:"
   ]
  },
  {
   "cell_type": "code",
   "execution_count": 98,
   "metadata": {},
   "outputs": [
    {
     "name": "stdout",
     "output_type": "stream",
     "text": [
      "Select element at position [0]: 1\n",
      "Select element at position [5]: 6\n",
      "Select element at position [9]: 10\n",
      "Select element at position [-5]: 6\n",
      "Select element at position [-1]: 10\n"
     ]
    }
   ],
   "source": [
    "print(f'Select element at position [0]: {array_one[0]}')\n",
    "print(f'Select element at position [5]: {array_one[5]}')\n",
    "print(f'Select element at position [9]: {array_one[9]}')\n",
    "print(f'Select element at position [-5]: {array_one[-5]}')\n",
    "print(f'Select element at position [-1]: {array_one[-1]}')"
   ]
  },
  {
   "cell_type": "markdown",
   "metadata": {},
   "source": [
    "Notice that `array_one[9]` and `array_one[-1]` return the same value, which is the last element of the array. This shows that `NumPy` (as Python does) can index elements both ways: (1) from **left-to-right** starting at **0**, and (2) from **right-to-left** starting at **-1**. The image below illustrates `NumPy` indexing that you can use as a mental model."
   ]
  },
  {
   "cell_type": "markdown",
   "metadata": {},
   "source": [
    "<img src=\"images/indexing.svg\">"
   ]
  },
  {
   "cell_type": "markdown",
   "metadata": {},
   "source": [
    "### Slicing one-dimensional arrays"
   ]
  },
  {
   "cell_type": "markdown",
   "metadata": {},
   "source": [
    "To select a **range** of elements, also known as **slicing**, we use the `[:]` notation:"
   ]
  },
  {
   "cell_type": "code",
   "execution_count": 99,
   "metadata": {},
   "outputs": [
    {
     "name": "stdout",
     "output_type": "stream",
     "text": [
      "Elements from position [0] to position [3]: [1 2 3]\n",
      "Elements from position [5] to position [9]: [6 7 8 9]\n",
      "Elements from position [-9] to position [-5]: [2 3 4 5]\n",
      "Elements from position [-3] to position [-1]: [8 9]\n",
      "Elements from position [3] to position [-1]: [4 5 6 7 8 9]\n"
     ]
    }
   ],
   "source": [
    "print(f'Elements from position [0] to position [3]: {array_one[0:3]}')\n",
    "print(f'Elements from position [5] to position [9]: {array_one[5:9]}')\n",
    "print(f'Elements from position [-9] to position [-5]: {array_one[-9:-5]}')\n",
    "print(f'Elements from position [-3] to position [-1]: {array_one[-3:-1]}')\n",
    "print(f'Elements from position [3] to position [-1]: {array_one[3:-1]}')"
   ]
  },
  {
   "cell_type": "markdown",
   "metadata": {},
   "source": [
    "There are a couple of interesting facts here. `NumPy` operates including the first element on the left but the last on the right. In set notation:\n",
    "\n",
    "$$[\\text{included}:\\text{not-included})$$\n",
    "\n",
    "This is why the element at position 3 (i.e., number 4) is not included in `array_one[0:3]`. \n",
    "\n",
    "It's also interesting to notice that when using negative indices (right-to-left), you still have to 'think' with a left-to-right logic, this is, considering that indices are organized as [-10, -9, -8, ..., -3, -2, -1]. You can also 'mix' left-to-right and right-to-left indices as in `array_one[3:-1]`.\n",
    "\n",
    "When we slice arrays to return sub-arrays, we can specify the **stride**, this is, how many steps we take when pointing at indices to retrieve array elements. The default stride is one. This is simple to see with a couple of examples:  "
   ]
  },
  {
   "cell_type": "code",
   "execution_count": 100,
   "metadata": {},
   "outputs": [
    {
     "name": "stdout",
     "output_type": "stream",
     "text": [
      "Slice from position [0] to position [6] with stride [1]: [1 2 3 4 5 6]\n",
      "Slice from position [0] to position [6] with stride [2]: [1 3 5]\n",
      "Slice from position [-6] to position [-1] with stride [3]: [5 8]\n"
     ]
    }
   ],
   "source": [
    "print(f'Slice from position [0] to position [6] with stride [1]: {array_one[0:6:1]}')\n",
    "print(f'Slice from position [0] to position [6] with stride [2]: {array_one[0:6:2]}')\n",
    "print(f'Slice from position [-6] to position [-1] with stride [3]: {array_one[-6:-1:3]}')"
   ]
  },
  {
   "cell_type": "markdown",
   "metadata": {},
   "source": [
    "### Basic indexing in multidimensional arrays"
   ]
  },
  {
   "cell_type": "markdown",
   "metadata": {},
   "source": [
    "Array indexing with multiple dimensions follows the same logic as with one dimension. The **NumPy indexing model** figure above illustrates this as well. \n",
    "\n",
    "There are two ways to index arrays with multiple dimensions: \n",
    "1. referencing each dimension/axis within a **single pair of square brackets** with each dimension/axis separated by commas `[,]` \n",
    "2. referencing each dimension independently with **as many square brackets as dimensions/axes** `[][]`\n",
    "\n",
    "Here a couple of examples:  "
   ]
  },
  {
   "cell_type": "code",
   "execution_count": 101,
   "metadata": {},
   "outputs": [
    {
     "name": "stdout",
     "output_type": "stream",
     "text": [
      "Array two dimensions/axes: \n",
      "[[1 2 3]\n",
      " [4 5 6]\n",
      " [7 8 9]]\n",
      "\n",
      "Array three dimensions/axes: \n",
      "[[[1 2]\n",
      "  [3 4]]\n",
      "\n",
      " [[5 6]\n",
      "  [7 8]]]\n",
      "\n",
      "Array two dimensions: 2, shape:(3, 3)\n",
      "Array three dimensions: 3, shape:(2, 2, 2)\n"
     ]
    }
   ],
   "source": [
    "array_two = np.arange(1,10).reshape((3,3))\n",
    "array_three = np.arange(1,9).reshape((2,2,2))\n",
    "\n",
    "print(f'Array two dimensions/axes: \\n{array_two}\\n')\n",
    "print(f'Array three dimensions/axes: \\n{array_three}\\n')\n",
    "print(f'Array two dimensions: {array_two.ndim}, shape:{array_two.shape}')\n",
    "print(f'Array three dimensions: {array_three.ndim}, shape:{array_three.shape}')"
   ]
  },
  {
   "cell_type": "code",
   "execution_count": 102,
   "metadata": {},
   "outputs": [
    {
     "name": "stdout",
     "output_type": "stream",
     "text": [
      "Element at position 1 in first axis (rows) and position 1 in second axis (cols): 5\n",
      "Element at position 0 in first axis (rows) and position 2 in second axis (cols): 3\n",
      "Element at position -1 in first axis (rows) and position -3 in second axis (cols): 7\n"
     ]
    }
   ],
   "source": [
    "print(f'Element at position 1 in first axis (rows) and position 1 in second axis (cols): {array_two[1,1]}')\n",
    "print(f'Element at position 0 in first axis (rows) and position 2 in second axis (cols): {array_two[0,2]}')\n",
    "print(f'Element at position -1 in first axis (rows) and position -3 in second axis (cols): {array_two[-1,-3]}')"
   ]
  },
  {
   "cell_type": "markdown",
   "metadata": {},
   "source": [
    "We can retreive the same elements by utilizing the `[][]` notation as:"
   ]
  },
  {
   "cell_type": "code",
   "execution_count": 103,
   "metadata": {},
   "outputs": [
    {
     "name": "stdout",
     "output_type": "stream",
     "text": [
      "Element at position 1 in first axis (rows) and position 1 in second axis (cols): 5\n",
      "Element at position 0 in first axis (rows) and position 2 in second axis (cols): 3\n",
      "Element at position -1 in first axis (rows) and position -3 in second axis (cols): 7\n"
     ]
    }
   ],
   "source": [
    "print(f'Element at position 1 in first axis (rows) and position 1 in second axis (cols): {array_two[1][1]}')\n",
    "print(f'Element at position 0 in first axis (rows) and position 2 in second axis (cols): {array_two[0][2]}')\n",
    "print(f'Element at position -1 in first axis (rows) and position -3 in second axis (cols): {array_two[-1][-3]}')"
   ]
  },
  {
   "cell_type": "markdown",
   "metadata": {},
   "source": [
    "What notation to use then? If you plan to delete the original array (`array_one` in this example), you are better of utilizing `[][]` notation as this creates a new temporary array that occupies memory. Otherwise, you will be better off by utilizing `[,]` instead as it is only a `view`, i.e., a pointer to the original array that does not occupy extra memory, so it's faster.\n",
    "\n",
    "To index ranges or intervals in multidimensional arrays, we can mix the slice notation `[:]` with the multidimensional index notation `[,]`.\n",
    "\n",
    "Selecting elements from the first axis or \"row-wise\" in two-dimensional arrays: "
   ]
  },
  {
   "cell_type": "code",
   "execution_count": 104,
   "metadata": {},
   "outputs": [
    {
     "name": "stdout",
     "output_type": "stream",
     "text": [
      "Array two as reference: \n",
      "[[1 2 3]\n",
      " [4 5 6]\n",
      " [7 8 9]]\n",
      "\n",
      "All elements at position 0 from first axis (all elements from first row): \n",
      "[1 2 3]\n",
      "\n",
      "All elements at position 1 from first axis (all elements from second row): \n",
      "[4 5 6]\n",
      "\n",
      "All elements at position 2 from first axis (all elements from third row): \n",
      "[7 8 9]\n",
      "\n"
     ]
    }
   ],
   "source": [
    "print(f'Array two as reference: \\n{array_two}\\n')\n",
    "\n",
    "print(f'All elements at position 0 from first axis (all elements from first row): \\n{array_two[0,:]}\\n')\n",
    "print(f'All elements at position 1 from first axis (all elements from second row): \\n{array_two[1,:]}\\n')\n",
    "print(f'All elements at position 2 from first axis (all elements from third row): \\n{array_two[2,:]}\\n')"
   ]
  },
  {
   "cell_type": "markdown",
   "metadata": {},
   "source": [
    "Selecting elements from the second axis or \"column-wise\" in two-dimensional arrays:"
   ]
  },
  {
   "cell_type": "code",
   "execution_count": 105,
   "metadata": {},
   "outputs": [
    {
     "name": "stdout",
     "output_type": "stream",
     "text": [
      "Array two as reference: \n",
      "[[1 2 3]\n",
      " [4 5 6]\n",
      " [7 8 9]]\n",
      "\n",
      "All elements at position 0 from second axis (all elements from first  column): \n",
      "[1 4 7]\n",
      "\n",
      "All elements at position 1 from second axis (all elements from second column): \n",
      "[2 5 8]\n",
      "\n",
      "All elements at position 2 from second axis (all elements from third  column): \n",
      "[3 6 9]\n",
      "\n"
     ]
    }
   ],
   "source": [
    "print(f'Array two as reference: \\n{array_two}\\n')\n",
    "\n",
    "print(f'All elements at position 0 from second axis (all elements from first  column): \\n{array_two[:,0]}\\n')\n",
    "print(f'All elements at position 1 from second axis (all elements from second column): \\n{array_two[:,1]}\\n')\n",
    "print(f'All elements at position 2 from second axis (all elements from third  column): \\n{array_two[:,2]}\\n')"
   ]
  },
  {
   "cell_type": "markdown",
   "metadata": {},
   "source": [
    "Selecting elements ranges of elements in both axes in two dimensional arrays:"
   ]
  },
  {
   "cell_type": "code",
   "execution_count": 106,
   "metadata": {},
   "outputs": [
    {
     "name": "stdout",
     "output_type": "stream",
     "text": [
      "Elements at position 0 and 1 from first axis (rows) and position 0 from second axis (cols): \n",
      "[1 4]\n",
      "\n",
      "Elements at position 0 and 1 from first axis (rows) and position 0 and 1 from second axis (cols): \n",
      "[[1 2]\n",
      " [4 5]]\n",
      "\n",
      "Elements at position 1 and 2 from first axis (rows) and position 1 and 2 from second axis (cols): \n",
      "[[5 6]\n",
      " [8 9]]\n",
      "\n"
     ]
    }
   ],
   "source": [
    "print(f'Elements at position 0 and 1 from first axis (rows) and position 0 from second axis (cols): \\n{array_two[0:2,0]}\\n')\n",
    "print(f'Elements at position 0 and 1 from first axis (rows) and position 0 and 1 from second axis (cols): \\n{array_two[0:2,0:2]}\\n')\n",
    "print(f'Elements at position 1 and 2 from first axis (rows) and position 1 and 2 from second axis (cols): \\n{array_two[1:3,1:3]}\\n')"
   ]
  },
  {
   "cell_type": "markdown",
   "metadata": {},
   "source": [
    "As with one dimensional arrays, we can also specify the \"stride\" to select elements by adding a "
   ]
  },
  {
   "cell_type": "code",
   "execution_count": 107,
   "metadata": {},
   "outputs": [
    {
     "name": "stdout",
     "output_type": "stream",
     "text": [
      "All elements at position 0 from first axis (all elements from first row) with stride 1: \n",
      "[1 2 3]\n",
      "\n",
      "All elements at position 0 from first axis (all elements from first row) with stride 2: \n",
      "[1 3]\n",
      "\n",
      "All elements at position 0 from second axis (all elements from first  column) with stride 1: \n",
      "[1 4 7]\n",
      "\n",
      "All elements at position 0 from second axis (all elements from first  column) with stride 2: \n",
      "[1 7]\n",
      "\n"
     ]
    }
   ],
   "source": [
    "print(f'All elements at position 0 from first axis (all elements from first row) with stride 1: \\n{array_two[0,::1]}\\n')\n",
    "print(f'All elements at position 0 from first axis (all elements from first row) with stride 2: \\n{array_two[0,::2]}\\n')\n",
    "\n",
    "print(f'All elements at position 0 from second axis (all elements from first  column) with stride 1: \\n{array_two[::1,0]}\\n')\n",
    "print(f'All elements at position 0 from second axis (all elements from first  column) with stride 2: \\n{array_two[::2,0]}\\n')"
   ]
  },
  {
   "cell_type": "markdown",
   "metadata": {},
   "source": [
    "To select elements from three-dimensional arrays you follow the same logic. Recall that the axes (2,2,2), represent 2 arrays with 2 rows and 2 columns each. Hence, the second and third axes represent how \"height\" and \"width\" of the two-dimensional arrays, whereas the first index how many of those are \"stack\" together. Below a couple of examples:"
   ]
  },
  {
   "cell_type": "code",
   "execution_count": 108,
   "metadata": {},
   "outputs": [
    {
     "name": "stdout",
     "output_type": "stream",
     "text": [
      "Array three as reference: \n",
      "[[[1 2]\n",
      "  [3 4]]\n",
      "\n",
      " [[5 6]\n",
      "  [7 8]]]\n",
      "\n",
      "First two-dimensional array:\n",
      "[[1 2]\n",
      " [3 4]]\n",
      "\n",
      "Second two-dimensional array:\n",
      "[[5 6]\n",
      " [7 8]]\n",
      "\n",
      "All elements at position 0 from first two-dimensional array (first row first array):\n",
      "[1 2]\n",
      "\n",
      "All elements at position 1 from second two-dimensional array (second row second array):\n",
      "[7 8]\n",
      "\n"
     ]
    }
   ],
   "source": [
    "print(f'Array three as reference: \\n{array_three}\\n')\n",
    "\n",
    "print(f'First two-dimensional array:\\n{array_three[0]}\\n')\n",
    "print(f'Second two-dimensional array:\\n{array_three[1]}\\n')\n",
    "\n",
    "print(f'All elements at position 0 from first two-dimensional array (first row first array):\\n{array_three[0][0,:]}\\n')\n",
    "print(f'All elements at position 1 from second two-dimensional array (second row second array):\\n{array_three[1][1,:]}\\n')"
   ]
  },
  {
   "cell_type": "markdown",
   "metadata": {},
   "source": [
    "As I mentioned at the beginning of this section, inserting, deleting, and changing values is done with the same logic. \n",
    "\n",
    "Below a couple of examples inserting constant values:"
   ]
  },
  {
   "cell_type": "code",
   "execution_count": 109,
   "metadata": {},
   "outputs": [
    {
     "name": "stdout",
     "output_type": "stream",
     "text": [
      "Array x:[0 1 2 3 4 5 6 7 8 9]\n",
      "\n",
      "Insert a 33 at position 2: [ 0  1 33  3  4  5  6  7  8  9]\n",
      "\n",
      "Insert a 728 between positions 6 and -1: [  0   1  33   3   4   5 728 728 728   9]\n"
     ]
    }
   ],
   "source": [
    "x = np.arange(10)\n",
    "print(f'Array x:{x}\\n')\n",
    "\n",
    "x[2] = 33\n",
    "print(f'Insert a 33 at position 2: {x}\\n')\n",
    "\n",
    "x[6:-1] = 728\n",
    "print(f'Insert a 728 between positions 6 and -1: {x}')"
   ]
  },
  {
   "cell_type": "markdown",
   "metadata": {},
   "source": [
    "You can insert ranges of values or sub-arrays as long as is shape-consistent:"
   ]
  },
  {
   "cell_type": "code",
   "execution_count": 110,
   "metadata": {},
   "outputs": [
    {
     "name": "stdout",
     "output_type": "stream",
     "text": [
      "Insert values [100 101 102 103 104] between positions -6 and -1:\n",
      "\n",
      "[  0   1   2   3 100 101 102 103 104   9]\n"
     ]
    }
   ],
   "source": [
    "y = np.arange(10)\n",
    "y[-6:-1] = np.arange(100,105)\n",
    "print(f'Insert values [100 101 102 103 104] between positions -6 and -1:\\n\\n{y}')"
   ]
  },
  {
   "cell_type": "markdown",
   "metadata": {},
   "source": [
    "You can change specific values by specifying their index position:"
   ]
  },
  {
   "cell_type": "code",
   "execution_count": 111,
   "metadata": {},
   "outputs": [
    {
     "name": "stdout",
     "output_type": "stream",
     "text": [
      "Multiply by 27 values from position [2] to position [5]:\n",
      "\n",
      "[  0   1  54  81 108   5   6   7   8   9]\n"
     ]
    }
   ],
   "source": [
    "z = np.arange(10)\n",
    "z[2:5] = z[2:5]*27\n",
    "print(f'Multiply by 27 values from position [2] to position [5]:\\n\\n{z}')"
   ]
  },
  {
   "cell_type": "markdown",
   "metadata": {},
   "source": [
    "### Boolean or Mask indexing"
   ]
  },
  {
   "cell_type": "markdown",
   "metadata": {},
   "source": [
    "Boolean arrays, or arrays made of **True** and/or **False** values, can be used to index elements from other arrays. This type of indexing is also known as **\"mask\" indexing**. To work, the Boolean array must be of the same shape as the array to be indexed.\n",
    "\n",
    "Here is a mental image you can use: imagine you have two arrays, one with the numbers from 1 to 10, and a Boolean array with \"True\" in the even positions and \"False\" in the odd positions. Now, imagine the squares with \"True\" are transparent whereas the ones with \"False\" are opaque. If you overlay the Boolean array on top of the regular array, the numbers in even positions will be visible but not the ones in odd positions. This is analogous to wearing a mask on your face: only the regions with \"holes\" or transparent will be visible, typically your eyes. This is why (according to me!) Boolean array is called \"mask\" indexing. The image below exemplifies the process:"
   ]
  },
  {
   "cell_type": "markdown",
   "metadata": {},
   "source": [
    "<img src=\"images/boolean_index.svg\">"
   ]
  },
  {
   "cell_type": "code",
   "execution_count": 112,
   "metadata": {},
   "outputs": [
    {
     "name": "stdout",
     "output_type": "stream",
     "text": [
      "Array: \n",
      "[ 0  1  2  3  4  5  6  7  8  9 10 11]\n",
      "\n",
      "Mask or Boolean arrayw with \"True\" for values strictly grater than 6: \n",
      "[False False False False False False False  True  True  True  True  True]\n",
      "\n",
      "Return an sub-array where \"mask\" elements are \"True\": \n",
      "[ 7  8  9 10 11]\n",
      "\n"
     ]
    }
   ],
   "source": [
    "array = np.arange(12) \n",
    "mask = array > 6\n",
    "\n",
    "print(f'Array: \\n{array}\\n')\n",
    "print(f'Mask or Boolean arrayw with \"True\" for values strictly grater than 6: \\n{mask}\\n')\n",
    "print(f'Return an sub-array where \"mask\" elements are \"True\": \\n{array[mask]}\\n')"
   ]
  },
  {
   "cell_type": "markdown",
   "metadata": {},
   "source": [
    "We can as many conditions to create Boolean arrays as we desire. The syntax is `[(firs-condition) & (second-condition) & ... (last-condition)]`. For instance, to select elements larger than 1 AND smaller than 5, we do:"
   ]
  },
  {
   "cell_type": "code",
   "execution_count": 113,
   "metadata": {},
   "outputs": [
    {
     "name": "stdout",
     "output_type": "stream",
     "text": [
      "Boolean array with elements larger than 1 and smaller than 5:\n",
      "[array([False, False,  True,  True,  True, False, False, False, False,\n",
      "       False, False, False])]\n",
      "\n",
      "Select elements larger than 1 and smaller than 5 from 1-12:\n",
      "[2 3 4]\n"
     ]
    }
   ],
   "source": [
    "print(f'Boolean array with elements larger than 1 and smaller than 5:\\n{[(1 < array) & (array < 5)]}\\n')\n",
    "print(f'Select elements larger than 1 and smaller than 5 from 1-12:\\n{array[(1 < array) & (array < 5)]}')"
   ]
  },
  {
   "cell_type": "markdown",
   "metadata": {},
   "source": [
    "We can combine multiple logic, comparison, and identity operators to create complex Boolean arrays (see [here](https://www.w3schools.com/python/python_operators.asp)). For instance:"
   ]
  },
  {
   "cell_type": "code",
   "execution_count": 114,
   "metadata": {},
   "outputs": [
    {
     "name": "stdout",
     "output_type": "stream",
     "text": [
      "Select elements equal to 2 OR larger than 9 :\n",
      "[ 2 10 11]\n",
      "\n",
      "Select even elements (modulo == 0) OR larger than 9 :\n",
      "[ 0  2  4  6  8 10 11]\n",
      "\n",
      "Select elements that are NOT 2 and NOT 7 and NOT 9 :\n",
      "[ 0  1  3  4  5  6  8  9 11] \n"
     ]
    }
   ],
   "source": [
    "print(f'Select elements equal to 2 OR larger than 9 :\\n{array[(2 == array) | (array > 9)]}\\n')\n",
    "print(f'Select even elements (modulo == 0) OR larger than 9 :\\n{array[((array % 2) == 0) | (array > 9)]}\\n')\n",
    "print(f'Select elements that are NOT 2 and NOT 7 and NOT 9 :\\n{array[(2 != array) & (array != 7) & (array != 10)]} ')"
   ]
  },
  {
   "cell_type": "markdown",
   "metadata": {},
   "source": [
    "This type of indexing comes in handy for **conditional selection or modification** of array elements. I use it all the time when I need **to subset datasets by any attribute(s)**: people older than 65, income lower than 1,000 and higher than a 100,000, scores in between 50-80, states larger than 5,000 of inhabitants, males with diabetes or chronic kidney disease, and so on.\n",
    "\n",
    "Boolean indexing in **multidimensional arrays** is no different. You just need to pay attention to match the dimensionality of the \"mask\" and the array to be indexed, *in at least one of the dimensions*. For instance, if you tried to index a two-dimensional array with a one-dimensional boolean array, it won't work. Same if the array has  the same dimensions/axes, but different shape, i.e., numbers of elements along each axis."
   ]
  },
  {
   "cell_type": "code",
   "execution_count": 115,
   "metadata": {},
   "outputs": [
    {
     "name": "stdout",
     "output_type": "stream",
     "text": [
      "Two-dimensional array: \n",
      "[[ 1  2  3  4]\n",
      " [ 5  6  7  8]\n",
      " [ 9 10 11 12]\n",
      " [13 14 15 16]]\n",
      "\n",
      "Mask or Boolean arrayw with \"True\" for values strictly greater than 8: \n",
      "[[False False False False]\n",
      " [False False False False]\n",
      " [ True  True  True  True]\n",
      " [ True  True  True  True]]\n",
      "\n",
      "Return an sub-array where \"mask\" elements are \"True\": \n",
      "[ 9 10 11 12 13 14 15 16]\n",
      "\n",
      "Shape new sub-array: (8,)\n"
     ]
    }
   ],
   "source": [
    "array_two = np.arange(1,17).reshape((4,4))\n",
    "mask_two =  array_two > 8\n",
    "\n",
    "print(f'Two-dimensional array: \\n{array_two}\\n')\n",
    "print(f'Mask or Boolean arrayw with \"True\" for values strictly greater than 8: \\n{mask_two}\\n')\n",
    "print(f'Return an sub-array where \"mask\" elements are \"True\": \\n{array_two[mask_two]}\\n')\n",
    "print(f'Shape new sub-array: {array_two[mask_two].shape}')"
   ]
  },
  {
   "cell_type": "markdown",
   "metadata": {},
   "source": [
    "Notice that the returned sub-array was flattened to a one-dimensional array with 8 elements. If you think about it, this makes sense as the \"mask\" we used to index values was one-dimensional in the first place.\n",
    "\n",
    "I also mentioned that array shapes need to match **in at least one of the dimensions**. This means that a (4, 4) array can be indexed by a boolean array that matches its shape in either the first axis (rows), second axis (columns), or both. In practice, this implies we can index an (n , n) array with an (n, n) mask, a  (, n) mask, or an (n, ) mask. Otherwise, it won't work. Let's see some examples:"
   ]
  },
  {
   "cell_type": "code",
   "execution_count": 116,
   "metadata": {},
   "outputs": [
    {
     "name": "stdout",
     "output_type": "stream",
     "text": [
      "Two-dimensional array: \n",
      "[[ 1  2  3  4]\n",
      " [ 5  6  7  8]\n",
      " [ 9 10 11 12]\n",
      " [13 14 15 16]]\n",
      "\n",
      "Select elements at position 1 and 4 along the first axis (first and last rows): \n",
      "[[ 1  2  3  4]\n",
      " [13 14 15 16]]\n",
      "\n",
      "Select elements at position 2 and 3 along the second axis (second and third cols): \n",
      "[[ 2  3]\n",
      " [ 6  7]\n",
      " [10 11]\n",
      " [14 15]]\n",
      "\n"
     ]
    }
   ],
   "source": [
    "mask_three = np.array([True, False, False, True])\n",
    "mask_four = np.array([False, True, True, False])\n",
    "\n",
    "\n",
    "print(f'Two-dimensional array: \\n{array_two}\\n')\n",
    "print(f'Select elements at position 1 and 4 along the first axis (first and last rows): \\n{array_two[mask_three]}\\n')\n",
    "print(f'Select elements at position 2 and 3 along the second axis (second and third cols): \\n{array_two[:,mask_four]}\\n')"
   ]
  },
  {
   "cell_type": "markdown",
   "metadata": {},
   "source": [
    "### Indexing-like NumPy functions"
   ]
  },
  {
   "cell_type": "markdown",
   "metadata": {},
   "source": [
    "There are several `NumPy` functions design to reference or extract elements in arrays (see [here](https://numpy.org/doc/stable/reference/routines.indexing.html#indexing-like-operations)). In general, these are things you can accomplish with basic indexing notation, but that can get pretty complicated to craft. \n",
    "\n",
    "The `take` function will \"take\" elements along some axis given some indices. It's simply like pointing and choosing: \"hey, I want elements at positions 0, 2 -1 from the rows (or cols, or flattened array)\"."
   ]
  },
  {
   "cell_type": "code",
   "execution_count": 117,
   "metadata": {},
   "outputs": [
    {
     "name": "stdout",
     "output_type": "stream",
     "text": [
      "One-dimensional array:\n",
      "[ 0  1  2  3  4  5  6  7  8  9 10 11]\n",
      "\n",
      "Two-dimensional array:\n",
      "[[ 1  2  3  4]\n",
      " [ 5  6  7  8]\n",
      " [ 9 10 11 12]\n",
      " [13 14 15 16]]\n",
      "\n",
      "Take elements at positions 0, 2 and -1 from one-dim array:\n",
      "[ 0  2 11]\n",
      "\n",
      "Take elements at positions 0, 2 and -1 from one-dim array along the first (row) axis:\n",
      "[[ 1  2  3  4]\n",
      " [ 9 10 11 12]\n",
      " [13 14 15 16]]\n",
      "\n",
      "Take elements at positions 0, 2 and -1 from one-dim array along the second (col) axis:\n",
      "[[ 1  3  4]\n",
      " [ 5  7  8]\n",
      " [ 9 11 12]\n",
      " [13 15 16]]\n",
      "\n"
     ]
    }
   ],
   "source": [
    "print(f'One-dimensional array:\\n{array}\\n')\n",
    "print(f'Two-dimensional array:\\n{array_two}\\n')\n",
    "\n",
    "# take\n",
    "indices = [0, 2, -1]\n",
    "print(f'Take elements at positions 0, 2 and -1 from one-dim array:\\n{np.take(array, indices)}\\n')\n",
    "print(f'Take elements at positions 0, 2 and -1 from one-dim array along the first (row) axis:\\n{np.take(array_two, indices, axis=0)}\\n')\n",
    "print(f'Take elements at positions 0, 2 and -1 from one-dim array along the second (col) axis:\\n{np.take(array_two, indices, axis=1)}\\n')"
   ]
  },
  {
   "cell_type": "markdown",
   "metadata": {},
   "source": [
    "The `choose` function will return an array given a set of indices and arrays to choose from. The logic's a bit more complicated. It's similar to ordering food in a restaurant from different types of food: \"The first element of my new array will be the first element of array 3, the second element will be the second element from array 1, the third element will be the third element from array 2, and the fourth element will be the fourth element from array 0\".\n",
    "\n",
    "The mechanics are always the same. The flexibility comes from deciding the order from which array you extract elements. This allows for complex indexing like \"diagonals\" and \"staircase\"."
   ]
  },
  {
   "cell_type": "code",
   "execution_count": 118,
   "metadata": {},
   "outputs": [
    {
     "name": "stdout",
     "output_type": "stream",
     "text": [
      "Two-dimensional array:\n",
      "[[ 1  2  3  4]\n",
      " [ 5  6  7  8]\n",
      " [ 9 10 11 12]\n",
      " [13 14 15 16]]\n",
      "\n",
      "Choose the 1st element from the 4th array, the 2nd from the 1st, the 3th from the 2nd, and the 4th from the 1st: \n",
      "[13  6 11  4]\n",
      "\n",
      "Choose diagonal elements from top-left to botton-right: \n",
      "[ 1  6 11 16]\n",
      "\n",
      "Choose diagonal elements from bottom-left to top-right: \n",
      "[13 10  7  4]\n",
      "\n"
     ]
    }
   ],
   "source": [
    "# choose\n",
    "choices_one = [3, 1, 2, 0]\n",
    "choices_diagonal = [0, 1, 2, 3]\n",
    "choices_diagonal_back = [3, 2, 1, 0]\n",
    "\n",
    "\n",
    "print(f'Two-dimensional array:\\n{array_two}\\n')\n",
    "print(f'Choose the 1st element from the 4th array, the 2nd from the 1st, the 3th from the 2nd, and the 4th from the 1st: \\n{np.choose(choices_one, array_two)}\\n')\n",
    "print(f'Choose diagonal elements from top-left to botton-right: \\n{np.choose(choices_diagonal, array_two)}\\n')\n",
    "print(f'Choose diagonal elements from bottom-left to top-right: \\n{np.choose(choices_diagonal_back, array_two)}\\n')"
   ]
  },
  {
   "cell_type": "markdown",
   "metadata": {},
   "source": [
    "A simpler and more flexible way to extract diagonals is with the `diagonal` function:"
   ]
  },
  {
   "cell_type": "code",
   "execution_count": 119,
   "metadata": {},
   "outputs": [
    {
     "name": "stdout",
     "output_type": "stream",
     "text": [
      "Two-dimensional array:\n",
      "[[ 1  2  3  4]\n",
      " [ 5  6  7  8]\n",
      " [ 9 10 11 12]\n",
      " [13 14 15 16]]\n",
      "\n",
      "Extract 1st-diagonal diagonal elements from top-left to bottom-right: \n",
      "[ 1  6 11 16]\n",
      "\n",
      "Extract 2st-diagonal diagonal elements from top-left to bottom-right: \n",
      "[ 2  7 12]\n",
      "\n",
      "Extract 3st-diagonal diagonal elements from top-left to bottom-right: \n",
      "[3 8]\n",
      "\n"
     ]
    }
   ],
   "source": [
    "print(f'Two-dimensional array:\\n{array_two}\\n')\n",
    "print(f'Extract 1st-diagonal diagonal elements from top-left to bottom-right: \\n{np.diagonal(array_two, offset=0)}\\n')\n",
    "print(f'Extract 2st-diagonal diagonal elements from top-left to bottom-right: \\n{np.diagonal(array_two, offset=1)}\\n')\n",
    "print(f'Extract 3st-diagonal diagonal elements from top-left to bottom-right: \\n{np.diagonal(array_two, offset=2)}\\n')"
   ]
  },
  {
   "cell_type": "markdown",
   "metadata": {},
   "source": [
    "To extract the diagonals in the opposite direction, from bottom-right to the top-left, you have to flip the array vertically and then horizontally."
   ]
  },
  {
   "cell_type": "code",
   "execution_count": 120,
   "metadata": {},
   "outputs": [
    {
     "name": "stdout",
     "output_type": "stream",
     "text": [
      "Two-dimensional array\n",
      "[[ 1  2  3  4]\n",
      " [ 5  6  7  8]\n",
      " [ 9 10 11 12]\n",
      " [13 14 15 16]]\n",
      "\n",
      "Vertical flip: \n",
      "[[13 14 15 16]\n",
      " [ 9 10 11 12]\n",
      " [ 5  6  7  8]\n",
      " [ 1  2  3  4]]\n",
      "\n",
      "Horizontal flip: \n",
      "[[ 4  3  2  1]\n",
      " [ 8  7  6  5]\n",
      " [12 11 10  9]\n",
      " [16 15 14 13]]\n",
      "\n",
      "Vertical and horizontal flip: \n",
      "[[16 15 14 13]\n",
      " [12 11 10  9]\n",
      " [ 8  7  6  5]\n",
      " [ 4  3  2  1]]\n",
      "\n",
      "Extract 1st-diagonal diagonal from bottom-right to top-left: \n",
      "[16 11  6  1]\n",
      "\n",
      "Extract 2st-diagonal diagonal from bottom-right to top-left: \n",
      "[15 10  5]\n",
      "\n",
      "Extract 3st-diagonal diagonal from bottom-right to top-left: \n",
      "[14  9]\n",
      "\n"
     ]
    }
   ],
   "source": [
    "print(f'Two-dimensional array\\n{array_two}\\n')\n",
    "print(f'Vertical flip: \\n{np.flipud(array_two)}\\n')\n",
    "print(f'Horizontal flip: \\n{np.fliplr(array_two)}\\n')\n",
    "print(f'Vertical and horizontal flip: \\n{np.fliplr(np.flipud(array_two))}\\n')\n",
    "print(f'Extract 1st-diagonal diagonal from bottom-right to top-left: \\n{np.diagonal(np.fliplr(np.flipud(array_two)), offset=0)}\\n')\n",
    "print(f'Extract 2st-diagonal diagonal from bottom-right to top-left: \\n{np.diagonal(np.fliplr(np.flipud(array_two)), offset=1)}\\n')\n",
    "print(f'Extract 3st-diagonal diagonal from bottom-right to top-left: \\n{np.diagonal(np.fliplr(np.flipud(array_two)), offset=2)}\\n')"
   ]
  },
  {
   "cell_type": "markdown",
   "metadata": {},
   "source": [
    "To obtain the opposite diagonal or \"anti-diagonal\" from the top-right to the bottom-left (and its reverse):"
   ]
  },
  {
   "cell_type": "code",
   "execution_count": 121,
   "metadata": {},
   "outputs": [
    {
     "name": "stdout",
     "output_type": "stream",
     "text": [
      "Two-dimensional array: \n",
      "[[ 1  2  3  4]\n",
      " [ 5  6  7  8]\n",
      " [ 9 10 11 12]\n",
      " [13 14 15 16]]\n",
      "\n",
      "Antidiagonal: \n",
      "[ 4  7 10 13]\n",
      "\n",
      "Antidiagonal from bottom-left to top-right: \n",
      "[13 10  7  4]\n",
      "\n"
     ]
    }
   ],
   "source": [
    "print(f'Two-dimensional array: \\n{array_two}\\n')\n",
    "print(f'Antidiagonal: \\n{np.diagonal(np.fliplr(array_two), offset=0)}\\n')\n",
    "print(f'Antidiagonal from bottom-left to top-right: \\n{np.diagonal(np.flipud(array_two), offset=0)}\\n')"
   ]
  },
  {
   "cell_type": "markdown",
   "metadata": {},
   "source": [
    "The `select` function allows for combining multiple conditions to choose elements from multiple arrays. The output will be the elements where the conditions are evaluated as True, and the rest will be set to 0 or to a user-defined default value. "
   ]
  },
  {
   "cell_type": "code",
   "execution_count": 122,
   "metadata": {},
   "outputs": [
    {
     "name": "stdout",
     "output_type": "stream",
     "text": [
      "Select elements from x where x<3, and elements from y where x>5: \n",
      "[ 0  1  2  0  0  0  7  8  9 10]\n",
      "\n",
      "Select elements from x where x<3, and elements from y where x>5, with default value 99 for False: \n",
      "[ 0  1  2 99 99 99  7  8  9 10]\n",
      "\n"
     ]
    }
   ],
   "source": [
    "x = np.arange(10)\n",
    "y = np.arange(1,11)\n",
    "\n",
    "condlist = [x<3, x>5]\n",
    "choicelist = [x, y]\n",
    "\n",
    "print(f'Select elements from x where x<3, and elements from y where x>5: \\n{np.select(condlist, choicelist)}\\n')\n",
    "print(f'Select elements from x where x<3, and elements from y where x>5, with default value 99 for False: \\n{np.select(condlist, choicelist, default=99)}\\n')"
   ]
  },
  {
   "cell_type": "markdown",
   "metadata": {},
   "source": [
    "If you want to return only the values where a condition is True, a simple approach is to subset the array to the non-zero values as (or any value you defined as default):"
   ]
  },
  {
   "cell_type": "code",
   "execution_count": 123,
   "metadata": {},
   "outputs": [
    {
     "name": "stdout",
     "output_type": "stream",
     "text": [
      "Select non-zero value: \n",
      "[ 1  2  7  8  9 10]\n",
      "\n",
      "Select non-ninety-nine values (This option prevents you to remove zeros when zero is a valid value):\n",
      "[ 0  1  2  7  8  9 10]\n"
     ]
    }
   ],
   "source": [
    "non_zero = np.select(condlist, choicelist)\n",
    "non_nine = np.select(condlist, choicelist, default=99)\n",
    "\n",
    "print(f'Select non-zero value: \\n{non_zero[non_zero != 0]}\\n')\n",
    "print(f'Select non-ninety-nine values (This option prevents you to remove zeros when zero is a valid value):\\n{non_nine[non_nine != 99]}')"
   ]
  },
  {
   "cell_type": "markdown",
   "metadata": {},
   "source": [
    "## Array iteration"
   ]
  },
  {
   "cell_type": "markdown",
   "metadata": {},
   "source": [
    "Iterating over arrays refers to the operation of \"visiting\" elements of an array in a systematic fashion. To iterate over array elements we utilize standard Python syntax (`for` and `while` loops) plus the functionality provided by the `nditer` iterator object.\n",
    "\n",
    "\"OK, so iteration is looping. Wasn't looping bad though?\" Right, I said that. Although is true that you want to avoid explicit Python loops as the plague, there are circumstances where iteration is unavoidable, so you better learn how to do it properly.\n",
    "\n",
    "I'll say upfront that array iteration can be a very complex topic. I rarely have had to use this functionality as most libraries will take care of these issues for you. Here I'll just cover the most basics topics related to array iteration in `NumPy` you have a good enough notion of what is going on and what are your options."
   ]
  },
  {
   "cell_type": "markdown",
   "metadata": {},
   "source": [
    "### Basic array iteration"
   ]
  },
  {
   "cell_type": "markdown",
   "metadata": {},
   "source": [
    "Here is an example of the most basic operation you can do: iterate over array elements one by one."
   ]
  },
  {
   "cell_type": "code",
   "execution_count": 124,
   "metadata": {},
   "outputs": [
    {
     "name": "stdout",
     "output_type": "stream",
     "text": [
      "Two-dimensional array:\n",
      "[[1 2 3]\n",
      " [4 5 6]\n",
      " [7 8 9]]\n",
      "\n",
      "1 2 3 4 5 6 7 8 9 "
     ]
    }
   ],
   "source": [
    "array = np.arange(1,10).reshape(3,3)\n",
    "\n",
    "print(f\"Two-dimensional array:\\n{array}\\n\")\n",
    "for element in np.nditer(array):\n",
    "    print(element, end=' ')"
   ]
  },
  {
   "cell_type": "markdown",
   "metadata": {},
   "source": [
    "There is a technical detail you should be aware of: the `nditer` object iterates over the array matching the way on which the data is stored in memory. This means that regardless of how you \"present\" the array to the iterator, you will get back the elements in the same order. This done simply because is faster. For instance:"
   ]
  },
  {
   "cell_type": "code",
   "execution_count": 125,
   "metadata": {},
   "outputs": [
    {
     "name": "stdout",
     "output_type": "stream",
     "text": [
      "Transposed (along main diagonal) two-dimensional array:\n",
      "[[1 4 7]\n",
      " [2 5 8]\n",
      " [3 6 9]]\n",
      "\n",
      "1 2 3 4 5 6 7 8 9 "
     ]
    }
   ],
   "source": [
    "print(f\"Transposed (along main diagonal) two-dimensional array:\\n{array.T}\\n\")\n",
    "\n",
    "for element in np.nditer(array.T):\n",
    "    print(element, end=' ')"
   ]
  },
  {
   "cell_type": "markdown",
   "metadata": {},
   "source": [
    "If you were expecting to get back 1, 4, 7, 2, 5, 8, 3, 6, 9, you are not alone. I was expecting that order too. But that is not the order data is stored in memory. To visit the elements in the order you would expect by looking at the array, you have to explicitly add you want the `C` order: "
   ]
  },
  {
   "cell_type": "code",
   "execution_count": 126,
   "metadata": {},
   "outputs": [
    {
     "name": "stdout",
     "output_type": "stream",
     "text": [
      "Transposed (along main diagonal) two-dimensional array:\n",
      "[[1 4 7]\n",
      " [2 5 8]\n",
      " [3 6 9]]\n",
      "\n",
      "1 4 7 2 5 8 3 6 9 "
     ]
    }
   ],
   "source": [
    "print(f\"Transposed (along main diagonal) two-dimensional array:\\n{array.T}\\n\")\n",
    "\n",
    "for element in np.nditer(array.T.copy(order='C')):\n",
    "    print(element, end=' ')"
   ]
  },
  {
   "cell_type": "markdown",
   "metadata": {},
   "source": [
    "There may be times when you want to update the values of an array while iterating. For instance, reinforcement learning models constantly update values after each iteration. The default behavior of `nditer` is \"read-only\", meaning it won't let you change values. Hence, you have to specify either \"readwrite\" or \"writeonly\" options to update values. Additionally, you have to signal to `nditer` when you have finished iterating over values, as `nditer` needs to update the array with the new values. This happens because `nditer` first save the updated values in a temporary memory space instead of changing values \"on the fly\". According to `NumPy` docs, there are two ways to do this: \n",
    "\n",
    "1. using `nditer` as a context manager utilizing the Python `with` statement\n",
    "2. calling the iterator's `close` method at the end of the iteration process\n",
    "\n",
    "Let's see an example:"
   ]
  },
  {
   "cell_type": "code",
   "execution_count": 127,
   "metadata": {},
   "outputs": [
    {
     "name": "stdout",
     "output_type": "stream",
     "text": [
      "Array to update:\n",
      "[[1 2 3]\n",
      " [4 5 6]\n",
      " [7 8 9]]\n",
      "\n",
      "Updated array (squared):\n",
      "[[ 1  4  9]\n",
      " [16 25 36]\n",
      " [49 64 81]]\n"
     ]
    }
   ],
   "source": [
    "array_to_update = np.arange(1,10).reshape(3,3)\n",
    "\n",
    "print(f'Array to update:\\n{array_to_update}\\n')\n",
    "\n",
    "with np.nditer(array_to_update, op_flags=['readwrite']) as iterator:\n",
    "    for element in iterator:\n",
    "        element[...] = element**2\n",
    "        \n",
    "print(f'Updated array (squared):\\n{array_to_update}')"
   ]
  },
  {
   "cell_type": "markdown",
   "metadata": {},
   "source": [
    "Although looping is not completely avoidable while iterating, there is a way to speed up iteration by partially vectorizing the innermost loop of the iteration. The details of how this work is not relevant from an applied perspective. What you want to know is that it will be faster and that you have to declare the `external_loop` flag in the iterator. Let's time both approaches:"
   ]
  },
  {
   "cell_type": "code",
   "execution_count": 128,
   "metadata": {},
   "outputs": [
    {
     "name": "stdout",
     "output_type": "stream",
     "text": [
      "10.3 ms ± 108 µs per loop (mean ± std. dev. of 7 runs, 100 loops each)\n"
     ]
    }
   ],
   "source": [
    "%%timeit\n",
    "\n",
    "large_array = np.arange(10000)\n",
    "\n",
    "for element in np.nditer(large_array):\n",
    "    element*2"
   ]
  },
  {
   "cell_type": "code",
   "execution_count": 129,
   "metadata": {},
   "outputs": [
    {
     "name": "stdout",
     "output_type": "stream",
     "text": [
      "12.7 µs ± 115 ns per loop (mean ± std. dev. of 7 runs, 100000 loops each)\n"
     ]
    }
   ],
   "source": [
    "%%timeit\n",
    "\n",
    "large_array = np.arange(10000)\n",
    "\n",
    "for element in np.nditer(large_array, flags=['external_loop']):\n",
    "    element*2"
   ]
  },
  {
   "cell_type": "markdown",
   "metadata": {},
   "source": [
    "By utilizing an external loop, we increased the speed for a factor of around 816 times (0.0125 ms vs 10.2 ms). Not all operations will gain so much on speed, but in general, you will get large gains."
   ]
  },
  {
   "cell_type": "markdown",
   "metadata": {},
   "source": [
    "### Broadcasting array iteration"
   ]
  },
  {
   "cell_type": "markdown",
   "metadata": {},
   "source": [
    "If you find yourself having to iterate over multiple arrays with different shapes and dimensionality, the `nditer` object is smart enough to apply broadcast rules during iteration. For instance:"
   ]
  },
  {
   "cell_type": "code",
   "execution_count": 130,
   "metadata": {},
   "outputs": [
    {
     "name": "stdout",
     "output_type": "stream",
     "text": [
      "x: 0, y:0\n",
      "x: 1, y:1\n",
      "x: 2, y:2\n",
      "x: 0, y:3\n",
      "x: 1, y:4\n",
      "x: 2, y:5\n",
      "x: 0, y:6\n",
      "x: 1, y:7\n",
      "x: 2, y:8\n"
     ]
    }
   ],
   "source": [
    "one_dim_array = np.arange(3)\n",
    "\n",
    "two_dim_array = np.arange(9).reshape(3,3)\n",
    "\n",
    "for x, y in np.nditer([one_dim_array, two_dim_array]):\n",
    "\n",
    "    print(f'x: {x}, y:{y}')"
   ]
  },
  {
   "cell_type": "markdown",
   "metadata": {},
   "source": [
    "Here we can see that `nditer` broadcast the `one_dim_array` to match the `two_dim_array` so iteration does not break."
   ]
  },
  {
   "cell_type": "markdown",
   "metadata": {},
   "source": [
    "### Allocating outputs from iteration"
   ]
  },
  {
   "cell_type": "markdown",
   "metadata": {},
   "source": [
    "There are cases where you want to create a function utilizing the `nditer` object. This is, functions that take an array as input, iterate over the array elements, and instead of modifying the original array, they return the output somewhere else. Here is a basic example I took from [the `NumPy` docs](https://numpy.org/doc/stable/reference/arrays.nditer.html#iterator-allocated-output-arrays): "
   ]
  },
  {
   "cell_type": "code",
   "execution_count": 131,
   "metadata": {},
   "outputs": [],
   "source": [
    "def square(a):\n",
    "\n",
    "    with np.nditer([a, None]) as it:\n",
    "\n",
    "        for x, y in it:\n",
    "\n",
    "            y[...] = x*x\n",
    "\n",
    "        return it.operands[1]"
   ]
  },
  {
   "cell_type": "code",
   "execution_count": 132,
   "metadata": {},
   "outputs": [
    {
     "name": "stdout",
     "output_type": "stream",
     "text": [
      "Input array: [1 2 3 4 5]\n",
      "Input array squared: [ 1  4  9 16 25]\n"
     ]
    }
   ],
   "source": [
    "input_array = np.arange(1,6)\n",
    "print(f'Input array: {input_array}')\n",
    "print(f'Input array squared: {square(input_array)}')"
   ]
  },
  {
   "cell_type": "markdown",
   "metadata": {},
   "source": [
    "### Iteration functions"
   ]
  },
  {
   "cell_type": "markdown",
   "metadata": {},
   "source": [
    "There are a couple of additional functions in `NumPy` in addition to the `nditer` object that you can check [here](https://numpy.org/doc/stable/reference/routines.indexing.html#iterating-over-arrays). An example is the `ndenumerate` that returns both the coordinate index values for each element in the array, plus the element itself:"
   ]
  },
  {
   "cell_type": "code",
   "execution_count": 133,
   "metadata": {},
   "outputs": [
    {
     "name": "stdout",
     "output_type": "stream",
     "text": [
      "Pair of indices: (0, 0), Element: 1\n",
      "Pair of indices: (0, 1), Element: 2\n",
      "Pair of indices: (0, 2), Element: 3\n",
      "Pair of indices: (1, 0), Element: 4\n",
      "Pair of indices: (1, 1), Element: 5\n",
      "Pair of indices: (1, 2), Element: 6\n",
      "Pair of indices: (2, 0), Element: 7\n",
      "Pair of indices: (2, 1), Element: 8\n",
      "Pair of indices: (2, 2), Element: 9\n"
     ]
    }
   ],
   "source": [
    "array = np.arange(1,10).reshape(3,3)\n",
    "\n",
    "for index, element in np.ndenumerate(array):\n",
    "    print(f'Pair of indices: {index}, Element: {element}')"
   ]
  },
  {
   "cell_type": "markdown",
   "metadata": {},
   "source": [
    "## Array shallow and deep copies"
   ]
  },
  {
   "cell_type": "markdown",
   "metadata": {},
   "source": [
    "To copy an array in `NumPy` can mean **three different things**: \n",
    "\n",
    "1. To put a new label \n",
    "2. To create a \"view\" or \"shallow copy\" that refers to the same chunk of data in memory\n",
    "3. To create an independent or \"deep copy\" of the array in a different location in memory\n",
    "\n",
    "Creating \"shallow copies\" instead of \"deep copies\" can significantly speed up computation and save space, but it has limitations to keep in mind. The figure below illustrates the differences between the three alternatives. \n",
    "\n",
    "Let's examine each case."
   ]
  },
  {
   "cell_type": "markdown",
   "metadata": {},
   "source": [
    "<img src=\"images/copies.svg\">"
   ]
  },
  {
   "cell_type": "markdown",
   "metadata": {},
   "source": [
    "### Array new label"
   ]
  },
  {
   "cell_type": "markdown",
   "metadata": {},
   "source": [
    "There are cases where no copy at all is created. All that is done is attaching a new label to the original array. We can use the `is` and `may_share_memory` methods to check object identity and memory sharing."
   ]
  },
  {
   "cell_type": "code",
   "execution_count": 134,
   "metadata": {},
   "outputs": [
    {
     "name": "stdout",
     "output_type": "stream",
     "text": [
      "Array one:[1. 1. 1. 1. 1. 1. 1. 1. 1. 1.]\n",
      "\n",
      "Array two:[1. 1. 1. 1. 1. 1. 1. 1. 1. 1.]\n",
      "\n",
      "Are array-one and array-two the same object?: True\n",
      "\n",
      "Do array-one and array-two share memory?: True\n"
     ]
    }
   ],
   "source": [
    "array_one = np.ones(10)\n",
    "array_two = array_one\n",
    "\n",
    "print(f'Array one:{array_one}\\n')\n",
    "print(f'Array two:{array_two}\\n')\n",
    "print(f'Are array-one and array-two the same object?: {array_two is array_one}\\n')\n",
    "print(f'Do array-one and array-two share memory?: {np.may_share_memory(array_one, array_two)}')"
   ]
  },
  {
   "cell_type": "markdown",
   "metadata": {},
   "source": [
    "The key here is that `array_one` and `array_two` **share memory AND are the same object**.\n",
    "\n",
    "A logical consequence of the fact that `array_one` and `array_two` share the same data and identity, is that if you change `array_two` you will be inadvertently changing `array_one` as well:"
   ]
  },
  {
   "cell_type": "code",
   "execution_count": 135,
   "metadata": {},
   "outputs": [
    {
     "name": "stdout",
     "output_type": "stream",
     "text": [
      "New array-two:\n",
      "[ 1.  1.  1.  1.  1.  1.  1.  1.  1. 99.]\n",
      "\n",
      "Array-one is changed although no explicit operation was done to it:\n",
      "[ 1.  1.  1.  1.  1.  1.  1.  1.  1. 99.]\n"
     ]
    }
   ],
   "source": [
    "array_two[-1] = 99\n",
    "print(f'New array-two:\\n{array_two}\\n')\n",
    "\n",
    "print(f'Array-one is changed although no explicit operation was done to it:\\n{array_one}')"
   ]
  },
  {
   "cell_type": "markdown",
   "metadata": {},
   "source": [
    "If you want two independent copies of the same data, you need a \"deep copy\" (more on that below)."
   ]
  },
  {
   "cell_type": "markdown",
   "metadata": {},
   "source": [
    "### Array shallow copy or view"
   ]
  },
  {
   "cell_type": "markdown",
   "metadata": {},
   "source": [
    "\"Shallow copies\" or \"views\" are objects which **are not the same**, but **share the same data** source. For instance:"
   ]
  },
  {
   "cell_type": "code",
   "execution_count": 136,
   "metadata": {},
   "outputs": [
    {
     "name": "stdout",
     "output_type": "stream",
     "text": [
      "Array one:[ 1.  1.  1.  1.  1.  1.  1.  1.  1. 99.]\n",
      "\n",
      "Array three:[1. 1. 1. 1. 1. 1.]\n",
      "\n",
      "Are array-one and array-three the same object?: False\n",
      "\n",
      "Do array-one and array-three share memory?: True\n"
     ]
    }
   ],
   "source": [
    "array_three = array_one[0:6]\n",
    "\n",
    "print(f'Array one:{array_one}\\n')\n",
    "print(f'Array three:{array_three}\\n')\n",
    "print(f'Are array-one and array-three the same object?: {array_two is array_three}\\n')\n",
    "print(f'Do array-one and array-three share memory?: {np.may_share_memory(array_one, array_three)}')"
   ]
  },
  {
   "cell_type": "markdown",
   "metadata": {},
   "source": [
    "The key here is that `array_one` and `array_three` **are NOT the same object BUT share memory**.\n",
    "\n",
    "The effect of shallow copies in the base-data is a bit trickier. There are cases where changing a view does not change the base-data, as reshaping:  "
   ]
  },
  {
   "cell_type": "code",
   "execution_count": 137,
   "metadata": {},
   "outputs": [
    {
     "name": "stdout",
     "output_type": "stream",
     "text": [
      "Array-three change shape:\n",
      "[[1. 1. 1.]\n",
      " [1. 1. 1.]]\n",
      "\n",
      "But this does not change array-two (the source):\n",
      "[ 1.  1.  1.  1.  1.  1.  1.  1.  1. 99.]\n"
     ]
    }
   ],
   "source": [
    "array_three_reshape = array_three.reshape(2,3)\n",
    "\n",
    "print(f'Array-three change shape:\\n{array_three_reshape}\\n')\n",
    "print(f'But this does not change array-two (the source):\\n{array_two}')"
   ]
  },
  {
   "cell_type": "markdown",
   "metadata": {},
   "source": [
    "And cases where it does change the original base-data, as inserting new values:"
   ]
  },
  {
   "cell_type": "code",
   "execution_count": 138,
   "metadata": {},
   "outputs": [
    {
     "name": "stdout",
     "output_type": "stream",
     "text": [
      "Array-three new value at position 0:\n",
      "[99.  1.  1.  1.  1.  1.]\n",
      "\n",
      "This does change array-two (the source):\n",
      "[99.  1.  1.  1.  1.  1.  1.  1.  1. 99.]\n"
     ]
    }
   ],
   "source": [
    "array_three[0] = 99\n",
    "\n",
    "print(f'Array-three new value at position 0:\\n{array_three}\\n')\n",
    "print(f'This does change array-two (the source):\\n{array_two}')"
   ]
  },
  {
   "cell_type": "markdown",
   "metadata": {},
   "source": [
    "### Array deep copy"
   ]
  },
  {
   "cell_type": "markdown",
   "metadata": {},
   "source": [
    "\"Deep copies\" are independent copies located in a different position in memory. For instance: "
   ]
  },
  {
   "cell_type": "code",
   "execution_count": 139,
   "metadata": {},
   "outputs": [
    {
     "name": "stdout",
     "output_type": "stream",
     "text": [
      "Array one:[99.  1.  1.  1.  1.  1.  1.  1.  1. 99.]\n",
      "\n",
      "Array four:[99.  1.  1.  1.  1.]\n",
      "\n",
      "Are array-one and array-four the same object?: False\n",
      "\n",
      "Do array-one and array-four share memory?: False\n"
     ]
    }
   ],
   "source": [
    "array_four = array_one[0:5].copy()\n",
    "\n",
    "print(f'Array one:{array_one}\\n')\n",
    "print(f'Array four:{array_four}\\n')\n",
    "print(f'Are array-one and array-four the same object?: {array_one is array_four}\\n')\n",
    "print(f'Do array-one and array-four share memory?: {np.may_share_memory(array_one, array_four)}')"
   ]
  },
  {
   "cell_type": "markdown",
   "metadata": {},
   "source": [
    "The key here is that `array_one` and `array_four` **NEITHER are the same object NOR share memory**.\n",
    "\n",
    "In this case, there is no way to affect `array_one` (the base) by changing `array_four`:"
   ]
  },
  {
   "cell_type": "code",
   "execution_count": 140,
   "metadata": {},
   "outputs": [
    {
     "name": "stdout",
     "output_type": "stream",
     "text": [
      "Array-four new value at position 3:\n",
      "[99.  1.  1. 99.  1.]\n",
      "\n",
      "This does NOT change array-one (the source):\n",
      "[99.  1.  1.  1.  1.  1.  1.  1.  1. 99.]\n"
     ]
    }
   ],
   "source": [
    "array_four[3] = 99\n",
    "\n",
    "print(f'Array-four new value at position 3:\\n{array_four}\\n')\n",
    "print(f'This does NOT change array-one (the source):\\n{array_one}')"
   ]
  },
  {
   "cell_type": "markdown",
   "metadata": {},
   "source": [
    "Deep copies are recommended when you want to keep a subset of the data and throw away the base array, or when you need to manipulate two or more copies of the same data independently."
   ]
  },
  {
   "cell_type": "markdown",
   "metadata": {},
   "source": [
    "## Structured arrays"
   ]
  },
  {
   "cell_type": "markdown",
   "metadata": {},
   "source": [
    "My only goal introducing structured arrays is to advise to not use them unless you need to interface with C code or to do low-level manipulation of structured buffers (As recommended in the `NumPy` docs). If you need to do such kinds of things you are probably a very advance `NumPy` user or developer, i.e., you won't read this anyway. \n",
    "\n",
    "Let's look at what structured arrays are: "
   ]
  },
  {
   "cell_type": "code",
   "execution_count": 141,
   "metadata": {},
   "outputs": [],
   "source": [
    "structured_array = np.array([(\"Bulbasaur\", \"Grass\", 15.2, 71.12),\n",
    "                             (\"Charmander \", \"Fire\", 18.7, 60.96)],\n",
    "                           dtype=[(\"Name\", 'U10'),\n",
    "                                  (\"Type\", 'U10'),\n",
    "                                  (\"Weight\", 'f4'),\n",
    "                                  (\"Height\", 'f4')])"
   ]
  },
  {
   "cell_type": "code",
   "execution_count": 142,
   "metadata": {},
   "outputs": [
    {
     "name": "stdout",
     "output_type": "stream",
     "text": [
      "Structured array:\n",
      "[('Bulbasaur', 'Grass', 15.2, 71.12) ('Charmander', 'Fire', 18.7, 60.96)]\n",
      "\n",
      "First element structured array:\n",
      "('Bulbasaur', 'Grass', 15.2, 71.12)\n",
      "\n",
      "Second element structured array:\n",
      "('Charmander', 'Fire', 18.7, 60.96)\n"
     ]
    }
   ],
   "source": [
    "print(f'Structured array:\\n{structured_array}\\n')\n",
    "print(f'First element structured array:\\n{structured_array[0]}\\n')\n",
    "print(f'Second element structured array:\\n{structured_array[1]}')"
   ]
  },
  {
   "cell_type": "markdown",
   "metadata": {},
   "source": [
    "From the example you can gather than structured arrays are n-dimensional arrays composed of mixed data types with named fields. For instance, the first element has four fields: a string for \"Name\", a string for \"Type\", a float for \"Weight\", and a float for \"height\". Essentially, the kind of data you would find in a CSV file or a relational database. \n",
    "\n",
    "What to use then if not structured arrays? [Pandas](https://pandas.pydata.org/), just use 🐼 which is specifically designed to deal with table-like datasets with mixed data types. Alternatives are [xarray](http://xarray.pydata.org/en/stable/) and or query languages like [PostgreSQL](https://www.postgresql.org/)."
   ]
  },
  {
   "cell_type": "markdown",
   "metadata": {},
   "source": [
    "## Random number generation and sampling with NumPy"
   ]
  },
  {
   "cell_type": "markdown",
   "metadata": {},
   "source": [
    "Here is an example of something that happened to me: I wrote an on-line book introducing neural network models of cognition. While creating examples, I often had to generate random numbers, particularly to initialize the weights of the network. They were cases where sampling from an *uniform random distribution* vs *random normal distribution* was **the difference between a model solving the problem and not solving it at all**. As you can imagine, knowing how to work with `NumPy` random generator capabilities is crucial to get such kind of issues right. "
   ]
  },
  {
   "cell_type": "markdown",
   "metadata": {},
   "source": [
    "### Random sampling updated"
   ]
  },
  {
   "cell_type": "markdown",
   "metadata": {},
   "source": [
    "This or may not be a surprise to you, but `Numpy` does not actually generate random numbers but **pseudo random numbers** basically because generating random numbers is impossible. Just trying out, you won't be able to, because you will always depend on picking some non-random event to generate the sequence. But worry not: for all **practical purposes**, `NumPy` random number generator is \"random enough\" such that you can use it as if it were \"truly random\".\n",
    "\n",
    "`NumPy` random generator capabilities were updated on version 1.17.0, meaning that you will probably found outdated ways to use the random number generator online, something like:\n",
    "\n",
    "```python\n",
    "from numpy import random\n",
    "random_numbers = random.standard_normal(10)\n",
    "```\n",
    "\n",
    "According to `NumPy` documentation, this is not the recommended way. To generate a sequence of random numbers sampled from an standard normal distribution use:"
   ]
  },
  {
   "cell_type": "code",
   "execution_count": 143,
   "metadata": {},
   "outputs": [
    {
     "name": "stdout",
     "output_type": "stream",
     "text": [
      "Random numbers sequence sampled from a normal distributon:\n",
      "[ 0.72683306 -0.63845732 -1.30593193 -0.4695966   1.64056623]\n"
     ]
    }
   ],
   "source": [
    "from numpy.random import default_rng\n",
    "rng = default_rng()\n",
    "random_numbers = rng.standard_normal(5)\n",
    "print(f'Random numbers sequence sampled from a normal distributon:\\n{random_numbers}')"
   ]
  },
  {
   "cell_type": "markdown",
   "metadata": {},
   "source": [
    "To explore the difference between the \"old\" and \"new way\" to generate random numbers in `NumPy`  see [here](https://numpy.org/doc/stable/reference/random/new-or-different.html#new-or-different)."
   ]
  },
  {
   "cell_type": "markdown",
   "metadata": {},
   "source": [
    "### Basic random sampling"
   ]
  },
  {
   "cell_type": "markdown",
   "metadata": {},
   "source": [
    "The three main methods to generate random numbers are `integers`, `random`, and `choice`. The first generate random integers, the second floats, and the third a uniform random sample from a one-dimensional array. Let's see them in action.\n",
    "\n",
    "For the `integers` method, you need to pass at least one argument indicating the ceiling to be considered:"
   ]
  },
  {
   "cell_type": "code",
   "execution_count": 144,
   "metadata": {},
   "outputs": [
    {
     "name": "stdout",
     "output_type": "stream",
     "text": [
      "A random integer between [1, 10) (10 non-inclusive): \n",
      "8\n",
      "\n",
      "5 random integers between [1, 10) (10 non-inclusive): \n",
      "[9 0 7 7 3]\n",
      "\n",
      "\n"
     ]
    }
   ],
   "source": [
    "print(f'A random integer between [1, 10) (10 non-inclusive): \\n{rng.integers(10)}\\n')\n",
    "print(f'5 random integers between [1, 10) (10 non-inclusive): \\n{rng.integers(10, size=5)}\\n\\n')"
   ]
  },
  {
   "cell_type": "markdown",
   "metadata": {},
   "source": [
    "The `random` method is more flexible, as it allows to specify a tuple with the shape of the expected array of random numbers:"
   ]
  },
  {
   "cell_type": "code",
   "execution_count": 145,
   "metadata": {},
   "outputs": [
    {
     "name": "stdout",
     "output_type": "stream",
     "text": [
      "A random float between [0.0, 1.0) (1.0 non-inclusive): \n",
      "0.5514427049350112\n",
      "\n",
      "3 random floats between [0.0, 1.0) (1.0 non-inclusive): \n",
      "[0.27507773 0.26526928 0.94690922]\n",
      "\n",
      "3,3 random floats between [0.0, 1.0) (1.0 non-inclusive): \n",
      "[[0.75387834 0.78615867 0.93222956]\n",
      " [0.06811499 0.35262177 0.02758378]\n",
      " [0.26125569 0.27248773 0.86112151]]\n",
      "\n",
      "3,3,3 random floats between [0.0, 1.0) (1.0 non-inclusive): \n",
      "[[[0.99573079 0.76415924 0.04625535]\n",
      "  [0.1475919  0.27605723 0.00822374]\n",
      "  [0.11358203 0.1203556  0.02696718]]\n",
      "\n",
      " [[0.02633071 0.51907088 0.29445799]\n",
      "  [0.77106025 0.28410981 0.29639411]\n",
      "  [0.20052015 0.092835   0.94213103]]\n",
      "\n",
      " [[0.27786569 0.95251816 0.17293152]\n",
      "  [0.08384364 0.65322298 0.30538152]\n",
      "  [0.72833229 0.99896308 0.73865945]]]\n",
      "\n"
     ]
    }
   ],
   "source": [
    "print(f'A random float between [0.0, 1.0) (1.0 non-inclusive): \\n{rng.random()}\\n')\n",
    "print(f'3 random floats between [0.0, 1.0) (1.0 non-inclusive): \\n{rng.random((3,))}\\n')\n",
    "print(f'3,3 random floats between [0.0, 1.0) (1.0 non-inclusive): \\n{rng.random((3,3))}\\n')\n",
    "print(f'3,3,3 random floats between [0.0, 1.0) (1.0 non-inclusive): \\n{rng.random((3,3,3))}\\n')"
   ]
  },
  {
   "cell_type": "markdown",
   "metadata": {},
   "source": [
    "The `choice` method needs a one-dimensional array as argument to work:"
   ]
  },
  {
   "cell_type": "code",
   "execution_count": 146,
   "metadata": {},
   "outputs": [
    {
     "name": "stdout",
     "output_type": "stream",
     "text": [
      "A random number from an array [1, 10] (inclusive): \n",
      "0\n",
      "\n",
      "5 random numbers from an array [1, 10] (inclusive): \n",
      "[3 9 3 5 4]\n",
      "\n",
      "\n"
     ]
    }
   ],
   "source": [
    "print(f'A random number from an array [1, 10] (inclusive): \\n{rng.choice(np.arange(10))}\\n')\n",
    "print(f'5 random numbers from an array [1, 10] (inclusive): \\n{rng.choice(np.arange(10), 5)}\\n\\n')"
   ]
  },
  {
   "cell_type": "markdown",
   "metadata": {},
   "source": [
    "There are a couple of additional options for the `choice` method to keep in mind:"
   ]
  },
  {
   "cell_type": "code",
   "execution_count": 147,
   "metadata": {},
   "outputs": [
    {
     "name": "stdout",
     "output_type": "stream",
     "text": [
      "The 'p=' argument indicates the weight for each element of the sample space\n",
      "A non-uniform sample of random numbers from an array [1, 10] (inclusive): \n",
      "[5 9 6 5 6]\n",
      "\n",
      "\n",
      "The previous examples were sampling with replacement. We can sample without replacement as well:\n",
      "Uniform sample of random numbers from an array [1, 10] (inclusive): \n",
      "[1 8 0 6 9]\n",
      "\n",
      "\n"
     ]
    }
   ],
   "source": [
    "print(\"The 'p=' argument indicates the weight for each element of the sample space\")\n",
    "print(f'A non-uniform sample of random numbers from an array [1, 10] (inclusive): \\n{rng.choice(np.arange(10), 5, p=[0.1, 0, 0, 0.1, 0, 0.1, 0.2, 0, 0, 0.5])}\\n\\n')\n",
    "\n",
    "print(\"The previous examples were sampling with replacement. We can sample without replacement as well:\")\n",
    "print(f'Uniform sample of random numbers from an array [1, 10] (inclusive): \\n{rng.choice(np.arange(10), 5, replace=False)}\\n\\n')"
   ]
  },
  {
   "cell_type": "markdown",
   "metadata": {},
   "source": [
    "### Setting a seed for reproducibility"
   ]
  },
  {
   "cell_type": "markdown",
   "metadata": {},
   "source": [
    "In the previous examples, there is no way to reproduce the numbers we generated because we didn't specify a \"seed\". \"*Wait, we are generating random numbers, why on earth I would want to repeat the same random number?*\". To allow others to reproduce your results. In Data Science and Machine Learning different starting points (seeds) may lead to widely different results. There is a joke going around the Internet saying that the \"seed\" of a random number generator is another parameter of the model to be adjusted, and indeed, it is. \n",
    "\n",
    "Setting a seed for generating reproducible random numbers is simple:"
   ]
  },
  {
   "cell_type": "code",
   "execution_count": 148,
   "metadata": {},
   "outputs": [
    {
     "name": "stdout",
     "output_type": "stream",
     "text": [
      "[0 2 1 0 4]\n",
      "[2 2 2 3 1]\n",
      "[3 1 1 0 1]\n"
     ]
    }
   ],
   "source": [
    "from numpy.random import default_rng\n",
    "\n",
    "rg = default_rng(seed=9320) \n",
    "\n",
    "print(f'{rg.integers(5, size=5)}')\n",
    "print(f'{rg.integers(5, size=5)}')\n",
    "print(f'{rg.integers(5, size=5)}')"
   ]
  },
  {
   "cell_type": "markdown",
   "metadata": {},
   "source": [
    "Now, to get the same sequence of random integers, we just need to use the same seed:"
   ]
  },
  {
   "cell_type": "code",
   "execution_count": 149,
   "metadata": {},
   "outputs": [
    {
     "name": "stdout",
     "output_type": "stream",
     "text": [
      "Numbers are the same as in the example above:\n",
      "[0 2 1 0 4]\n",
      "[2 2 2 3 1]\n",
      "[3 1 1 0 1]\n"
     ]
    }
   ],
   "source": [
    "rg = default_rng(seed=9320) \n",
    "\n",
    "print(\"Numbers are the same as in the example above:\")\n",
    "print(f'{rg.integers(5, size=5)}')\n",
    "print(f'{rg.integers(5, size=5)}')\n",
    "print(f'{rg.integers(5, size=5)}')"
   ]
  },
  {
   "cell_type": "markdown",
   "metadata": {},
   "source": [
    "If you don't set the seed, you will get different values after every run:"
   ]
  },
  {
   "cell_type": "code",
   "execution_count": 150,
   "metadata": {},
   "outputs": [
    {
     "name": "stdout",
     "output_type": "stream",
     "text": [
      "This time numbers will change at random:\n",
      "[3 4 1 0 0]\n",
      "[2 3 4 2 2]\n",
      "[3 0 1 0 2]\n"
     ]
    }
   ],
   "source": [
    "rg = default_rng() \n",
    "\n",
    "print(\"This time numbers will change at random:\")\n",
    "print(f'{rg.integers(5, size=5)}')\n",
    "print(f'{rg.integers(5, size=5)}')\n",
    "print(f'{rg.integers(5, size=5)}')"
   ]
  },
  {
   "cell_type": "markdown",
   "metadata": {},
   "source": [
    "Again:"
   ]
  },
  {
   "cell_type": "code",
   "execution_count": 151,
   "metadata": {},
   "outputs": [
    {
     "name": "stdout",
     "output_type": "stream",
     "text": [
      "[3 3 4 3 1]\n",
      "[2 0 2 1 0]\n",
      "[2 1 3 3 1]\n"
     ]
    }
   ],
   "source": [
    "rg = default_rng() \n",
    "\n",
    "print(f'{rg.integers(5, size=5)}')\n",
    "print(f'{rg.integers(5, size=5)}')\n",
    "print(f'{rg.integers(5, size=5)}')"
   ]
  },
  {
   "cell_type": "markdown",
   "metadata": {},
   "source": [
    "### Sampling from particular distributions"
   ]
  },
  {
   "cell_type": "markdown",
   "metadata": {},
   "source": [
    "If you are familiar with probability theory and statistics, you probably know you can sample at random from a wide variety of distributions other than uniform and normal. Luckily,`NumPy` provides many options to chose from (37 last time I check!). I'll just illustrate a couple, so check the documentation [here](https://numpy.org/doc/stable/reference/random/generator.html#distributions) to learn more about the other options."
   ]
  },
  {
   "cell_type": "code",
   "execution_count": 152,
   "metadata": {},
   "outputs": [],
   "source": [
    "import matplotlib.pylab as plt\n",
    "plt.style.use('dark_background')\n",
    "%config InlineBackend.figure_format = 'retina' # to get high resolution images"
   ]
  },
  {
   "cell_type": "markdown",
   "metadata": {},
   "source": [
    "Sampling from a **binomial** distribution example:"
   ]
  },
  {
   "cell_type": "code",
   "execution_count": 153,
   "metadata": {},
   "outputs": [],
   "source": [
    "n, p1, p2, t = 1, .5, .8, 1000\n",
    "binomial_fair = rg.binomial(n, p1, t)\n",
    "binomial_bias = rg.binomial(n, p2, t)"
   ]
  },
  {
   "cell_type": "code",
   "execution_count": 154,
   "metadata": {},
   "outputs": [
    {
     "data": {
      "image/png": "[encoded data removed]",
      "text/plain": [
       "<Figure size 432x288 with 2 Axes>"
      ]
     },
     "metadata": {
      "image/png": {
       "height": 296,
       "width": 440
      }
     },
     "output_type": "display_data"
    }
   ],
   "source": [
    "fig, (ax1, ax2) = plt.subplots(1, 2, constrained_layout=True)\n",
    "fig.suptitle('Sampling from binomial distribution')\n",
    "ax1.hist(binomial_fair)\n",
    "ax1.set_title(\"50/50 chance\")\n",
    "ax2.hist(binomial_bias)\n",
    "ax2.set_title(\"20/80 chance\");"
   ]
  },
  {
   "cell_type": "markdown",
   "metadata": {},
   "source": [
    "Sampling from a **chisquare** distribution example:"
   ]
  },
  {
   "cell_type": "code",
   "execution_count": 155,
   "metadata": {},
   "outputs": [],
   "source": [
    "chisquare1 = rg.chisquare(5,1000)\n",
    "chisquare2 = rg.chisquare(50,1000)"
   ]
  },
  {
   "cell_type": "code",
   "execution_count": 156,
   "metadata": {},
   "outputs": [
    {
     "data": {
      "image/png": "[encoded data removed]",
      "text/plain": [
       "<Figure size 432x288 with 2 Axes>"
      ]
     },
     "metadata": {
      "image/png": {
       "height": 296,
       "width": 440
      }
     },
     "output_type": "display_data"
    }
   ],
   "source": [
    "fig, (ax1, ax2) = plt.subplots(1, 2, constrained_layout=True)\n",
    "fig.suptitle('Sampling from chisquare distribution')\n",
    "ax1.hist(chisquare1, bins=50)\n",
    "ax1.set_title(\"5 degrees of freedom\")\n",
    "ax2.hist(chisquare2, bins=50)\n",
    "ax2.set_title(\"50 degrees of freedom\");"
   ]
  },
  {
   "cell_type": "markdown",
   "metadata": {},
   "source": [
    "Sampling from a **poisson** distribution example:"
   ]
  },
  {
   "cell_type": "code",
   "execution_count": 157,
   "metadata": {},
   "outputs": [],
   "source": [
    "poisson1 = rg.poisson(5, 1000)\n",
    "poisson2 = rg.poisson(50, 1000)"
   ]
  },
  {
   "cell_type": "code",
   "execution_count": 158,
   "metadata": {},
   "outputs": [
    {
     "data": {
      "image/png": "[encoded data removed]",
      "text/plain": [
       "<Figure size 432x288 with 2 Axes>"
      ]
     },
     "metadata": {
      "image/png": {
       "height": 296,
       "width": 440
      }
     },
     "output_type": "display_data"
    }
   ],
   "source": [
    "fig, (ax1, ax2) = plt.subplots(1, 2, constrained_layout=True)\n",
    "fig.suptitle('Sampling from poisson distribution')\n",
    "ax1.hist(poisson1, bins=10)\n",
    "ax1.set_title(\"Expectation of interval: 5\")\n",
    "ax2.hist(poisson2, bins=10)\n",
    "ax2.set_title(\"Expectation of interval: 50\");"
   ]
  },
  {
   "cell_type": "markdown",
   "metadata": {},
   "source": [
    "## Basic statistics with NumPy"
   ]
  },
  {
   "cell_type": "markdown",
   "metadata": {},
   "source": [
    "Although `NumPy` is not a library for statistical analysis, it does provide several descriptive statistics functions. In `NumPy` documentation these are presented as \"order\", \"average and variances\", \"correlating\" and \"histograms\", but all of those are just descriptive statistics. Also keep in mind that pretty much any statistical package in Python you'd find around is based in `NumPy` as its \"engine\" anyways.\n",
    "\n",
    "There are just too many statistical functions to explore them all (see [here](https://numpy.org/doc/stable/reference/routines.statistics.html)), so I'll focus my attention in the most common ones. "
   ]
  },
  {
   "cell_type": "markdown",
   "metadata": {},
   "source": [
    "### Measures of central tendency"
   ]
  },
  {
   "cell_type": "markdown",
   "metadata": {},
   "source": [
    "Measures of central tendency are indicators of the center or typical value of data distributions. Let's check the most common ones:"
   ]
  },
  {
   "cell_type": "code",
   "execution_count": 159,
   "metadata": {},
   "outputs": [
    {
     "name": "stdout",
     "output_type": "stream",
     "text": [
      "Arithmetic mean (or simply mean) of poisson distribution: 4.865\n",
      "Arithmetic mean (or simply mean) of chisquare distribution: 4.9283928244060045\n",
      "\n",
      "Median of poisson distribution: 5.0\n",
      "Median of chisquare distribution: 4.3403923544193885\n",
      "\n",
      "Weighted average of poisson distribution: 4.848920863309353\n",
      "Weighted average of chisquare distribution: 4.986573137733289\n"
     ]
    }
   ],
   "source": [
    "print(f'Arithmetic mean (or simply mean) of poisson distribution: {np.mean(poisson1)}')\n",
    "print(f'Arithmetic mean (or simply mean) of chisquare distribution: {np.mean(chisquare1)}\\n')\n",
    "\n",
    "print(f'Median of poisson distribution: {np.median(poisson1)}')\n",
    "print(f'Median of chisquare distribution: {np.median(chisquare1)}\\n')\n",
    "      \n",
    "      \n",
    "print(f'Weighted average of poisson distribution: {np.average(poisson1, weights=np.flip(poisson1))}')\n",
    "print(f'Weighted average of chisquare distribution: {np.average(chisquare1, weights=np.flip(chisquare1))}')"
   ]
  },
  {
   "cell_type": "markdown",
   "metadata": {},
   "source": [
    "### Measures of dispersion"
   ]
  },
  {
   "cell_type": "markdown",
   "metadata": {},
   "source": [
    "Measures of dispersion are indicators of the extent to which data distributions are stretched or squeezed. Let's check the most common ones:"
   ]
  },
  {
   "cell_type": "code",
   "execution_count": 160,
   "metadata": {},
   "outputs": [
    {
     "name": "stdout",
     "output_type": "stream",
     "text": [
      "Standard deviation of poisson distribution: 2.1965370472632597\n",
      "Standard deviation of chisquare distribution: 3.042162672944841\n",
      "\n",
      "Variance of poisson distribution: 4.824775\n",
      "Variance of chisquare distribution: 9.2547537286589\n",
      "\n",
      "Range of values of poisson distribution: 13\n",
      "Range of values of chisquare distribution: 18.755438841111786\n",
      "\n",
      "Min and max of poisson distribution: (0, 13)\n",
      "Min and max of chisquare distribution: (0.3212732447315514, 13)\n",
      "\n",
      "Percentile 50th of poisson distribution: 5.0\n",
      "Percentile 50th of chisquare distribution: 4.3403923544193885\n",
      "\n"
     ]
    }
   ],
   "source": [
    "print(f'Standard deviation of poisson distribution: {np.std(poisson1)}')\n",
    "print(f'Standard deviation of chisquare distribution: {np.std(chisquare1)}\\n')\n",
    "\n",
    "print(f'Variance of poisson distribution: {np.var(poisson1)}')\n",
    "print(f'Variance of chisquare distribution: {np.var(chisquare1)}\\n')\n",
    "\n",
    "print(f'Range of values of poisson distribution: {np.ptp(poisson1)}')\n",
    "print(f'Range of values of chisquare distribution: {np.ptp(chisquare1)}\\n')\n",
    "\n",
    "print(f'Min and max of poisson distribution: {np.amin(poisson1), np.amax(poisson1)}')\n",
    "print(f'Min and max of chisquare distribution: {np.amin(chisquare1), np.amax(poisson1)}\\n')\n",
    "\n",
    "print(f'Percentile 50th of poisson distribution: {np.percentile(poisson1, 50)}')\n",
    "print(f'Percentile 50th of chisquare distribution: {np.percentile(chisquare1, 50)}\\n')"
   ]
  },
  {
   "cell_type": "markdown",
   "metadata": {},
   "source": [
    "### Meausres of correlation"
   ]
  },
  {
   "cell_type": "markdown",
   "metadata": {},
   "source": [
    "Measures of correlation are indicators of the extent and how two or more variables are related to each other (regardless of causality). Let's check the most common ones:"
   ]
  },
  {
   "cell_type": "code",
   "execution_count": 161,
   "metadata": {},
   "outputs": [],
   "source": [
    "rand_matrix = np.random.rand(5,5)"
   ]
  },
  {
   "cell_type": "code",
   "execution_count": 162,
   "metadata": {},
   "outputs": [
    {
     "name": "stdout",
     "output_type": "stream",
     "text": [
      "Pearson product-moment correlation coefficient:\n",
      "[[1.         0.02401601]\n",
      " [0.02401601 1.        ]]\n",
      "\n",
      "Cross-correlation coefficient:\n",
      "[244836]\n",
      "\n",
      "Covariance matrix coefficients:\n",
      "[[ 4.8296046   0.38472973]\n",
      " [ 0.38472973 53.13712813]]\n",
      "\n",
      "Pearson product-moment correlation coefficient:\n",
      "[[ 1.          0.01612636 -0.48482431 -0.73445983  0.02536344]\n",
      " [ 0.01612636  1.          0.48721264 -0.65995816 -0.63977373]\n",
      " [-0.48482431  0.48721264  1.          0.05641311 -0.00724311]\n",
      " [-0.73445983 -0.65995816  0.05641311  1.          0.53371765]\n",
      " [ 0.02536344 -0.63977373 -0.00724311  0.53371765  1.        ]]\n",
      "\n",
      "Covariance matrix coefficients:\n",
      "[[ 0.15014113  0.00170823 -0.06945229 -0.06761684  0.00323644]\n",
      " [ 0.00170823  0.0747343   0.04924145 -0.04286604 -0.05759651]\n",
      " [-0.06945229  0.04924145  0.13667991  0.00495529 -0.00088183]\n",
      " [-0.06761684 -0.04286604  0.00495529  0.0564513   0.04175979]\n",
      " [ 0.00323644 -0.05759651 -0.00088183  0.04175979  0.10844752]]\n"
     ]
    }
   ],
   "source": [
    "print(f\"Pearson product-moment correlation coefficient:\\n{np.corrcoef(poisson1,poisson2)}\\n\")\n",
    "print(f\"Cross-correlation coefficient:\\n{np.correlate(poisson1,poisson2)}\\n\")\n",
    "print(f\"Covariance matrix coefficients:\\n{np.cov(poisson1,poisson2)}\\n\")\n",
    "\n",
    "print(f\"Pearson product-moment correlation coefficient:\\n{np.corrcoef(rand_matrix)}\\n\")\n",
    "print(f\"Covariance matrix coefficients:\\n{np.cov(rand_matrix)}\")"
   ]
  },
  {
   "cell_type": "markdown",
   "metadata": {},
   "source": [
    "### Histograms"
   ]
  },
  {
   "cell_type": "markdown",
   "metadata": {},
   "source": [
    "Finally, `NumPy` also offers some convinient functions to compute histograms:"
   ]
  },
  {
   "cell_type": "code",
   "execution_count": 163,
   "metadata": {},
   "outputs": [
    {
     "name": "stdout",
     "output_type": "stream",
     "text": [
      "Histogram poisson distribution:\n",
      "(array([ 37,  94, 152, 372, 130,  99,  80,  23,  10,   3]), array([ 0. ,  1.3,  2.6,  3.9,  5.2,  6.5,  7.8,  9.1, 10.4, 11.7, 13. ]))\n",
      "\n",
      "Histogram chisquare distribution:\n",
      "(array([172, 292, 241, 152,  64,  37,  24,   9,   5,   4]), array([ 0.32127324,  2.19681713,  4.07236101,  5.9479049 ,  7.82344878,\n",
      "        9.69899267, 11.57453655, 13.45008043, 15.32562432, 17.2011682 ,\n",
      "       19.07671209]))\n",
      "\n",
      "Histogram poisson distribution with 4 bins:\n",
      "(array([  5,  32, 246]), array([0, 1, 2, 3]))\n",
      "\n",
      "Histogram chisquare distribution with 4 bins:\n",
      "(array([ 24, 120, 161]), array([0, 1, 2, 3]))\n",
      "\n"
     ]
    }
   ],
   "source": [
    "print(f\"Histogram poisson distribution:\\n{np.histogram(poisson1)}\\n\")\n",
    "print(f\"Histogram chisquare distribution:\\n{np.histogram(chisquare1)}\\n\")\n",
    "\n",
    "print(f\"Histogram poisson distribution with 4 bins:\\n{np.histogram(poisson1, bins=np.arange(4))}\\n\")\n",
    "print(f\"Histogram chisquare distribution with 4 bins:\\n{np.histogram(chisquare1, bins=np.arange(4))}\\n\")"
   ]
  }
 ],
 "metadata": {
  "kernelspec": {
   "display_name": "Python 3",
   "language": "python",
   "name": "python3"
  },
  "language_info": {
   "codemirror_mode": {
    "name": "ipython",
    "version": 3
   },
   "file_extension": ".py",
   "mimetype": "text/x-python",
   "name": "python",
   "nbconvert_exporter": "python",
   "pygments_lexer": "ipython3",
   "version": "3.6.8"
  },
  "toc-autonumbering": true
 },
 "nbformat": 4,
 "nbformat_minor": 4
}
