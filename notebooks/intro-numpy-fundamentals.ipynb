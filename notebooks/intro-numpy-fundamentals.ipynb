{
 "cells": [
  {
   "cell_type": "markdown",
   "metadata": {},
   "source": [
    "# NumPy Fundamentals for Data Science and Machine Learning"
   ]
  },
  {
   "cell_type": "markdown",
   "metadata": {},
   "source": [
    "## Table of contents"
   ]
  },
  {
   "cell_type": "markdown",
   "metadata": {},
   "source": [
    "- [Python is slow](#python-is-slow)\n",
    "- [What is NumPy](#what-is-numpy)\n",
    "- [Installing NumPy](#installing-numpy)\n",
    "- [NumPy Arrays](#numpy-arrays)\n",
    "- [Array creation](#array-creation)\n",
    "    - [Conversion from other Python structures](#conversion-from-other-python-structures)\n",
    "    - [Intrinsic NumPy array creation objects](#intrinsic-numpy-array-creation-objects) \n",
    "    - [Use of special library functions](#use-of-special-library-functions)\n",
    "- [Array data type and conversions](#array-data-type-and-conversions)\n",
    "- [Array mathematics and element-wise operations](#array-mathematics-and-element-wise-operations)\n",
    "    - [Array arithmetic](#array-arithmetic)\n",
    "    - [Trigonometric functions](#trigonometric-functions)\n",
    "    - [Hyperbolic functions](#hyperbolic-functions)\n",
    "    - [Rounding](#rounding)\n",
    "    - [Other element-wise operations](#other-element-wise-operations)\n",
    "- [Array manipulation](#array-manipulation)\n",
    "    - [Array shape manipulation](#array-shape-manipulation)\n",
    "    - [Array transpose-like operations](#array-transpose-like-operations)\n",
    "    - [Array dimension manipulation](#array-dimension-manipulation)\n",
    "    - [Array broadcasting](#array-broadcasting)\n",
    "- [Array indexing]\n",
    "- [Array masking]\n",
    "- [NumPy universal functions]\n",
    "- [Array copy and views]\n",
    "- [Array logic and evaluation]\n",
    "- [Basic statistics with NumPy]\n",
    "- [NumPY Random sampling]\n",
    "- [Array string operations]\n",
    "- [NumPY datetime functions]\n",
    "- [Structured arrays]\n",
    "- [Array iteration]\n",
    "- [NumPy constants and scalars]\n",
    "- [Input-output (I/O) data processing]\n",
    "- [Resources to learn more]"
   ]
  },
  {
   "cell_type": "markdown",
   "metadata": {},
   "source": [
    "## Python is slow"
   ]
  },
  {
   "cell_type": "markdown",
   "metadata": {},
   "source": [
    "Scientific and numerical computing often requires processing massive datasets with complex algorithms. If you are scientists or data professional, you want a programming language than can process data FAST. **The closer a programming language is to machine instructions (binary), the faster it runs**. That's why for decades, programs like C, C++, and Fortran, were the to-go option for data intensive applications in science and technology. \n",
    "\n",
    "However, writing code in compiled languages like C++ and Fortran can be slow and, frankly, terribly annoying (but that's just me!). Scientist are not coders (although many end up mutating into scientist-coder hybrids over time, but that's a whole other subject). From scientists perspective, **the easier and faster to write code, the better**. High-level programming languages, i.e., languages that are closer to human language rather than to machine language do meet such requirements. The likes of Python, PHP, JavaScript, and Ruby, fits the bill: **easy to write, easy to learn, easy to run**. But, instructions written in high-level programming languages are slow to run by computers, for complicated reasons I do not explore here. The fact is that they are slower to run than C++ or Fortran.\n",
    "\n",
    "Scientists face a conundrum: they need an **easy to write** AND **fast to run** programming language. They need the best of both worlds. For a long time such language simply did not exist. Then Python came a long.\n",
    "\n",
    "Oh wait, Python it is, indeed, easy to learn and write, *but slow to run compared to compiled languages*. Like really, really slow. For instance, computing the [spectral-norm of a matrix](https://en.wikipedia.org/wiki/Matrix_norm), which is a common task in data applications, [has been benchmarked](https://benchmarksgame-team.pages.debian.net/benchmarksgame/performance/spectralnorm.html) at ~1.9 seconds in C, whereas python takes a whopping ~170.1 seconds, meaning that Python is ~90 times *slower*. Considering this, the fact Python became the dominant language in machine learning and data science is a bit of a puzzle.\n",
    "\n",
    "There are at least two reasons for this why Python succeed anyways. \n",
    "\n",
    "The first is that as computing capacity became cheaper, **processing time has become less important than coding-time**. Basically, the time you save by writing code in high-level yet slow to-run programming languages, compensates by their lack of performance at run time. And Python is exceptionally clean, intuitive, and easy to learn, compared to C or Fortran.\n",
    "\n",
    "The second reason, which is probably the major one, is **libraries**. Particularly libraries written in low-level high-performant languages. Turns out that Python extensibility allows programmers to write the \"engine\" for numerical computation in languages like C and Fortran, and then Python can invoke such \"engines\" in the background, meaning that although you write code in Python, it is executed in compiled C or Fortran code instead of Python itself. And that is how you obtain the best of both worlds: **the easy and fast developing time of Python, plus the runtime performance of C or Fortran**. True, there is some small overhead of going back and forth between languages, but its impact its minimal. \n",
    "\n",
    "It is important to mention that nowadays, new programming languages has been created exactly with this two necessities (fast development + fast performance) in mind, like **[Julia](https://julialang.org/)**. In the spectral-norm test, Julia was benchmarked at ~2.79 seconds, almost as fast as C. Additionally, Julia is a dynamic language, easy to learn and write in like Python. Why not Julia then? Probably because of the relative immaturity of its packages ecosystem compared to Python. Julia first appeared in 2012, whereas Python was introduced in 1990. The availability of well-tested libraries for pretty much anything you can imagine in Python is unparalleled. A second reason is probably because Python does not cost you performance anyways (with its libraries), so Why not? "
   ]
  },
  {
   "cell_type": "markdown",
   "metadata": {},
   "source": [
    "## What is NumPy"
   ]
  },
  {
   "cell_type": "markdown",
   "metadata": {},
   "source": [
    "It is no exaggeration to say that **NumPy is at the core of the entire scientific computing Python ecosystem**, both as an standalone package for numerical computation and as the engine behind most data science packages.\n",
    "\n",
    "NumPy is a package for array-like or matrix-like high-performance computation. Its \"engine\" is written in C, meaning that NumPy utilized \"in the background\" pre-compiled C code to perform computations. "
   ]
  },
  {
   "cell_type": "markdown",
   "metadata": {},
   "source": [
    "## Installing NumPy"
   ]
  },
  {
   "cell_type": "markdown",
   "metadata": {},
   "source": [
    "If you are running this Notebook in `MyBinder` or locally after running the `pip install -r requirements.txt` file, you have `NumPy` installed already. Otherwise, you will need to install `NumPy` with one of this options:\n",
    "\n",
    "1. Scientific Python Distributions\n",
    "2. pip\n",
    "3. System-wide installation via package manager (apt, brew, etc.)\n",
    "4. From NumPy source code\n",
    "\n",
    "Option 4 is for developers who need to alter source code. Option 3 is not recommended as system-wide installation of packages may generate dependency conflicts. \n",
    "\n",
    "Option 1 is probably the simplest and it's widely used by practitioners. Within this category we have:\n",
    "\n",
    "- [Anaconda](https://www.anaconda.com/products/individual)\n",
    "- [Mini-conda](https://docs.conda.io/en/latest/miniconda.html)\n",
    "- [WinPython](https://winpython.github.io/)\n",
    "- [Pyzo](https://pyzo.org/)\n",
    "\n",
    "WinPython and Pyzo are less used and I do not have any experience with them. Feel free to experiment with them at your own risk. Anaconda and mini-conda are the most popular options. Anaconda basically is a large bundle of packages for Python and R, and a package manager. Mini-conda is a lightweight version of Anaconda.  Once you install Anaconda or mini-conda, `NumPy` will be available within the conda installation. \n",
    "\n",
    "I do not like and do not use Anaconda or mini-conda. I just see no reason to install hundreds of libraries I most likely never use. I also see no reason to duplicate functionality which is already provided in the standard Python installation. It just occupies memory and you also need to learn how to use `conda`, which sometimes introduce hard to understand issues with multiple Python and packages installations. Yet, many people recommend and use this method. If you decide to use it, go to the [Anaconda](https://www.anaconda.com/products/individual) or [Mini-conda](https://docs.conda.io/en/latest/miniconda.html) site and follow the instructions for your system. \n",
    "\n",
    "My preferred method is `pip`, which is available out-of-the-box with your Python installation. To install `NumPy` is as simple as to run:\n",
    "\n",
    "```bash\n",
    "pip3 install numpy\n",
    "```\n",
    "\n",
    "Now, I highly recommend to create a virtual environment, activate the environment, and then install `NumPy` within that. It boils down to copy-pasting the following in your terminal:\n",
    "\n",
    "```bash\n",
    "# create the virtual environment\n",
    "python3 -m venv venv\n",
    "\n",
    "# activate the virtual environment\n",
    "source venv/bin/activate\n",
    "\n",
    "# upgrade pip package manager\n",
    "pip3 install --upgrade pip\n",
    "\n",
    "#install numpy\n",
    "pip3 install numpy\n",
    "```\n",
    "\n",
    "The virtual environment will isolate your `NumPy` installation from your system-wide Python installation and other projects you may have in your computer. So, it's safer. This method will save you gigabytes of memory, time, confusion, and effort. But that's just me!"
   ]
  },
  {
   "cell_type": "markdown",
   "metadata": {},
   "source": [
    "## NumPy arrays"
   ]
  },
  {
   "cell_type": "markdown",
   "metadata": {},
   "source": [
    "`NumPy` fundamental object is the **[ndarray](https://numpy.org/doc/1.18/reference/generated/numpy.ndarray.html)**. Arrays are simply ordered collections of elements, like singletons, [lists](https://docs.python.org/3/tutorial/datastructures.html), [sets](https://realpython.com/python-sets/), [vectors](https://pabloinsente.github.io/intro-linear-algebra#vectors), [matrices](https://pabloinsente.github.io/intro-linear-algebra#matrices), or [tensors](https://en.wikipedia.org/wiki/Tensor). In Additionally, elements in an array have of **the same type**. For instance, an array can't have integers and text at the same time. \n",
    "\n",
    "The \"n\" in \"ndarray\" makes references to the arbitrary number of dimensions it can take. An array with one element and one dimension, it's a \"singleton\" or just a number. An array with four elements and two dimensions, is a 2x2 matrix. Put simply, an array is like an Excel sheet with the caveat that instead of being restricted to two dimensions, it can be extended to 3, 4, or higher dimensions, and that you can't combine data types in a \"sheet\". \n",
    "\n",
    "In `NumPy`, dimensions are called `axes`, so I will use such term interchangeably with dimensions from now."
   ]
  },
  {
   "cell_type": "markdown",
   "metadata": {},
   "source": [
    "<<<array-picture.svg>>>"
   ]
  },
  {
   "cell_type": "markdown",
   "metadata": {},
   "source": [
    "Let's see a few examples. \n",
    "\n",
    "We first need to import `NumPy` by running:"
   ]
  },
  {
   "cell_type": "code",
   "execution_count": 1,
   "metadata": {},
   "outputs": [],
   "source": [
    "import numpy as np"
   ]
  },
  {
   "cell_type": "markdown",
   "metadata": {},
   "source": [
    "Then we can use the `array` method constructor to build an array as:"
   ]
  },
  {
   "cell_type": "code",
   "execution_count": 2,
   "metadata": {},
   "outputs": [],
   "source": [
    " # 1 axis/dimensions array: 1\n",
    "one_dim=  np.array([1, 2, 3]) \n",
    " \n",
    " # 2 axis/dimensions array\n",
    "two_dim= np.array([[1, 2, 3],  \n",
    "                   [4, 5, 6]])\n",
    " \n",
    " # 3 axis/dimensions array\n",
    "three_dim =  np.array([[[1, 2, 3], \n",
    "                        [4, 5, 6]],\n",
    "                       [[1, 2, 3],\n",
    "                        [4, 5, 6]]]) "
   ]
  },
  {
   "cell_type": "markdown",
   "metadata": {},
   "source": [
    "This is how arrays look when printed:"
   ]
  },
  {
   "cell_type": "code",
   "execution_count": 3,
   "metadata": {},
   "outputs": [
    {
     "name": "stdout",
     "output_type": "stream",
     "text": [
      "One-dimensional array:\n",
      "[1 2 3]\n",
      "\n",
      "Two-dimensional array:\n",
      "[[1 2 3]\n",
      " [4 5 6]]\n",
      "\n",
      "Three-dimensional array:\n",
      "[[[1 2 3]\n",
      "  [4 5 6]]\n",
      "\n",
      " [[1 2 3]\n",
      "  [4 5 6]]]\n"
     ]
    }
   ],
   "source": [
    "print(f'One-dimensional array:\\n{one_dim}\\n')\n",
    "print(f'Two-dimensional array:\\n{two_dim}\\n')\n",
    "print(f'Three-dimensional array:\\n{three_dim}')"
   ]
  },
  {
   "cell_type": "markdown",
   "metadata": {},
   "source": [
    "We can inspect and confirm **dimensionality** as:"
   ]
  },
  {
   "cell_type": "code",
   "execution_count": 4,
   "metadata": {},
   "outputs": [
    {
     "name": "stdout",
     "output_type": "stream",
     "text": [
      "Number of dimensions array one:1\n",
      "Number of dimensions array two:2\n",
      "Number of dimensions array three:3\n"
     ]
    }
   ],
   "source": [
    "print(f'Number of dimensions array one:{one_dim.ndim}')\n",
    "print(f'Number of dimensions array two:{two_dim.ndim}')\n",
    "print(f'Number of dimensions array three:{three_dim.ndim}')"
   ]
  },
  {
   "cell_type": "markdown",
   "metadata": {},
   "source": [
    "The **shape** of an array is something confused with its dimensionality. "
   ]
  },
  {
   "cell_type": "code",
   "execution_count": 5,
   "metadata": {},
   "outputs": [
    {
     "name": "stdout",
     "output_type": "stream",
     "text": [
      "Shape array one:(3,)\n",
      "Shape array two:(2, 3)\n",
      "Shape array three:(2, 2, 3)\n"
     ]
    }
   ],
   "source": [
    "print(f'Shape array one:{one_dim.shape}')\n",
    "print(f'Shape array two:{two_dim.shape}')\n",
    "print(f'Shape array three:{three_dim.shape}')"
   ]
  },
  {
   "cell_type": "markdown",
   "metadata": {},
   "source": [
    "The first number in the parenthesis represents the number of elements within the first axis/dimension; the second number the number of elements within the second axis/dimension, the third number the number of elements within the third axis/dimensions, and so on. \n",
    "\n",
    "For instance, the (2, 2, 3) indicates 2 elements along the first axis, 2 elements along the second axis, and 3 elements along the third axis."
   ]
  },
  {
   "cell_type": "markdown",
   "metadata": {},
   "source": [
    "To count the **number of elements** within an array type:"
   ]
  },
  {
   "cell_type": "code",
   "execution_count": 6,
   "metadata": {},
   "outputs": [
    {
     "name": "stdout",
     "output_type": "stream",
     "text": [
      "Number of elements array one:3\n",
      "Number of elements array two:6\n",
      "Number of elements array three:12\n"
     ]
    }
   ],
   "source": [
    "print(f'Number of elements array one:{one_dim.size}')\n",
    "print(f'Number of elements array two:{two_dim.size}')\n",
    "print(f'Number of elements array three:{three_dim.size}')"
   ]
  },
  {
   "cell_type": "markdown",
   "metadata": {},
   "source": [
    "`NumPy` utilizes different **data types** (more on this later) to represent data, which can be inspected as:"
   ]
  },
  {
   "cell_type": "code",
   "execution_count": 7,
   "metadata": {},
   "outputs": [
    {
     "name": "stdout",
     "output_type": "stream",
     "text": [
      "Data type array one:int64\n",
      "Data type array two:int64\n",
      "Data type array three:int64\n"
     ]
    }
   ],
   "source": [
    "print(f'Data type array one:{one_dim.dtype}')\n",
    "print(f'Data type array two:{two_dim.dtype}')\n",
    "print(f'Data type array three:{three_dim.dtype}')"
   ]
  },
  {
   "cell_type": "markdown",
   "metadata": {},
   "source": [
    "## Array creation"
   ]
  },
  {
   "cell_type": "markdown",
   "metadata": {},
   "source": [
    "`NumPy` offers several alternatives  to create arrays.\n",
    "\n",
    "I will review three cases:\n",
    "\n",
    "1. Conversion from other Python structures \n",
    "2. Intrinsic `NumPy` array creation objects \n",
    "3. Use of special library functions"
   ]
  },
  {
   "cell_type": "markdown",
   "metadata": {},
   "source": [
    "### Conversion from other Python structures "
   ]
  },
  {
   "cell_type": "markdown",
   "metadata": {},
   "source": [
    "In the previous section I used the `array` method to create an array from a Python list. This is an example of array creation from conversion of an array-like Python object. \n",
    "\n",
    "Lits, tuples, and sets are array-like Python objects that serve as options for this method."
   ]
  },
  {
   "cell_type": "code",
   "execution_count": 8,
   "metadata": {},
   "outputs": [],
   "source": [
    "array_list = np.array([1, 2, 3])\n",
    "array_tuple = np.array(((1, 2, 3), (4, 5, 6)))\n",
    "array_set = np.array({\"pikachu\", \"snorlax\", \"charizard\"})"
   ]
  },
  {
   "cell_type": "code",
   "execution_count": 9,
   "metadata": {},
   "outputs": [
    {
     "name": "stdout",
     "output_type": "stream",
     "text": [
      "Array from list:\n",
      "[1 2 3]\n",
      "\n",
      "Array from tuple:\n",
      "[[1 2 3]\n",
      " [4 5 6]]\n",
      "\n",
      "Array from set:\n",
      "{'snorlax', 'pikachu', 'charizard'}\n"
     ]
    }
   ],
   "source": [
    "print(f'Array from list:\\n{array_list}\\n')\n",
    "print(f'Array from tuple:\\n{array_tuple}\\n')\n",
    "print(f'Array from set:\\n{array_set}')"
   ]
  },
  {
   "cell_type": "markdown",
   "metadata": {},
   "source": [
    "### Intrinsic NumPy array creation objects "
   ]
  },
  {
   "cell_type": "markdown",
   "metadata": {},
   "source": [
    "Manual input of data into arrays can be cumbersome, so `NumPy` offers a series of convenience methods to create arrays for special cases, like zeros, ones, and others. Below some common examples."
   ]
  },
  {
   "cell_type": "code",
   "execution_count": 10,
   "metadata": {},
   "outputs": [],
   "source": [
    "# zeros\n",
    "zeros = np.zeros(5)\n",
    "\n",
    "# ones\n",
    "ones = np.ones((3, 3))\n",
    "\n",
    "# arange\n",
    "arange = np.arange(1, 10, 2)\n",
    "\n",
    "# empty\n",
    "empty =  np.empty([2, 2])\n",
    "\n",
    "# linspace\n",
    "linespace = np.linspace(-1.0, 1.0, num=10)\n",
    "\n",
    "# full\n",
    "full = np.full((3,3), -2)\n",
    "\n",
    "# indices\n",
    "indices =  np.indices((3,3))"
   ]
  },
  {
   "cell_type": "code",
   "execution_count": 11,
   "metadata": {},
   "outputs": [
    {
     "name": "stdout",
     "output_type": "stream",
     "text": [
      "Array of zeros:\n",
      "[0. 0. 0. 0. 0.]\n",
      "\n",
      "Array of ones:\n",
      "[[1. 1. 1.]\n",
      " [1. 1. 1.]\n",
      " [1. 1. 1.]]\n",
      "\n",
      "Array of empty entries:\n",
      "[[4.66822603e-310 6.94932402e-310]\n",
      " [0.00000000e+000 0.00000000e+000]]\n",
      "\n",
      "Evenly spaced array in a range:\n",
      "[-1.         -0.77777778 -0.55555556 -0.33333333 -0.11111111  0.11111111\n",
      "  0.33333333  0.55555556  0.77777778  1.        ]\n",
      "\n",
      "Array with same number on each entry:\n",
      "[[-2 -2 -2]\n",
      " [-2 -2 -2]\n",
      " [-2 -2 -2]]\n",
      "\n",
      "Array from indices:\n",
      "[[[0 0 0]\n",
      "  [1 1 1]\n",
      "  [2 2 2]]\n",
      "\n",
      " [[0 1 2]\n",
      "  [0 1 2]\n",
      "  [0 1 2]]]\n",
      "\n"
     ]
    }
   ],
   "source": [
    "print(f'Array of zeros:\\n{zeros}\\n')\n",
    "print(f'Array of ones:\\n{ones}\\n')\n",
    "print(f'Array of empty entries:\\n{empty}\\n')\n",
    "print(f'Evenly spaced array in a range:\\n{linespace}\\n')\n",
    "print(f'Array with same number on each entry:\\n{full}\\n')\n",
    "print(f'Array from indices:\\n{indices}\\n')"
   ]
  },
  {
   "cell_type": "markdown",
   "metadata": {},
   "source": [
    "- The `zero` method generates an array of zeros of shape defined by a tuple passed to the function\n",
    "- The `ones` method generates an array of ones of shape defined by a tuple passed to the function\n",
    "- The `empty` method generates an empty array (although very small numbers will be printed) of shape defined by a tuple passed to the function\n",
    "- The `linespace` method generates an array of evenly spaced entries given a range and an step size\n",
    "- The `full` method returns an array of  shape defined by a tuple passed to the function filled with the same value (third argument outside the tuple)\n",
    "- The `indices` method generates an array representing the indices of the grid"
   ]
  },
  {
   "cell_type": "markdown",
   "metadata": {},
   "source": [
    "### Use of special library functions"
   ]
  },
  {
   "cell_type": "markdown",
   "metadata": {},
   "source": [
    "`NumPy` has a large list of special cases functions that generate arrays, which are too large and seemingly disconnected to enumerate. Here are a few examples:"
   ]
  },
  {
   "cell_type": "code",
   "execution_count": 12,
   "metadata": {},
   "outputs": [],
   "source": [
    "# diagonal array\n",
    "diagonal = np.diag([1, 2, 3], k=0)\n",
    "\n",
    "# identity \n",
    "identity = np.identity(3)\n",
    "\n",
    "# eye\n",
    "eye = np.eye(4, k=1)\n",
    "\n",
    "# rand\n",
    "rand = np.random.rand(3,2)"
   ]
  },
  {
   "cell_type": "code",
   "execution_count": 13,
   "metadata": {},
   "outputs": [
    {
     "name": "stdout",
     "output_type": "stream",
     "text": [
      "Diagonal matrix from array-like structure:\n",
      "[[1 0 0]\n",
      " [0 2 0]\n",
      " [0 0 3]]\n",
      "\n",
      "Identity matrix:\n",
      "[[1. 0. 0.]\n",
      " [0. 1. 0.]\n",
      " [0. 0. 1.]]\n",
      "\n",
      "Diagonal matrix with ones and zeros elsewhere:\n",
      "[[0. 1. 0. 0.]\n",
      " [0. 0. 1. 0.]\n",
      " [0. 0. 0. 1.]\n",
      " [0. 0. 0. 0.]]\n",
      "\n",
      "Array of random numbers sampled from a uniform distribution:\n",
      "[[0.13266357 0.82005487]\n",
      " [0.2049323  0.59336386]\n",
      " [0.0543957  0.89809215]]\n"
     ]
    }
   ],
   "source": [
    "print(f'Diagonal matrix from array-like structure:\\n{diagonal}\\n')\n",
    "print(f'Identity matrix:\\n{identity}\\n')\n",
    "print(f'Diagonal matrix with ones and zeros elsewhere:\\n{eye}\\n')\n",
    "print(f'Array of random numbers sampled from a uniform distribution:\\n{rand}')"
   ]
  },
  {
   "cell_type": "markdown",
   "metadata": {},
   "source": [
    "- The `diagonal` function returns an array with the numbers in the diagonal and zeros elsewhere\n",
    "- The `identity` function returns an identity matrix\n",
    "- The `eye` function returns an array with ones on the diagonal and zeros elsewhere\n",
    "- The `random.rand` function returns an array of random numbers sampled from an uniform distribution"
   ]
  },
  {
   "cell_type": "markdown",
   "metadata": {},
   "source": [
    "## Array mathematics and element-wise operations"
   ]
  },
  {
   "cell_type": "markdown",
   "metadata": {},
   "source": [
    "### Array arithmetic"
   ]
  },
  {
   "cell_type": "markdown",
   "metadata": {},
   "source": [
    "As in regular mathematics, array arithmetic is  fundamentally about addition, subtraction, multiplication, and division. In `NumPy`, this kind of operations are performed **element-wise**. Take the following example:\n",
    "\n",
    "$$\n",
    "\\begin{bmatrix}\n",
    "1\\\\\n",
    "2\\\\\n",
    "3\n",
    "\\end{bmatrix} +\n",
    "\\begin{bmatrix}\n",
    "4\\\\\n",
    "5\\\\\n",
    "6\n",
    "\\end{bmatrix} =\n",
    "\\begin{bmatrix}\n",
    "2\\\\\n",
    "7\\\\\n",
    "9\n",
    "\\end{bmatrix}\n",
    "$$\n",
    "\n",
    "As in this example, `NumPy` will add the first elements of each array together, the second elements of each array together, and the third elements of each array together. Hence, **element-wise addition**. The same can be extrapolated to multi-dimensional arrays. Consider the following example:\n",
    "\n",
    "$$\n",
    "\\begin{bmatrix}\n",
    "1 & 2\\\\\n",
    "3 & 4\n",
    "\\end{bmatrix} +\n",
    "\\begin{bmatrix}\n",
    "5 & 6\\\\\n",
    "7 & 8\n",
    "\\end{bmatrix} =\n",
    "\\begin{bmatrix}\n",
    "6 & 8\\\\\n",
    "10 & 12\n",
    "\\end{bmatrix}\n",
    "$$\n",
    "\n",
    "The logic is the same: the top-left elements in each array are added together, the top-right elements of each array are added together, and so on. Subtraction, division, multiplication, exponentiation, logarithms, roots, and many other algebraic operations (or arithmetic depending to whom you ask), will be performed in the same manner. \n",
    "\n",
    "\n",
    "Here there is a list of common arithmetic operations."
   ]
  },
  {
   "cell_type": "code",
   "execution_count": 14,
   "metadata": {},
   "outputs": [],
   "source": [
    "a = np.arange(1, 10).reshape((3,3))\n",
    "b = np.arange(10,19).reshape((3,3))\n",
    "\n",
    "addition = a + b\n",
    "subtraction = a - b\n",
    "multiplication = a * b\n",
    "true_division = a / b\n",
    "floor_division = a // b\n",
    "remainder = np.remainder(a, b)"
   ]
  },
  {
   "cell_type": "code",
   "execution_count": 15,
   "metadata": {},
   "outputs": [
    {
     "name": "stdout",
     "output_type": "stream",
     "text": [
      "Array a:\n",
      "[[1 2 3]\n",
      " [4 5 6]\n",
      " [7 8 9]]\n",
      "\n",
      "Array b:\n",
      "[[10 11 12]\n",
      " [13 14 15]\n",
      " [16 17 18]]\n",
      "\n",
      "Addition of a and b:\n",
      "[[11 13 15]\n",
      " [17 19 21]\n",
      " [23 25 27]]\n",
      "\n",
      "Subtraction of a and b:\n",
      "[[-9 -9 -9]\n",
      " [-9 -9 -9]\n",
      " [-9 -9 -9]]\n",
      "\n",
      "Multiplication of a and b:\n",
      "[[ 10  22  36]\n",
      " [ 52  70  90]\n",
      " [112 136 162]]\n",
      "\n",
      "True divition of a and b:\n",
      "[[0.1        0.18181818 0.25      ]\n",
      " [0.30769231 0.35714286 0.4       ]\n",
      " [0.4375     0.47058824 0.5       ]]\n",
      "\n",
      "Floor division of a and b:\n",
      "[[0 0 0]\n",
      " [0 0 0]\n",
      " [0 0 0]]\n",
      "\n",
      "Remainder of a and b:\n",
      "[[1 2 3]\n",
      " [4 5 6]\n",
      " [7 8 9]]\n"
     ]
    }
   ],
   "source": [
    "print(f'Array a:\\n{a}\\n')\n",
    "print(f'Array b:\\n{b}\\n')\n",
    "print(f'Addition of a and b:\\n{addition}\\n')\n",
    "print(f'Subtraction of a and b:\\n{subtraction}\\n')\n",
    "print(f'Multiplication of a and b:\\n{multiplication}\\n')\n",
    "print(f'True divition of a and b:\\n{true_division}\\n')\n",
    "print(f'Floor division of a and b:\\n{floor_division}\\n')\n",
    "print(f'Remainder of a and b:\\n{remainder}')"
   ]
  },
  {
   "cell_type": "markdown",
   "metadata": {},
   "source": [
    "What do you think it will happen if we try to multiply a 3x3 array by an scalar (a single number? One option is that \n",
    "\n",
    "1. The operation will fail, as their shapes do not match\n",
    "2. Just the first element of the array will be multiplied by the scalar\n",
    "3. All elements of the array will be multiplied by the scalar regardless\n",
    "\n",
    "Let's try it out."
   ]
  },
  {
   "cell_type": "code",
   "execution_count": 16,
   "metadata": {},
   "outputs": [
    {
     "name": "stdout",
     "output_type": "stream",
     "text": [
      "3x3 array:\n",
      "[[1 2 3]\n",
      " [4 5 6]\n",
      " [7 8 9]]\n",
      "\n",
      "3x3 array times an scalar:\n",
      "[[ 2  4  6]\n",
      " [ 8 10 12]\n",
      " [14 16 18]]\n"
     ]
    }
   ],
   "source": [
    "array_scalar = a * 2\n",
    "print(f'3x3 array:\\n{a}\\n')\n",
    "print(f'3x3 array times an scalar:\\n{array_scalar}')"
   ]
  },
  {
   "cell_type": "markdown",
   "metadata": {},
   "source": [
    "Each element of the array was multiplied by 2. How does this even work? One option is to \"loop\" over each of array and multiply by 3 sequentially. But that it is slow, and `NumPy` is all about speed. What happens is that the scalar is \"broadcast\" to match the shape of the array BEFORE multiplication. In practice, what we have is a 3x3 array times a 3x3 array of 2s as:\n",
    "\n",
    "$$\n",
    "\\begin{bmatrix}\n",
    "1 & 2 & 3\\\\\n",
    "4 & 5 & 6\\\\\n",
    "7 & 8 & 9\n",
    "\\end{bmatrix}\n",
    "\\begin{bmatrix}\n",
    "2 & 2 & 2\\\\\n",
    "2 & 2 & 2\\\\\n",
    "2 & 2 & 2\n",
    "\\end{bmatrix} =\n",
    "\\begin{bmatrix}\n",
    "2 & 4 & 6\\\\\n",
    "8 & 10 & 12\\\\\n",
    "14 & 16 & 18\n",
    "\\end{bmatrix}\n",
    "$$\n",
    "\n",
    "Broadcasting will make computation way faster than looping. There is more to say about broadcasting, and I will cover it more in depth in a later section. For now, this should help you to understand how element-wise operations work in `NumPy`"
   ]
  },
  {
   "cell_type": "markdown",
   "metadata": {},
   "source": [
    "### Trigonometric functions"
   ]
  },
  {
   "cell_type": "markdown",
   "metadata": {},
   "source": [
    "`NumPy` provides a series of convenient functions for trigonometric calculations, which also operate in an element-wise fashion. \n",
    "\n",
    "There are several trigonometric functions in `NumPy` (see [here](https://numpy.org/doc/stable/reference/routines.math.html#trigonometric-functions)). Below a couple of the most common ones. "
   ]
  },
  {
   "cell_type": "code",
   "execution_count": 17,
   "metadata": {},
   "outputs": [],
   "source": [
    "x = np.linspace(-4, 4, 200)\n",
    "sin = np.sin(x)\n",
    "cos = np.cos(x)\n",
    "tan = np.tan(x)"
   ]
  },
  {
   "cell_type": "markdown",
   "metadata": {},
   "source": [
    "Let's plot to see the outcome"
   ]
  },
  {
   "cell_type": "code",
   "execution_count": 18,
   "metadata": {},
   "outputs": [],
   "source": [
    "import matplotlib.pylab as plt\n",
    "%config InlineBackend.figure_format = 'retina' # to get high resolution images"
   ]
  },
  {
   "cell_type": "code",
   "execution_count": 19,
   "metadata": {},
   "outputs": [
    {
     "data": {
      "image/png": "[encoded data removed]",
      "text/plain": [
       "<Figure size 432x288 with 3 Axes>"
      ]
     },
     "metadata": {
      "image/png": {
       "height": 279,
       "width": 424
      },
      "needs_background": "light"
     },
     "output_type": "display_data"
    }
   ],
   "source": [
    "fig, (ax1, ax2, ax3) = plt.subplots(3, 1)\n",
    "ax1.plot(x, sin)\n",
    "ax1.set_title(\"sin\")\n",
    "ax2.plot(x, cos)\n",
    "ax2.set_title(\"cos\")\n",
    "ax3.plot(x, tan)\n",
    "ax3.set_title(\"tan\")\n",
    "plt.tight_layout()"
   ]
  },
  {
   "cell_type": "markdown",
   "metadata": {},
   "source": [
    "### Hyperbolic functions"
   ]
  },
  {
   "cell_type": "markdown",
   "metadata": {},
   "source": [
    "Hyperbolic functions are like trigonometric functions but for the hyperbola rather than for the circle. `NumPy` also incorporate several cases (see [here](https://numpy.org/doc/stable/reference/routines.math.html#hyperbolic-functions))."
   ]
  },
  {
   "cell_type": "code",
   "execution_count": 20,
   "metadata": {},
   "outputs": [],
   "source": [
    "y = np.linspace(-4, 4, 200)\n",
    "sinh = np.sinh(y)\n",
    "cosh = np.cosh(y)\n",
    "tanh = np.tanh(y)"
   ]
  },
  {
   "cell_type": "code",
   "execution_count": 21,
   "metadata": {},
   "outputs": [
    {
     "data": {
      "image/png": "[encoded data removed]",
      "text/plain": [
       "<Figure size 432x288 with 3 Axes>"
      ]
     },
     "metadata": {
      "image/png": {
       "height": 279,
       "width": 424
      },
      "needs_background": "light"
     },
     "output_type": "display_data"
    }
   ],
   "source": [
    "fig, (ax1, ax2, ax3) = plt.subplots(3, 1)\n",
    "ax1.plot(y, sin)\n",
    "ax1.set_title(\"sinh\")\n",
    "ax2.plot(y, cos)\n",
    "ax2.set_title(\"cosh\")\n",
    "ax3.plot(y, tan)\n",
    "ax3.set_title(\"tanh\")\n",
    "plt.tight_layout()"
   ]
  },
  {
   "cell_type": "markdown",
   "metadata": {},
   "source": [
    "### Rounding"
   ]
  },
  {
   "cell_type": "markdown",
   "metadata": {},
   "source": [
    "Rounding is delicate subject as rounding errors, when compounded over sequences of operations, can completely mess up your results. It is also a common operation for presenting and plotting results to others. Rounding is applied element-wise.\n",
    "\n",
    "Let's generate a sequence of random decimal numbers to see the effect of different rounding procedures available in `NumPy` (see [here](https://numpy.org/doc/stable/reference/routines.math.html#rounding))"
   ]
  },
  {
   "cell_type": "code",
   "execution_count": 22,
   "metadata": {},
   "outputs": [],
   "source": [
    "decimals = np.linspace(0.11111111, 0.99999999, 10)\n",
    "around = np.around(decimals, 3)\n",
    "round_ = np.round(decimals, 3)\n",
    "rint = np.rint(decimals)\n",
    "fix = np.fix(decimals)\n",
    "floor = np.floor(decimals)\n",
    "ceil = np.ceil(decimals)"
   ]
  },
  {
   "cell_type": "code",
   "execution_count": 23,
   "metadata": {},
   "outputs": [
    {
     "name": "stdout",
     "output_type": "stream",
     "text": [
      "Array of decimals:\n",
      "[0.11111111 0.20987654 0.30864197 0.4074074  0.50617283 0.60493827\n",
      " 0.7037037  0.80246913 0.90123456 0.99999999]\n",
      "\n",
      "'around' round to the fiven number of decimals:\n",
      "[0.111 0.21  0.309 0.407 0.506 0.605 0.704 0.802 0.901 1.   ]\n",
      "\n",
      "'round' yields identical results than 'around':\n",
      "[0.111 0.21  0.309 0.407 0.506 0.605 0.704 0.802 0.901 1.   ]\n",
      "\n",
      "'rint' round to the nearest integer:\n",
      "[0. 0. 0. 0. 1. 1. 1. 1. 1. 1.]\n",
      "\n",
      "'fix' round to the nearest integer towars zero:\n",
      "[0. 0. 0. 0. 0. 0. 0. 0. 0. 0.]\n",
      "\n",
      "'floor' round to the floor of the input:\n",
      "[0. 0. 0. 0. 0. 0. 0. 0. 0. 0.]\n",
      "\n",
      "'ceil' round to the ceiling of the input:\n",
      "[1. 1. 1. 1. 1. 1. 1. 1. 1. 1.]\n"
     ]
    }
   ],
   "source": [
    "print(f\"Array of decimals:\\n{decimals}\\n\")\n",
    "print(f\"'around' round to the fiven number of decimals:\\n{around}\\n\")\n",
    "print(f\"'round' yields identical results than 'around':\\n{round_}\\n\")\n",
    "print(f\"'rint' round to the nearest integer:\\n{rint}\\n\")\n",
    "print(f\"'fix' round to the nearest integer towars zero:\\n{fix}\\n\")\n",
    "print(f\"'floor' round to the floor of the input:\\n{floor}\\n\")\n",
    "print(f\"'ceil' round to the ceiling of the input:\\n{ceil}\")"
   ]
  },
  {
   "cell_type": "markdown",
   "metadata": {},
   "source": [
    "### Exponents and logarithms"
   ]
  },
  {
   "cell_type": "markdown",
   "metadata": {},
   "source": [
    "Exponents and logarithms are often used in computations related to probability and statistics. `NumPy` incorporate several of the common ones (see [here](https://numpy.org/doc/stable/reference/routines.math.html#exponents-and-logarithms))."
   ]
  },
  {
   "cell_type": "code",
   "execution_count": 24,
   "metadata": {},
   "outputs": [],
   "source": [
    "z = np.array([0.1, 1, np.e, np.pi])\n",
    "exp = np.exp(z)\n",
    "expm1 = np.expm1(z)\n",
    "exp2 = np.exp2(z)\n",
    "log = np.log(z)\n",
    "log10 = np.log10(z)\n",
    "log2 = np.log2(z)"
   ]
  },
  {
   "cell_type": "code",
   "execution_count": 25,
   "metadata": {},
   "outputs": [
    {
     "name": "stdout",
     "output_type": "stream",
     "text": [
      "Compute exponential element-wise:\n",
      "[ 1.10517092  2.71828183 15.15426224 23.14069263]\n",
      "\n",
      "Compute 'exp(x) - 1' with greater precision for small values:\n",
      "[ 0.10517092  1.71828183 14.15426224 22.14069263]\n",
      "\n",
      "Compute '2**p' for all elements p in the array:\n",
      "[1.07177346 2.         6.58088599 8.82497783]\n",
      "\n",
      "Compute natural logarithm element-wise:\n",
      "[-2.30258509  0.          1.          1.14472989]\n",
      "\n",
      "Compute base 10 logarithm element-wise:\n",
      "[-1.          0.          0.43429448  0.49714987]\n",
      "\n",
      "Compute base 2 logarithm element-wise:\n",
      "[-3.32192809  0.          1.44269504  1.65149613]\n",
      "\n"
     ]
    }
   ],
   "source": [
    "print(f'Compute exponential element-wise:\\n{exp}\\n')\n",
    "print(f\"Compute 'exp(x) - 1' with greater precision for small values:\\n{expm1}\\n\")\n",
    "print(f\"Compute '2**p' for all elements p in the array:\\n{exp2}\\n\")\n",
    "print(f'Compute natural logarithm element-wise:\\n{log}\\n')\n",
    "print(f'Compute base 10 logarithm element-wise:\\n{log10}\\n')\n",
    "print(f'Compute base 2 logarithm element-wise:\\n{log2}\\n')"
   ]
  },
  {
   "cell_type": "markdown",
   "metadata": {},
   "source": [
    "### Other miscellaneous element-wise operations"
   ]
  },
  {
   "cell_type": "code",
   "execution_count": 61,
   "metadata": {},
   "outputs": [],
   "source": [
    "# sum_\n",
    "# prod\n",
    "# cumsum\n",
    "# diff\n",
    "# clip \n",
    "# sqrt\n",
    "# cbrt\n",
    "# square\n",
    "# absolute\n",
    "# fabs\n",
    "# sign\n",
    "# maximum\n",
    "# minimum"
   ]
  },
  {
   "cell_type": "markdown",
   "metadata": {},
   "source": [
    "## Array data type and conversions"
   ]
  },
  {
   "cell_type": "markdown",
   "metadata": {},
   "source": [
    "I mentioned `NumPy` arrays can contain a single data type. This constraint makes data storing and manipulation much more efficient than working with mixed type arrays (like Python lists), which is a priority for `NumPy`. \n",
    "\n",
    "Data types in `NumPy` is a relatively complicated subject, particularly if you are not familiar with C or memory allocation. For our purposes, some basic data types are worth knowing: \n",
    "\n",
    "1. `np.bool_`: used to represent \"Booleans\" (True or False)\n",
    "2. `np.int`: used to integers numbers \n",
    "3. `np.unit`: used to represent positive integers or \"unsigned\" integers\n",
    "4. `np.float`: used to represent real numbers (decimals, fractions, etc) or \"floating point\" numbers  \n",
    "5. `np.complex`: used to represent complex number\n",
    "\n",
    "In my experience, booleans, integers, and float point data types, are the ones that you end up using the most. At least explicitly. Other data types are used all the time, but you do not have to worry about it because `NumPy` takes care of it for you. As Python is a \"dynamically typed\" language, which simply means that you do not have to tell the computer what data type you will use (Python does this for you), most of the time you have no need to indicate which data type you will use. \n",
    "\n",
    "For instance, if you simply define and array of values, `NumPy` will decide what data type to allocate for each:  "
   ]
  },
  {
   "cell_type": "code",
   "execution_count": 26,
   "metadata": {},
   "outputs": [],
   "source": [
    "bools = np.array([True, False])\n",
    "ints = np.full((2,2), 1)\n",
    "floats = np.ones(5)\n",
    "unsigned = np.arange(3, dtype=np.uint8)\n",
    "complexs = np.array([+1j, +2j, +3j])\n",
    "unicode = np.array([\"Catbug\", \"Chris\", \"Danny\", \"Wallow\", \"Beth\"])"
   ]
  },
  {
   "cell_type": "code",
   "execution_count": 27,
   "metadata": {},
   "outputs": [
    {
     "name": "stdout",
     "output_type": "stream",
     "text": [
      "Booleans :bool\n",
      "Integers :int64\n",
      "Floats :float64\n",
      "Unsigned :uint8\n",
      "Complexs :complex128\n",
      "Unicode :<U6\n"
     ]
    }
   ],
   "source": [
    "print(f'Booleans :{bools.dtype}')\n",
    "print(f'Integers :{ints.dtype}')\n",
    "print(f'Floats :{floats.dtype}')\n",
    "print(f'Unsigned :{unsigned.dtype}')\n",
    "print(f'Complexs :{complexs.dtype}')\n",
    "print(f'Unicode :{unicode.dtype}')"
   ]
  },
  {
   "cell_type": "markdown",
   "metadata": {},
   "source": [
    "In some instances you may want to explicitly indicate the data type. Here are some examples of how you can do that:"
   ]
  },
  {
   "cell_type": "code",
   "execution_count": 28,
   "metadata": {},
   "outputs": [],
   "source": [
    "int_16 = np.array([1, 2, 3, 4], dtype='int16')\n",
    "float_32 = np.array([1, 2, 3, 4], dtype='float32')\n",
    "unsigned_int_8 = np.arange(3, dtype='uint8')"
   ]
  },
  {
   "cell_type": "code",
   "execution_count": 29,
   "metadata": {},
   "outputs": [
    {
     "name": "stdout",
     "output_type": "stream",
     "text": [
      "Integer 16 bytes data type: int16\n",
      "Float 32 bytes data type: float32\n",
      "Unsigned integer 8 bytes data type: uint8\n"
     ]
    }
   ],
   "source": [
    "print(f'Integer 16 bytes data type: { int_16.dtype}')\n",
    "print(f'Float 32 bytes data type: {float_32.dtype}')\n",
    "print(f'Unsigned integer 8 bytes data type: {unsigned_int_8.dtype}')"
   ]
  },
  {
   "cell_type": "markdown",
   "metadata": {},
   "source": [
    "Note that the numbers after the data type, like 8, 16, 32, and 64, indicate the number of bytes are allocated to represent each element of the array. The higher the number, the more memory.\n",
    "\n",
    "There are several reasons why you may want to explicitly indicate the data type. One the most common reasons is **memory efficiency**. If you know your range of numbers in a variable are small positive numbers, utilizing an 8 bytes unsigned integers will use significantly less memory than a 32 bytes integer. Now, this will be an issue only with massive datasets, meaning datasets that make your computer to have difficulty processing your data, as it is not clear what \"massive\" means without context. \n",
    "\n",
    "A final operation you may want to do, is **to change the data type of an array**. For instance, let's say you want to stack two arrays, but one has floating point data type, and the other integers. Recall that `NumPy` arrays can have a single data type. Let's see an example."
   ]
  },
  {
   "cell_type": "code",
   "execution_count": 30,
   "metadata": {},
   "outputs": [],
   "source": [
    "int_array = np.arange(10, dtype='int')\n",
    "float_array = np.arange(10, dtype='float')"
   ]
  },
  {
   "cell_type": "code",
   "execution_count": 31,
   "metadata": {},
   "outputs": [
    {
     "name": "stdout",
     "output_type": "stream",
     "text": [
      "Array 1: [0 1 2 3 4 5 6 7 8 9], data type:int64\n",
      "Array 2: [0. 1. 2. 3. 4. 5. 6. 7. 8. 9.], data type:float64\n"
     ]
    }
   ],
   "source": [
    "print(f'Array 1: {int_array}, data type:{int_array.dtype}')\n",
    "print(f'Array 2: {float_array}, data type:{float_array.dtype}')"
   ]
  },
  {
   "cell_type": "markdown",
   "metadata": {},
   "source": [
    "Let's first stack the arrays as they are"
   ]
  },
  {
   "cell_type": "code",
   "execution_count": 32,
   "metadata": {},
   "outputs": [],
   "source": [
    "stacked_arrays = np.stack((int_array, float_array))"
   ]
  },
  {
   "cell_type": "code",
   "execution_count": 33,
   "metadata": {},
   "outputs": [
    {
     "name": "stdout",
     "output_type": "stream",
     "text": [
      "Stacked arrays as they are:\n",
      "[[0. 1. 2. 3. 4. 5. 6. 7. 8. 9.]\n",
      " [0. 1. 2. 3. 4. 5. 6. 7. 8. 9.]],\n",
      "data type:float64\n"
     ]
    }
   ],
   "source": [
    "print(f'Stacked arrays as they are:\\n{stacked_arrays},\\ndata type:{stacked_arrays.dtype}')"
   ]
  },
  {
   "cell_type": "markdown",
   "metadata": {},
   "source": [
    "As you can see, `NumPy` \"upcasted\" the data type of lower precision, the `int64`, to the data type of higher precision, the `float64`. This is simply because `int64` can't represent float point or real numbers, only integers or natural numbers. But `float64` can represent integers. So it is the smart choice to make things work. \n",
    "\n",
    "Now, you may want to keep everything as integers, for whatever reason. If so, this is what you need to do. First, convert the float64 array to a int64 array as:"
   ]
  },
  {
   "cell_type": "code",
   "execution_count": 34,
   "metadata": {},
   "outputs": [],
   "source": [
    "int_array_2 = float_array.astype('int64')"
   ]
  },
  {
   "cell_type": "markdown",
   "metadata": {},
   "source": [
    "And now stack things together. "
   ]
  },
  {
   "cell_type": "code",
   "execution_count": 35,
   "metadata": {},
   "outputs": [],
   "source": [
    "stacked_arrays_2 = np.stack((int_array, int_array_2))"
   ]
  },
  {
   "cell_type": "code",
   "execution_count": 36,
   "metadata": {},
   "outputs": [
    {
     "name": "stdout",
     "output_type": "stream",
     "text": [
      "Stacked arrays after conversion:\n",
      "[[0 1 2 3 4 5 6 7 8 9]\n",
      " [0 1 2 3 4 5 6 7 8 9]],\n",
      "data type:int64\n"
     ]
    }
   ],
   "source": [
    "print(f'Stacked arrays after conversion:\\n{stacked_arrays_2},\\ndata type:{stacked_arrays_2.dtype}')"
   ]
  },
  {
   "cell_type": "markdown",
   "metadata": {},
   "source": [
    "There you go, the array is composed by integers of 64 bytes now. \n",
    "\n",
    "Let's say you want to save memory by converting the new array to a **lower byte representation**, like int 8. This is known as \"downcasting\", i.e., the opposite of \"upcasting\". For this you simply need to:"
   ]
  },
  {
   "cell_type": "code",
   "execution_count": 37,
   "metadata": {},
   "outputs": [],
   "source": [
    "stacked_arrays_3 = stacked_arrays_2.astype('int8')"
   ]
  },
  {
   "cell_type": "code",
   "execution_count": 38,
   "metadata": {},
   "outputs": [
    {
     "name": "stdout",
     "output_type": "stream",
     "text": [
      "Stacked arrays after downcasting:\n",
      "[[0 1 2 3 4 5 6 7 8 9]\n",
      " [0 1 2 3 4 5 6 7 8 9]],\n",
      "data type:int8\n"
     ]
    }
   ],
   "source": [
    "print(f'Stacked arrays after downcasting:\\n{stacked_arrays_3},\\ndata type:{stacked_arrays_3.dtype}')"
   ]
  },
  {
   "cell_type": "markdown",
   "metadata": {},
   "source": [
    "You can check and compare the memory \"footprint\" of each array as:"
   ]
  },
  {
   "cell_type": "code",
   "execution_count": 39,
   "metadata": {},
   "outputs": [
    {
     "name": "stdout",
     "output_type": "stream",
     "text": [
      "Memory size Int64 array:160\n",
      "Memory size Int8 array:20\n"
     ]
    }
   ],
   "source": [
    "print(f'Memory size Int64 array:{stacked_arrays_2.nbytes}')\n",
    "print(f'Memory size Int8 array:{stacked_arrays_3.nbytes}')"
   ]
  },
  {
   "cell_type": "markdown",
   "metadata": {},
   "source": [
    "The memory footprint has been reduced by a factor of 8. This may not sound like a lot, but if you are working with a dataset of size, let's say, 8 gigabytes, you can reduce such memory usage to only 1 gigabyte, which will also do data manipulation faster. "
   ]
  },
  {
   "cell_type": "markdown",
   "metadata": {},
   "source": [
    "## Array manipulation"
   ]
  },
  {
   "cell_type": "markdown",
   "metadata": {},
   "source": [
    "The shape of an array is given by the number of elements along each axis. Now, if you think in a array as composed by little boxes or LEGO pieces, you can start to think if how those pieces can be rearranged in different shapes. For example, a 2 x 2 array could be \"flattened\" to be a 1 x 4 array, or maybe you could \"swap\" the rows and columns of the array, by moving the little boxes around, or even take away a couple of pieces reducing the array to a 1 x 2 shape.\n",
    "\n",
    "These kind of operations are extremely common in any kind of data manipulation, and it is one of the most important skills to acquire. Some people prefer to convert `NumPy` arrays to `Pandas` DataFrames, as `Pandas` provide several easy to use functions to manipulate arrays. Nonetheless, manipulating arrays in `NumPy` it is not that much harder, it can save you time and effort by preventing you to going back and forth with `Pandas`, and well, this is a `NumPy` tutorial, so we are here to learn `NumPy` way. "
   ]
  },
  {
   "cell_type": "markdown",
   "metadata": {},
   "source": [
    "### Array shape manipulation"
   ]
  },
  {
   "cell_type": "markdown",
   "metadata": {},
   "source": [
    "Arrays can be changed with or without changing is data. This is equivalent to the difference between rearranging LEGO blocks with or without adding/removing pieces. \n",
    "\n",
    "The `reshape` method changes the shape of an array *without* changing its data. "
   ]
  },
  {
   "cell_type": "code",
   "execution_count": 40,
   "metadata": {},
   "outputs": [
    {
     "name": "stdout",
     "output_type": "stream",
     "text": [
      "Array-1 shape: (2, 3)\n"
     ]
    }
   ],
   "source": [
    "array_1 = np.array([[1, 2, 3],\n",
    "                    [4, 5, 6]])\n",
    "\n",
    "print(f'Array-1 shape: {array_1.shape}')"
   ]
  },
  {
   "cell_type": "markdown",
   "metadata": {},
   "source": [
    "Array-1 has shape (2, 3), meaning it has 2 rows and 3 columns. "
   ]
  },
  {
   "cell_type": "code",
   "execution_count": 41,
   "metadata": {},
   "outputs": [],
   "source": [
    "# the two syntaxs below are equivalent\n",
    "array_2 = array_1.reshape(3,2) \n",
    "array_3 = np.reshape(array_1, (1,6))"
   ]
  },
  {
   "cell_type": "code",
   "execution_count": 42,
   "metadata": {},
   "outputs": [
    {
     "name": "stdout",
     "output_type": "stream",
     "text": [
      "Array-2:\n",
      "[[1 2]\n",
      " [3 4]\n",
      " [5 6]],\n",
      "shape: (3, 2)\n",
      "\n",
      "Array-3:\n",
      "[[1 2 3 4 5 6]],\n",
      "shape: (1, 6)\n"
     ]
    }
   ],
   "source": [
    "print(f'Array-2:\\n{array_2},\\nshape: {array_2.shape}\\n')\n",
    "print(f'Array-3:\\n{array_3},\\nshape: {array_3.shape}')"
   ]
  },
  {
   "cell_type": "markdown",
   "metadata": {},
   "source": [
    "Array-2 and Array-3 preserve the number of elements of Array-1.\n",
    "\n",
    "**Flattening** an array, this is, collapsing all values into a single axis or dimension, can be done in two manners. "
   ]
  },
  {
   "cell_type": "code",
   "execution_count": 43,
   "metadata": {},
   "outputs": [],
   "source": [
    "array_1_ravel = array_1.ravel()\n",
    "array_1_flatt = array_1.flatten()"
   ]
  },
  {
   "cell_type": "code",
   "execution_count": 44,
   "metadata": {},
   "outputs": [
    {
     "name": "stdout",
     "output_type": "stream",
     "text": [
      "Array-1 ravel:\n",
      "[1 2 3 4 5 6],\n",
      "shape: (6,)\n",
      "\n",
      "Array-1 flattened:\n",
      "[1 2 3 4 5 6],\n",
      "shape: (6,)\n"
     ]
    }
   ],
   "source": [
    "print(f'Array-1 ravel:\\n{array_1_ravel},\\nshape: {array_1_ravel.shape}\\n')\n",
    "print(f'Array-1 flattened:\\n{array_1_flatt},\\nshape: {array_1_flatt.shape}')"
   ]
  },
  {
   "cell_type": "markdown",
   "metadata": {},
   "source": [
    "Why on earth are there two methods to do exactly the same? The answer is that they are not doing the same: `ravel()` returns a '**view**' of the original array, whereas `flatte()` returns an independent '**copy**' of it. Views or images are just \"pointers\" to the original array in memory, whereas copies have their own space in memory. I'll cover this in depth later.\n",
    "\n",
    "Another thing you might have realized is that Array-3 has the same elements than Array-1-ravel and Array-1-flattened, but it has an extra pair of `[]` and shape `(1,6)` instead of `(,6)`. What is going on here? \n",
    "\n",
    "Put simply, internally, `NumPy` arrays have two parts: the information itself and information about how to interpret/read the array. In the case of the shape information, this indicates how many \"indices\" are associated with an array. The `(1,6)` is saying that there **two indices** identifying the array: the number 1 for all the elements, and the numbers from 1 to 6 for each individual element. This makes sense if you think in array as matrices or excel sheets: the first element is in the firs row and first column (1,1), the second in the first row and the second column (1, 2), and son on.\n",
    "\n",
    "However, If you think about it, you don't need two indices to identify the elements of a one-dimensional array. After all, when we count things we do not count \"1 and 1, 1 and 2, 1 and 3, 1 and 4...\" and so on. The `(6,)` is just saying that there is a **single index** identifying each of the 6 elements of the array, which makes perfect sense. The first element of the array is in position one (1,), the second in position two (2,), and so on. \n",
    "\n",
    "Now you may be wondering. Why then to add a 1 as an index if it's unnecessary? Since `NumPy` supports multi-dimensional arrays, technically, the `(1,6)` is indicating the array has TWO dimensions or axes instead of one. \"BUT, the array has just one dimension, right?\" Yes and no. The thing is such array can be represented as either: as a collection of elements along one dimension or as collection of elements along two dimensions, with the caveat that the first dimension has all the data, and the other is basically \"empty\" or \"flat\", but assigned to it. Just like with the the first element is in the firs row and first column (1,1)\" idea. \n",
    "\n",
    "If you are familiar with linear algebra or geometry, you should now that a square is an object with two dimensions, but that can 'live' in three, four, five, a million, or any number of dimensions. Essentially, higher-dimensional spaces can contain objects with less dimensions, but not the other way around. You can't fit an sphere in a plane. The misunderstanding, in my view, comes from the tendency to think in data as two-dimensional grid-like objects, when in practice does not need to be like that *necessarily*. People like to think in `NumPy` arrays as matrices, vectors, tensors, etc., but they aren't, they are arrays with one or more dimensions. Period. \n",
    "\n",
    "This whole discussion may sound like I am beating around the bushes, but I am not. Dimensionality mismatch is one of the most important sources of errors, misunderstandings, and frustrations when working with `NumPy` arrays. If you ever do anything related to linear algebra, like pretty much all of machine learning and statistics, you need to have a firm understanding of how dimensions work in `NumPy`. "
   ]
  },
  {
   "cell_type": "markdown",
   "metadata": {},
   "source": [
    "### Array transpose-like operations"
   ]
  },
  {
   "cell_type": "markdown",
   "metadata": {},
   "source": [
    "**Transposing** means to \"swap\" or interchange the position and elements between two or more axes. \n",
    "\n",
    "The most common operation is the plain **Transpose** operation, where the axes get permuted.  "
   ]
  },
  {
   "cell_type": "code",
   "execution_count": 45,
   "metadata": {},
   "outputs": [],
   "source": [
    "array_1 = np.arange(4).reshape((2,2))# two dimensional array\n",
    "array_2 = np.arange(12).reshape((3,2,2)) # three dimensional array"
   ]
  },
  {
   "cell_type": "code",
   "execution_count": 46,
   "metadata": {},
   "outputs": [
    {
     "name": "stdout",
     "output_type": "stream",
     "text": [
      "Array-1:\n",
      "[[0 1]\n",
      " [2 3]],\n",
      "shape:(2, 2)\n",
      "\n",
      "Array-2:\n",
      "[[[ 0  1]\n",
      "  [ 2  3]]\n",
      "\n",
      " [[ 4  5]\n",
      "  [ 6  7]]\n",
      "\n",
      " [[ 8  9]\n",
      "  [10 11]]],\n",
      "shape:(3, 2, 2)\n"
     ]
    }
   ],
   "source": [
    "print(f'Array-1:\\n{array_1},\\nshape:{array_1.shape}\\n')\n",
    "print(f'Array-2:\\n{array_2},\\nshape:{array_2.shape}')"
   ]
  },
  {
   "cell_type": "markdown",
   "metadata": {},
   "source": [
    "Now let's transpose both."
   ]
  },
  {
   "cell_type": "code",
   "execution_count": 47,
   "metadata": {},
   "outputs": [],
   "source": [
    "array_1_T = array_1.T\n",
    "array_2_T = array_2.T"
   ]
  },
  {
   "cell_type": "code",
   "execution_count": 48,
   "metadata": {},
   "outputs": [
    {
     "name": "stdout",
     "output_type": "stream",
     "text": [
      "Array-1 transposed:\n",
      "[[0 2]\n",
      " [1 3]],\n",
      "shape:(2, 2)\n",
      "\n",
      "Array-2 transposed:\n",
      "[[[ 0  4  8]\n",
      "  [ 2  6 10]]\n",
      "\n",
      " [[ 1  5  9]\n",
      "  [ 3  7 11]]],\n",
      "shape:(2, 2, 3)\n"
     ]
    }
   ],
   "source": [
    "print(f'Array-1 transposed:\\n{array_1_T},\\nshape:{array_1_T.shape}\\n')\n",
    "print(f'Array-2 transposed:\\n{array_2_T},\\nshape:{array_2_T.shape}')"
   ]
  },
  {
   "cell_type": "markdown",
   "metadata": {},
   "source": [
    "Array-1 has swap the rows for the columns. Array-2 has reshaped from a three 2x2 arrays, into two 2x3 arrays. This is because the indices \"cycle\" such that the third index pass to the first place, the second to the third, and the first to the second.\n",
    "\n",
    "The `moveaxis` method is more flexible than transpose as allows for an arbitrary rearrangement of axes to new positions. The syntax is simple: `np.moveaxis(original-array, origin-position-axis-to-move, destiny-position-axis-to-move)`. Recall that axes are index as (0, 1, 2, ...0)."
   ]
  },
  {
   "cell_type": "code",
   "execution_count": 49,
   "metadata": {},
   "outputs": [],
   "source": [
    "array_move_2_3_4 = np.arange(24).reshape((2,3,4))\n",
    "array_move_2_4_3 = np.moveaxis(array_move_2_3_4, 2, 1) # move axis in position two to position one\n",
    "array_move_3_2_4 = np.moveaxis(array_move_2_3_4, 0, 1) # move axis in position zero to position one\n",
    "array_move_3_4_2 = np.moveaxis(array_move_2_3_4, 0, 2) # move axist in the zero position to position two\n",
    "array_move_4_2_3 = np.moveaxis(array_move_2_3_4, [2, 1], [0, 2]) # move axes in positions two and one, to positions zero and two\n",
    "array_move_4_3_2 = np.moveaxis(array_move_2_3_4, [2, 0], [0, 2]) # move axes in positions two and zero, to positions zero and two"
   ]
  },
  {
   "cell_type": "code",
   "execution_count": 50,
   "metadata": {},
   "outputs": [
    {
     "name": "stdout",
     "output_type": "stream",
     "text": [
      "Original order: (2, 3, 4)\n",
      "\n",
      "New axes order 1: (2, 4, 3)\n",
      "\n",
      "New axes order 2: (3, 2, 4)\n",
      "\n",
      "New axes order 3: (3, 4, 2)\n",
      "\n",
      "New axes order 4: (4, 2, 3)\n",
      "\n",
      "New axes order 5: (4, 3, 2)\n"
     ]
    }
   ],
   "source": [
    "print(f'Original order: {array_move_2_3_4.shape}\\n')\n",
    "print(f'New axes order 1: {array_move_2_4_3.shape}\\n')\n",
    "print(f'New axes order 2: {array_move_3_2_4.shape}\\n')\n",
    "print(f'New axes order 3: {array_move_3_4_2.shape}\\n')\n",
    "print(f'New axes order 4: {array_move_4_2_3.shape}\\n')\n",
    "print(f'New axes order 5: {array_move_4_3_2.shape}')"
   ]
  },
  {
   "cell_type": "markdown",
   "metadata": {},
   "source": [
    "### Array dimension manipulation"
   ]
  },
  {
   "cell_type": "markdown",
   "metadata": {},
   "source": [
    "Intentionally changing the dimensions of arrays is an operation done mostly, in my experience, when you want to combine arrays or to do mathematical operations with two or more arrays. In the dimensions do not match or are not defined in certain manner, joining or calculations won't work, or would work in unexpected manners.\n",
    "\n",
    "In this section I'll mention just two operations: **expanding dimensions** and **squeezing dimensions**, which are opposite operations. There is a third extremely important dimension manipulation operation: broadcasting. Broadcasting is not just important but rather complicated to explain so I will give its own section after this one. \n",
    "\n",
    "Expanding dimensions it is always possible as higher-dimensional objects can always contain lower-dimensional objects: you can fit a two-dimensional piece of paper inside a three-dimensional box, but not the other way around (I know! paper is three dimensional, but I hope you get the point).  "
   ]
  },
  {
   "cell_type": "code",
   "execution_count": 51,
   "metadata": {},
   "outputs": [],
   "source": [
    "array_one = np.array([1, 2, 3])\n",
    "array_two = np.array([[1, 2, 3], [4, 5, 6]])\n",
    "array_one_expand =  np.expand_dims(array_one, axis=0)\n",
    "array_two_expand =  np.expand_dims(array_two, axis=0)"
   ]
  },
  {
   "cell_type": "code",
   "execution_count": 52,
   "metadata": {},
   "outputs": [
    {
     "name": "stdout",
     "output_type": "stream",
     "text": [
      "One dimensional array: \n",
      "[1 2 3] \n",
      "shape: (3,)\n",
      "\n",
      "One dimensional array expanded: \n",
      "[[1 2 3]] \n",
      "shape: (1, 3)\n",
      "\n",
      "Two dimensional array: \n",
      "[[1 2 3]\n",
      " [4 5 6]] \n",
      "shape: (2, 3)\n",
      "\n",
      "Two dimensional array expanded: \n",
      "[[[1 2 3]\n",
      "  [4 5 6]]] \n",
      "shape: (1, 2, 3)\n",
      "\n"
     ]
    }
   ],
   "source": [
    "print(f'One dimensional array: \\n{array_one} \\nshape: {array_one.shape}\\n')\n",
    "print(f'One dimensional array expanded: \\n{array_one_expand} \\nshape: {array_one_expand.shape}\\n')\n",
    "print(f'Two dimensional array: \\n{array_two} \\nshape: {array_two.shape}\\n')\n",
    "print(f'Two dimensional array expanded: \\n{array_two_expand} \\nshape: {array_two_expand.shape}\\n')"
   ]
  },
  {
   "cell_type": "markdown",
   "metadata": {},
   "source": [
    "As you can see, both arrays gain an extra dimension when expanded. \n",
    "\n",
    "Let's bring the arrays back to their original dimensionality with the opposite operation: squeezing. "
   ]
  },
  {
   "cell_type": "code",
   "execution_count": 53,
   "metadata": {},
   "outputs": [],
   "source": [
    "array_one_squeez =  np.squeeze(array_one_expand, axis=0)\n",
    "array_two_squeez =  np.squeeze(array_two_expand, axis=0)"
   ]
  },
  {
   "cell_type": "code",
   "execution_count": 54,
   "metadata": {},
   "outputs": [
    {
     "name": "stdout",
     "output_type": "stream",
     "text": [
      "Three dimensional array squeezed: \n",
      "[1 2 3] \n",
      "shape: (3,)\n",
      "\n",
      "Three dimensional array squeezed: \n",
      "[[1 2 3]\n",
      " [4 5 6]] \n",
      "shape: (2, 3)\n"
     ]
    }
   ],
   "source": [
    "print(f'Three dimensional array squeezed: \\n{array_one_squeez} \\nshape: {array_one_squeez.shape}\\n')\n",
    "print(f'Three dimensional array squeezed: \\n{array_two_squeez} \\nshape: {array_two_squeez.shape}')"
   ]
  },
  {
   "cell_type": "markdown",
   "metadata": {},
   "source": [
    "We can check the squeezed arrays have the same dimensionality that the original ones as:"
   ]
  },
  {
   "cell_type": "code",
   "execution_count": 55,
   "metadata": {},
   "outputs": [
    {
     "name": "stdout",
     "output_type": "stream",
     "text": [
      "Are dimensions for array-one and array-one-squeezed equal?: True\n",
      "\n",
      "Are dimensions for array-two and array-two-squeezed equal?: True\n"
     ]
    }
   ],
   "source": [
    "print(f'Are dimensions for array-one and array-one-squeezed equal?: {array_one.shape == array_one_squeez.shape}\\n')\n",
    "print(f'Are dimensions for array-two and array-two-squeezed equal?: {array_two.shape == array_two_squeez.shape}')"
   ]
  },
  {
   "cell_type": "markdown",
   "metadata": {},
   "source": [
    "### Array broadcasting"
   ]
  },
  {
   "cell_type": "markdown",
   "metadata": {},
   "source": [
    "**Broadcasting** is an automatic `NumPy` mechanism to match the dimensionality of arrays with different shapes during arithmetic operations. Broadcasting usually improves speed by means of vectorizing operations that usually will be approached by looping, which is resource intensive and slow. \n",
    "\n"
   ]
  },
  {
   "cell_type": "code",
   "execution_count": null,
   "metadata": {},
   "outputs": [],
   "source": []
  },
  {
   "cell_type": "markdown",
   "metadata": {},
   "source": [
    "https://numpy.org/doc/stable/user/basics.broadcasting.html  \n",
    "https://numpy.org/doc/stable/reference/ufuncs.html#broadcasting"
   ]
  },
  {
   "cell_type": "code",
   "execution_count": 56,
   "metadata": {},
   "outputs": [],
   "source": [
    "### Joining arrays"
   ]
  },
  {
   "cell_type": "code",
   "execution_count": 57,
   "metadata": {},
   "outputs": [],
   "source": [
    "### Splitting arrays"
   ]
  },
  {
   "cell_type": "code",
   "execution_count": 58,
   "metadata": {},
   "outputs": [],
   "source": [
    "### Tiling arrays"
   ]
  },
  {
   "cell_type": "code",
   "execution_count": 59,
   "metadata": {},
   "outputs": [],
   "source": [
    "### Adding and removing elements"
   ]
  },
  {
   "cell_type": "code",
   "execution_count": 60,
   "metadata": {},
   "outputs": [],
   "source": [
    "### Rearranging elements"
   ]
  },
  {
   "cell_type": "markdown",
   "metadata": {},
   "source": [
    "https://numpy.org/doc/stable/user/quickstart.html#shape-manipulation  \n",
    "https://numpy.org/doc/stable/reference/routines.array-manipulation.html  \n",
    "https://numpy.org/doc/stable/reference/routines.sort.html  \n",
    "https://numpy.org/doc/stable/reference/generated/numpy.pad.html#numpy.pad  "
   ]
  },
  {
   "cell_type": "markdown",
   "metadata": {},
   "source": [
    "## Array arithmetic"
   ]
  },
  {
   "cell_type": "markdown",
   "metadata": {},
   "source": [
    "https://numpy.org/doc/stable/user/quickstart.html#basic-operations"
   ]
  },
  {
   "cell_type": "markdown",
   "metadata": {},
   "source": [
    "## NumPy universal functions"
   ]
  },
  {
   "cell_type": "markdown",
   "metadata": {},
   "source": [
    "https://numpy.org/doc/stable/user/quickstart.html#universal-functions  \n",
    "https://numpy.org/doc/stable/reference/c-api/generalized-ufuncs.html  \n",
    "https://numpy.org/doc/stable/reference/ufuncs.html#available-ufuncs"
   ]
  },
  {
   "cell_type": "markdown",
   "metadata": {},
   "source": [
    "## Array copy and views"
   ]
  },
  {
   "cell_type": "markdown",
   "metadata": {},
   "source": [
    "https://numpy.org/doc/stable/user/quickstart.html#copies-and-views"
   ]
  },
  {
   "cell_type": "markdown",
   "metadata": {},
   "source": [
    "## Array logic and evaluation"
   ]
  },
  {
   "cell_type": "markdown",
   "metadata": {},
   "source": [
    "https://numpy.org/doc/stable/reference/routines.logic.html"
   ]
  },
  {
   "cell_type": "markdown",
   "metadata": {},
   "source": [
    "## Basic statistics operations"
   ]
  },
  {
   "cell_type": "markdown",
   "metadata": {},
   "source": [
    "https://numpy.org/doc/stable/reference/routines.statistics.html"
   ]
  },
  {
   "cell_type": "markdown",
   "metadata": {},
   "source": [
    "## Basic linear algebra operations"
   ]
  },
  {
   "cell_type": "markdown",
   "metadata": {},
   "source": [
    "https://numpy.org/doc/stable/reference/routines.linalg.html  \n",
    "https://numpy.org/doc/stable/user/quickstart.html#vector-stacking\n"
   ]
  },
  {
   "cell_type": "markdown",
   "metadata": {},
   "source": [
    "## Array indexing"
   ]
  },
  {
   "cell_type": "markdown",
   "metadata": {},
   "source": [
    "https://numpy.org/doc/stable/user/basics.indexing.html  \n",
    "https://numpy.org/doc/stable/user/basics.indexing.html#basics-indexing   \n",
    "https://numpy.org/doc/stable/reference/arrays.indexing.html"
   ]
  },
  {
   "cell_type": "markdown",
   "metadata": {},
   "source": [
    "## String operations"
   ]
  },
  {
   "cell_type": "markdown",
   "metadata": {},
   "source": [
    "https://numpy.org/doc/stable/reference/routines.char.html"
   ]
  },
  {
   "cell_type": "markdown",
   "metadata": {},
   "source": [
    "## Datetime functions"
   ]
  },
  {
   "cell_type": "markdown",
   "metadata": {},
   "source": [
    "https://numpy.org/doc/stable/reference/routines.datetime.html"
   ]
  },
  {
   "cell_type": "markdown",
   "metadata": {},
   "source": [
    "## Structured arrays"
   ]
  },
  {
   "cell_type": "markdown",
   "metadata": {},
   "source": [
    "https://numpy.org/doc/stable/user/basics.rec.html"
   ]
  },
  {
   "cell_type": "markdown",
   "metadata": {},
   "source": [
    "## Input-output (I/O) processing (load and read data)"
   ]
  },
  {
   "cell_type": "markdown",
   "metadata": {},
   "source": [
    "https://numpy.org/doc/stable/user/basics.io.html  \n",
    "https://numpy.org/doc/stable/reference/routines.io.html"
   ]
  },
  {
   "cell_type": "markdown",
   "metadata": {},
   "source": [
    "## Random sampling"
   ]
  },
  {
   "cell_type": "markdown",
   "metadata": {},
   "source": [
    "https://numpy.org/doc/stable/reference/random/index.html"
   ]
  },
  {
   "cell_type": "markdown",
   "metadata": {},
   "source": [
    "## Array masking"
   ]
  },
  {
   "cell_type": "markdown",
   "metadata": {},
   "source": [
    "https://numpy.org/doc/stable/reference/routines.ma.html"
   ]
  },
  {
   "cell_type": "markdown",
   "metadata": {},
   "source": [
    "## NumPy constants and scalars"
   ]
  },
  {
   "cell_type": "markdown",
   "metadata": {},
   "source": [
    "https://numpy.org/doc/stable/reference/constants.html  \n",
    "https://numpy.org/doc/stable/reference/arrays.scalars.html"
   ]
  },
  {
   "cell_type": "markdown",
   "metadata": {},
   "source": [
    "## Array Iteration"
   ]
  },
  {
   "cell_type": "markdown",
   "metadata": {},
   "source": [
    "https://numpy.org/doc/stable/user/c-info.beyond-basics.html"
   ]
  }
 ],
 "metadata": {
  "kernelspec": {
   "display_name": "Python 3",
   "language": "python",
   "name": "python3"
  },
  "language_info": {
   "codemirror_mode": {
    "name": "ipython",
    "version": 3
   },
   "file_extension": ".py",
   "mimetype": "text/x-python",
   "name": "python",
   "nbconvert_exporter": "python",
   "pygments_lexer": "ipython3",
   "version": "3.6.8"
  },
  "toc-autonumbering": true
 },
 "nbformat": 4,
 "nbformat_minor": 4
}
