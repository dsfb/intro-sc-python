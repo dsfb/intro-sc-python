{
 "cells": [
  {
   "cell_type": "markdown",
   "metadata": {},
   "source": [
    "<!-- blank line -->\n",
    "<figure class=\"video_container\">\n",
    "  <video controls=\"true\" allowfullscreen=\"true\" poster=\"images/survey-python.png\">\n",
    "    <source src=\"images/intro-jupyter-create-notebook-06.mp4\" type=\"video/mp4\">\n",
    "  </video>\n",
    "</figure>\n",
    "<!-- blank line -->"
   ]
  },
  {
   "cell_type": "code",
   "execution_count": null,
   "metadata": {},
   "outputs": [],
   "source": []
  }
 ],
 "metadata": {
  "kernelspec": {
   "display_name": "Python 3",
   "language": "python",
   "name": "python3"
  },
  "language_info": {
   "codemirror_mode": {
    "name": "ipython",
    "version": 3
   },
   "file_extension": ".py",
   "mimetype": "text/x-python",
   "name": "python",
   "nbconvert_exporter": "python",
   "pygments_lexer": "ipython3",
   "version": "3.6.8"
  }
 },
 "nbformat": 4,
 "nbformat_minor": 4
}
